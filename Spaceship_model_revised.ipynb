{
  "nbformat": 4,
  "nbformat_minor": 0,
  "metadata": {
    "colab": {
      "provenance": [],
      "collapsed_sections": []
    },
    "kernelspec": {
      "name": "python3",
      "display_name": "Python 3"
    },
    "language_info": {
      "name": "python"
    }
  },
  "cells": [
    {
      "cell_type": "markdown",
      "source": [
        "\n",
        "\n",
        "## Import the necessary libraries\n",
        "\n"
      ],
      "metadata": {
        "id": "6zJ-1AWj0vlH"
      }
    },
    {
      "cell_type": "code",
      "source": [
        "import numpy as np\n",
        "import pandas as pd\n",
        "from sklearn.metrics import accuracy_score, confusion_matrix\n",
        "from sklearn.ensemble import RandomForestClassifier\n",
        "from xgboost import XGBClassifier\n",
        "from sklearn.tree import DecisionTreeClassifier\n",
        "from sklearn.linear_model import LogisticRegression\n",
        "from sklearn.preprocessing import StandardScaler, LabelEncoder,MinMaxScaler\n",
        "from sklearn.model_selection import train_test_split\n",
        "from sklearn.feature_selection import SelectKBest, chi2\n",
        "from sklearn.feature_selection import f_classif\n",
        "import matplotlib.pyplot as plt\n",
        "import seaborn as sns\n",
        "import plotly.express as px"
      ],
      "metadata": {
        "id": "DsK_3IYf0v0m"
      },
      "execution_count": 1,
      "outputs": []
    },
    {
      "cell_type": "markdown",
      "source": [
        "## Read the train.csv file and view the format and data types get some idea"
      ],
      "metadata": {
        "id": "wkFiTQtb2jZT"
      }
    },
    {
      "cell_type": "code",
      "source": [
        "# space_df = pd.read_csv('../input/spaceship-titanic/train.csv')\n",
        "space_df = pd.read_csv('train.csv')\n",
        "space_df.head()"
      ],
      "metadata": {
        "colab": {
          "base_uri": "https://localhost:8080/",
          "height": 357
        },
        "id": "721FbhOTuuAP",
        "outputId": "19bb24a0-097e-4f64-e0a3-e7dedf9cad2f"
      },
      "execution_count": 2,
      "outputs": [
        {
          "output_type": "execute_result",
          "data": {
            "text/plain": [
              "  PassengerId HomePlanet CryoSleep  Cabin  Destination   Age    VIP  \\\n",
              "0     0001_01     Europa     False  B/0/P  TRAPPIST-1e  39.0  False   \n",
              "1     0002_01      Earth     False  F/0/S  TRAPPIST-1e  24.0  False   \n",
              "2     0003_01     Europa     False  A/0/S  TRAPPIST-1e  58.0   True   \n",
              "3     0003_02     Europa     False  A/0/S  TRAPPIST-1e  33.0  False   \n",
              "4     0004_01      Earth     False  F/1/S  TRAPPIST-1e  16.0  False   \n",
              "\n",
              "   RoomService  FoodCourt  ShoppingMall     Spa  VRDeck               Name  \\\n",
              "0          0.0        0.0           0.0     0.0     0.0    Maham Ofracculy   \n",
              "1        109.0        9.0          25.0   549.0    44.0       Juanna Vines   \n",
              "2         43.0     3576.0           0.0  6715.0    49.0      Altark Susent   \n",
              "3          0.0     1283.0         371.0  3329.0   193.0       Solam Susent   \n",
              "4        303.0       70.0         151.0   565.0     2.0  Willy Santantines   \n",
              "\n",
              "   Transported  \n",
              "0        False  \n",
              "1         True  \n",
              "2        False  \n",
              "3        False  \n",
              "4         True  "
            ],
            "text/html": [
              "\n",
              "  <div id=\"df-071bab25-a0ff-43c9-ada8-c0b349b029ed\">\n",
              "    <div class=\"colab-df-container\">\n",
              "      <div>\n",
              "<style scoped>\n",
              "    .dataframe tbody tr th:only-of-type {\n",
              "        vertical-align: middle;\n",
              "    }\n",
              "\n",
              "    .dataframe tbody tr th {\n",
              "        vertical-align: top;\n",
              "    }\n",
              "\n",
              "    .dataframe thead th {\n",
              "        text-align: right;\n",
              "    }\n",
              "</style>\n",
              "<table border=\"1\" class=\"dataframe\">\n",
              "  <thead>\n",
              "    <tr style=\"text-align: right;\">\n",
              "      <th></th>\n",
              "      <th>PassengerId</th>\n",
              "      <th>HomePlanet</th>\n",
              "      <th>CryoSleep</th>\n",
              "      <th>Cabin</th>\n",
              "      <th>Destination</th>\n",
              "      <th>Age</th>\n",
              "      <th>VIP</th>\n",
              "      <th>RoomService</th>\n",
              "      <th>FoodCourt</th>\n",
              "      <th>ShoppingMall</th>\n",
              "      <th>Spa</th>\n",
              "      <th>VRDeck</th>\n",
              "      <th>Name</th>\n",
              "      <th>Transported</th>\n",
              "    </tr>\n",
              "  </thead>\n",
              "  <tbody>\n",
              "    <tr>\n",
              "      <th>0</th>\n",
              "      <td>0001_01</td>\n",
              "      <td>Europa</td>\n",
              "      <td>False</td>\n",
              "      <td>B/0/P</td>\n",
              "      <td>TRAPPIST-1e</td>\n",
              "      <td>39.0</td>\n",
              "      <td>False</td>\n",
              "      <td>0.0</td>\n",
              "      <td>0.0</td>\n",
              "      <td>0.0</td>\n",
              "      <td>0.0</td>\n",
              "      <td>0.0</td>\n",
              "      <td>Maham Ofracculy</td>\n",
              "      <td>False</td>\n",
              "    </tr>\n",
              "    <tr>\n",
              "      <th>1</th>\n",
              "      <td>0002_01</td>\n",
              "      <td>Earth</td>\n",
              "      <td>False</td>\n",
              "      <td>F/0/S</td>\n",
              "      <td>TRAPPIST-1e</td>\n",
              "      <td>24.0</td>\n",
              "      <td>False</td>\n",
              "      <td>109.0</td>\n",
              "      <td>9.0</td>\n",
              "      <td>25.0</td>\n",
              "      <td>549.0</td>\n",
              "      <td>44.0</td>\n",
              "      <td>Juanna Vines</td>\n",
              "      <td>True</td>\n",
              "    </tr>\n",
              "    <tr>\n",
              "      <th>2</th>\n",
              "      <td>0003_01</td>\n",
              "      <td>Europa</td>\n",
              "      <td>False</td>\n",
              "      <td>A/0/S</td>\n",
              "      <td>TRAPPIST-1e</td>\n",
              "      <td>58.0</td>\n",
              "      <td>True</td>\n",
              "      <td>43.0</td>\n",
              "      <td>3576.0</td>\n",
              "      <td>0.0</td>\n",
              "      <td>6715.0</td>\n",
              "      <td>49.0</td>\n",
              "      <td>Altark Susent</td>\n",
              "      <td>False</td>\n",
              "    </tr>\n",
              "    <tr>\n",
              "      <th>3</th>\n",
              "      <td>0003_02</td>\n",
              "      <td>Europa</td>\n",
              "      <td>False</td>\n",
              "      <td>A/0/S</td>\n",
              "      <td>TRAPPIST-1e</td>\n",
              "      <td>33.0</td>\n",
              "      <td>False</td>\n",
              "      <td>0.0</td>\n",
              "      <td>1283.0</td>\n",
              "      <td>371.0</td>\n",
              "      <td>3329.0</td>\n",
              "      <td>193.0</td>\n",
              "      <td>Solam Susent</td>\n",
              "      <td>False</td>\n",
              "    </tr>\n",
              "    <tr>\n",
              "      <th>4</th>\n",
              "      <td>0004_01</td>\n",
              "      <td>Earth</td>\n",
              "      <td>False</td>\n",
              "      <td>F/1/S</td>\n",
              "      <td>TRAPPIST-1e</td>\n",
              "      <td>16.0</td>\n",
              "      <td>False</td>\n",
              "      <td>303.0</td>\n",
              "      <td>70.0</td>\n",
              "      <td>151.0</td>\n",
              "      <td>565.0</td>\n",
              "      <td>2.0</td>\n",
              "      <td>Willy Santantines</td>\n",
              "      <td>True</td>\n",
              "    </tr>\n",
              "  </tbody>\n",
              "</table>\n",
              "</div>\n",
              "      <button class=\"colab-df-convert\" onclick=\"convertToInteractive('df-071bab25-a0ff-43c9-ada8-c0b349b029ed')\"\n",
              "              title=\"Convert this dataframe to an interactive table.\"\n",
              "              style=\"display:none;\">\n",
              "        \n",
              "  <svg xmlns=\"http://www.w3.org/2000/svg\" height=\"24px\"viewBox=\"0 0 24 24\"\n",
              "       width=\"24px\">\n",
              "    <path d=\"M0 0h24v24H0V0z\" fill=\"none\"/>\n",
              "    <path d=\"M18.56 5.44l.94 2.06.94-2.06 2.06-.94-2.06-.94-.94-2.06-.94 2.06-2.06.94zm-11 1L8.5 8.5l.94-2.06 2.06-.94-2.06-.94L8.5 2.5l-.94 2.06-2.06.94zm10 10l.94 2.06.94-2.06 2.06-.94-2.06-.94-.94-2.06-.94 2.06-2.06.94z\"/><path d=\"M17.41 7.96l-1.37-1.37c-.4-.4-.92-.59-1.43-.59-.52 0-1.04.2-1.43.59L10.3 9.45l-7.72 7.72c-.78.78-.78 2.05 0 2.83L4 21.41c.39.39.9.59 1.41.59.51 0 1.02-.2 1.41-.59l7.78-7.78 2.81-2.81c.8-.78.8-2.07 0-2.86zM5.41 20L4 18.59l7.72-7.72 1.47 1.35L5.41 20z\"/>\n",
              "  </svg>\n",
              "      </button>\n",
              "      \n",
              "  <style>\n",
              "    .colab-df-container {\n",
              "      display:flex;\n",
              "      flex-wrap:wrap;\n",
              "      gap: 12px;\n",
              "    }\n",
              "\n",
              "    .colab-df-convert {\n",
              "      background-color: #E8F0FE;\n",
              "      border: none;\n",
              "      border-radius: 50%;\n",
              "      cursor: pointer;\n",
              "      display: none;\n",
              "      fill: #1967D2;\n",
              "      height: 32px;\n",
              "      padding: 0 0 0 0;\n",
              "      width: 32px;\n",
              "    }\n",
              "\n",
              "    .colab-df-convert:hover {\n",
              "      background-color: #E2EBFA;\n",
              "      box-shadow: 0px 1px 2px rgba(60, 64, 67, 0.3), 0px 1px 3px 1px rgba(60, 64, 67, 0.15);\n",
              "      fill: #174EA6;\n",
              "    }\n",
              "\n",
              "    [theme=dark] .colab-df-convert {\n",
              "      background-color: #3B4455;\n",
              "      fill: #D2E3FC;\n",
              "    }\n",
              "\n",
              "    [theme=dark] .colab-df-convert:hover {\n",
              "      background-color: #434B5C;\n",
              "      box-shadow: 0px 1px 3px 1px rgba(0, 0, 0, 0.15);\n",
              "      filter: drop-shadow(0px 1px 2px rgba(0, 0, 0, 0.3));\n",
              "      fill: #FFFFFF;\n",
              "    }\n",
              "  </style>\n",
              "\n",
              "      <script>\n",
              "        const buttonEl =\n",
              "          document.querySelector('#df-071bab25-a0ff-43c9-ada8-c0b349b029ed button.colab-df-convert');\n",
              "        buttonEl.style.display =\n",
              "          google.colab.kernel.accessAllowed ? 'block' : 'none';\n",
              "\n",
              "        async function convertToInteractive(key) {\n",
              "          const element = document.querySelector('#df-071bab25-a0ff-43c9-ada8-c0b349b029ed');\n",
              "          const dataTable =\n",
              "            await google.colab.kernel.invokeFunction('convertToInteractive',\n",
              "                                                     [key], {});\n",
              "          if (!dataTable) return;\n",
              "\n",
              "          const docLinkHtml = 'Like what you see? Visit the ' +\n",
              "            '<a target=\"_blank\" href=https://colab.research.google.com/notebooks/data_table.ipynb>data table notebook</a>'\n",
              "            + ' to learn more about interactive tables.';\n",
              "          element.innerHTML = '';\n",
              "          dataTable['output_type'] = 'display_data';\n",
              "          await google.colab.output.renderOutput(dataTable, element);\n",
              "          const docLink = document.createElement('div');\n",
              "          docLink.innerHTML = docLinkHtml;\n",
              "          element.appendChild(docLink);\n",
              "        }\n",
              "      </script>\n",
              "    </div>\n",
              "  </div>\n",
              "  "
            ]
          },
          "metadata": {},
          "execution_count": 2
        }
      ]
    },
    {
      "cell_type": "code",
      "source": [
        "space_df.info()"
      ],
      "metadata": {
        "colab": {
          "base_uri": "https://localhost:8080/"
        },
        "id": "HXwXoZfUu3vA",
        "outputId": "16374a75-538e-4980-cd33-5e6dd344c8f6"
      },
      "execution_count": 3,
      "outputs": [
        {
          "output_type": "stream",
          "name": "stdout",
          "text": [
            "<class 'pandas.core.frame.DataFrame'>\n",
            "RangeIndex: 8693 entries, 0 to 8692\n",
            "Data columns (total 14 columns):\n",
            " #   Column        Non-Null Count  Dtype  \n",
            "---  ------        --------------  -----  \n",
            " 0   PassengerId   8693 non-null   object \n",
            " 1   HomePlanet    8492 non-null   object \n",
            " 2   CryoSleep     8476 non-null   object \n",
            " 3   Cabin         8494 non-null   object \n",
            " 4   Destination   8511 non-null   object \n",
            " 5   Age           8514 non-null   float64\n",
            " 6   VIP           8490 non-null   object \n",
            " 7   RoomService   8512 non-null   float64\n",
            " 8   FoodCourt     8510 non-null   float64\n",
            " 9   ShoppingMall  8485 non-null   float64\n",
            " 10  Spa           8510 non-null   float64\n",
            " 11  VRDeck        8505 non-null   float64\n",
            " 12  Name          8493 non-null   object \n",
            " 13  Transported   8693 non-null   bool   \n",
            "dtypes: bool(1), float64(6), object(7)\n",
            "memory usage: 891.5+ KB\n"
          ]
        }
      ]
    },
    {
      "cell_type": "markdown",
      "source": [
        "## Next few steps involve data preprocessing like checking and handling missing values as well as dropping some unnecessary columns"
      ],
      "metadata": {
        "id": "EVHqjujP25W3"
      }
    },
    {
      "cell_type": "code",
      "source": [
        "space_df['Age']=space_df['Age'].fillna(space_df['Age'].mean())"
      ],
      "metadata": {
        "id": "V2sP8onFu5nt"
      },
      "execution_count": 4,
      "outputs": []
    },
    {
      "cell_type": "code",
      "source": [
        "space_df.columns"
      ],
      "metadata": {
        "colab": {
          "base_uri": "https://localhost:8080/"
        },
        "id": "FLUE4YlJsRMW",
        "outputId": "8704c045-33a1-46f8-c028-318d93eabbb7"
      },
      "execution_count": 5,
      "outputs": [
        {
          "output_type": "execute_result",
          "data": {
            "text/plain": [
              "Index(['PassengerId', 'HomePlanet', 'CryoSleep', 'Cabin', 'Destination', 'Age',\n",
              "       'VIP', 'RoomService', 'FoodCourt', 'ShoppingMall', 'Spa', 'VRDeck',\n",
              "       'Name', 'Transported'],\n",
              "      dtype='object')"
            ]
          },
          "metadata": {},
          "execution_count": 5
        }
      ]
    },
    {
      "cell_type": "code",
      "source": [
        "space_df.isnull().sum()"
      ],
      "metadata": {
        "colab": {
          "base_uri": "https://localhost:8080/"
        },
        "id": "cor38ySXsV8S",
        "outputId": "306e137c-3a2b-4a5c-e746-45e6186452ab"
      },
      "execution_count": 6,
      "outputs": [
        {
          "output_type": "execute_result",
          "data": {
            "text/plain": [
              "PassengerId       0\n",
              "HomePlanet      201\n",
              "CryoSleep       217\n",
              "Cabin           199\n",
              "Destination     182\n",
              "Age               0\n",
              "VIP             203\n",
              "RoomService     181\n",
              "FoodCourt       183\n",
              "ShoppingMall    208\n",
              "Spa             183\n",
              "VRDeck          188\n",
              "Name            200\n",
              "Transported       0\n",
              "dtype: int64"
            ]
          },
          "metadata": {},
          "execution_count": 6
        }
      ]
    },
    {
      "cell_type": "code",
      "source": [
        "space_df['HomePlanet'].unique()"
      ],
      "metadata": {
        "colab": {
          "base_uri": "https://localhost:8080/"
        },
        "id": "CQLPtLGRsYqX",
        "outputId": "b5eecf18-a626-4774-9305-c9658284b02a"
      },
      "execution_count": 7,
      "outputs": [
        {
          "output_type": "execute_result",
          "data": {
            "text/plain": [
              "array(['Europa', 'Earth', 'Mars', nan], dtype=object)"
            ]
          },
          "metadata": {},
          "execution_count": 7
        }
      ]
    },
    {
      "cell_type": "code",
      "source": [
        "space_df1 = space_df[space_df['HomePlanet'].notnull()]\n",
        "space_df1['Destination'].unique()"
      ],
      "metadata": {
        "colab": {
          "base_uri": "https://localhost:8080/"
        },
        "id": "3J0C5l0hsbnc",
        "outputId": "3bb5b496-2e1a-4494-8e60-94b4ae1abf3b"
      },
      "execution_count": 8,
      "outputs": [
        {
          "output_type": "execute_result",
          "data": {
            "text/plain": [
              "array(['TRAPPIST-1e', 'PSO J318.5-22', '55 Cancri e', nan], dtype=object)"
            ]
          },
          "metadata": {},
          "execution_count": 8
        }
      ]
    },
    {
      "cell_type": "code",
      "source": [
        "space_df1['Age']=space_df1['Age'].astype(int)\n",
        "space_df1.head()"
      ],
      "metadata": {
        "colab": {
          "base_uri": "https://localhost:8080/",
          "height": 464
        },
        "id": "qi9_4aoJsi0S",
        "outputId": "57c77d3e-7bfc-43ee-b72f-3a86ce2a8be9"
      },
      "execution_count": 9,
      "outputs": [
        {
          "output_type": "stream",
          "name": "stderr",
          "text": [
            "/usr/local/lib/python3.7/dist-packages/ipykernel_launcher.py:1: SettingWithCopyWarning: \n",
            "A value is trying to be set on a copy of a slice from a DataFrame.\n",
            "Try using .loc[row_indexer,col_indexer] = value instead\n",
            "\n",
            "See the caveats in the documentation: https://pandas.pydata.org/pandas-docs/stable/user_guide/indexing.html#returning-a-view-versus-a-copy\n",
            "  \"\"\"Entry point for launching an IPython kernel.\n"
          ]
        },
        {
          "output_type": "execute_result",
          "data": {
            "text/plain": [
              "  PassengerId HomePlanet CryoSleep  Cabin  Destination  Age    VIP  \\\n",
              "0     0001_01     Europa     False  B/0/P  TRAPPIST-1e   39  False   \n",
              "1     0002_01      Earth     False  F/0/S  TRAPPIST-1e   24  False   \n",
              "2     0003_01     Europa     False  A/0/S  TRAPPIST-1e   58   True   \n",
              "3     0003_02     Europa     False  A/0/S  TRAPPIST-1e   33  False   \n",
              "4     0004_01      Earth     False  F/1/S  TRAPPIST-1e   16  False   \n",
              "\n",
              "   RoomService  FoodCourt  ShoppingMall     Spa  VRDeck               Name  \\\n",
              "0          0.0        0.0           0.0     0.0     0.0    Maham Ofracculy   \n",
              "1        109.0        9.0          25.0   549.0    44.0       Juanna Vines   \n",
              "2         43.0     3576.0           0.0  6715.0    49.0      Altark Susent   \n",
              "3          0.0     1283.0         371.0  3329.0   193.0       Solam Susent   \n",
              "4        303.0       70.0         151.0   565.0     2.0  Willy Santantines   \n",
              "\n",
              "   Transported  \n",
              "0        False  \n",
              "1         True  \n",
              "2        False  \n",
              "3        False  \n",
              "4         True  "
            ],
            "text/html": [
              "\n",
              "  <div id=\"df-67159c4e-367c-4507-910b-d132d1893cfb\">\n",
              "    <div class=\"colab-df-container\">\n",
              "      <div>\n",
              "<style scoped>\n",
              "    .dataframe tbody tr th:only-of-type {\n",
              "        vertical-align: middle;\n",
              "    }\n",
              "\n",
              "    .dataframe tbody tr th {\n",
              "        vertical-align: top;\n",
              "    }\n",
              "\n",
              "    .dataframe thead th {\n",
              "        text-align: right;\n",
              "    }\n",
              "</style>\n",
              "<table border=\"1\" class=\"dataframe\">\n",
              "  <thead>\n",
              "    <tr style=\"text-align: right;\">\n",
              "      <th></th>\n",
              "      <th>PassengerId</th>\n",
              "      <th>HomePlanet</th>\n",
              "      <th>CryoSleep</th>\n",
              "      <th>Cabin</th>\n",
              "      <th>Destination</th>\n",
              "      <th>Age</th>\n",
              "      <th>VIP</th>\n",
              "      <th>RoomService</th>\n",
              "      <th>FoodCourt</th>\n",
              "      <th>ShoppingMall</th>\n",
              "      <th>Spa</th>\n",
              "      <th>VRDeck</th>\n",
              "      <th>Name</th>\n",
              "      <th>Transported</th>\n",
              "    </tr>\n",
              "  </thead>\n",
              "  <tbody>\n",
              "    <tr>\n",
              "      <th>0</th>\n",
              "      <td>0001_01</td>\n",
              "      <td>Europa</td>\n",
              "      <td>False</td>\n",
              "      <td>B/0/P</td>\n",
              "      <td>TRAPPIST-1e</td>\n",
              "      <td>39</td>\n",
              "      <td>False</td>\n",
              "      <td>0.0</td>\n",
              "      <td>0.0</td>\n",
              "      <td>0.0</td>\n",
              "      <td>0.0</td>\n",
              "      <td>0.0</td>\n",
              "      <td>Maham Ofracculy</td>\n",
              "      <td>False</td>\n",
              "    </tr>\n",
              "    <tr>\n",
              "      <th>1</th>\n",
              "      <td>0002_01</td>\n",
              "      <td>Earth</td>\n",
              "      <td>False</td>\n",
              "      <td>F/0/S</td>\n",
              "      <td>TRAPPIST-1e</td>\n",
              "      <td>24</td>\n",
              "      <td>False</td>\n",
              "      <td>109.0</td>\n",
              "      <td>9.0</td>\n",
              "      <td>25.0</td>\n",
              "      <td>549.0</td>\n",
              "      <td>44.0</td>\n",
              "      <td>Juanna Vines</td>\n",
              "      <td>True</td>\n",
              "    </tr>\n",
              "    <tr>\n",
              "      <th>2</th>\n",
              "      <td>0003_01</td>\n",
              "      <td>Europa</td>\n",
              "      <td>False</td>\n",
              "      <td>A/0/S</td>\n",
              "      <td>TRAPPIST-1e</td>\n",
              "      <td>58</td>\n",
              "      <td>True</td>\n",
              "      <td>43.0</td>\n",
              "      <td>3576.0</td>\n",
              "      <td>0.0</td>\n",
              "      <td>6715.0</td>\n",
              "      <td>49.0</td>\n",
              "      <td>Altark Susent</td>\n",
              "      <td>False</td>\n",
              "    </tr>\n",
              "    <tr>\n",
              "      <th>3</th>\n",
              "      <td>0003_02</td>\n",
              "      <td>Europa</td>\n",
              "      <td>False</td>\n",
              "      <td>A/0/S</td>\n",
              "      <td>TRAPPIST-1e</td>\n",
              "      <td>33</td>\n",
              "      <td>False</td>\n",
              "      <td>0.0</td>\n",
              "      <td>1283.0</td>\n",
              "      <td>371.0</td>\n",
              "      <td>3329.0</td>\n",
              "      <td>193.0</td>\n",
              "      <td>Solam Susent</td>\n",
              "      <td>False</td>\n",
              "    </tr>\n",
              "    <tr>\n",
              "      <th>4</th>\n",
              "      <td>0004_01</td>\n",
              "      <td>Earth</td>\n",
              "      <td>False</td>\n",
              "      <td>F/1/S</td>\n",
              "      <td>TRAPPIST-1e</td>\n",
              "      <td>16</td>\n",
              "      <td>False</td>\n",
              "      <td>303.0</td>\n",
              "      <td>70.0</td>\n",
              "      <td>151.0</td>\n",
              "      <td>565.0</td>\n",
              "      <td>2.0</td>\n",
              "      <td>Willy Santantines</td>\n",
              "      <td>True</td>\n",
              "    </tr>\n",
              "  </tbody>\n",
              "</table>\n",
              "</div>\n",
              "      <button class=\"colab-df-convert\" onclick=\"convertToInteractive('df-67159c4e-367c-4507-910b-d132d1893cfb')\"\n",
              "              title=\"Convert this dataframe to an interactive table.\"\n",
              "              style=\"display:none;\">\n",
              "        \n",
              "  <svg xmlns=\"http://www.w3.org/2000/svg\" height=\"24px\"viewBox=\"0 0 24 24\"\n",
              "       width=\"24px\">\n",
              "    <path d=\"M0 0h24v24H0V0z\" fill=\"none\"/>\n",
              "    <path d=\"M18.56 5.44l.94 2.06.94-2.06 2.06-.94-2.06-.94-.94-2.06-.94 2.06-2.06.94zm-11 1L8.5 8.5l.94-2.06 2.06-.94-2.06-.94L8.5 2.5l-.94 2.06-2.06.94zm10 10l.94 2.06.94-2.06 2.06-.94-2.06-.94-.94-2.06-.94 2.06-2.06.94z\"/><path d=\"M17.41 7.96l-1.37-1.37c-.4-.4-.92-.59-1.43-.59-.52 0-1.04.2-1.43.59L10.3 9.45l-7.72 7.72c-.78.78-.78 2.05 0 2.83L4 21.41c.39.39.9.59 1.41.59.51 0 1.02-.2 1.41-.59l7.78-7.78 2.81-2.81c.8-.78.8-2.07 0-2.86zM5.41 20L4 18.59l7.72-7.72 1.47 1.35L5.41 20z\"/>\n",
              "  </svg>\n",
              "      </button>\n",
              "      \n",
              "  <style>\n",
              "    .colab-df-container {\n",
              "      display:flex;\n",
              "      flex-wrap:wrap;\n",
              "      gap: 12px;\n",
              "    }\n",
              "\n",
              "    .colab-df-convert {\n",
              "      background-color: #E8F0FE;\n",
              "      border: none;\n",
              "      border-radius: 50%;\n",
              "      cursor: pointer;\n",
              "      display: none;\n",
              "      fill: #1967D2;\n",
              "      height: 32px;\n",
              "      padding: 0 0 0 0;\n",
              "      width: 32px;\n",
              "    }\n",
              "\n",
              "    .colab-df-convert:hover {\n",
              "      background-color: #E2EBFA;\n",
              "      box-shadow: 0px 1px 2px rgba(60, 64, 67, 0.3), 0px 1px 3px 1px rgba(60, 64, 67, 0.15);\n",
              "      fill: #174EA6;\n",
              "    }\n",
              "\n",
              "    [theme=dark] .colab-df-convert {\n",
              "      background-color: #3B4455;\n",
              "      fill: #D2E3FC;\n",
              "    }\n",
              "\n",
              "    [theme=dark] .colab-df-convert:hover {\n",
              "      background-color: #434B5C;\n",
              "      box-shadow: 0px 1px 3px 1px rgba(0, 0, 0, 0.15);\n",
              "      filter: drop-shadow(0px 1px 2px rgba(0, 0, 0, 0.3));\n",
              "      fill: #FFFFFF;\n",
              "    }\n",
              "  </style>\n",
              "\n",
              "      <script>\n",
              "        const buttonEl =\n",
              "          document.querySelector('#df-67159c4e-367c-4507-910b-d132d1893cfb button.colab-df-convert');\n",
              "        buttonEl.style.display =\n",
              "          google.colab.kernel.accessAllowed ? 'block' : 'none';\n",
              "\n",
              "        async function convertToInteractive(key) {\n",
              "          const element = document.querySelector('#df-67159c4e-367c-4507-910b-d132d1893cfb');\n",
              "          const dataTable =\n",
              "            await google.colab.kernel.invokeFunction('convertToInteractive',\n",
              "                                                     [key], {});\n",
              "          if (!dataTable) return;\n",
              "\n",
              "          const docLinkHtml = 'Like what you see? Visit the ' +\n",
              "            '<a target=\"_blank\" href=https://colab.research.google.com/notebooks/data_table.ipynb>data table notebook</a>'\n",
              "            + ' to learn more about interactive tables.';\n",
              "          element.innerHTML = '';\n",
              "          dataTable['output_type'] = 'display_data';\n",
              "          await google.colab.output.renderOutput(dataTable, element);\n",
              "          const docLink = document.createElement('div');\n",
              "          docLink.innerHTML = docLinkHtml;\n",
              "          element.appendChild(docLink);\n",
              "        }\n",
              "      </script>\n",
              "    </div>\n",
              "  </div>\n",
              "  "
            ]
          },
          "metadata": {},
          "execution_count": 9
        }
      ]
    },
    {
      "cell_type": "code",
      "source": [
        "space_df1.info()"
      ],
      "metadata": {
        "colab": {
          "base_uri": "https://localhost:8080/"
        },
        "id": "ToauAkEUsoMq",
        "outputId": "e9c716ab-2f70-4dfd-c724-c72814432cb4"
      },
      "execution_count": 10,
      "outputs": [
        {
          "output_type": "stream",
          "name": "stdout",
          "text": [
            "<class 'pandas.core.frame.DataFrame'>\n",
            "Int64Index: 8492 entries, 0 to 8692\n",
            "Data columns (total 14 columns):\n",
            " #   Column        Non-Null Count  Dtype  \n",
            "---  ------        --------------  -----  \n",
            " 0   PassengerId   8492 non-null   object \n",
            " 1   HomePlanet    8492 non-null   object \n",
            " 2   CryoSleep     8277 non-null   object \n",
            " 3   Cabin         8299 non-null   object \n",
            " 4   Destination   8314 non-null   object \n",
            " 5   Age           8492 non-null   int64  \n",
            " 6   VIP           8292 non-null   object \n",
            " 7   RoomService   8317 non-null   float64\n",
            " 8   FoodCourt     8311 non-null   float64\n",
            " 9   ShoppingMall  8291 non-null   float64\n",
            " 10  Spa           8312 non-null   float64\n",
            " 11  VRDeck        8305 non-null   float64\n",
            " 12  Name          8299 non-null   object \n",
            " 13  Transported   8492 non-null   bool   \n",
            "dtypes: bool(1), float64(5), int64(1), object(7)\n",
            "memory usage: 937.1+ KB\n"
          ]
        }
      ]
    },
    {
      "cell_type": "code",
      "source": [
        "space_df1=space_df1[space_df1['Destination'].notnull()]\n",
        "space_df1['HomePlanet'].unique()"
      ],
      "metadata": {
        "colab": {
          "base_uri": "https://localhost:8080/"
        },
        "id": "5XOaKN5qsu4M",
        "outputId": "acfef075-086b-4cb4-ced1-a9479559b97f"
      },
      "execution_count": 11,
      "outputs": [
        {
          "output_type": "execute_result",
          "data": {
            "text/plain": [
              "array(['Europa', 'Earth', 'Mars'], dtype=object)"
            ]
          },
          "metadata": {},
          "execution_count": 11
        }
      ]
    },
    {
      "cell_type": "code",
      "source": [
        "space_df1.info()"
      ],
      "metadata": {
        "colab": {
          "base_uri": "https://localhost:8080/"
        },
        "id": "2IcZa7y_s1wb",
        "outputId": "8fcb3bd0-64e0-45ad-efee-1578699bb573"
      },
      "execution_count": 12,
      "outputs": [
        {
          "output_type": "stream",
          "name": "stdout",
          "text": [
            "<class 'pandas.core.frame.DataFrame'>\n",
            "Int64Index: 8314 entries, 0 to 8692\n",
            "Data columns (total 14 columns):\n",
            " #   Column        Non-Null Count  Dtype  \n",
            "---  ------        --------------  -----  \n",
            " 0   PassengerId   8314 non-null   object \n",
            " 1   HomePlanet    8314 non-null   object \n",
            " 2   CryoSleep     8103 non-null   object \n",
            " 3   Cabin         8125 non-null   object \n",
            " 4   Destination   8314 non-null   object \n",
            " 5   Age           8314 non-null   int64  \n",
            " 6   VIP           8117 non-null   object \n",
            " 7   RoomService   8142 non-null   float64\n",
            " 8   FoodCourt     8139 non-null   float64\n",
            " 9   ShoppingMall  8118 non-null   float64\n",
            " 10  Spa           8137 non-null   float64\n",
            " 11  VRDeck        8129 non-null   float64\n",
            " 12  Name          8125 non-null   object \n",
            " 13  Transported   8314 non-null   bool   \n",
            "dtypes: bool(1), float64(5), int64(1), object(7)\n",
            "memory usage: 917.5+ KB\n"
          ]
        }
      ]
    },
    {
      "cell_type": "code",
      "source": [
        "space_df1.isnull().sum()"
      ],
      "metadata": {
        "colab": {
          "base_uri": "https://localhost:8080/"
        },
        "id": "ki7GAJxas5vx",
        "outputId": "8ab78537-c0c1-4017-d8bd-6c44dc01127d"
      },
      "execution_count": 13,
      "outputs": [
        {
          "output_type": "execute_result",
          "data": {
            "text/plain": [
              "PassengerId       0\n",
              "HomePlanet        0\n",
              "CryoSleep       211\n",
              "Cabin           189\n",
              "Destination       0\n",
              "Age               0\n",
              "VIP             197\n",
              "RoomService     172\n",
              "FoodCourt       175\n",
              "ShoppingMall    196\n",
              "Spa             177\n",
              "VRDeck          185\n",
              "Name            189\n",
              "Transported       0\n",
              "dtype: int64"
            ]
          },
          "metadata": {},
          "execution_count": 13
        }
      ]
    },
    {
      "cell_type": "code",
      "source": [
        "space_df2=space_df1.drop(['PassengerId','Cabin','Name'],axis=1)\n",
        "space_df2"
      ],
      "metadata": {
        "colab": {
          "base_uri": "https://localhost:8080/",
          "height": 424
        },
        "id": "Uy1DGNIps99A",
        "outputId": "24a7c2a3-a275-4424-8af4-1f835168663d"
      },
      "execution_count": 14,
      "outputs": [
        {
          "output_type": "execute_result",
          "data": {
            "text/plain": [
              "     HomePlanet CryoSleep    Destination  Age    VIP  RoomService  FoodCourt  \\\n",
              "0        Europa     False    TRAPPIST-1e   39  False          0.0        0.0   \n",
              "1         Earth     False    TRAPPIST-1e   24  False        109.0        9.0   \n",
              "2        Europa     False    TRAPPIST-1e   58   True         43.0     3576.0   \n",
              "3        Europa     False    TRAPPIST-1e   33  False          0.0     1283.0   \n",
              "4         Earth     False    TRAPPIST-1e   16  False        303.0       70.0   \n",
              "...         ...       ...            ...  ...    ...          ...        ...   \n",
              "8688     Europa     False    55 Cancri e   41   True          0.0     6819.0   \n",
              "8689      Earth      True  PSO J318.5-22   18  False          0.0        0.0   \n",
              "8690      Earth     False    TRAPPIST-1e   26  False          0.0        0.0   \n",
              "8691     Europa     False    55 Cancri e   32  False          0.0     1049.0   \n",
              "8692     Europa     False    TRAPPIST-1e   44  False        126.0     4688.0   \n",
              "\n",
              "      ShoppingMall     Spa  VRDeck  Transported  \n",
              "0              0.0     0.0     0.0        False  \n",
              "1             25.0   549.0    44.0         True  \n",
              "2              0.0  6715.0    49.0        False  \n",
              "3            371.0  3329.0   193.0        False  \n",
              "4            151.0   565.0     2.0         True  \n",
              "...            ...     ...     ...          ...  \n",
              "8688           0.0  1643.0    74.0        False  \n",
              "8689           0.0     0.0     0.0        False  \n",
              "8690        1872.0     1.0     0.0         True  \n",
              "8691           0.0   353.0  3235.0        False  \n",
              "8692           0.0     0.0    12.0         True  \n",
              "\n",
              "[8314 rows x 11 columns]"
            ],
            "text/html": [
              "\n",
              "  <div id=\"df-e0bb0432-f086-4334-b9d2-5246fa3fbc3d\">\n",
              "    <div class=\"colab-df-container\">\n",
              "      <div>\n",
              "<style scoped>\n",
              "    .dataframe tbody tr th:only-of-type {\n",
              "        vertical-align: middle;\n",
              "    }\n",
              "\n",
              "    .dataframe tbody tr th {\n",
              "        vertical-align: top;\n",
              "    }\n",
              "\n",
              "    .dataframe thead th {\n",
              "        text-align: right;\n",
              "    }\n",
              "</style>\n",
              "<table border=\"1\" class=\"dataframe\">\n",
              "  <thead>\n",
              "    <tr style=\"text-align: right;\">\n",
              "      <th></th>\n",
              "      <th>HomePlanet</th>\n",
              "      <th>CryoSleep</th>\n",
              "      <th>Destination</th>\n",
              "      <th>Age</th>\n",
              "      <th>VIP</th>\n",
              "      <th>RoomService</th>\n",
              "      <th>FoodCourt</th>\n",
              "      <th>ShoppingMall</th>\n",
              "      <th>Spa</th>\n",
              "      <th>VRDeck</th>\n",
              "      <th>Transported</th>\n",
              "    </tr>\n",
              "  </thead>\n",
              "  <tbody>\n",
              "    <tr>\n",
              "      <th>0</th>\n",
              "      <td>Europa</td>\n",
              "      <td>False</td>\n",
              "      <td>TRAPPIST-1e</td>\n",
              "      <td>39</td>\n",
              "      <td>False</td>\n",
              "      <td>0.0</td>\n",
              "      <td>0.0</td>\n",
              "      <td>0.0</td>\n",
              "      <td>0.0</td>\n",
              "      <td>0.0</td>\n",
              "      <td>False</td>\n",
              "    </tr>\n",
              "    <tr>\n",
              "      <th>1</th>\n",
              "      <td>Earth</td>\n",
              "      <td>False</td>\n",
              "      <td>TRAPPIST-1e</td>\n",
              "      <td>24</td>\n",
              "      <td>False</td>\n",
              "      <td>109.0</td>\n",
              "      <td>9.0</td>\n",
              "      <td>25.0</td>\n",
              "      <td>549.0</td>\n",
              "      <td>44.0</td>\n",
              "      <td>True</td>\n",
              "    </tr>\n",
              "    <tr>\n",
              "      <th>2</th>\n",
              "      <td>Europa</td>\n",
              "      <td>False</td>\n",
              "      <td>TRAPPIST-1e</td>\n",
              "      <td>58</td>\n",
              "      <td>True</td>\n",
              "      <td>43.0</td>\n",
              "      <td>3576.0</td>\n",
              "      <td>0.0</td>\n",
              "      <td>6715.0</td>\n",
              "      <td>49.0</td>\n",
              "      <td>False</td>\n",
              "    </tr>\n",
              "    <tr>\n",
              "      <th>3</th>\n",
              "      <td>Europa</td>\n",
              "      <td>False</td>\n",
              "      <td>TRAPPIST-1e</td>\n",
              "      <td>33</td>\n",
              "      <td>False</td>\n",
              "      <td>0.0</td>\n",
              "      <td>1283.0</td>\n",
              "      <td>371.0</td>\n",
              "      <td>3329.0</td>\n",
              "      <td>193.0</td>\n",
              "      <td>False</td>\n",
              "    </tr>\n",
              "    <tr>\n",
              "      <th>4</th>\n",
              "      <td>Earth</td>\n",
              "      <td>False</td>\n",
              "      <td>TRAPPIST-1e</td>\n",
              "      <td>16</td>\n",
              "      <td>False</td>\n",
              "      <td>303.0</td>\n",
              "      <td>70.0</td>\n",
              "      <td>151.0</td>\n",
              "      <td>565.0</td>\n",
              "      <td>2.0</td>\n",
              "      <td>True</td>\n",
              "    </tr>\n",
              "    <tr>\n",
              "      <th>...</th>\n",
              "      <td>...</td>\n",
              "      <td>...</td>\n",
              "      <td>...</td>\n",
              "      <td>...</td>\n",
              "      <td>...</td>\n",
              "      <td>...</td>\n",
              "      <td>...</td>\n",
              "      <td>...</td>\n",
              "      <td>...</td>\n",
              "      <td>...</td>\n",
              "      <td>...</td>\n",
              "    </tr>\n",
              "    <tr>\n",
              "      <th>8688</th>\n",
              "      <td>Europa</td>\n",
              "      <td>False</td>\n",
              "      <td>55 Cancri e</td>\n",
              "      <td>41</td>\n",
              "      <td>True</td>\n",
              "      <td>0.0</td>\n",
              "      <td>6819.0</td>\n",
              "      <td>0.0</td>\n",
              "      <td>1643.0</td>\n",
              "      <td>74.0</td>\n",
              "      <td>False</td>\n",
              "    </tr>\n",
              "    <tr>\n",
              "      <th>8689</th>\n",
              "      <td>Earth</td>\n",
              "      <td>True</td>\n",
              "      <td>PSO J318.5-22</td>\n",
              "      <td>18</td>\n",
              "      <td>False</td>\n",
              "      <td>0.0</td>\n",
              "      <td>0.0</td>\n",
              "      <td>0.0</td>\n",
              "      <td>0.0</td>\n",
              "      <td>0.0</td>\n",
              "      <td>False</td>\n",
              "    </tr>\n",
              "    <tr>\n",
              "      <th>8690</th>\n",
              "      <td>Earth</td>\n",
              "      <td>False</td>\n",
              "      <td>TRAPPIST-1e</td>\n",
              "      <td>26</td>\n",
              "      <td>False</td>\n",
              "      <td>0.0</td>\n",
              "      <td>0.0</td>\n",
              "      <td>1872.0</td>\n",
              "      <td>1.0</td>\n",
              "      <td>0.0</td>\n",
              "      <td>True</td>\n",
              "    </tr>\n",
              "    <tr>\n",
              "      <th>8691</th>\n",
              "      <td>Europa</td>\n",
              "      <td>False</td>\n",
              "      <td>55 Cancri e</td>\n",
              "      <td>32</td>\n",
              "      <td>False</td>\n",
              "      <td>0.0</td>\n",
              "      <td>1049.0</td>\n",
              "      <td>0.0</td>\n",
              "      <td>353.0</td>\n",
              "      <td>3235.0</td>\n",
              "      <td>False</td>\n",
              "    </tr>\n",
              "    <tr>\n",
              "      <th>8692</th>\n",
              "      <td>Europa</td>\n",
              "      <td>False</td>\n",
              "      <td>TRAPPIST-1e</td>\n",
              "      <td>44</td>\n",
              "      <td>False</td>\n",
              "      <td>126.0</td>\n",
              "      <td>4688.0</td>\n",
              "      <td>0.0</td>\n",
              "      <td>0.0</td>\n",
              "      <td>12.0</td>\n",
              "      <td>True</td>\n",
              "    </tr>\n",
              "  </tbody>\n",
              "</table>\n",
              "<p>8314 rows × 11 columns</p>\n",
              "</div>\n",
              "      <button class=\"colab-df-convert\" onclick=\"convertToInteractive('df-e0bb0432-f086-4334-b9d2-5246fa3fbc3d')\"\n",
              "              title=\"Convert this dataframe to an interactive table.\"\n",
              "              style=\"display:none;\">\n",
              "        \n",
              "  <svg xmlns=\"http://www.w3.org/2000/svg\" height=\"24px\"viewBox=\"0 0 24 24\"\n",
              "       width=\"24px\">\n",
              "    <path d=\"M0 0h24v24H0V0z\" fill=\"none\"/>\n",
              "    <path d=\"M18.56 5.44l.94 2.06.94-2.06 2.06-.94-2.06-.94-.94-2.06-.94 2.06-2.06.94zm-11 1L8.5 8.5l.94-2.06 2.06-.94-2.06-.94L8.5 2.5l-.94 2.06-2.06.94zm10 10l.94 2.06.94-2.06 2.06-.94-2.06-.94-.94-2.06-.94 2.06-2.06.94z\"/><path d=\"M17.41 7.96l-1.37-1.37c-.4-.4-.92-.59-1.43-.59-.52 0-1.04.2-1.43.59L10.3 9.45l-7.72 7.72c-.78.78-.78 2.05 0 2.83L4 21.41c.39.39.9.59 1.41.59.51 0 1.02-.2 1.41-.59l7.78-7.78 2.81-2.81c.8-.78.8-2.07 0-2.86zM5.41 20L4 18.59l7.72-7.72 1.47 1.35L5.41 20z\"/>\n",
              "  </svg>\n",
              "      </button>\n",
              "      \n",
              "  <style>\n",
              "    .colab-df-container {\n",
              "      display:flex;\n",
              "      flex-wrap:wrap;\n",
              "      gap: 12px;\n",
              "    }\n",
              "\n",
              "    .colab-df-convert {\n",
              "      background-color: #E8F0FE;\n",
              "      border: none;\n",
              "      border-radius: 50%;\n",
              "      cursor: pointer;\n",
              "      display: none;\n",
              "      fill: #1967D2;\n",
              "      height: 32px;\n",
              "      padding: 0 0 0 0;\n",
              "      width: 32px;\n",
              "    }\n",
              "\n",
              "    .colab-df-convert:hover {\n",
              "      background-color: #E2EBFA;\n",
              "      box-shadow: 0px 1px 2px rgba(60, 64, 67, 0.3), 0px 1px 3px 1px rgba(60, 64, 67, 0.15);\n",
              "      fill: #174EA6;\n",
              "    }\n",
              "\n",
              "    [theme=dark] .colab-df-convert {\n",
              "      background-color: #3B4455;\n",
              "      fill: #D2E3FC;\n",
              "    }\n",
              "\n",
              "    [theme=dark] .colab-df-convert:hover {\n",
              "      background-color: #434B5C;\n",
              "      box-shadow: 0px 1px 3px 1px rgba(0, 0, 0, 0.15);\n",
              "      filter: drop-shadow(0px 1px 2px rgba(0, 0, 0, 0.3));\n",
              "      fill: #FFFFFF;\n",
              "    }\n",
              "  </style>\n",
              "\n",
              "      <script>\n",
              "        const buttonEl =\n",
              "          document.querySelector('#df-e0bb0432-f086-4334-b9d2-5246fa3fbc3d button.colab-df-convert');\n",
              "        buttonEl.style.display =\n",
              "          google.colab.kernel.accessAllowed ? 'block' : 'none';\n",
              "\n",
              "        async function convertToInteractive(key) {\n",
              "          const element = document.querySelector('#df-e0bb0432-f086-4334-b9d2-5246fa3fbc3d');\n",
              "          const dataTable =\n",
              "            await google.colab.kernel.invokeFunction('convertToInteractive',\n",
              "                                                     [key], {});\n",
              "          if (!dataTable) return;\n",
              "\n",
              "          const docLinkHtml = 'Like what you see? Visit the ' +\n",
              "            '<a target=\"_blank\" href=https://colab.research.google.com/notebooks/data_table.ipynb>data table notebook</a>'\n",
              "            + ' to learn more about interactive tables.';\n",
              "          element.innerHTML = '';\n",
              "          dataTable['output_type'] = 'display_data';\n",
              "          await google.colab.output.renderOutput(dataTable, element);\n",
              "          const docLink = document.createElement('div');\n",
              "          docLink.innerHTML = docLinkHtml;\n",
              "          element.appendChild(docLink);\n",
              "        }\n",
              "      </script>\n",
              "    </div>\n",
              "  </div>\n",
              "  "
            ]
          },
          "metadata": {},
          "execution_count": 14
        }
      ]
    },
    {
      "cell_type": "code",
      "source": [
        "sns.heatmap(space_df2.corr())"
      ],
      "metadata": {
        "colab": {
          "base_uri": "https://localhost:8080/",
          "height": 345
        },
        "id": "eRiXO0XbeeO8",
        "outputId": "6da62aa4-1ee7-44f5-9d12-452fe90c64b5"
      },
      "execution_count": 15,
      "outputs": [
        {
          "output_type": "execute_result",
          "data": {
            "text/plain": [
              "<matplotlib.axes._subplots.AxesSubplot at 0x7f65c3d38610>"
            ]
          },
          "metadata": {},
          "execution_count": 15
        },
        {
          "output_type": "display_data",
          "data": {
            "text/plain": [
              "<Figure size 432x288 with 2 Axes>"
            ],
            "image/png": "[encoded data removed]"
          },
          "metadata": {
            "needs_background": "light"
          }
        }
      ]
    },
    {
      "cell_type": "code",
      "source": [
        "space_df2.isnull().sum()"
      ],
      "metadata": {
        "colab": {
          "base_uri": "https://localhost:8080/"
        },
        "id": "S2tbotAytAod",
        "outputId": "45ad06d7-fe36-4188-d951-201ecaae6e60"
      },
      "execution_count": 16,
      "outputs": [
        {
          "output_type": "execute_result",
          "data": {
            "text/plain": [
              "HomePlanet        0\n",
              "CryoSleep       211\n",
              "Destination       0\n",
              "Age               0\n",
              "VIP             197\n",
              "RoomService     172\n",
              "FoodCourt       175\n",
              "ShoppingMall    196\n",
              "Spa             177\n",
              "VRDeck          185\n",
              "Transported       0\n",
              "dtype: int64"
            ]
          },
          "metadata": {},
          "execution_count": 16
        }
      ]
    },
    {
      "cell_type": "code",
      "source": [
        "space_df2['FoodCourt'].fillna(space_df2['FoodCourt'].mean(), inplace=True)\n",
        "space_df2['Spa'].fillna(space_df2['Spa'].mean(), inplace=True)\n",
        "space_df2['VRDeck'].fillna(space_df2['VRDeck'].median(), inplace=True)\n",
        "space_df2['ShoppingMall'].fillna(space_df2['ShoppingMall'].mean(), inplace=True)\n",
        "space_df2['RoomService'].fillna(space_df2['RoomService'].mean(), inplace=True)"
      ],
      "metadata": {
        "id": "9tpx7dN8tJmG"
      },
      "execution_count": 17,
      "outputs": []
    },
    {
      "cell_type": "code",
      "source": [
        "space_df2.isnull().sum()"
      ],
      "metadata": {
        "colab": {
          "base_uri": "https://localhost:8080/"
        },
        "id": "wX-6q_RWtOYV",
        "outputId": "535ae3a8-68b9-4a85-f0c5-74116c5da914"
      },
      "execution_count": 18,
      "outputs": [
        {
          "output_type": "execute_result",
          "data": {
            "text/plain": [
              "HomePlanet        0\n",
              "CryoSleep       211\n",
              "Destination       0\n",
              "Age               0\n",
              "VIP             197\n",
              "RoomService       0\n",
              "FoodCourt         0\n",
              "ShoppingMall      0\n",
              "Spa               0\n",
              "VRDeck            0\n",
              "Transported       0\n",
              "dtype: int64"
            ]
          },
          "metadata": {},
          "execution_count": 18
        }
      ]
    },
    {
      "cell_type": "code",
      "source": [
        "space_df2"
      ],
      "metadata": {
        "colab": {
          "base_uri": "https://localhost:8080/",
          "height": 424
        },
        "id": "0CZ0cCP2tRGa",
        "outputId": "4316fbac-9a73-4c3e-f41b-821b3f8a5f35"
      },
      "execution_count": 19,
      "outputs": [
        {
          "output_type": "execute_result",
          "data": {
            "text/plain": [
              "     HomePlanet CryoSleep    Destination  Age    VIP  RoomService  FoodCourt  \\\n",
              "0        Europa     False    TRAPPIST-1e   39  False          0.0        0.0   \n",
              "1         Earth     False    TRAPPIST-1e   24  False        109.0        9.0   \n",
              "2        Europa     False    TRAPPIST-1e   58   True         43.0     3576.0   \n",
              "3        Europa     False    TRAPPIST-1e   33  False          0.0     1283.0   \n",
              "4         Earth     False    TRAPPIST-1e   16  False        303.0       70.0   \n",
              "...         ...       ...            ...  ...    ...          ...        ...   \n",
              "8688     Europa     False    55 Cancri e   41   True          0.0     6819.0   \n",
              "8689      Earth      True  PSO J318.5-22   18  False          0.0        0.0   \n",
              "8690      Earth     False    TRAPPIST-1e   26  False          0.0        0.0   \n",
              "8691     Europa     False    55 Cancri e   32  False          0.0     1049.0   \n",
              "8692     Europa     False    TRAPPIST-1e   44  False        126.0     4688.0   \n",
              "\n",
              "      ShoppingMall     Spa  VRDeck  Transported  \n",
              "0              0.0     0.0     0.0        False  \n",
              "1             25.0   549.0    44.0         True  \n",
              "2              0.0  6715.0    49.0        False  \n",
              "3            371.0  3329.0   193.0        False  \n",
              "4            151.0   565.0     2.0         True  \n",
              "...            ...     ...     ...          ...  \n",
              "8688           0.0  1643.0    74.0        False  \n",
              "8689           0.0     0.0     0.0        False  \n",
              "8690        1872.0     1.0     0.0         True  \n",
              "8691           0.0   353.0  3235.0        False  \n",
              "8692           0.0     0.0    12.0         True  \n",
              "\n",
              "[8314 rows x 11 columns]"
            ],
            "text/html": [
              "\n",
              "  <div id=\"df-35bf3b4c-62ed-49cd-91d9-fd2b6584c7b7\">\n",
              "    <div class=\"colab-df-container\">\n",
              "      <div>\n",
              "<style scoped>\n",
              "    .dataframe tbody tr th:only-of-type {\n",
              "        vertical-align: middle;\n",
              "    }\n",
              "\n",
              "    .dataframe tbody tr th {\n",
              "        vertical-align: top;\n",
              "    }\n",
              "\n",
              "    .dataframe thead th {\n",
              "        text-align: right;\n",
              "    }\n",
              "</style>\n",
              "<table border=\"1\" class=\"dataframe\">\n",
              "  <thead>\n",
              "    <tr style=\"text-align: right;\">\n",
              "      <th></th>\n",
              "      <th>HomePlanet</th>\n",
              "      <th>CryoSleep</th>\n",
              "      <th>Destination</th>\n",
              "      <th>Age</th>\n",
              "      <th>VIP</th>\n",
              "      <th>RoomService</th>\n",
              "      <th>FoodCourt</th>\n",
              "      <th>ShoppingMall</th>\n",
              "      <th>Spa</th>\n",
              "      <th>VRDeck</th>\n",
              "      <th>Transported</th>\n",
              "    </tr>\n",
              "  </thead>\n",
              "  <tbody>\n",
              "    <tr>\n",
              "      <th>0</th>\n",
              "      <td>Europa</td>\n",
              "      <td>False</td>\n",
              "      <td>TRAPPIST-1e</td>\n",
              "      <td>39</td>\n",
              "      <td>False</td>\n",
              "      <td>0.0</td>\n",
              "      <td>0.0</td>\n",
              "      <td>0.0</td>\n",
              "      <td>0.0</td>\n",
              "      <td>0.0</td>\n",
              "      <td>False</td>\n",
              "    </tr>\n",
              "    <tr>\n",
              "      <th>1</th>\n",
              "      <td>Earth</td>\n",
              "      <td>False</td>\n",
              "      <td>TRAPPIST-1e</td>\n",
              "      <td>24</td>\n",
              "      <td>False</td>\n",
              "      <td>109.0</td>\n",
              "      <td>9.0</td>\n",
              "      <td>25.0</td>\n",
              "      <td>549.0</td>\n",
              "      <td>44.0</td>\n",
              "      <td>True</td>\n",
              "    </tr>\n",
              "    <tr>\n",
              "      <th>2</th>\n",
              "      <td>Europa</td>\n",
              "      <td>False</td>\n",
              "      <td>TRAPPIST-1e</td>\n",
              "      <td>58</td>\n",
              "      <td>True</td>\n",
              "      <td>43.0</td>\n",
              "      <td>3576.0</td>\n",
              "      <td>0.0</td>\n",
              "      <td>6715.0</td>\n",
              "      <td>49.0</td>\n",
              "      <td>False</td>\n",
              "    </tr>\n",
              "    <tr>\n",
              "      <th>3</th>\n",
              "      <td>Europa</td>\n",
              "      <td>False</td>\n",
              "      <td>TRAPPIST-1e</td>\n",
              "      <td>33</td>\n",
              "      <td>False</td>\n",
              "      <td>0.0</td>\n",
              "      <td>1283.0</td>\n",
              "      <td>371.0</td>\n",
              "      <td>3329.0</td>\n",
              "      <td>193.0</td>\n",
              "      <td>False</td>\n",
              "    </tr>\n",
              "    <tr>\n",
              "      <th>4</th>\n",
              "      <td>Earth</td>\n",
              "      <td>False</td>\n",
              "      <td>TRAPPIST-1e</td>\n",
              "      <td>16</td>\n",
              "      <td>False</td>\n",
              "      <td>303.0</td>\n",
              "      <td>70.0</td>\n",
              "      <td>151.0</td>\n",
              "      <td>565.0</td>\n",
              "      <td>2.0</td>\n",
              "      <td>True</td>\n",
              "    </tr>\n",
              "    <tr>\n",
              "      <th>...</th>\n",
              "      <td>...</td>\n",
              "      <td>...</td>\n",
              "      <td>...</td>\n",
              "      <td>...</td>\n",
              "      <td>...</td>\n",
              "      <td>...</td>\n",
              "      <td>...</td>\n",
              "      <td>...</td>\n",
              "      <td>...</td>\n",
              "      <td>...</td>\n",
              "      <td>...</td>\n",
              "    </tr>\n",
              "    <tr>\n",
              "      <th>8688</th>\n",
              "      <td>Europa</td>\n",
              "      <td>False</td>\n",
              "      <td>55 Cancri e</td>\n",
              "      <td>41</td>\n",
              "      <td>True</td>\n",
              "      <td>0.0</td>\n",
              "      <td>6819.0</td>\n",
              "      <td>0.0</td>\n",
              "      <td>1643.0</td>\n",
              "      <td>74.0</td>\n",
              "      <td>False</td>\n",
              "    </tr>\n",
              "    <tr>\n",
              "      <th>8689</th>\n",
              "      <td>Earth</td>\n",
              "      <td>True</td>\n",
              "      <td>PSO J318.5-22</td>\n",
              "      <td>18</td>\n",
              "      <td>False</td>\n",
              "      <td>0.0</td>\n",
              "      <td>0.0</td>\n",
              "      <td>0.0</td>\n",
              "      <td>0.0</td>\n",
              "      <td>0.0</td>\n",
              "      <td>False</td>\n",
              "    </tr>\n",
              "    <tr>\n",
              "      <th>8690</th>\n",
              "      <td>Earth</td>\n",
              "      <td>False</td>\n",
              "      <td>TRAPPIST-1e</td>\n",
              "      <td>26</td>\n",
              "      <td>False</td>\n",
              "      <td>0.0</td>\n",
              "      <td>0.0</td>\n",
              "      <td>1872.0</td>\n",
              "      <td>1.0</td>\n",
              "      <td>0.0</td>\n",
              "      <td>True</td>\n",
              "    </tr>\n",
              "    <tr>\n",
              "      <th>8691</th>\n",
              "      <td>Europa</td>\n",
              "      <td>False</td>\n",
              "      <td>55 Cancri e</td>\n",
              "      <td>32</td>\n",
              "      <td>False</td>\n",
              "      <td>0.0</td>\n",
              "      <td>1049.0</td>\n",
              "      <td>0.0</td>\n",
              "      <td>353.0</td>\n",
              "      <td>3235.0</td>\n",
              "      <td>False</td>\n",
              "    </tr>\n",
              "    <tr>\n",
              "      <th>8692</th>\n",
              "      <td>Europa</td>\n",
              "      <td>False</td>\n",
              "      <td>TRAPPIST-1e</td>\n",
              "      <td>44</td>\n",
              "      <td>False</td>\n",
              "      <td>126.0</td>\n",
              "      <td>4688.0</td>\n",
              "      <td>0.0</td>\n",
              "      <td>0.0</td>\n",
              "      <td>12.0</td>\n",
              "      <td>True</td>\n",
              "    </tr>\n",
              "  </tbody>\n",
              "</table>\n",
              "<p>8314 rows × 11 columns</p>\n",
              "</div>\n",
              "      <button class=\"colab-df-convert\" onclick=\"convertToInteractive('df-35bf3b4c-62ed-49cd-91d9-fd2b6584c7b7')\"\n",
              "              title=\"Convert this dataframe to an interactive table.\"\n",
              "              style=\"display:none;\">\n",
              "        \n",
              "  <svg xmlns=\"http://www.w3.org/2000/svg\" height=\"24px\"viewBox=\"0 0 24 24\"\n",
              "       width=\"24px\">\n",
              "    <path d=\"M0 0h24v24H0V0z\" fill=\"none\"/>\n",
              "    <path d=\"M18.56 5.44l.94 2.06.94-2.06 2.06-.94-2.06-.94-.94-2.06-.94 2.06-2.06.94zm-11 1L8.5 8.5l.94-2.06 2.06-.94-2.06-.94L8.5 2.5l-.94 2.06-2.06.94zm10 10l.94 2.06.94-2.06 2.06-.94-2.06-.94-.94-2.06-.94 2.06-2.06.94z\"/><path d=\"M17.41 7.96l-1.37-1.37c-.4-.4-.92-.59-1.43-.59-.52 0-1.04.2-1.43.59L10.3 9.45l-7.72 7.72c-.78.78-.78 2.05 0 2.83L4 21.41c.39.39.9.59 1.41.59.51 0 1.02-.2 1.41-.59l7.78-7.78 2.81-2.81c.8-.78.8-2.07 0-2.86zM5.41 20L4 18.59l7.72-7.72 1.47 1.35L5.41 20z\"/>\n",
              "  </svg>\n",
              "      </button>\n",
              "      \n",
              "  <style>\n",
              "    .colab-df-container {\n",
              "      display:flex;\n",
              "      flex-wrap:wrap;\n",
              "      gap: 12px;\n",
              "    }\n",
              "\n",
              "    .colab-df-convert {\n",
              "      background-color: #E8F0FE;\n",
              "      border: none;\n",
              "      border-radius: 50%;\n",
              "      cursor: pointer;\n",
              "      display: none;\n",
              "      fill: #1967D2;\n",
              "      height: 32px;\n",
              "      padding: 0 0 0 0;\n",
              "      width: 32px;\n",
              "    }\n",
              "\n",
              "    .colab-df-convert:hover {\n",
              "      background-color: #E2EBFA;\n",
              "      box-shadow: 0px 1px 2px rgba(60, 64, 67, 0.3), 0px 1px 3px 1px rgba(60, 64, 67, 0.15);\n",
              "      fill: #174EA6;\n",
              "    }\n",
              "\n",
              "    [theme=dark] .colab-df-convert {\n",
              "      background-color: #3B4455;\n",
              "      fill: #D2E3FC;\n",
              "    }\n",
              "\n",
              "    [theme=dark] .colab-df-convert:hover {\n",
              "      background-color: #434B5C;\n",
              "      box-shadow: 0px 1px 3px 1px rgba(0, 0, 0, 0.15);\n",
              "      filter: drop-shadow(0px 1px 2px rgba(0, 0, 0, 0.3));\n",
              "      fill: #FFFFFF;\n",
              "    }\n",
              "  </style>\n",
              "\n",
              "      <script>\n",
              "        const buttonEl =\n",
              "          document.querySelector('#df-35bf3b4c-62ed-49cd-91d9-fd2b6584c7b7 button.colab-df-convert');\n",
              "        buttonEl.style.display =\n",
              "          google.colab.kernel.accessAllowed ? 'block' : 'none';\n",
              "\n",
              "        async function convertToInteractive(key) {\n",
              "          const element = document.querySelector('#df-35bf3b4c-62ed-49cd-91d9-fd2b6584c7b7');\n",
              "          const dataTable =\n",
              "            await google.colab.kernel.invokeFunction('convertToInteractive',\n",
              "                                                     [key], {});\n",
              "          if (!dataTable) return;\n",
              "\n",
              "          const docLinkHtml = 'Like what you see? Visit the ' +\n",
              "            '<a target=\"_blank\" href=https://colab.research.google.com/notebooks/data_table.ipynb>data table notebook</a>'\n",
              "            + ' to learn more about interactive tables.';\n",
              "          element.innerHTML = '';\n",
              "          dataTable['output_type'] = 'display_data';\n",
              "          await google.colab.output.renderOutput(dataTable, element);\n",
              "          const docLink = document.createElement('div');\n",
              "          docLink.innerHTML = docLinkHtml;\n",
              "          element.appendChild(docLink);\n",
              "        }\n",
              "      </script>\n",
              "    </div>\n",
              "  </div>\n",
              "  "
            ]
          },
          "metadata": {},
          "execution_count": 19
        }
      ]
    },
    {
      "cell_type": "code",
      "source": [
        "space_df2.info()"
      ],
      "metadata": {
        "id": "J06LRh82I414",
        "colab": {
          "base_uri": "https://localhost:8080/"
        },
        "outputId": "3c61c53a-c28b-4cf7-91ae-13b522698ba5"
      },
      "execution_count": 20,
      "outputs": [
        {
          "output_type": "stream",
          "name": "stdout",
          "text": [
            "<class 'pandas.core.frame.DataFrame'>\n",
            "Int64Index: 8314 entries, 0 to 8692\n",
            "Data columns (total 11 columns):\n",
            " #   Column        Non-Null Count  Dtype  \n",
            "---  ------        --------------  -----  \n",
            " 0   HomePlanet    8314 non-null   object \n",
            " 1   CryoSleep     8103 non-null   object \n",
            " 2   Destination   8314 non-null   object \n",
            " 3   Age           8314 non-null   int64  \n",
            " 4   VIP           8117 non-null   object \n",
            " 5   RoomService   8314 non-null   float64\n",
            " 6   FoodCourt     8314 non-null   float64\n",
            " 7   ShoppingMall  8314 non-null   float64\n",
            " 8   Spa           8314 non-null   float64\n",
            " 9   VRDeck        8314 non-null   float64\n",
            " 10  Transported   8314 non-null   bool   \n",
            "dtypes: bool(1), float64(5), int64(1), object(4)\n",
            "memory usage: 722.6+ KB\n"
          ]
        }
      ]
    },
    {
      "cell_type": "code",
      "source": [
        "space_df2['CryoSleep'].fillna(space_df2['CryoSleep'].mode()[0],inplace=True)\n",
        "space_df2['VIP'].fillna(space_df2['VIP'].mode()[0],inplace=True)\n",
        "space_df2.isnull().sum()"
      ],
      "metadata": {
        "colab": {
          "base_uri": "https://localhost:8080/"
        },
        "id": "fASmSVANtXoe",
        "outputId": "fd486ca9-bb42-45a7-822e-08fd12b5a1f7"
      },
      "execution_count": 21,
      "outputs": [
        {
          "output_type": "execute_result",
          "data": {
            "text/plain": [
              "HomePlanet      0\n",
              "CryoSleep       0\n",
              "Destination     0\n",
              "Age             0\n",
              "VIP             0\n",
              "RoomService     0\n",
              "FoodCourt       0\n",
              "ShoppingMall    0\n",
              "Spa             0\n",
              "VRDeck          0\n",
              "Transported     0\n",
              "dtype: int64"
            ]
          },
          "metadata": {},
          "execution_count": 21
        }
      ]
    },
    {
      "cell_type": "markdown",
      "source": [
        "Finalized and revised dataset"
      ],
      "metadata": {
        "id": "LsCwP-fV3eE4"
      }
    },
    {
      "cell_type": "code",
      "source": [
        "space_df2"
      ],
      "metadata": {
        "colab": {
          "base_uri": "https://localhost:8080/",
          "height": 424
        },
        "id": "YAZaLok9tfAZ",
        "outputId": "73289c39-a38d-4641-b1cd-0767b32b6870"
      },
      "execution_count": 22,
      "outputs": [
        {
          "output_type": "execute_result",
          "data": {
            "text/plain": [
              "     HomePlanet  CryoSleep    Destination  Age    VIP  RoomService  FoodCourt  \\\n",
              "0        Europa      False    TRAPPIST-1e   39  False          0.0        0.0   \n",
              "1         Earth      False    TRAPPIST-1e   24  False        109.0        9.0   \n",
              "2        Europa      False    TRAPPIST-1e   58   True         43.0     3576.0   \n",
              "3        Europa      False    TRAPPIST-1e   33  False          0.0     1283.0   \n",
              "4         Earth      False    TRAPPIST-1e   16  False        303.0       70.0   \n",
              "...         ...        ...            ...  ...    ...          ...        ...   \n",
              "8688     Europa      False    55 Cancri e   41   True          0.0     6819.0   \n",
              "8689      Earth       True  PSO J318.5-22   18  False          0.0        0.0   \n",
              "8690      Earth      False    TRAPPIST-1e   26  False          0.0        0.0   \n",
              "8691     Europa      False    55 Cancri e   32  False          0.0     1049.0   \n",
              "8692     Europa      False    TRAPPIST-1e   44  False        126.0     4688.0   \n",
              "\n",
              "      ShoppingMall     Spa  VRDeck  Transported  \n",
              "0              0.0     0.0     0.0        False  \n",
              "1             25.0   549.0    44.0         True  \n",
              "2              0.0  6715.0    49.0        False  \n",
              "3            371.0  3329.0   193.0        False  \n",
              "4            151.0   565.0     2.0         True  \n",
              "...            ...     ...     ...          ...  \n",
              "8688           0.0  1643.0    74.0        False  \n",
              "8689           0.0     0.0     0.0        False  \n",
              "8690        1872.0     1.0     0.0         True  \n",
              "8691           0.0   353.0  3235.0        False  \n",
              "8692           0.0     0.0    12.0         True  \n",
              "\n",
              "[8314 rows x 11 columns]"
            ],
            "text/html": [
              "\n",
              "  <div id=\"df-1f1d4a9c-9b0b-4483-9017-43b34a4bf60c\">\n",
              "    <div class=\"colab-df-container\">\n",
              "      <div>\n",
              "<style scoped>\n",
              "    .dataframe tbody tr th:only-of-type {\n",
              "        vertical-align: middle;\n",
              "    }\n",
              "\n",
              "    .dataframe tbody tr th {\n",
              "        vertical-align: top;\n",
              "    }\n",
              "\n",
              "    .dataframe thead th {\n",
              "        text-align: right;\n",
              "    }\n",
              "</style>\n",
              "<table border=\"1\" class=\"dataframe\">\n",
              "  <thead>\n",
              "    <tr style=\"text-align: right;\">\n",
              "      <th></th>\n",
              "      <th>HomePlanet</th>\n",
              "      <th>CryoSleep</th>\n",
              "      <th>Destination</th>\n",
              "      <th>Age</th>\n",
              "      <th>VIP</th>\n",
              "      <th>RoomService</th>\n",
              "      <th>FoodCourt</th>\n",
              "      <th>ShoppingMall</th>\n",
              "      <th>Spa</th>\n",
              "      <th>VRDeck</th>\n",
              "      <th>Transported</th>\n",
              "    </tr>\n",
              "  </thead>\n",
              "  <tbody>\n",
              "    <tr>\n",
              "      <th>0</th>\n",
              "      <td>Europa</td>\n",
              "      <td>False</td>\n",
              "      <td>TRAPPIST-1e</td>\n",
              "      <td>39</td>\n",
              "      <td>False</td>\n",
              "      <td>0.0</td>\n",
              "      <td>0.0</td>\n",
              "      <td>0.0</td>\n",
              "      <td>0.0</td>\n",
              "      <td>0.0</td>\n",
              "      <td>False</td>\n",
              "    </tr>\n",
              "    <tr>\n",
              "      <th>1</th>\n",
              "      <td>Earth</td>\n",
              "      <td>False</td>\n",
              "      <td>TRAPPIST-1e</td>\n",
              "      <td>24</td>\n",
              "      <td>False</td>\n",
              "      <td>109.0</td>\n",
              "      <td>9.0</td>\n",
              "      <td>25.0</td>\n",
              "      <td>549.0</td>\n",
              "      <td>44.0</td>\n",
              "      <td>True</td>\n",
              "    </tr>\n",
              "    <tr>\n",
              "      <th>2</th>\n",
              "      <td>Europa</td>\n",
              "      <td>False</td>\n",
              "      <td>TRAPPIST-1e</td>\n",
              "      <td>58</td>\n",
              "      <td>True</td>\n",
              "      <td>43.0</td>\n",
              "      <td>3576.0</td>\n",
              "      <td>0.0</td>\n",
              "      <td>6715.0</td>\n",
              "      <td>49.0</td>\n",
              "      <td>False</td>\n",
              "    </tr>\n",
              "    <tr>\n",
              "      <th>3</th>\n",
              "      <td>Europa</td>\n",
              "      <td>False</td>\n",
              "      <td>TRAPPIST-1e</td>\n",
              "      <td>33</td>\n",
              "      <td>False</td>\n",
              "      <td>0.0</td>\n",
              "      <td>1283.0</td>\n",
              "      <td>371.0</td>\n",
              "      <td>3329.0</td>\n",
              "      <td>193.0</td>\n",
              "      <td>False</td>\n",
              "    </tr>\n",
              "    <tr>\n",
              "      <th>4</th>\n",
              "      <td>Earth</td>\n",
              "      <td>False</td>\n",
              "      <td>TRAPPIST-1e</td>\n",
              "      <td>16</td>\n",
              "      <td>False</td>\n",
              "      <td>303.0</td>\n",
              "      <td>70.0</td>\n",
              "      <td>151.0</td>\n",
              "      <td>565.0</td>\n",
              "      <td>2.0</td>\n",
              "      <td>True</td>\n",
              "    </tr>\n",
              "    <tr>\n",
              "      <th>...</th>\n",
              "      <td>...</td>\n",
              "      <td>...</td>\n",
              "      <td>...</td>\n",
              "      <td>...</td>\n",
              "      <td>...</td>\n",
              "      <td>...</td>\n",
              "      <td>...</td>\n",
              "      <td>...</td>\n",
              "      <td>...</td>\n",
              "      <td>...</td>\n",
              "      <td>...</td>\n",
              "    </tr>\n",
              "    <tr>\n",
              "      <th>8688</th>\n",
              "      <td>Europa</td>\n",
              "      <td>False</td>\n",
              "      <td>55 Cancri e</td>\n",
              "      <td>41</td>\n",
              "      <td>True</td>\n",
              "      <td>0.0</td>\n",
              "      <td>6819.0</td>\n",
              "      <td>0.0</td>\n",
              "      <td>1643.0</td>\n",
              "      <td>74.0</td>\n",
              "      <td>False</td>\n",
              "    </tr>\n",
              "    <tr>\n",
              "      <th>8689</th>\n",
              "      <td>Earth</td>\n",
              "      <td>True</td>\n",
              "      <td>PSO J318.5-22</td>\n",
              "      <td>18</td>\n",
              "      <td>False</td>\n",
              "      <td>0.0</td>\n",
              "      <td>0.0</td>\n",
              "      <td>0.0</td>\n",
              "      <td>0.0</td>\n",
              "      <td>0.0</td>\n",
              "      <td>False</td>\n",
              "    </tr>\n",
              "    <tr>\n",
              "      <th>8690</th>\n",
              "      <td>Earth</td>\n",
              "      <td>False</td>\n",
              "      <td>TRAPPIST-1e</td>\n",
              "      <td>26</td>\n",
              "      <td>False</td>\n",
              "      <td>0.0</td>\n",
              "      <td>0.0</td>\n",
              "      <td>1872.0</td>\n",
              "      <td>1.0</td>\n",
              "      <td>0.0</td>\n",
              "      <td>True</td>\n",
              "    </tr>\n",
              "    <tr>\n",
              "      <th>8691</th>\n",
              "      <td>Europa</td>\n",
              "      <td>False</td>\n",
              "      <td>55 Cancri e</td>\n",
              "      <td>32</td>\n",
              "      <td>False</td>\n",
              "      <td>0.0</td>\n",
              "      <td>1049.0</td>\n",
              "      <td>0.0</td>\n",
              "      <td>353.0</td>\n",
              "      <td>3235.0</td>\n",
              "      <td>False</td>\n",
              "    </tr>\n",
              "    <tr>\n",
              "      <th>8692</th>\n",
              "      <td>Europa</td>\n",
              "      <td>False</td>\n",
              "      <td>TRAPPIST-1e</td>\n",
              "      <td>44</td>\n",
              "      <td>False</td>\n",
              "      <td>126.0</td>\n",
              "      <td>4688.0</td>\n",
              "      <td>0.0</td>\n",
              "      <td>0.0</td>\n",
              "      <td>12.0</td>\n",
              "      <td>True</td>\n",
              "    </tr>\n",
              "  </tbody>\n",
              "</table>\n",
              "<p>8314 rows × 11 columns</p>\n",
              "</div>\n",
              "      <button class=\"colab-df-convert\" onclick=\"convertToInteractive('df-1f1d4a9c-9b0b-4483-9017-43b34a4bf60c')\"\n",
              "              title=\"Convert this dataframe to an interactive table.\"\n",
              "              style=\"display:none;\">\n",
              "        \n",
              "  <svg xmlns=\"http://www.w3.org/2000/svg\" height=\"24px\"viewBox=\"0 0 24 24\"\n",
              "       width=\"24px\">\n",
              "    <path d=\"M0 0h24v24H0V0z\" fill=\"none\"/>\n",
              "    <path d=\"M18.56 5.44l.94 2.06.94-2.06 2.06-.94-2.06-.94-.94-2.06-.94 2.06-2.06.94zm-11 1L8.5 8.5l.94-2.06 2.06-.94-2.06-.94L8.5 2.5l-.94 2.06-2.06.94zm10 10l.94 2.06.94-2.06 2.06-.94-2.06-.94-.94-2.06-.94 2.06-2.06.94z\"/><path d=\"M17.41 7.96l-1.37-1.37c-.4-.4-.92-.59-1.43-.59-.52 0-1.04.2-1.43.59L10.3 9.45l-7.72 7.72c-.78.78-.78 2.05 0 2.83L4 21.41c.39.39.9.59 1.41.59.51 0 1.02-.2 1.41-.59l7.78-7.78 2.81-2.81c.8-.78.8-2.07 0-2.86zM5.41 20L4 18.59l7.72-7.72 1.47 1.35L5.41 20z\"/>\n",
              "  </svg>\n",
              "      </button>\n",
              "      \n",
              "  <style>\n",
              "    .colab-df-container {\n",
              "      display:flex;\n",
              "      flex-wrap:wrap;\n",
              "      gap: 12px;\n",
              "    }\n",
              "\n",
              "    .colab-df-convert {\n",
              "      background-color: #E8F0FE;\n",
              "      border: none;\n",
              "      border-radius: 50%;\n",
              "      cursor: pointer;\n",
              "      display: none;\n",
              "      fill: #1967D2;\n",
              "      height: 32px;\n",
              "      padding: 0 0 0 0;\n",
              "      width: 32px;\n",
              "    }\n",
              "\n",
              "    .colab-df-convert:hover {\n",
              "      background-color: #E2EBFA;\n",
              "      box-shadow: 0px 1px 2px rgba(60, 64, 67, 0.3), 0px 1px 3px 1px rgba(60, 64, 67, 0.15);\n",
              "      fill: #174EA6;\n",
              "    }\n",
              "\n",
              "    [theme=dark] .colab-df-convert {\n",
              "      background-color: #3B4455;\n",
              "      fill: #D2E3FC;\n",
              "    }\n",
              "\n",
              "    [theme=dark] .colab-df-convert:hover {\n",
              "      background-color: #434B5C;\n",
              "      box-shadow: 0px 1px 3px 1px rgba(0, 0, 0, 0.15);\n",
              "      filter: drop-shadow(0px 1px 2px rgba(0, 0, 0, 0.3));\n",
              "      fill: #FFFFFF;\n",
              "    }\n",
              "  </style>\n",
              "\n",
              "      <script>\n",
              "        const buttonEl =\n",
              "          document.querySelector('#df-1f1d4a9c-9b0b-4483-9017-43b34a4bf60c button.colab-df-convert');\n",
              "        buttonEl.style.display =\n",
              "          google.colab.kernel.accessAllowed ? 'block' : 'none';\n",
              "\n",
              "        async function convertToInteractive(key) {\n",
              "          const element = document.querySelector('#df-1f1d4a9c-9b0b-4483-9017-43b34a4bf60c');\n",
              "          const dataTable =\n",
              "            await google.colab.kernel.invokeFunction('convertToInteractive',\n",
              "                                                     [key], {});\n",
              "          if (!dataTable) return;\n",
              "\n",
              "          const docLinkHtml = 'Like what you see? Visit the ' +\n",
              "            '<a target=\"_blank\" href=https://colab.research.google.com/notebooks/data_table.ipynb>data table notebook</a>'\n",
              "            + ' to learn more about interactive tables.';\n",
              "          element.innerHTML = '';\n",
              "          dataTable['output_type'] = 'display_data';\n",
              "          await google.colab.output.renderOutput(dataTable, element);\n",
              "          const docLink = document.createElement('div');\n",
              "          docLink.innerHTML = docLinkHtml;\n",
              "          element.appendChild(docLink);\n",
              "        }\n",
              "      </script>\n",
              "    </div>\n",
              "  </div>\n",
              "  "
            ]
          },
          "metadata": {},
          "execution_count": 22
        }
      ]
    },
    {
      "cell_type": "code",
      "source": [
        "sns.countplot(space_df2['HomePlanet'])"
      ],
      "metadata": {
        "id": "8Ownn_ssogI4",
        "colab": {
          "base_uri": "https://localhost:8080/",
          "height": 353
        },
        "outputId": "d6d7e05c-8121-458f-c18b-106b0d632e48"
      },
      "execution_count": 23,
      "outputs": [
        {
          "output_type": "stream",
          "name": "stderr",
          "text": [
            "/usr/local/lib/python3.7/dist-packages/seaborn/_decorators.py:43: FutureWarning: Pass the following variable as a keyword arg: x. From version 0.12, the only valid positional argument will be `data`, and passing other arguments without an explicit keyword will result in an error or misinterpretation.\n",
            "  FutureWarning\n"
          ]
        },
        {
          "output_type": "execute_result",
          "data": {
            "text/plain": [
              "<matplotlib.axes._subplots.AxesSubplot at 0x7f65c13ac850>"
            ]
          },
          "metadata": {},
          "execution_count": 23
        },
        {
          "output_type": "display_data",
          "data": {
            "text/plain": [
              "<Figure size 432x288 with 1 Axes>"
            ],
            "image/png": "[encoded data removed]"
          },
          "metadata": {
            "needs_background": "light"
          }
        }
      ]
    },
    {
      "cell_type": "code",
      "source": [
        "fig = px.histogram(space_df2, x=space_df2[\"HomePlanet\"],\n",
        "             color='Transported', barmode='group',width=700,\n",
        "             height=500)\n",
        "fig.show()"
      ],
      "metadata": {
        "colab": {
          "base_uri": "https://localhost:8080/",
          "height": 517
        },
        "id": "S0nYvz0_Vzde",
        "outputId": "438345a2-4233-4bbc-bce5-4a48ba46793d"
      },
      "execution_count": 24,
      "outputs": [
        {
          "output_type": "display_data",
          "data": {
            "text/html": [
              "<html>\n",
              "<head><meta charset=\"utf-8\" /></head>\n",
              "<body>\n",
              "    <div>            <script src=\"https://cdnjs.cloudflare.com/ajax/libs/mathjax/2.7.5/MathJax.js?config=TeX-AMS-MML_SVG\"></script><script type=\"text/javascript\">if (window.MathJax) {MathJax.Hub.Config({SVG: {font: \"STIX-Web\"}});}</script>                <script type=\"text/javascript\">window.PlotlyConfig = {MathJaxConfig: 'local'};</script>\n",
              "        <script src=\"https://cdn.plot.ly/plotly-2.8.3.min.js\"></script>                <div id=\"b5347cb9-2c53-4d42-a94a-d2d1d1ca1d46\" class=\"plotly-graph-div\" style=\"height:500px; width:700px;\"></div>            <script type=\"text/javascript\">                                    window.PLOTLYENV=window.PLOTLYENV || {};                                    if (document.getElementById(\"b5347cb9-2c53-4d42-a94a-d2d1d1ca1d46\")) {                    Plotly.newPlot(                        \"b5347cb9-2c53-4d42-a94a-d2d1d1ca1d46\",                        [{\"alignmentgroup\":\"True\",\"bingroup\":\"x\",\"hovertemplate\":\"Transported=False<br>HomePlanet=%{x}<br>count=%{y}<extra></extra>\",\"legendgroup\":\"False\",\"marker\":{\"color\":\"#636efa\",\"pattern\":{\"shape\":\"\"}},\"name\":\"False\",\"offsetgroup\":\"False\",\"orientation\":\"v\",\"showlegend\":true,\"x\":[\"Europa\",\"Europa\",\"Europa\",\"Earth\",\"Earth\",\"Mars\",\"Earth\",\"Earth\",\"Earth\",\"Earth\",\"Earth\",\"Earth\",\"Earth\",\"Mars\",\"Earth\",\"Europa\",\"Mars\",\"Earth\",\"Mars\",\"Earth\",\"Earth\",\"Earth\",\"Europa\",\"Earth\",\"Mars\",\"Earth\",\"Earth\",\"Earth\",\"Earth\",\"Earth\",\"Earth\",\"Earth\",\"Earth\",\"Mars\",\"Earth\",\"Earth\",\"Earth\",\"Mars\",\"Europa\",\"Earth\",\"Mars\",\"Earth\",\"Earth\",\"Earth\",\"Europa\",\"Earth\",\"Earth\",\"Earth\",\"Earth\",\"Earth\",\"Mars\",\"Earth\",\"Earth\",\"Europa\",\"Europa\",\"Earth\",\"Earth\",\"Earth\",\"Mars\",\"Mars\",\"Mars\",\"Mars\",\"Earth\",\"Earth\",\"Mars\",\"Earth\",\"Mars\",\"Earth\",\"Earth\",\"Earth\",\"Mars\",\"Earth\",\"Earth\",\"Earth\",\"Europa\",\"Mars\",\"Earth\",\"Earth\",\"Earth\",\"Earth\",\"Earth\",\"Earth\",\"Earth\",\"Mars\",\"Mars\",\"Europa\",\"Earth\",\"Earth\",\"Earth\",\"Mars\",\"Earth\",\"Earth\",\"Earth\",\"Earth\",\"Earth\",\"Earth\",\"Earth\",\"Earth\",\"Earth\",\"Mars\",\"Mars\",\"Mars\",\"Mars\",\"Mars\",\"Mars\",\"Mars\",\"Earth\",\"Mars\",\"Earth\",\"Mars\",\"Earth\",\"Mars\",\"Earth\",\"Mars\",\"Europa\",\"Earth\",\"Europa\",\"Mars\",\"Europa\",\"Earth\",\"Earth\",\"Earth\",\"Mars\",\"Earth\",\"Europa\",\"Earth\",\"Earth\",\"Earth\",\"Earth\",\"Earth\",\"Earth\",\"Europa\",\"Earth\",\"Earth\",\"Earth\",\"Europa\",\"Europa\",\"Earth\",\"Earth\",\"Europa\",\"Earth\",\"Earth\",\"Earth\",\"Earth\",\"Earth\",\"Earth\",\"Europa\",\"Earth\",\"Mars\",\"Earth\",\"Earth\",\"Earth\",\"Mars\",\"Mars\",\"Mars\",\"Earth\",\"Earth\",\"Earth\",\"Earth\",\"Mars\",\"Earth\",\"Earth\",\"Earth\",\"Earth\",\"Europa\",\"Europa\",\"Europa\",\"Europa\",\"Earth\",\"Earth\",\"Earth\",\"Earth\",\"Earth\",\"Earth\",\"Earth\",\"Europa\",\"Europa\",\"Mars\",\"Mars\",\"Mars\",\"Earth\",\"Earth\",\"Earth\",\"Earth\",\"Mars\",\"Mars\",\"Earth\",\"Earth\",\"Earth\",\"Earth\",\"Europa\",\"Mars\",\"Mars\",\"Europa\",\"Earth\",\"Earth\",\"Earth\",\"Europa\",\"Earth\",\"Earth\",\"Mars\",\"Earth\",\"Earth\",\"Earth\",\"Earth\",\"Earth\",\"Earth\",\"Mars\",\"Mars\",\"Earth\",\"Earth\",\"Earth\",\"Europa\",\"Earth\",\"Earth\",\"Mars\",\"Earth\",\"Earth\",\"Earth\",\"Earth\",\"Europa\",\"Europa\",\"Earth\",\"Mars\",\"Europa\",\"Mars\",\"Mars\",\"Mars\",\"Europa\",\"Europa\",\"Earth\",\"Earth\",\"Earth\",\"Mars\",\"Europa\",\"Earth\",\"Earth\",\"Mars\",\"Europa\",\"Europa\",\"Earth\",\"Europa\",\"Earth\",\"Earth\",\"Earth\",\"Earth\",\"Earth\",\"Europa\",\"Earth\",\"Earth\",\"Earth\",\"Mars\",\"Mars\",\"Europa\",\"Europa\",\"Europa\",\"Earth\",\"Earth\",\"Earth\",\"Earth\",\"Earth\",\"Mars\",\"Mars\",\"Earth\",\"Earth\",\"Earth\",\"Earth\",\"Mars\",\"Earth\",\"Earth\",\"Earth\",\"Mars\",\"Mars\",\"Earth\",\"Europa\",\"Europa\",\"Europa\",\"Mars\",\"Earth\",\"Earth\",\"Earth\",\"Earth\",\"Mars\",\"Earth\",\"Earth\",\"Earth\",\"Earth\",\"Mars\",\"Earth\",\"Europa\",\"Mars\",\"Earth\",\"Earth\",\"Earth\",\"Earth\",\"Europa\",\"Europa\",\"Mars\",\"Earth\",\"Earth\",\"Earth\",\"Earth\",\"Earth\",\"Earth\",\"Earth\",\"Earth\",\"Earth\",\"Earth\",\"Mars\",\"Earth\",\"Mars\",\"Mars\",\"Mars\",\"Mars\",\"Mars\",\"Europa\",\"Mars\",\"Earth\",\"Mars\",\"Mars\",\"Earth\",\"Earth\",\"Earth\",\"Earth\",\"Earth\",\"Mars\",\"Earth\",\"Earth\",\"Earth\",\"Earth\",\"Earth\",\"Earth\",\"Europa\",\"Europa\",\"Europa\",\"Earth\",\"Earth\",\"Europa\",\"Europa\",\"Mars\",\"Earth\",\"Earth\",\"Mars\",\"Earth\",\"Europa\",\"Earth\",\"Earth\",\"Earth\",\"Earth\",\"Earth\",\"Europa\",\"Earth\",\"Europa\",\"Earth\",\"Earth\",\"Earth\",\"Earth\",\"Europa\",\"Europa\",\"Earth\",\"Earth\",\"Earth\",\"Earth\",\"Europa\",\"Earth\",\"Earth\",\"Mars\",\"Mars\",\"Mars\",\"Earth\",\"Europa\",\"Earth\",\"Earth\",\"Mars\",\"Earth\",\"Earth\",\"Earth\",\"Mars\",\"Europa\",\"Earth\",\"Europa\",\"Earth\",\"Earth\",\"Earth\",\"Earth\",\"Earth\",\"Earth\",\"Earth\",\"Earth\",\"Earth\",\"Earth\",\"Earth\",\"Earth\",\"Earth\",\"Mars\",\"Earth\",\"Europa\",\"Earth\",\"Earth\",\"Europa\",\"Mars\",\"Earth\",\"Earth\",\"Earth\",\"Europa\",\"Mars\",\"Europa\",\"Europa\",\"Mars\",\"Europa\",\"Earth\",\"Earth\",\"Earth\",\"Earth\",\"Europa\",\"Earth\",\"Mars\",\"Europa\",\"Earth\",\"Earth\",\"Europa\",\"Earth\",\"Earth\",\"Earth\",\"Mars\",\"Earth\",\"Earth\",\"Earth\",\"Mars\",\"Earth\",\"Earth\",\"Earth\",\"Mars\",\"Earth\",\"Earth\",\"Earth\",\"Earth\",\"Earth\",\"Earth\",\"Earth\",\"Earth\",\"Earth\",\"Earth\",\"Earth\",\"Earth\",\"Earth\",\"Earth\",\"Earth\",\"Earth\",\"Europa\",\"Europa\",\"Europa\",\"Earth\",\"Earth\",\"Earth\",\"Mars\",\"Earth\",\"Mars\",\"Earth\",\"Earth\",\"Earth\",\"Earth\",\"Earth\",\"Earth\",\"Earth\",\"Earth\",\"Earth\",\"Earth\",\"Earth\",\"Earth\",\"Mars\",\"Mars\",\"Earth\",\"Earth\",\"Earth\",\"Earth\",\"Earth\",\"Earth\",\"Europa\",\"Europa\",\"Earth\",\"Earth\",\"Earth\",\"Earth\",\"Earth\",\"Earth\",\"Earth\",\"Earth\",\"Earth\",\"Earth\",\"Earth\",\"Earth\",\"Mars\",\"Mars\",\"Earth\",\"Earth\",\"Earth\",\"Earth\",\"Earth\",\"Europa\",\"Earth\",\"Earth\",\"Earth\",\"Mars\",\"Mars\",\"Mars\",\"Mars\",\"Earth\",\"Mars\",\"Europa\",\"Mars\",\"Mars\",\"Earth\",\"Europa\",\"Earth\",\"Mars\",\"Earth\",\"Earth\",\"Earth\",\"Earth\",\"Europa\",\"Europa\",\"Europa\",\"Earth\",\"Earth\",\"Earth\",\"Earth\",\"Earth\",\"Mars\",\"Earth\",\"Europa\",\"Europa\",\"Europa\",\"Europa\",\"Europa\",\"Earth\",\"Mars\",\"Earth\",\"Earth\",\"Earth\",\"Mars\",\"Earth\",\"Earth\",\"Earth\",\"Earth\",\"Earth\",\"Earth\",\"Europa\",\"Earth\",\"Earth\",\"Europa\",\"Earth\",\"Europa\",\"Earth\",\"Earth\",\"Earth\",\"Earth\",\"Earth\",\"Earth\",\"Earth\",\"Earth\",\"Earth\",\"Europa\",\"Earth\",\"Earth\",\"Earth\",\"Earth\",\"Mars\",\"Europa\",\"Earth\",\"Europa\",\"Europa\",\"Earth\",\"Earth\",\"Mars\",\"Mars\",\"Mars\",\"Europa\",\"Earth\",\"Europa\",\"Mars\",\"Earth\",\"Mars\",\"Earth\",\"Earth\",\"Earth\",\"Earth\",\"Earth\",\"Earth\",\"Earth\",\"Earth\",\"Mars\",\"Earth\",\"Earth\",\"Earth\",\"Mars\",\"Earth\",\"Europa\",\"Earth\",\"Earth\",\"Earth\",\"Earth\",\"Earth\",\"Earth\",\"Europa\",\"Europa\",\"Europa\",\"Mars\",\"Mars\",\"Europa\",\"Mars\",\"Earth\",\"Earth\",\"Earth\",\"Mars\",\"Mars\",\"Earth\",\"Mars\",\"Earth\",\"Earth\",\"Earth\",\"Earth\",\"Earth\",\"Earth\",\"Earth\",\"Europa\",\"Earth\",\"Earth\",\"Earth\",\"Earth\",\"Mars\",\"Mars\",\"Earth\",\"Earth\",\"Europa\",\"Earth\",\"Earth\",\"Mars\",\"Earth\",\"Earth\",\"Earth\",\"Earth\",\"Earth\",\"Europa\",\"Earth\",\"Earth\",\"Mars\",\"Mars\",\"Mars\",\"Mars\",\"Earth\",\"Earth\",\"Earth\",\"Earth\",\"Europa\",\"Europa\",\"Mars\",\"Earth\",\"Earth\",\"Earth\",\"Earth\",\"Earth\",\"Earth\",\"Earth\",\"Europa\",\"Mars\",\"Mars\",\"Mars\",\"Mars\",\"Europa\",\"Earth\",\"Mars\",\"Earth\",\"Earth\",\"Earth\",\"Earth\",\"Earth\",\"Earth\",\"Mars\",\"Mars\",\"Earth\",\"Earth\",\"Europa\",\"Europa\",\"Europa\",\"Europa\",\"Europa\",\"Earth\",\"Europa\",\"Europa\",\"Earth\",\"Earth\",\"Earth\",\"Earth\",\"Earth\",\"Earth\",\"Mars\",\"Earth\",\"Earth\",\"Europa\",\"Earth\",\"Earth\",\"Earth\",\"Earth\",\"Earth\",\"Earth\",\"Earth\",\"Earth\",\"Mars\",\"Mars\",\"Earth\",\"Earth\",\"Earth\",\"Mars\",\"Mars\",\"Europa\",\"Europa\",\"Earth\",\"Earth\",\"Earth\",\"Europa\",\"Earth\",\"Europa\",\"Europa\",\"Mars\",\"Earth\",\"Earth\",\"Europa\",\"Europa\",\"Earth\",\"Europa\",\"Earth\",\"Earth\",\"Earth\",\"Earth\",\"Mars\",\"Earth\",\"Earth\",\"Earth\",\"Earth\",\"Mars\",\"Mars\",\"Earth\",\"Earth\",\"Earth\",\"Earth\",\"Earth\",\"Europa\",\"Earth\",\"Earth\",\"Earth\",\"Earth\",\"Earth\",\"Earth\",\"Earth\",\"Mars\",\"Earth\",\"Mars\",\"Earth\",\"Europa\",\"Earth\",\"Earth\",\"Earth\",\"Earth\",\"Earth\",\"Earth\",\"Earth\",\"Earth\",\"Earth\",\"Earth\",\"Earth\",\"Earth\",\"Earth\",\"Earth\",\"Earth\",\"Earth\",\"Earth\",\"Europa\",\"Europa\",\"Europa\",\"Earth\",\"Earth\",\"Mars\",\"Mars\",\"Earth\",\"Earth\",\"Europa\",\"Earth\",\"Earth\",\"Earth\",\"Earth\",\"Earth\",\"Earth\",\"Earth\",\"Earth\",\"Mars\",\"Earth\",\"Earth\",\"Earth\",\"Mars\",\"Earth\",\"Europa\",\"Earth\",\"Europa\",\"Mars\",\"Mars\",\"Earth\",\"Mars\",\"Mars\",\"Mars\",\"Mars\",\"Mars\",\"Earth\",\"Mars\",\"Mars\",\"Earth\",\"Earth\",\"Earth\",\"Earth\",\"Earth\",\"Earth\",\"Earth\",\"Earth\",\"Mars\",\"Earth\",\"Earth\",\"Earth\",\"Earth\",\"Earth\",\"Mars\",\"Europa\",\"Earth\",\"Earth\",\"Earth\",\"Earth\",\"Earth\",\"Earth\",\"Earth\",\"Earth\",\"Mars\",\"Earth\",\"Earth\",\"Mars\",\"Earth\",\"Earth\",\"Earth\",\"Earth\",\"Earth\",\"Earth\",\"Mars\",\"Earth\",\"Mars\",\"Earth\",\"Earth\",\"Earth\",\"Earth\",\"Earth\",\"Earth\",\"Mars\",\"Europa\",\"Earth\",\"Mars\",\"Earth\",\"Earth\",\"Earth\",\"Earth\",\"Earth\",\"Earth\",\"Europa\",\"Earth\",\"Europa\",\"Earth\",\"Europa\",\"Earth\",\"Earth\",\"Earth\",\"Earth\",\"Earth\",\"Earth\",\"Earth\",\"Earth\",\"Mars\",\"Europa\",\"Europa\",\"Mars\",\"Mars\",\"Earth\",\"Earth\",\"Earth\",\"Earth\",\"Earth\",\"Mars\",\"Earth\",\"Earth\",\"Earth\",\"Earth\",\"Europa\",\"Earth\",\"Mars\",\"Earth\",\"Earth\",\"Earth\",\"Earth\",\"Earth\",\"Mars\",\"Europa\",\"Earth\",\"Earth\",\"Earth\",\"Earth\",\"Earth\",\"Earth\",\"Europa\",\"Mars\",\"Earth\",\"Earth\",\"Europa\",\"Europa\",\"Mars\",\"Earth\",\"Earth\",\"Mars\",\"Earth\",\"Earth\",\"Mars\",\"Mars\",\"Mars\",\"Earth\",\"Earth\",\"Earth\",\"Earth\",\"Earth\",\"Earth\",\"Earth\",\"Earth\",\"Mars\",\"Earth\",\"Europa\",\"Earth\",\"Earth\",\"Earth\",\"Europa\",\"Earth\",\"Mars\",\"Earth\",\"Europa\",\"Earth\",\"Earth\",\"Earth\",\"Earth\",\"Earth\",\"Earth\",\"Earth\",\"Earth\",\"Earth\",\"Earth\",\"Earth\",\"Earth\",\"Earth\",\"Earth\",\"Earth\",\"Europa\",\"Earth\",\"Europa\",\"Earth\",\"Europa\",\"Earth\",\"Earth\",\"Earth\",\"Earth\",\"Earth\",\"Earth\",\"Earth\",\"Earth\",\"Europa\",\"Europa\",\"Earth\",\"Earth\",\"Earth\",\"Earth\",\"Earth\",\"Mars\",\"Earth\",\"Earth\",\"Europa\",\"Europa\",\"Earth\",\"Europa\",\"Earth\",\"Earth\",\"Earth\",\"Earth\",\"Europa\",\"Europa\",\"Earth\",\"Earth\",\"Earth\",\"Mars\",\"Mars\",\"Mars\",\"Mars\",\"Earth\",\"Mars\",\"Mars\",\"Europa\",\"Earth\",\"Earth\",\"Earth\",\"Earth\",\"Earth\",\"Earth\",\"Mars\",\"Mars\",\"Earth\",\"Europa\",\"Earth\",\"Earth\",\"Earth\",\"Earth\",\"Earth\",\"Earth\",\"Earth\",\"Earth\",\"Earth\",\"Earth\",\"Mars\",\"Mars\",\"Earth\",\"Earth\",\"Earth\",\"Earth\",\"Earth\",\"Earth\",\"Earth\",\"Earth\",\"Earth\",\"Earth\",\"Earth\",\"Earth\",\"Earth\",\"Earth\",\"Earth\",\"Mars\",\"Earth\",\"Earth\",\"Europa\",\"Earth\",\"Europa\",\"Mars\",\"Mars\",\"Earth\",\"Earth\",\"Earth\",\"Earth\",\"Earth\",\"Earth\",\"Europa\",\"Europa\",\"Mars\",\"Mars\",\"Mars\",\"Earth\",\"Earth\",\"Earth\",\"Earth\",\"Earth\",\"Earth\",\"Earth\",\"Earth\",\"Mars\",\"Earth\",\"Mars\",\"Earth\",\"Earth\",\"Earth\",\"Mars\",\"Mars\",\"Mars\",\"Mars\",\"Earth\",\"Earth\",\"Europa\",\"Europa\",\"Earth\",\"Earth\",\"Earth\",\"Earth\",\"Mars\",\"Earth\",\"Earth\",\"Mars\",\"Earth\",\"Europa\",\"Europa\",\"Earth\",\"Mars\",\"Earth\",\"Earth\",\"Earth\",\"Earth\",\"Earth\",\"Earth\",\"Earth\",\"Earth\",\"Mars\",\"Europa\",\"Europa\",\"Earth\",\"Earth\",\"Europa\",\"Earth\",\"Europa\",\"Europa\",\"Europa\",\"Europa\",\"Earth\",\"Europa\",\"Earth\",\"Mars\",\"Earth\",\"Earth\",\"Earth\",\"Earth\",\"Earth\",\"Earth\",\"Mars\",\"Europa\",\"Earth\",\"Mars\",\"Earth\",\"Earth\",\"Earth\",\"Earth\",\"Earth\",\"Earth\",\"Europa\",\"Earth\",\"Earth\",\"Mars\",\"Earth\",\"Earth\",\"Mars\",\"Earth\",\"Mars\",\"Earth\",\"Europa\",\"Earth\",\"Earth\",\"Earth\",\"Earth\",\"Earth\",\"Earth\",\"Earth\",\"Mars\",\"Earth\",\"Earth\",\"Earth\",\"Earth\",\"Earth\",\"Earth\",\"Earth\",\"Earth\",\"Mars\",\"Earth\",\"Europa\",\"Earth\",\"Europa\",\"Earth\",\"Earth\",\"Earth\",\"Earth\",\"Earth\",\"Earth\",\"Earth\",\"Earth\",\"Earth\",\"Earth\",\"Mars\",\"Earth\",\"Earth\",\"Mars\",\"Earth\",\"Earth\",\"Earth\",\"Earth\",\"Mars\",\"Earth\",\"Earth\",\"Earth\",\"Earth\",\"Europa\",\"Earth\",\"Earth\",\"Earth\",\"Earth\",\"Earth\",\"Earth\",\"Earth\",\"Mars\",\"Earth\",\"Earth\",\"Earth\",\"Earth\",\"Earth\",\"Earth\",\"Mars\",\"Earth\",\"Europa\",\"Earth\",\"Europa\",\"Earth\",\"Europa\",\"Earth\",\"Europa\",\"Mars\",\"Mars\",\"Mars\",\"Europa\",\"Earth\",\"Mars\",\"Mars\",\"Europa\",\"Earth\",\"Earth\",\"Europa\",\"Earth\",\"Mars\",\"Mars\",\"Earth\",\"Europa\",\"Earth\",\"Earth\",\"Earth\",\"Mars\",\"Mars\",\"Earth\",\"Earth\",\"Earth\",\"Earth\",\"Earth\",\"Earth\",\"Earth\",\"Europa\",\"Europa\",\"Earth\",\"Earth\",\"Earth\",\"Earth\",\"Mars\",\"Mars\",\"Earth\",\"Mars\",\"Mars\",\"Mars\",\"Earth\",\"Mars\",\"Mars\",\"Earth\",\"Earth\",\"Earth\",\"Earth\",\"Earth\",\"Earth\",\"Earth\",\"Earth\",\"Earth\",\"Earth\",\"Europa\",\"Earth\",\"Earth\",\"Earth\",\"Earth\",\"Earth\",\"Earth\",\"Earth\",\"Europa\",\"Europa\",\"Earth\",\"Earth\",\"Mars\",\"Earth\",\"Earth\",\"Earth\",\"Earth\",\"Earth\",\"Earth\",\"Mars\",\"Mars\",\"Mars\",\"Earth\",\"Earth\",\"Earth\",\"Earth\",\"Earth\",\"Europa\",\"Earth\",\"Earth\",\"Europa\",\"Earth\",\"Earth\",\"Earth\",\"Europa\",\"Europa\",\"Europa\",\"Europa\",\"Mars\",\"Mars\",\"Europa\",\"Earth\",\"Earth\",\"Earth\",\"Earth\",\"Earth\",\"Earth\",\"Earth\",\"Earth\",\"Mars\",\"Earth\",\"Earth\",\"Earth\",\"Earth\",\"Earth\",\"Mars\",\"Europa\",\"Mars\",\"Mars\",\"Earth\",\"Mars\",\"Earth\",\"Earth\",\"Earth\",\"Earth\",\"Mars\",\"Earth\",\"Earth\",\"Earth\",\"Earth\",\"Earth\",\"Mars\",\"Earth\",\"Earth\",\"Earth\",\"Earth\",\"Earth\",\"Mars\",\"Earth\",\"Earth\",\"Earth\",\"Earth\",\"Earth\",\"Europa\",\"Earth\",\"Earth\",\"Earth\",\"Europa\",\"Europa\",\"Europa\",\"Europa\",\"Earth\",\"Earth\",\"Europa\",\"Earth\",\"Europa\",\"Earth\",\"Mars\",\"Earth\",\"Earth\",\"Earth\",\"Earth\",\"Earth\",\"Earth\",\"Europa\",\"Europa\",\"Europa\",\"Earth\",\"Europa\",\"Earth\",\"Mars\",\"Earth\",\"Mars\",\"Earth\",\"Europa\",\"Earth\",\"Earth\",\"Mars\",\"Mars\",\"Mars\",\"Mars\",\"Earth\",\"Earth\",\"Earth\",\"Earth\",\"Earth\",\"Mars\",\"Earth\",\"Mars\",\"Europa\",\"Earth\",\"Earth\",\"Earth\",\"Earth\",\"Earth\",\"Earth\",\"Mars\",\"Earth\",\"Earth\",\"Earth\",\"Earth\",\"Earth\",\"Mars\",\"Mars\",\"Mars\",\"Europa\",\"Earth\",\"Earth\",\"Europa\",\"Earth\",\"Earth\",\"Earth\",\"Earth\",\"Earth\",\"Earth\",\"Earth\",\"Earth\",\"Earth\",\"Earth\",\"Earth\",\"Earth\",\"Earth\",\"Earth\",\"Mars\",\"Europa\",\"Earth\",\"Earth\",\"Earth\",\"Europa\",\"Europa\",\"Mars\",\"Europa\",\"Earth\",\"Earth\",\"Earth\",\"Earth\",\"Europa\",\"Earth\",\"Earth\",\"Europa\",\"Earth\",\"Europa\",\"Earth\",\"Mars\",\"Europa\",\"Earth\",\"Earth\",\"Europa\",\"Europa\",\"Earth\",\"Earth\",\"Earth\",\"Europa\",\"Earth\",\"Earth\",\"Earth\",\"Earth\",\"Earth\",\"Europa\",\"Earth\",\"Mars\",\"Europa\",\"Mars\",\"Earth\",\"Earth\",\"Earth\",\"Mars\",\"Mars\",\"Europa\",\"Earth\",\"Earth\",\"Mars\",\"Mars\",\"Mars\",\"Earth\",\"Earth\",\"Mars\",\"Earth\",\"Earth\",\"Earth\",\"Europa\",\"Earth\",\"Earth\",\"Europa\",\"Earth\",\"Europa\",\"Europa\",\"Earth\",\"Mars\",\"Earth\",\"Europa\",\"Mars\",\"Earth\",\"Mars\",\"Earth\",\"Earth\",\"Earth\",\"Earth\",\"Mars\",\"Earth\",\"Mars\",\"Earth\",\"Earth\",\"Mars\",\"Mars\",\"Mars\",\"Earth\",\"Mars\",\"Europa\",\"Earth\",\"Earth\",\"Mars\",\"Mars\",\"Earth\",\"Earth\",\"Earth\",\"Earth\",\"Earth\",\"Mars\",\"Mars\",\"Earth\",\"Earth\",\"Earth\",\"Earth\",\"Earth\",\"Earth\",\"Mars\",\"Earth\",\"Earth\",\"Earth\",\"Earth\",\"Europa\",\"Europa\",\"Europa\",\"Earth\",\"Europa\",\"Europa\",\"Europa\",\"Earth\",\"Earth\",\"Earth\",\"Earth\",\"Mars\",\"Mars\",\"Earth\",\"Earth\",\"Mars\",\"Earth\",\"Earth\",\"Earth\",\"Earth\",\"Earth\",\"Earth\",\"Earth\",\"Mars\",\"Mars\",\"Mars\",\"Earth\",\"Earth\",\"Earth\",\"Earth\",\"Earth\",\"Earth\",\"Earth\",\"Earth\",\"Earth\",\"Earth\",\"Mars\",\"Earth\",\"Earth\",\"Earth\",\"Earth\",\"Europa\",\"Earth\",\"Earth\",\"Earth\",\"Earth\",\"Earth\",\"Earth\",\"Europa\",\"Earth\",\"Earth\",\"Earth\",\"Earth\",\"Mars\",\"Mars\",\"Mars\",\"Earth\",\"Earth\",\"Europa\",\"Europa\",\"Earth\",\"Earth\",\"Earth\",\"Earth\",\"Earth\",\"Earth\",\"Earth\",\"Mars\",\"Mars\",\"Europa\",\"Europa\",\"Earth\",\"Earth\",\"Earth\",\"Earth\",\"Europa\",\"Europa\",\"Earth\",\"Earth\",\"Earth\",\"Earth\",\"Europa\",\"Mars\",\"Earth\",\"Earth\",\"Earth\",\"Earth\",\"Earth\",\"Earth\",\"Earth\",\"Earth\",\"Europa\",\"Earth\",\"Earth\",\"Mars\",\"Earth\",\"Earth\",\"Europa\",\"Europa\",\"Earth\",\"Europa\",\"Earth\",\"Earth\",\"Mars\",\"Earth\",\"Earth\",\"Earth\",\"Europa\",\"Earth\",\"Earth\",\"Europa\",\"Earth\",\"Earth\",\"Europa\",\"Earth\",\"Earth\",\"Earth\",\"Earth\",\"Earth\",\"Earth\",\"Earth\",\"Earth\",\"Earth\",\"Earth\",\"Earth\",\"Mars\",\"Earth\",\"Earth\",\"Earth\",\"Europa\",\"Europa\",\"Earth\",\"Europa\",\"Earth\",\"Earth\",\"Earth\",\"Europa\",\"Europa\",\"Europa\",\"Europa\",\"Mars\",\"Earth\",\"Earth\",\"Mars\",\"Mars\",\"Earth\",\"Earth\",\"Mars\",\"Mars\",\"Earth\",\"Earth\",\"Mars\",\"Mars\",\"Mars\",\"Mars\",\"Earth\",\"Mars\",\"Earth\",\"Earth\",\"Earth\",\"Mars\",\"Earth\",\"Earth\",\"Earth\",\"Europa\",\"Mars\",\"Mars\",\"Mars\",\"Mars\",\"Mars\",\"Earth\",\"Earth\",\"Earth\",\"Earth\",\"Earth\",\"Mars\",\"Earth\",\"Earth\",\"Mars\",\"Mars\",\"Earth\",\"Mars\",\"Earth\",\"Earth\",\"Earth\",\"Europa\",\"Europa\",\"Earth\",\"Earth\",\"Europa\",\"Europa\",\"Earth\",\"Earth\",\"Earth\",\"Mars\",\"Earth\",\"Earth\",\"Earth\",\"Earth\",\"Earth\",\"Earth\",\"Earth\",\"Earth\",\"Earth\",\"Earth\",\"Earth\",\"Earth\",\"Earth\",\"Europa\",\"Europa\",\"Europa\",\"Earth\",\"Mars\",\"Earth\",\"Europa\",\"Earth\",\"Mars\",\"Mars\",\"Earth\",\"Earth\",\"Mars\",\"Earth\",\"Earth\",\"Earth\",\"Earth\",\"Mars\",\"Mars\",\"Mars\",\"Earth\",\"Earth\",\"Earth\",\"Mars\",\"Europa\",\"Europa\",\"Europa\",\"Europa\",\"Earth\",\"Earth\",\"Earth\",\"Earth\",\"Earth\",\"Europa\",\"Europa\",\"Earth\",\"Earth\",\"Europa\",\"Earth\",\"Earth\",\"Earth\",\"Earth\",\"Europa\",\"Mars\",\"Europa\",\"Earth\",\"Earth\",\"Earth\",\"Europa\",\"Earth\",\"Earth\",\"Earth\",\"Mars\",\"Mars\",\"Mars\",\"Europa\",\"Earth\",\"Mars\",\"Earth\",\"Earth\",\"Earth\",\"Mars\",\"Earth\",\"Earth\",\"Earth\",\"Mars\",\"Earth\",\"Earth\",\"Earth\",\"Earth\",\"Mars\",\"Earth\",\"Earth\",\"Mars\",\"Mars\",\"Earth\",\"Europa\",\"Earth\",\"Earth\",\"Europa\",\"Europa\",\"Mars\",\"Mars\",\"Mars\",\"Mars\",\"Earth\",\"Earth\",\"Earth\",\"Earth\",\"Earth\",\"Mars\",\"Europa\",\"Mars\",\"Mars\",\"Earth\",\"Earth\",\"Earth\",\"Earth\",\"Earth\",\"Earth\",\"Earth\",\"Europa\",\"Europa\",\"Earth\",\"Earth\",\"Earth\",\"Europa\",\"Earth\",\"Earth\",\"Earth\",\"Earth\",\"Earth\",\"Mars\",\"Earth\",\"Earth\",\"Mars\",\"Earth\",\"Mars\",\"Earth\",\"Earth\",\"Earth\",\"Earth\",\"Mars\",\"Earth\",\"Earth\",\"Earth\",\"Earth\",\"Earth\",\"Mars\",\"Earth\",\"Earth\",\"Earth\",\"Earth\",\"Mars\",\"Mars\",\"Mars\",\"Earth\",\"Earth\",\"Earth\",\"Earth\",\"Earth\",\"Earth\",\"Earth\",\"Earth\",\"Earth\",\"Earth\",\"Earth\",\"Earth\",\"Mars\",\"Earth\",\"Earth\",\"Earth\",\"Earth\",\"Earth\",\"Mars\",\"Europa\",\"Europa\",\"Earth\",\"Mars\",\"Mars\",\"Mars\",\"Earth\",\"Europa\",\"Mars\",\"Earth\",\"Earth\",\"Earth\",\"Earth\",\"Earth\",\"Earth\",\"Mars\",\"Earth\",\"Earth\",\"Earth\",\"Earth\",\"Earth\",\"Mars\",\"Mars\",\"Europa\",\"Europa\",\"Earth\",\"Earth\",\"Earth\",\"Mars\",\"Earth\",\"Europa\",\"Europa\",\"Europa\",\"Earth\",\"Mars\",\"Earth\",\"Earth\",\"Mars\",\"Earth\",\"Earth\",\"Earth\",\"Earth\",\"Mars\",\"Earth\",\"Earth\",\"Earth\",\"Earth\",\"Earth\",\"Earth\",\"Mars\",\"Earth\",\"Earth\",\"Mars\",\"Earth\",\"Earth\",\"Earth\",\"Mars\",\"Earth\",\"Earth\",\"Earth\",\"Earth\",\"Earth\",\"Earth\",\"Earth\",\"Earth\",\"Earth\",\"Earth\",\"Mars\",\"Mars\",\"Mars\",\"Earth\",\"Earth\",\"Earth\",\"Mars\",\"Mars\",\"Europa\",\"Earth\",\"Europa\",\"Europa\",\"Europa\",\"Europa\",\"Earth\",\"Earth\",\"Earth\",\"Mars\",\"Earth\",\"Mars\",\"Earth\",\"Earth\",\"Earth\",\"Mars\",\"Earth\",\"Europa\",\"Mars\",\"Mars\",\"Mars\",\"Earth\",\"Earth\",\"Earth\",\"Mars\",\"Earth\",\"Earth\",\"Europa\",\"Earth\",\"Mars\",\"Earth\",\"Earth\",\"Earth\",\"Europa\",\"Europa\",\"Earth\",\"Earth\",\"Earth\",\"Earth\",\"Earth\",\"Earth\",\"Earth\",\"Europa\",\"Europa\",\"Europa\",\"Europa\",\"Earth\",\"Europa\",\"Earth\",\"Mars\",\"Earth\",\"Earth\",\"Europa\",\"Earth\",\"Earth\",\"Earth\",\"Earth\",\"Europa\",\"Earth\",\"Earth\",\"Earth\",\"Mars\",\"Europa\",\"Mars\",\"Mars\",\"Earth\",\"Earth\",\"Mars\",\"Earth\",\"Earth\",\"Mars\",\"Europa\",\"Europa\",\"Earth\",\"Earth\",\"Europa\",\"Mars\",\"Earth\",\"Mars\",\"Mars\",\"Earth\",\"Earth\",\"Earth\",\"Earth\",\"Earth\",\"Earth\",\"Mars\",\"Earth\",\"Earth\",\"Earth\",\"Earth\",\"Earth\",\"Mars\",\"Mars\",\"Europa\",\"Europa\",\"Mars\",\"Earth\",\"Earth\",\"Earth\",\"Mars\",\"Earth\",\"Earth\",\"Europa\",\"Europa\",\"Europa\",\"Europa\",\"Earth\",\"Earth\",\"Europa\",\"Europa\",\"Europa\",\"Europa\",\"Europa\",\"Earth\",\"Earth\",\"Earth\",\"Mars\",\"Mars\",\"Europa\",\"Earth\",\"Earth\",\"Mars\",\"Earth\",\"Earth\",\"Mars\",\"Mars\",\"Mars\",\"Earth\",\"Europa\",\"Europa\",\"Earth\",\"Earth\",\"Earth\",\"Earth\",\"Earth\",\"Earth\",\"Earth\",\"Mars\",\"Europa\",\"Mars\",\"Mars\",\"Mars\",\"Mars\",\"Mars\",\"Earth\",\"Earth\",\"Earth\",\"Earth\",\"Earth\",\"Earth\",\"Earth\",\"Earth\",\"Earth\",\"Earth\",\"Earth\",\"Mars\",\"Earth\",\"Europa\",\"Earth\",\"Earth\",\"Europa\",\"Europa\",\"Earth\",\"Earth\",\"Earth\",\"Mars\",\"Europa\",\"Earth\",\"Mars\",\"Earth\",\"Earth\",\"Europa\",\"Mars\",\"Europa\",\"Europa\",\"Europa\",\"Europa\",\"Earth\",\"Europa\",\"Earth\",\"Earth\",\"Europa\",\"Europa\",\"Earth\",\"Europa\",\"Earth\",\"Earth\",\"Earth\",\"Mars\",\"Europa\",\"Europa\",\"Earth\",\"Earth\",\"Mars\",\"Earth\",\"Europa\",\"Earth\",\"Earth\",\"Earth\",\"Earth\",\"Earth\",\"Europa\",\"Europa\",\"Earth\",\"Earth\",\"Earth\",\"Earth\",\"Earth\",\"Earth\",\"Europa\",\"Earth\",\"Earth\",\"Earth\",\"Europa\",\"Earth\",\"Mars\",\"Mars\",\"Europa\",\"Earth\",\"Europa\",\"Mars\",\"Earth\",\"Europa\",\"Earth\",\"Mars\",\"Earth\",\"Mars\",\"Mars\",\"Earth\",\"Earth\",\"Earth\",\"Earth\",\"Earth\",\"Mars\",\"Mars\",\"Mars\",\"Earth\",\"Mars\",\"Europa\",\"Europa\",\"Mars\",\"Mars\",\"Earth\",\"Earth\",\"Earth\",\"Earth\",\"Earth\",\"Mars\",\"Europa\",\"Mars\",\"Europa\",\"Europa\",\"Europa\",\"Earth\",\"Earth\",\"Europa\",\"Earth\",\"Earth\",\"Earth\",\"Earth\",\"Mars\",\"Earth\",\"Mars\",\"Earth\",\"Mars\",\"Earth\",\"Earth\",\"Europa\",\"Europa\",\"Mars\",\"Earth\",\"Europa\",\"Earth\",\"Earth\",\"Europa\",\"Earth\",\"Earth\",\"Earth\",\"Mars\",\"Mars\",\"Earth\",\"Earth\",\"Europa\",\"Mars\",\"Earth\",\"Earth\",\"Earth\",\"Earth\",\"Earth\",\"Earth\",\"Earth\",\"Earth\",\"Earth\",\"Earth\",\"Earth\",\"Earth\",\"Europa\",\"Earth\",\"Mars\",\"Earth\",\"Mars\",\"Mars\",\"Earth\",\"Earth\",\"Mars\",\"Europa\",\"Europa\",\"Earth\",\"Earth\",\"Earth\",\"Mars\",\"Earth\",\"Earth\",\"Earth\",\"Europa\",\"Earth\",\"Earth\",\"Earth\",\"Earth\",\"Earth\",\"Earth\",\"Earth\",\"Europa\",\"Earth\",\"Earth\",\"Earth\",\"Earth\",\"Earth\",\"Europa\",\"Mars\",\"Mars\",\"Europa\",\"Mars\",\"Earth\",\"Earth\",\"Earth\",\"Earth\",\"Europa\",\"Earth\",\"Earth\",\"Earth\",\"Mars\",\"Mars\",\"Europa\",\"Europa\",\"Earth\",\"Earth\",\"Mars\",\"Mars\",\"Earth\",\"Europa\",\"Europa\",\"Europa\",\"Europa\",\"Earth\",\"Earth\",\"Earth\",\"Mars\",\"Earth\",\"Earth\",\"Europa\",\"Europa\",\"Mars\",\"Europa\",\"Earth\",\"Earth\",\"Earth\",\"Earth\",\"Earth\",\"Europa\",\"Europa\",\"Europa\",\"Europa\",\"Mars\",\"Earth\",\"Earth\",\"Mars\",\"Earth\",\"Earth\",\"Earth\",\"Earth\",\"Earth\",\"Earth\",\"Earth\",\"Mars\",\"Earth\",\"Europa\",\"Mars\",\"Earth\",\"Earth\",\"Mars\",\"Earth\",\"Earth\",\"Earth\",\"Europa\",\"Earth\",\"Earth\",\"Mars\",\"Earth\",\"Earth\",\"Earth\",\"Earth\",\"Earth\",\"Mars\",\"Europa\",\"Earth\",\"Earth\",\"Earth\",\"Earth\",\"Earth\",\"Earth\",\"Europa\",\"Earth\",\"Earth\",\"Earth\",\"Earth\",\"Mars\",\"Earth\",\"Earth\",\"Earth\",\"Earth\",\"Mars\",\"Mars\",\"Mars\",\"Europa\",\"Earth\",\"Europa\",\"Europa\",\"Earth\",\"Earth\",\"Earth\",\"Earth\",\"Earth\",\"Earth\",\"Earth\",\"Earth\",\"Earth\",\"Earth\",\"Mars\",\"Mars\",\"Earth\",\"Europa\",\"Europa\",\"Earth\",\"Earth\",\"Mars\",\"Europa\",\"Mars\",\"Europa\",\"Europa\",\"Mars\",\"Mars\",\"Mars\",\"Earth\",\"Earth\",\"Earth\",\"Mars\",\"Europa\",\"Earth\",\"Mars\",\"Earth\",\"Mars\",\"Mars\",\"Mars\",\"Mars\",\"Mars\",\"Earth\",\"Mars\",\"Earth\",\"Mars\",\"Mars\",\"Mars\",\"Europa\",\"Earth\",\"Earth\",\"Earth\",\"Earth\",\"Earth\",\"Mars\",\"Mars\",\"Earth\",\"Mars\",\"Mars\",\"Earth\",\"Mars\",\"Mars\",\"Earth\",\"Mars\",\"Earth\",\"Earth\",\"Earth\",\"Earth\",\"Earth\",\"Earth\",\"Mars\",\"Mars\",\"Earth\",\"Earth\",\"Europa\",\"Mars\",\"Mars\",\"Europa\",\"Europa\",\"Europa\",\"Earth\",\"Earth\",\"Earth\",\"Earth\",\"Mars\",\"Europa\",\"Earth\",\"Earth\",\"Europa\",\"Earth\",\"Mars\",\"Earth\",\"Earth\",\"Mars\",\"Earth\",\"Mars\",\"Earth\",\"Earth\",\"Europa\",\"Earth\",\"Mars\",\"Earth\",\"Earth\",\"Earth\",\"Earth\",\"Earth\",\"Earth\",\"Earth\",\"Europa\",\"Mars\",\"Mars\",\"Mars\",\"Europa\",\"Mars\",\"Europa\",\"Mars\",\"Mars\",\"Earth\",\"Mars\",\"Europa\",\"Europa\",\"Europa\",\"Europa\",\"Europa\",\"Earth\",\"Earth\",\"Earth\",\"Mars\",\"Earth\",\"Earth\",\"Earth\",\"Earth\",\"Earth\",\"Earth\",\"Earth\",\"Europa\",\"Europa\",\"Earth\",\"Europa\",\"Europa\",\"Mars\",\"Mars\",\"Mars\",\"Mars\",\"Earth\",\"Earth\",\"Earth\",\"Earth\",\"Mars\",\"Mars\",\"Mars\",\"Europa\",\"Europa\",\"Europa\",\"Earth\",\"Earth\",\"Earth\",\"Earth\",\"Earth\",\"Earth\",\"Earth\",\"Earth\",\"Earth\",\"Europa\",\"Mars\",\"Europa\",\"Earth\",\"Mars\",\"Mars\",\"Earth\",\"Earth\",\"Mars\",\"Earth\",\"Earth\",\"Earth\",\"Earth\",\"Europa\",\"Earth\",\"Mars\",\"Earth\",\"Earth\",\"Earth\",\"Earth\",\"Earth\",\"Europa\",\"Europa\",\"Earth\",\"Earth\",\"Earth\",\"Europa\",\"Earth\",\"Earth\",\"Earth\",\"Earth\",\"Earth\",\"Earth\",\"Earth\",\"Earth\",\"Earth\",\"Earth\",\"Earth\",\"Earth\",\"Europa\",\"Mars\",\"Earth\",\"Earth\",\"Earth\",\"Earth\",\"Earth\",\"Earth\",\"Europa\",\"Europa\",\"Europa\",\"Mars\",\"Earth\",\"Earth\",\"Earth\",\"Earth\",\"Earth\",\"Earth\",\"Europa\",\"Mars\",\"Mars\",\"Europa\",\"Earth\",\"Earth\",\"Earth\",\"Earth\",\"Earth\",\"Mars\",\"Earth\",\"Earth\",\"Earth\",\"Europa\",\"Mars\",\"Earth\",\"Earth\",\"Earth\",\"Earth\",\"Earth\",\"Earth\",\"Earth\",\"Earth\",\"Earth\",\"Mars\",\"Mars\",\"Mars\",\"Mars\",\"Earth\",\"Earth\",\"Mars\",\"Earth\",\"Europa\",\"Earth\",\"Earth\",\"Earth\",\"Earth\",\"Earth\",\"Europa\",\"Europa\",\"Europa\",\"Europa\",\"Europa\",\"Europa\",\"Europa\",\"Europa\",\"Mars\",\"Mars\",\"Mars\",\"Earth\",\"Earth\",\"Mars\",\"Mars\",\"Mars\",\"Mars\",\"Earth\",\"Europa\",\"Europa\",\"Mars\",\"Earth\",\"Earth\",\"Earth\",\"Mars\",\"Mars\",\"Mars\",\"Europa\",\"Europa\",\"Mars\",\"Mars\",\"Mars\",\"Mars\",\"Earth\",\"Mars\",\"Mars\",\"Earth\",\"Earth\",\"Europa\",\"Earth\",\"Earth\",\"Earth\",\"Earth\",\"Earth\",\"Earth\",\"Earth\",\"Earth\",\"Earth\",\"Earth\",\"Earth\",\"Earth\",\"Earth\",\"Europa\",\"Europa\",\"Earth\",\"Mars\",\"Mars\",\"Earth\",\"Mars\",\"Mars\",\"Mars\",\"Earth\",\"Europa\",\"Earth\",\"Europa\",\"Europa\",\"Mars\",\"Mars\",\"Mars\",\"Europa\",\"Europa\",\"Europa\",\"Earth\",\"Mars\",\"Mars\",\"Earth\",\"Earth\",\"Earth\",\"Mars\",\"Mars\",\"Earth\",\"Earth\",\"Earth\",\"Europa\",\"Europa\",\"Europa\",\"Mars\",\"Mars\",\"Europa\",\"Mars\",\"Mars\",\"Europa\",\"Europa\",\"Earth\",\"Earth\",\"Earth\",\"Earth\",\"Earth\",\"Earth\",\"Europa\",\"Europa\",\"Europa\",\"Earth\",\"Earth\",\"Mars\",\"Earth\",\"Earth\",\"Earth\",\"Earth\",\"Earth\",\"Earth\",\"Earth\",\"Earth\",\"Earth\",\"Europa\",\"Earth\",\"Earth\",\"Europa\",\"Europa\",\"Europa\",\"Mars\",\"Earth\",\"Mars\",\"Mars\",\"Europa\",\"Earth\",\"Earth\",\"Earth\",\"Earth\",\"Earth\",\"Mars\",\"Earth\",\"Earth\",\"Earth\",\"Mars\",\"Earth\",\"Earth\",\"Mars\",\"Mars\",\"Mars\",\"Mars\",\"Earth\",\"Earth\",\"Earth\",\"Earth\",\"Mars\",\"Mars\",\"Europa\",\"Mars\",\"Earth\",\"Earth\",\"Earth\",\"Earth\",\"Earth\",\"Earth\",\"Earth\",\"Europa\",\"Earth\",\"Europa\",\"Europa\",\"Earth\",\"Earth\",\"Earth\",\"Europa\",\"Europa\",\"Earth\",\"Earth\",\"Earth\",\"Earth\",\"Earth\",\"Earth\",\"Earth\",\"Earth\",\"Europa\",\"Mars\",\"Mars\",\"Mars\",\"Europa\",\"Earth\",\"Earth\",\"Earth\",\"Earth\",\"Earth\",\"Earth\",\"Europa\",\"Mars\",\"Earth\",\"Earth\",\"Europa\",\"Earth\",\"Earth\",\"Earth\",\"Mars\",\"Earth\",\"Earth\",\"Earth\",\"Earth\",\"Europa\",\"Earth\",\"Earth\",\"Earth\",\"Earth\",\"Earth\",\"Earth\",\"Europa\",\"Earth\",\"Europa\",\"Mars\",\"Mars\",\"Mars\",\"Earth\",\"Earth\",\"Earth\",\"Earth\",\"Europa\",\"Earth\",\"Earth\",\"Earth\",\"Earth\",\"Earth\",\"Earth\",\"Mars\",\"Mars\",\"Europa\",\"Earth\",\"Europa\",\"Earth\",\"Mars\",\"Earth\",\"Earth\",\"Earth\",\"Mars\",\"Mars\",\"Earth\",\"Europa\",\"Europa\",\"Mars\",\"Earth\",\"Mars\",\"Earth\",\"Europa\",\"Earth\",\"Europa\",\"Mars\",\"Earth\",\"Earth\",\"Earth\",\"Europa\",\"Earth\",\"Earth\",\"Europa\",\"Mars\",\"Europa\",\"Europa\",\"Earth\",\"Earth\",\"Earth\",\"Mars\",\"Mars\",\"Europa\",\"Earth\",\"Earth\",\"Mars\",\"Mars\",\"Mars\",\"Earth\",\"Europa\",\"Europa\",\"Earth\",\"Earth\",\"Mars\",\"Mars\",\"Earth\",\"Earth\",\"Earth\",\"Earth\",\"Earth\",\"Europa\",\"Mars\",\"Earth\",\"Europa\",\"Europa\",\"Earth\",\"Earth\",\"Earth\",\"Earth\",\"Earth\",\"Mars\",\"Earth\",\"Earth\",\"Earth\",\"Earth\",\"Earth\",\"Earth\",\"Europa\",\"Europa\",\"Europa\",\"Mars\",\"Earth\",\"Earth\",\"Earth\",\"Earth\",\"Earth\",\"Earth\",\"Earth\",\"Earth\",\"Earth\",\"Europa\",\"Europa\",\"Earth\",\"Earth\",\"Mars\",\"Mars\",\"Earth\",\"Europa\",\"Europa\",\"Earth\",\"Earth\",\"Europa\",\"Europa\",\"Earth\",\"Earth\",\"Mars\",\"Europa\",\"Mars\",\"Earth\",\"Earth\",\"Earth\",\"Europa\",\"Europa\",\"Europa\",\"Europa\",\"Earth\",\"Earth\",\"Mars\",\"Mars\",\"Mars\",\"Mars\",\"Mars\",\"Earth\",\"Mars\",\"Mars\",\"Earth\",\"Mars\",\"Europa\",\"Earth\",\"Mars\",\"Earth\",\"Mars\",\"Earth\",\"Mars\",\"Earth\",\"Earth\",\"Earth\",\"Earth\",\"Earth\",\"Earth\",\"Earth\",\"Earth\",\"Earth\",\"Earth\",\"Earth\",\"Earth\",\"Earth\",\"Earth\",\"Europa\",\"Europa\",\"Earth\",\"Earth\",\"Earth\",\"Earth\",\"Earth\",\"Earth\",\"Earth\",\"Earth\",\"Earth\",\"Mars\",\"Earth\",\"Europa\",\"Earth\",\"Earth\",\"Earth\",\"Earth\",\"Mars\",\"Earth\",\"Earth\",\"Earth\",\"Europa\",\"Mars\",\"Earth\",\"Europa\",\"Earth\",\"Earth\",\"Europa\",\"Europa\",\"Earth\",\"Earth\",\"Mars\",\"Mars\",\"Mars\",\"Earth\",\"Europa\",\"Mars\",\"Europa\",\"Mars\",\"Earth\",\"Earth\",\"Earth\",\"Mars\",\"Europa\",\"Earth\",\"Europa\",\"Mars\",\"Earth\",\"Europa\",\"Earth\",\"Earth\",\"Earth\",\"Mars\",\"Earth\",\"Earth\",\"Earth\",\"Mars\",\"Earth\",\"Earth\",\"Mars\",\"Earth\",\"Earth\",\"Europa\",\"Earth\",\"Earth\",\"Mars\",\"Europa\",\"Earth\",\"Earth\",\"Earth\",\"Mars\",\"Mars\",\"Europa\",\"Earth\",\"Europa\",\"Earth\",\"Europa\",\"Earth\",\"Earth\",\"Mars\",\"Mars\",\"Earth\",\"Mars\",\"Earth\",\"Earth\",\"Europa\",\"Earth\",\"Earth\",\"Earth\",\"Mars\",\"Earth\",\"Earth\",\"Europa\",\"Europa\",\"Earth\",\"Earth\",\"Mars\",\"Mars\",\"Earth\",\"Earth\",\"Earth\",\"Mars\",\"Mars\",\"Earth\",\"Mars\",\"Earth\",\"Europa\",\"Mars\",\"Earth\",\"Earth\",\"Earth\",\"Earth\",\"Earth\",\"Earth\",\"Earth\",\"Earth\",\"Earth\",\"Earth\",\"Earth\",\"Earth\",\"Earth\",\"Mars\",\"Earth\",\"Earth\",\"Earth\",\"Earth\",\"Europa\",\"Europa\",\"Europa\",\"Europa\",\"Earth\",\"Europa\",\"Earth\",\"Mars\",\"Earth\",\"Earth\",\"Earth\",\"Earth\",\"Earth\",\"Earth\",\"Europa\",\"Europa\",\"Europa\",\"Earth\",\"Earth\",\"Earth\",\"Earth\",\"Mars\",\"Mars\",\"Mars\",\"Earth\",\"Mars\",\"Earth\",\"Mars\",\"Europa\",\"Earth\",\"Mars\",\"Earth\",\"Earth\",\"Europa\",\"Earth\",\"Earth\",\"Earth\",\"Europa\",\"Europa\",\"Europa\",\"Earth\",\"Mars\",\"Earth\",\"Earth\",\"Mars\",\"Earth\",\"Earth\",\"Earth\",\"Europa\",\"Europa\",\"Europa\",\"Europa\",\"Europa\",\"Mars\",\"Mars\",\"Earth\",\"Europa\",\"Mars\",\"Earth\",\"Mars\",\"Earth\",\"Mars\",\"Earth\",\"Earth\",\"Earth\",\"Earth\",\"Earth\",\"Earth\",\"Earth\",\"Earth\",\"Mars\",\"Earth\",\"Europa\",\"Europa\",\"Mars\",\"Mars\",\"Earth\",\"Mars\",\"Earth\",\"Earth\",\"Mars\",\"Mars\",\"Earth\",\"Mars\",\"Earth\",\"Earth\",\"Earth\",\"Earth\",\"Earth\",\"Mars\",\"Earth\",\"Earth\",\"Europa\",\"Mars\",\"Europa\",\"Earth\",\"Earth\",\"Mars\",\"Earth\",\"Europa\",\"Earth\",\"Earth\",\"Earth\",\"Earth\",\"Mars\",\"Mars\",\"Earth\",\"Earth\",\"Earth\",\"Earth\",\"Earth\",\"Earth\",\"Earth\",\"Earth\",\"Earth\",\"Europa\",\"Europa\",\"Earth\",\"Mars\",\"Earth\",\"Earth\",\"Mars\",\"Earth\",\"Europa\",\"Earth\",\"Earth\",\"Europa\",\"Mars\",\"Earth\",\"Europa\",\"Earth\",\"Earth\",\"Earth\",\"Earth\",\"Earth\",\"Earth\",\"Mars\",\"Earth\",\"Earth\",\"Earth\",\"Mars\",\"Earth\",\"Europa\",\"Earth\",\"Earth\",\"Europa\",\"Earth\",\"Mars\",\"Earth\",\"Mars\",\"Mars\",\"Earth\",\"Earth\",\"Mars\",\"Earth\",\"Earth\",\"Europa\",\"Earth\",\"Mars\",\"Earth\",\"Earth\",\"Earth\",\"Mars\",\"Earth\",\"Europa\",\"Earth\",\"Earth\",\"Earth\",\"Europa\",\"Earth\",\"Europa\",\"Europa\",\"Earth\",\"Earth\",\"Earth\",\"Earth\",\"Earth\",\"Earth\",\"Earth\",\"Europa\",\"Earth\",\"Earth\",\"Mars\",\"Mars\",\"Earth\",\"Earth\",\"Europa\",\"Earth\",\"Earth\",\"Europa\",\"Earth\",\"Earth\",\"Earth\",\"Mars\",\"Mars\",\"Europa\",\"Earth\",\"Earth\",\"Earth\",\"Earth\",\"Mars\",\"Earth\",\"Europa\",\"Mars\",\"Europa\",\"Europa\",\"Earth\",\"Earth\",\"Earth\",\"Earth\",\"Earth\",\"Earth\",\"Mars\",\"Earth\",\"Earth\",\"Earth\",\"Europa\",\"Earth\",\"Earth\",\"Earth\",\"Europa\",\"Earth\",\"Mars\",\"Mars\",\"Mars\",\"Earth\",\"Mars\",\"Earth\",\"Earth\",\"Earth\",\"Earth\",\"Earth\",\"Earth\",\"Earth\",\"Mars\",\"Europa\",\"Mars\",\"Earth\",\"Earth\",\"Earth\",\"Earth\",\"Europa\",\"Mars\",\"Europa\",\"Europa\",\"Mars\",\"Earth\",\"Earth\",\"Earth\",\"Earth\",\"Earth\",\"Earth\",\"Earth\",\"Earth\",\"Europa\",\"Mars\",\"Mars\",\"Europa\",\"Europa\",\"Earth\",\"Earth\",\"Europa\",\"Earth\",\"Earth\",\"Mars\",\"Earth\",\"Earth\",\"Mars\",\"Earth\",\"Earth\",\"Earth\",\"Earth\",\"Earth\",\"Mars\",\"Earth\",\"Earth\",\"Earth\",\"Earth\",\"Earth\",\"Mars\",\"Mars\",\"Europa\",\"Earth\",\"Earth\",\"Earth\",\"Earth\",\"Earth\",\"Earth\",\"Earth\",\"Mars\",\"Earth\",\"Mars\",\"Earth\",\"Mars\",\"Earth\",\"Earth\",\"Earth\",\"Earth\",\"Earth\",\"Europa\",\"Earth\",\"Earth\",\"Earth\",\"Earth\",\"Earth\",\"Earth\",\"Earth\",\"Earth\",\"Earth\",\"Earth\",\"Mars\",\"Earth\",\"Earth\",\"Earth\",\"Earth\",\"Earth\",\"Earth\",\"Earth\",\"Earth\",\"Earth\",\"Earth\",\"Europa\",\"Europa\",\"Earth\",\"Earth\",\"Earth\",\"Earth\",\"Earth\",\"Earth\",\"Earth\",\"Europa\",\"Earth\",\"Earth\",\"Europa\",\"Earth\",\"Earth\",\"Europa\",\"Europa\",\"Mars\",\"Earth\",\"Mars\",\"Earth\",\"Earth\",\"Earth\",\"Earth\",\"Earth\",\"Europa\",\"Europa\",\"Europa\",\"Earth\",\"Earth\",\"Europa\",\"Mars\",\"Mars\",\"Earth\",\"Earth\",\"Earth\",\"Earth\",\"Earth\",\"Earth\",\"Earth\",\"Mars\",\"Europa\",\"Earth\",\"Earth\",\"Earth\",\"Earth\",\"Earth\",\"Earth\",\"Earth\",\"Earth\",\"Earth\",\"Mars\",\"Earth\",\"Earth\",\"Earth\",\"Earth\",\"Earth\",\"Earth\",\"Earth\",\"Mars\",\"Mars\",\"Earth\",\"Europa\",\"Earth\",\"Mars\",\"Earth\",\"Mars\",\"Earth\",\"Earth\",\"Europa\",\"Earth\",\"Europa\",\"Europa\",\"Earth\",\"Earth\",\"Earth\",\"Earth\",\"Europa\",\"Earth\",\"Mars\",\"Mars\",\"Earth\",\"Europa\",\"Europa\",\"Earth\",\"Mars\",\"Earth\",\"Earth\",\"Earth\",\"Earth\",\"Mars\",\"Europa\",\"Earth\",\"Earth\",\"Earth\",\"Europa\",\"Europa\",\"Earth\",\"Earth\",\"Earth\",\"Earth\",\"Earth\",\"Earth\",\"Earth\",\"Earth\",\"Mars\",\"Europa\",\"Earth\",\"Earth\",\"Europa\",\"Earth\",\"Earth\",\"Earth\",\"Earth\",\"Mars\",\"Earth\",\"Earth\",\"Earth\",\"Earth\",\"Earth\",\"Mars\",\"Earth\",\"Europa\",\"Earth\",\"Mars\",\"Earth\",\"Earth\",\"Earth\",\"Earth\",\"Earth\",\"Earth\",\"Europa\",\"Earth\",\"Earth\",\"Earth\",\"Earth\",\"Europa\",\"Earth\",\"Earth\",\"Earth\",\"Earth\",\"Europa\",\"Europa\",\"Europa\",\"Europa\",\"Earth\",\"Mars\",\"Earth\",\"Earth\",\"Earth\",\"Earth\",\"Mars\",\"Earth\",\"Mars\",\"Earth\",\"Earth\",\"Earth\",\"Earth\",\"Earth\",\"Earth\",\"Earth\",\"Earth\",\"Earth\",\"Earth\",\"Earth\",\"Earth\",\"Earth\",\"Earth\",\"Earth\",\"Earth\",\"Earth\",\"Mars\",\"Earth\",\"Earth\",\"Earth\",\"Earth\",\"Mars\",\"Europa\",\"Earth\",\"Earth\",\"Mars\",\"Mars\",\"Mars\",\"Earth\",\"Mars\",\"Europa\",\"Earth\",\"Mars\",\"Earth\",\"Europa\",\"Earth\",\"Earth\",\"Earth\",\"Mars\",\"Mars\",\"Earth\",\"Earth\",\"Europa\",\"Earth\",\"Earth\",\"Earth\",\"Earth\",\"Earth\",\"Europa\",\"Mars\",\"Mars\",\"Europa\",\"Europa\",\"Earth\",\"Europa\",\"Earth\",\"Earth\",\"Earth\",\"Earth\",\"Europa\",\"Europa\",\"Earth\",\"Earth\",\"Earth\",\"Earth\",\"Earth\",\"Mars\",\"Earth\",\"Earth\",\"Earth\",\"Europa\",\"Earth\",\"Earth\",\"Earth\",\"Earth\",\"Earth\",\"Earth\",\"Earth\",\"Earth\",\"Europa\",\"Europa\",\"Mars\",\"Earth\",\"Earth\",\"Earth\",\"Earth\",\"Europa\",\"Earth\",\"Earth\",\"Earth\",\"Earth\",\"Europa\",\"Earth\",\"Earth\",\"Mars\",\"Mars\",\"Earth\",\"Earth\",\"Europa\",\"Mars\",\"Europa\",\"Earth\",\"Earth\",\"Europa\",\"Earth\",\"Earth\",\"Earth\",\"Mars\",\"Earth\",\"Mars\",\"Europa\",\"Europa\",\"Earth\",\"Earth\",\"Europa\",\"Europa\",\"Earth\",\"Earth\",\"Earth\",\"Earth\",\"Earth\",\"Europa\",\"Earth\",\"Mars\",\"Europa\",\"Europa\",\"Earth\",\"Earth\",\"Earth\",\"Mars\",\"Europa\",\"Europa\",\"Earth\",\"Mars\",\"Earth\",\"Europa\",\"Mars\",\"Earth\",\"Earth\",\"Mars\",\"Mars\",\"Earth\",\"Earth\",\"Earth\",\"Europa\",\"Mars\",\"Mars\",\"Europa\",\"Mars\",\"Earth\",\"Earth\",\"Earth\",\"Mars\",\"Europa\",\"Mars\",\"Earth\",\"Earth\",\"Mars\",\"Mars\",\"Europa\",\"Europa\",\"Earth\",\"Earth\",\"Earth\",\"Earth\",\"Earth\",\"Earth\",\"Europa\",\"Europa\",\"Earth\",\"Earth\",\"Earth\",\"Earth\",\"Earth\",\"Mars\",\"Europa\",\"Europa\",\"Mars\",\"Earth\",\"Earth\",\"Earth\",\"Earth\",\"Earth\",\"Mars\",\"Earth\",\"Earth\",\"Earth\",\"Mars\",\"Earth\",\"Mars\",\"Mars\",\"Mars\",\"Earth\",\"Mars\",\"Earth\",\"Earth\",\"Europa\",\"Europa\",\"Earth\",\"Europa\",\"Europa\",\"Mars\",\"Earth\",\"Earth\",\"Mars\",\"Mars\",\"Mars\",\"Earth\",\"Earth\",\"Earth\",\"Earth\",\"Mars\",\"Mars\",\"Mars\",\"Earth\",\"Earth\",\"Earth\",\"Earth\",\"Earth\",\"Earth\",\"Mars\",\"Mars\",\"Earth\",\"Earth\",\"Earth\",\"Earth\",\"Earth\",\"Earth\",\"Europa\",\"Europa\",\"Mars\",\"Mars\",\"Earth\",\"Earth\",\"Earth\",\"Earth\",\"Earth\",\"Earth\",\"Earth\",\"Europa\",\"Europa\",\"Earth\",\"Earth\",\"Earth\",\"Europa\",\"Earth\",\"Earth\",\"Mars\",\"Earth\",\"Earth\",\"Mars\",\"Earth\",\"Earth\",\"Earth\",\"Earth\",\"Mars\",\"Mars\",\"Earth\",\"Earth\",\"Earth\",\"Earth\",\"Earth\",\"Europa\",\"Mars\",\"Earth\",\"Earth\",\"Earth\",\"Earth\",\"Earth\",\"Earth\",\"Earth\",\"Earth\",\"Earth\",\"Earth\",\"Earth\",\"Earth\",\"Earth\",\"Earth\",\"Earth\",\"Earth\",\"Earth\",\"Earth\",\"Mars\",\"Earth\",\"Earth\",\"Europa\",\"Earth\",\"Earth\",\"Europa\",\"Earth\",\"Europa\",\"Europa\",\"Europa\",\"Mars\",\"Earth\",\"Earth\",\"Earth\",\"Earth\",\"Earth\",\"Europa\",\"Earth\",\"Earth\",\"Mars\",\"Mars\",\"Earth\",\"Earth\",\"Europa\",\"Mars\",\"Europa\",\"Earth\",\"Earth\",\"Earth\",\"Mars\",\"Earth\",\"Earth\",\"Earth\",\"Earth\",\"Earth\",\"Earth\",\"Earth\",\"Earth\",\"Earth\",\"Earth\",\"Europa\",\"Europa\",\"Earth\",\"Earth\",\"Mars\",\"Mars\",\"Earth\",\"Europa\",\"Europa\",\"Europa\",\"Earth\",\"Earth\",\"Earth\",\"Earth\",\"Earth\",\"Earth\",\"Earth\",\"Earth\",\"Earth\",\"Earth\",\"Earth\",\"Earth\",\"Mars\",\"Mars\",\"Earth\",\"Europa\",\"Earth\",\"Earth\",\"Earth\",\"Mars\",\"Mars\",\"Earth\",\"Earth\",\"Earth\",\"Earth\",\"Earth\",\"Earth\",\"Earth\",\"Earth\",\"Earth\",\"Earth\",\"Europa\",\"Mars\",\"Earth\",\"Europa\",\"Earth\",\"Earth\",\"Earth\",\"Mars\",\"Earth\",\"Earth\",\"Earth\",\"Earth\",\"Earth\",\"Earth\",\"Earth\",\"Earth\",\"Europa\",\"Earth\",\"Earth\",\"Mars\",\"Earth\",\"Mars\",\"Earth\",\"Earth\",\"Mars\",\"Europa\",\"Europa\",\"Earth\",\"Mars\",\"Europa\",\"Earth\",\"Earth\",\"Earth\",\"Europa\",\"Earth\",\"Earth\",\"Mars\",\"Earth\",\"Earth\",\"Europa\",\"Europa\",\"Earth\",\"Mars\",\"Mars\",\"Europa\",\"Earth\",\"Earth\",\"Earth\",\"Earth\",\"Earth\",\"Earth\",\"Earth\",\"Earth\",\"Earth\",\"Earth\",\"Earth\",\"Europa\",\"Europa\",\"Earth\",\"Earth\",\"Earth\",\"Earth\",\"Earth\",\"Earth\",\"Earth\",\"Earth\",\"Earth\",\"Mars\",\"Mars\",\"Earth\",\"Earth\",\"Earth\",\"Earth\",\"Mars\",\"Earth\",\"Earth\",\"Earth\",\"Earth\",\"Europa\",\"Mars\",\"Mars\",\"Earth\",\"Earth\",\"Mars\",\"Mars\",\"Earth\",\"Earth\",\"Earth\",\"Earth\",\"Europa\",\"Earth\",\"Earth\",\"Earth\",\"Earth\",\"Earth\",\"Earth\",\"Mars\",\"Earth\",\"Earth\",\"Europa\",\"Earth\",\"Earth\",\"Earth\",\"Earth\",\"Earth\",\"Earth\",\"Mars\",\"Europa\",\"Earth\",\"Earth\",\"Earth\",\"Earth\",\"Europa\",\"Europa\",\"Europa\",\"Europa\",\"Earth\",\"Earth\",\"Earth\",\"Earth\",\"Earth\",\"Mars\",\"Earth\",\"Earth\",\"Earth\",\"Mars\",\"Earth\",\"Earth\",\"Mars\",\"Mars\",\"Earth\",\"Earth\",\"Earth\",\"Earth\",\"Europa\",\"Europa\",\"Earth\",\"Europa\"],\"xaxis\":\"x\",\"yaxis\":\"y\",\"type\":\"histogram\"},{\"alignmentgroup\":\"True\",\"bingroup\":\"x\",\"hovertemplate\":\"Transported=True<br>HomePlanet=%{x}<br>count=%{y}<extra></extra>\",\"legendgroup\":\"True\",\"marker\":{\"color\":\"#EF553B\",\"pattern\":{\"shape\":\"\"}},\"name\":\"True\",\"offsetgroup\":\"True\",\"orientation\":\"v\",\"showlegend\":true,\"x\":[\"Earth\",\"Earth\",\"Earth\",\"Earth\",\"Earth\",\"Earth\",\"Europa\",\"Europa\",\"Europa\",\"Mars\",\"Earth\",\"Mars\",\"Earth\",\"Earth\",\"Europa\",\"Mars\",\"Mars\",\"Mars\",\"Europa\",\"Earth\",\"Earth\",\"Earth\",\"Earth\",\"Europa\",\"Europa\",\"Europa\",\"Mars\",\"Earth\",\"Earth\",\"Earth\",\"Europa\",\"Mars\",\"Mars\",\"Mars\",\"Mars\",\"Earth\",\"Europa\",\"Mars\",\"Earth\",\"Earth\",\"Earth\",\"Earth\",\"Earth\",\"Earth\",\"Mars\",\"Earth\",\"Earth\",\"Earth\",\"Europa\",\"Europa\",\"Europa\",\"Europa\",\"Earth\",\"Mars\",\"Europa\",\"Europa\",\"Mars\",\"Mars\",\"Earth\",\"Mars\",\"Earth\",\"Earth\",\"Europa\",\"Earth\",\"Earth\",\"Earth\",\"Earth\",\"Europa\",\"Europa\",\"Earth\",\"Mars\",\"Mars\",\"Earth\",\"Earth\",\"Earth\",\"Earth\",\"Earth\",\"Europa\",\"Earth\",\"Earth\",\"Earth\",\"Mars\",\"Mars\",\"Mars\",\"Earth\",\"Earth\",\"Europa\",\"Europa\",\"Europa\",\"Europa\",\"Europa\",\"Europa\",\"Mars\",\"Mars\",\"Earth\",\"Earth\",\"Earth\",\"Earth\",\"Mars\",\"Mars\",\"Mars\",\"Earth\",\"Europa\",\"Mars\",\"Mars\",\"Mars\",\"Europa\",\"Earth\",\"Europa\",\"Mars\",\"Earth\",\"Europa\",\"Earth\",\"Europa\",\"Earth\",\"Earth\",\"Earth\",\"Earth\",\"Earth\",\"Europa\",\"Europa\",\"Europa\",\"Europa\",\"Europa\",\"Europa\",\"Europa\",\"Europa\",\"Europa\",\"Europa\",\"Earth\",\"Europa\",\"Earth\",\"Earth\",\"Earth\",\"Earth\",\"Earth\",\"Europa\",\"Europa\",\"Earth\",\"Europa\",\"Europa\",\"Mars\",\"Mars\",\"Mars\",\"Mars\",\"Earth\",\"Europa\",\"Earth\",\"Mars\",\"Mars\",\"Earth\",\"Earth\",\"Europa\",\"Earth\",\"Earth\",\"Earth\",\"Mars\",\"Earth\",\"Mars\",\"Earth\",\"Europa\",\"Europa\",\"Europa\",\"Europa\",\"Earth\",\"Europa\",\"Europa\",\"Europa\",\"Earth\",\"Earth\",\"Europa\",\"Earth\",\"Mars\",\"Mars\",\"Europa\",\"Europa\",\"Europa\",\"Europa\",\"Mars\",\"Mars\",\"Europa\",\"Europa\",\"Europa\",\"Europa\",\"Earth\",\"Mars\",\"Europa\",\"Mars\",\"Earth\",\"Earth\",\"Europa\",\"Europa\",\"Earth\",\"Earth\",\"Earth\",\"Mars\",\"Europa\",\"Europa\",\"Europa\",\"Europa\",\"Europa\",\"Europa\",\"Earth\",\"Europa\",\"Earth\",\"Earth\",\"Earth\",\"Earth\",\"Earth\",\"Mars\",\"Europa\",\"Earth\",\"Mars\",\"Mars\",\"Earth\",\"Earth\",\"Europa\",\"Europa\",\"Mars\",\"Mars\",\"Mars\",\"Europa\",\"Europa\",\"Europa\",\"Mars\",\"Earth\",\"Europa\",\"Europa\",\"Europa\",\"Earth\",\"Europa\",\"Earth\",\"Earth\",\"Earth\",\"Earth\",\"Mars\",\"Earth\",\"Earth\",\"Europa\",\"Europa\",\"Europa\",\"Mars\",\"Earth\",\"Mars\",\"Mars\",\"Earth\",\"Europa\",\"Europa\",\"Europa\",\"Europa\",\"Earth\",\"Earth\",\"Europa\",\"Europa\",\"Mars\",\"Earth\",\"Europa\",\"Earth\",\"Europa\",\"Europa\",\"Europa\",\"Europa\",\"Europa\",\"Europa\",\"Earth\",\"Earth\",\"Mars\",\"Mars\",\"Mars\",\"Mars\",\"Mars\",\"Mars\",\"Europa\",\"Mars\",\"Mars\",\"Mars\",\"Mars\",\"Europa\",\"Mars\",\"Mars\",\"Earth\",\"Earth\",\"Europa\",\"Earth\",\"Earth\",\"Earth\",\"Earth\",\"Europa\",\"Europa\",\"Earth\",\"Earth\",\"Mars\",\"Mars\",\"Earth\",\"Europa\",\"Earth\",\"Europa\",\"Europa\",\"Europa\",\"Europa\",\"Mars\",\"Europa\",\"Europa\",\"Mars\",\"Mars\",\"Earth\",\"Mars\",\"Mars\",\"Earth\",\"Earth\",\"Earth\",\"Earth\",\"Mars\",\"Mars\",\"Mars\",\"Mars\",\"Mars\",\"Europa\",\"Mars\",\"Mars\",\"Europa\",\"Earth\",\"Earth\",\"Europa\",\"Earth\",\"Earth\",\"Earth\",\"Earth\",\"Europa\",\"Europa\",\"Europa\",\"Mars\",\"Earth\",\"Earth\",\"Earth\",\"Europa\",\"Earth\",\"Earth\",\"Earth\",\"Mars\",\"Europa\",\"Earth\",\"Europa\",\"Europa\",\"Europa\",\"Europa\",\"Mars\",\"Europa\",\"Europa\",\"Earth\",\"Earth\",\"Europa\",\"Europa\",\"Earth\",\"Mars\",\"Europa\",\"Earth\",\"Europa\",\"Earth\",\"Mars\",\"Mars\",\"Europa\",\"Mars\",\"Mars\",\"Europa\",\"Earth\",\"Mars\",\"Mars\",\"Mars\",\"Mars\",\"Mars\",\"Europa\",\"Earth\",\"Earth\",\"Earth\",\"Earth\",\"Earth\",\"Earth\",\"Earth\",\"Earth\",\"Earth\",\"Earth\",\"Europa\",\"Mars\",\"Mars\",\"Europa\",\"Europa\",\"Mars\",\"Earth\",\"Europa\",\"Europa\",\"Earth\",\"Europa\",\"Europa\",\"Earth\",\"Europa\",\"Earth\",\"Earth\",\"Mars\",\"Earth\",\"Earth\",\"Earth\",\"Europa\",\"Europa\",\"Europa\",\"Europa\",\"Mars\",\"Mars\",\"Europa\",\"Earth\",\"Earth\",\"Earth\",\"Mars\",\"Europa\",\"Earth\",\"Earth\",\"Earth\",\"Earth\",\"Earth\",\"Earth\",\"Earth\",\"Mars\",\"Earth\",\"Europa\",\"Europa\",\"Mars\",\"Earth\",\"Earth\",\"Earth\",\"Earth\",\"Earth\",\"Earth\",\"Earth\",\"Earth\",\"Earth\",\"Europa\",\"Europa\",\"Europa\",\"Europa\",\"Europa\",\"Mars\",\"Mars\",\"Europa\",\"Earth\",\"Earth\",\"Europa\",\"Europa\",\"Earth\",\"Mars\",\"Earth\",\"Mars\",\"Earth\",\"Mars\",\"Mars\",\"Mars\",\"Earth\",\"Mars\",\"Earth\",\"Earth\",\"Europa\",\"Earth\",\"Earth\",\"Mars\",\"Mars\",\"Earth\",\"Mars\",\"Europa\",\"Europa\",\"Mars\",\"Mars\",\"Europa\",\"Europa\",\"Mars\",\"Mars\",\"Mars\",\"Earth\",\"Earth\",\"Mars\",\"Mars\",\"Europa\",\"Mars\",\"Mars\",\"Mars\",\"Europa\",\"Europa\",\"Earth\",\"Earth\",\"Earth\",\"Earth\",\"Earth\",\"Earth\",\"Europa\",\"Mars\",\"Mars\",\"Europa\",\"Earth\",\"Europa\",\"Europa\",\"Europa\",\"Earth\",\"Earth\",\"Earth\",\"Europa\",\"Europa\",\"Europa\",\"Europa\",\"Earth\",\"Earth\",\"Europa\",\"Europa\",\"Europa\",\"Earth\",\"Europa\",\"Europa\",\"Europa\",\"Earth\",\"Europa\",\"Europa\",\"Mars\",\"Earth\",\"Earth\",\"Mars\",\"Europa\",\"Europa\",\"Mars\",\"Mars\",\"Mars\",\"Earth\",\"Earth\",\"Earth\",\"Europa\",\"Europa\",\"Earth\",\"Mars\",\"Earth\",\"Earth\",\"Earth\",\"Earth\",\"Earth\",\"Earth\",\"Earth\",\"Earth\",\"Europa\",\"Earth\",\"Mars\",\"Mars\",\"Earth\",\"Europa\",\"Earth\",\"Earth\",\"Earth\",\"Europa\",\"Europa\",\"Earth\",\"Earth\",\"Europa\",\"Earth\",\"Mars\",\"Mars\",\"Earth\",\"Earth\",\"Europa\",\"Earth\",\"Mars\",\"Mars\",\"Mars\",\"Europa\",\"Europa\",\"Europa\",\"Europa\",\"Earth\",\"Mars\",\"Earth\",\"Earth\",\"Earth\",\"Europa\",\"Europa\",\"Europa\",\"Europa\",\"Earth\",\"Earth\",\"Europa\",\"Earth\",\"Earth\",\"Earth\",\"Earth\",\"Earth\",\"Mars\",\"Earth\",\"Earth\",\"Europa\",\"Earth\",\"Mars\",\"Mars\",\"Mars\",\"Earth\",\"Mars\",\"Earth\",\"Europa\",\"Earth\",\"Europa\",\"Earth\",\"Earth\",\"Europa\",\"Earth\",\"Earth\",\"Earth\",\"Earth\",\"Earth\",\"Mars\",\"Earth\",\"Earth\",\"Earth\",\"Earth\",\"Earth\",\"Earth\",\"Europa\",\"Europa\",\"Europa\",\"Europa\",\"Europa\",\"Europa\",\"Europa\",\"Europa\",\"Earth\",\"Earth\",\"Europa\",\"Earth\",\"Earth\",\"Earth\",\"Earth\",\"Europa\",\"Earth\",\"Europa\",\"Europa\",\"Europa\",\"Europa\",\"Earth\",\"Europa\",\"Europa\",\"Europa\",\"Europa\",\"Earth\",\"Earth\",\"Mars\",\"Mars\",\"Mars\",\"Mars\",\"Earth\",\"Earth\",\"Earth\",\"Earth\",\"Earth\",\"Earth\",\"Earth\",\"Europa\",\"Europa\",\"Earth\",\"Mars\",\"Europa\",\"Europa\",\"Earth\",\"Mars\",\"Europa\",\"Europa\",\"Mars\",\"Europa\",\"Europa\",\"Mars\",\"Europa\",\"Europa\",\"Earth\",\"Europa\",\"Mars\",\"Europa\",\"Europa\",\"Europa\",\"Europa\",\"Earth\",\"Mars\",\"Earth\",\"Mars\",\"Mars\",\"Earth\",\"Europa\",\"Europa\",\"Europa\",\"Europa\",\"Europa\",\"Earth\",\"Europa\",\"Europa\",\"Earth\",\"Europa\",\"Europa\",\"Earth\",\"Earth\",\"Europa\",\"Earth\",\"Europa\",\"Europa\",\"Earth\",\"Earth\",\"Earth\",\"Earth\",\"Mars\",\"Earth\",\"Earth\",\"Earth\",\"Europa\",\"Europa\",\"Earth\",\"Europa\",\"Earth\",\"Earth\",\"Earth\",\"Earth\",\"Earth\",\"Earth\",\"Earth\",\"Earth\",\"Earth\",\"Mars\",\"Europa\",\"Earth\",\"Europa\",\"Mars\",\"Mars\",\"Earth\",\"Earth\",\"Earth\",\"Earth\",\"Europa\",\"Mars\",\"Mars\",\"Mars\",\"Earth\",\"Earth\",\"Earth\",\"Europa\",\"Earth\",\"Earth\",\"Earth\",\"Earth\",\"Earth\",\"Earth\",\"Earth\",\"Mars\",\"Earth\",\"Earth\",\"Earth\",\"Earth\",\"Earth\",\"Europa\",\"Mars\",\"Europa\",\"Europa\",\"Europa\",\"Europa\",\"Mars\",\"Europa\",\"Earth\",\"Mars\",\"Earth\",\"Earth\",\"Europa\",\"Europa\",\"Europa\",\"Earth\",\"Earth\",\"Earth\",\"Mars\",\"Earth\",\"Earth\",\"Europa\",\"Europa\",\"Earth\",\"Earth\",\"Europa\",\"Europa\",\"Europa\",\"Europa\",\"Europa\",\"Earth\",\"Earth\",\"Earth\",\"Earth\",\"Europa\",\"Earth\",\"Earth\",\"Mars\",\"Earth\",\"Earth\",\"Mars\",\"Europa\",\"Earth\",\"Earth\",\"Europa\",\"Europa\",\"Earth\",\"Europa\",\"Europa\",\"Europa\",\"Europa\",\"Europa\",\"Europa\",\"Europa\",\"Europa\",\"Europa\",\"Europa\",\"Europa\",\"Earth\",\"Europa\",\"Earth\",\"Earth\",\"Mars\",\"Europa\",\"Europa\",\"Earth\",\"Earth\",\"Earth\",\"Earth\",\"Earth\",\"Earth\",\"Europa\",\"Europa\",\"Europa\",\"Europa\",\"Europa\",\"Europa\",\"Europa\",\"Europa\",\"Mars\",\"Earth\",\"Earth\",\"Europa\",\"Mars\",\"Earth\",\"Mars\",\"Earth\",\"Earth\",\"Europa\",\"Europa\",\"Europa\",\"Europa\",\"Earth\",\"Earth\",\"Europa\",\"Earth\",\"Earth\",\"Earth\",\"Earth\",\"Mars\",\"Europa\",\"Europa\",\"Earth\",\"Mars\",\"Earth\",\"Earth\",\"Earth\",\"Mars\",\"Earth\",\"Earth\",\"Earth\",\"Earth\",\"Earth\",\"Europa\",\"Earth\",\"Europa\",\"Earth\",\"Europa\",\"Europa\",\"Earth\",\"Europa\",\"Europa\",\"Europa\",\"Earth\",\"Earth\",\"Earth\",\"Mars\",\"Mars\",\"Europa\",\"Earth\",\"Europa\",\"Europa\",\"Mars\",\"Earth\",\"Earth\",\"Mars\",\"Mars\",\"Mars\",\"Mars\",\"Earth\",\"Mars\",\"Earth\",\"Earth\",\"Mars\",\"Mars\",\"Europa\",\"Earth\",\"Earth\",\"Mars\",\"Mars\",\"Mars\",\"Europa\",\"Mars\",\"Earth\",\"Earth\",\"Earth\",\"Mars\",\"Mars\",\"Earth\",\"Europa\",\"Europa\",\"Earth\",\"Europa\",\"Europa\",\"Earth\",\"Europa\",\"Europa\",\"Europa\",\"Earth\",\"Earth\",\"Earth\",\"Earth\",\"Mars\",\"Mars\",\"Mars\",\"Europa\",\"Europa\",\"Europa\",\"Earth\",\"Earth\",\"Europa\",\"Europa\",\"Earth\",\"Europa\",\"Europa\",\"Earth\",\"Earth\",\"Earth\",\"Mars\",\"Mars\",\"Mars\",\"Earth\",\"Earth\",\"Earth\",\"Europa\",\"Europa\",\"Europa\",\"Earth\",\"Mars\",\"Earth\",\"Earth\",\"Mars\",\"Europa\",\"Europa\",\"Europa\",\"Europa\",\"Europa\",\"Europa\",\"Europa\",\"Europa\",\"Europa\",\"Europa\",\"Earth\",\"Earth\",\"Europa\",\"Mars\",\"Europa\",\"Earth\",\"Earth\",\"Earth\",\"Earth\",\"Earth\",\"Earth\",\"Mars\",\"Mars\",\"Earth\",\"Europa\",\"Earth\",\"Europa\",\"Mars\",\"Earth\",\"Europa\",\"Earth\",\"Earth\",\"Earth\",\"Earth\",\"Europa\",\"Europa\",\"Mars\",\"Earth\",\"Earth\",\"Earth\",\"Earth\",\"Earth\",\"Earth\",\"Mars\",\"Earth\",\"Mars\",\"Mars\",\"Europa\",\"Europa\",\"Mars\",\"Earth\",\"Mars\",\"Earth\",\"Mars\",\"Mars\",\"Mars\",\"Earth\",\"Earth\",\"Earth\",\"Mars\",\"Europa\",\"Europa\",\"Europa\",\"Mars\",\"Europa\",\"Mars\",\"Europa\",\"Europa\",\"Europa\",\"Mars\",\"Europa\",\"Europa\",\"Europa\",\"Europa\",\"Earth\",\"Mars\",\"Europa\",\"Europa\",\"Europa\",\"Earth\",\"Mars\",\"Earth\",\"Mars\",\"Europa\",\"Earth\",\"Europa\",\"Europa\",\"Mars\",\"Earth\",\"Earth\",\"Earth\",\"Earth\",\"Europa\",\"Europa\",\"Europa\",\"Europa\",\"Mars\",\"Mars\",\"Mars\",\"Mars\",\"Earth\",\"Mars\",\"Europa\",\"Mars\",\"Earth\",\"Europa\",\"Europa\",\"Europa\",\"Earth\",\"Europa\",\"Europa\",\"Europa\",\"Earth\",\"Europa\",\"Mars\",\"Mars\",\"Mars\",\"Mars\",\"Mars\",\"Mars\",\"Mars\",\"Mars\",\"Europa\",\"Europa\",\"Europa\",\"Europa\",\"Earth\",\"Earth\",\"Europa\",\"Mars\",\"Mars\",\"Mars\",\"Europa\",\"Europa\",\"Europa\",\"Europa\",\"Europa\",\"Earth\",\"Mars\",\"Earth\",\"Earth\",\"Mars\",\"Europa\",\"Europa\",\"Earth\",\"Europa\",\"Earth\",\"Earth\",\"Earth\",\"Earth\",\"Europa\",\"Europa\",\"Europa\",\"Earth\",\"Mars\",\"Mars\",\"Mars\",\"Europa\",\"Earth\",\"Europa\",\"Earth\",\"Mars\",\"Europa\",\"Europa\",\"Mars\",\"Earth\",\"Earth\",\"Earth\",\"Mars\",\"Europa\",\"Earth\",\"Earth\",\"Mars\",\"Earth\",\"Earth\",\"Earth\",\"Europa\",\"Earth\",\"Earth\",\"Earth\",\"Earth\",\"Earth\",\"Mars\",\"Mars\",\"Europa\",\"Earth\",\"Europa\",\"Earth\",\"Europa\",\"Europa\",\"Earth\",\"Earth\",\"Europa\",\"Europa\",\"Earth\",\"Earth\",\"Earth\",\"Mars\",\"Earth\",\"Mars\",\"Mars\",\"Mars\",\"Earth\",\"Earth\",\"Earth\",\"Mars\",\"Europa\",\"Mars\",\"Europa\",\"Europa\",\"Europa\",\"Earth\",\"Earth\",\"Earth\",\"Europa\",\"Europa\",\"Europa\",\"Europa\",\"Earth\",\"Earth\",\"Mars\",\"Mars\",\"Europa\",\"Earth\",\"Earth\",\"Europa\",\"Europa\",\"Earth\",\"Europa\",\"Mars\",\"Earth\",\"Europa\",\"Earth\",\"Earth\",\"Earth\",\"Mars\",\"Earth\",\"Earth\",\"Mars\",\"Mars\",\"Mars\",\"Earth\",\"Mars\",\"Mars\",\"Mars\",\"Europa\",\"Europa\",\"Earth\",\"Europa\",\"Earth\",\"Earth\",\"Earth\",\"Europa\",\"Earth\",\"Earth\",\"Earth\",\"Europa\",\"Earth\",\"Europa\",\"Earth\",\"Earth\",\"Europa\",\"Europa\",\"Europa\",\"Europa\",\"Earth\",\"Mars\",\"Mars\",\"Earth\",\"Mars\",\"Earth\",\"Earth\",\"Europa\",\"Europa\",\"Europa\",\"Mars\",\"Europa\",\"Earth\",\"Earth\",\"Earth\",\"Europa\",\"Earth\",\"Earth\",\"Europa\",\"Mars\",\"Earth\",\"Europa\",\"Europa\",\"Earth\",\"Mars\",\"Earth\",\"Europa\",\"Europa\",\"Mars\",\"Mars\",\"Mars\",\"Earth\",\"Earth\",\"Europa\",\"Earth\",\"Earth\",\"Earth\",\"Mars\",\"Mars\",\"Mars\",\"Earth\",\"Mars\",\"Mars\",\"Mars\",\"Europa\",\"Europa\",\"Earth\",\"Earth\",\"Mars\",\"Europa\",\"Earth\",\"Mars\",\"Mars\",\"Earth\",\"Earth\",\"Earth\",\"Mars\",\"Earth\",\"Mars\",\"Earth\",\"Earth\",\"Earth\",\"Mars\",\"Europa\",\"Europa\",\"Earth\",\"Europa\",\"Europa\",\"Mars\",\"Mars\",\"Mars\",\"Earth\",\"Earth\",\"Mars\",\"Earth\",\"Earth\",\"Earth\",\"Earth\",\"Earth\",\"Europa\",\"Europa\",\"Europa\",\"Mars\",\"Mars\",\"Earth\",\"Mars\",\"Earth\",\"Europa\",\"Earth\",\"Europa\",\"Europa\",\"Earth\",\"Earth\",\"Earth\",\"Earth\",\"Earth\",\"Earth\",\"Europa\",\"Europa\",\"Europa\",\"Europa\",\"Earth\",\"Europa\",\"Europa\",\"Europa\",\"Earth\",\"Earth\",\"Earth\",\"Earth\",\"Earth\",\"Europa\",\"Europa\",\"Europa\",\"Europa\",\"Mars\",\"Earth\",\"Earth\",\"Earth\",\"Earth\",\"Earth\",\"Earth\",\"Europa\",\"Europa\",\"Europa\",\"Europa\",\"Europa\",\"Europa\",\"Europa\",\"Earth\",\"Europa\",\"Europa\",\"Mars\",\"Mars\",\"Earth\",\"Earth\",\"Mars\",\"Mars\",\"Mars\",\"Europa\",\"Earth\",\"Earth\",\"Europa\",\"Earth\",\"Europa\",\"Europa\",\"Europa\",\"Europa\",\"Europa\",\"Mars\",\"Mars\",\"Mars\",\"Earth\",\"Earth\",\"Earth\",\"Mars\",\"Earth\",\"Earth\",\"Mars\",\"Mars\",\"Mars\",\"Europa\",\"Earth\",\"Earth\",\"Earth\",\"Earth\",\"Earth\",\"Europa\",\"Earth\",\"Earth\",\"Earth\",\"Earth\",\"Earth\",\"Earth\",\"Europa\",\"Europa\",\"Mars\",\"Europa\",\"Europa\",\"Earth\",\"Europa\",\"Europa\",\"Earth\",\"Mars\",\"Earth\",\"Earth\",\"Earth\",\"Europa\",\"Europa\",\"Earth\",\"Europa\",\"Europa\",\"Europa\",\"Europa\",\"Earth\",\"Europa\",\"Europa\",\"Mars\",\"Earth\",\"Mars\",\"Earth\",\"Europa\",\"Earth\",\"Europa\",\"Earth\",\"Europa\",\"Europa\",\"Europa\",\"Europa\",\"Europa\",\"Earth\",\"Earth\",\"Earth\",\"Earth\",\"Europa\",\"Europa\",\"Earth\",\"Mars\",\"Europa\",\"Europa\",\"Europa\",\"Europa\",\"Europa\",\"Europa\",\"Mars\",\"Earth\",\"Earth\",\"Earth\",\"Europa\",\"Mars\",\"Earth\",\"Earth\",\"Earth\",\"Earth\",\"Earth\",\"Europa\",\"Europa\",\"Mars\",\"Earth\",\"Earth\",\"Mars\",\"Mars\",\"Europa\",\"Earth\",\"Mars\",\"Europa\",\"Europa\",\"Europa\",\"Earth\",\"Europa\",\"Earth\",\"Earth\",\"Mars\",\"Mars\",\"Mars\",\"Mars\",\"Earth\",\"Earth\",\"Earth\",\"Mars\",\"Earth\",\"Mars\",\"Earth\",\"Earth\",\"Mars\",\"Earth\",\"Europa\",\"Mars\",\"Earth\",\"Mars\",\"Earth\",\"Europa\",\"Europa\",\"Europa\",\"Europa\",\"Europa\",\"Earth\",\"Earth\",\"Earth\",\"Earth\",\"Earth\",\"Europa\",\"Europa\",\"Earth\",\"Earth\",\"Mars\",\"Earth\",\"Europa\",\"Earth\",\"Earth\",\"Mars\",\"Mars\",\"Mars\",\"Mars\",\"Mars\",\"Mars\",\"Europa\",\"Earth\",\"Earth\",\"Earth\",\"Europa\",\"Europa\",\"Mars\",\"Earth\",\"Europa\",\"Europa\",\"Earth\",\"Earth\",\"Europa\",\"Europa\",\"Mars\",\"Mars\",\"Mars\",\"Mars\",\"Earth\",\"Earth\",\"Europa\",\"Europa\",\"Europa\",\"Mars\",\"Earth\",\"Mars\",\"Mars\",\"Europa\",\"Europa\",\"Europa\",\"Earth\",\"Earth\",\"Mars\",\"Earth\",\"Earth\",\"Earth\",\"Earth\",\"Europa\",\"Europa\",\"Earth\",\"Europa\",\"Europa\",\"Earth\",\"Europa\",\"Earth\",\"Mars\",\"Europa\",\"Europa\",\"Mars\",\"Europa\",\"Europa\",\"Earth\",\"Earth\",\"Mars\",\"Earth\",\"Earth\",\"Earth\",\"Earth\",\"Mars\",\"Earth\",\"Earth\",\"Earth\",\"Earth\",\"Earth\",\"Earth\",\"Earth\",\"Mars\",\"Mars\",\"Europa\",\"Europa\",\"Earth\",\"Earth\",\"Mars\",\"Mars\",\"Mars\",\"Earth\",\"Earth\",\"Europa\",\"Europa\",\"Europa\",\"Earth\",\"Mars\",\"Europa\",\"Mars\",\"Mars\",\"Earth\",\"Mars\",\"Earth\",\"Earth\",\"Europa\",\"Europa\",\"Europa\",\"Europa\",\"Europa\",\"Europa\",\"Mars\",\"Earth\",\"Earth\",\"Europa\",\"Mars\",\"Mars\",\"Mars\",\"Europa\",\"Earth\",\"Earth\",\"Earth\",\"Earth\",\"Earth\",\"Europa\",\"Europa\",\"Mars\",\"Earth\",\"Europa\",\"Europa\",\"Earth\",\"Earth\",\"Earth\",\"Mars\",\"Earth\",\"Europa\",\"Earth\",\"Earth\",\"Earth\",\"Europa\",\"Earth\",\"Earth\",\"Earth\",\"Earth\",\"Europa\",\"Earth\",\"Earth\",\"Earth\",\"Earth\",\"Earth\",\"Europa\",\"Europa\",\"Mars\",\"Mars\",\"Earth\",\"Earth\",\"Mars\",\"Mars\",\"Europa\",\"Earth\",\"Earth\",\"Mars\",\"Earth\",\"Earth\",\"Earth\",\"Earth\",\"Earth\",\"Mars\",\"Earth\",\"Earth\",\"Europa\",\"Earth\",\"Earth\",\"Earth\",\"Earth\",\"Europa\",\"Earth\",\"Earth\",\"Europa\",\"Earth\",\"Earth\",\"Earth\",\"Earth\",\"Earth\",\"Earth\",\"Earth\",\"Earth\",\"Earth\",\"Earth\",\"Earth\",\"Earth\",\"Earth\",\"Earth\",\"Earth\",\"Earth\",\"Mars\",\"Earth\",\"Mars\",\"Mars\",\"Earth\",\"Europa\",\"Earth\",\"Europa\",\"Europa\",\"Earth\",\"Europa\",\"Earth\",\"Earth\",\"Europa\",\"Europa\",\"Europa\",\"Mars\",\"Mars\",\"Earth\",\"Earth\",\"Earth\",\"Mars\",\"Mars\",\"Earth\",\"Earth\",\"Europa\",\"Earth\",\"Europa\",\"Earth\",\"Europa\",\"Europa\",\"Europa\",\"Mars\",\"Earth\",\"Mars\",\"Earth\",\"Europa\",\"Earth\",\"Europa\",\"Europa\",\"Earth\",\"Earth\",\"Europa\",\"Europa\",\"Mars\",\"Earth\",\"Earth\",\"Europa\",\"Mars\",\"Mars\",\"Mars\",\"Europa\",\"Europa\",\"Europa\",\"Europa\",\"Earth\",\"Earth\",\"Earth\",\"Mars\",\"Mars\",\"Earth\",\"Earth\",\"Europa\",\"Europa\",\"Europa\",\"Europa\",\"Europa\",\"Mars\",\"Mars\",\"Mars\",\"Mars\",\"Mars\",\"Mars\",\"Mars\",\"Mars\",\"Europa\",\"Europa\",\"Europa\",\"Europa\",\"Europa\",\"Europa\",\"Europa\",\"Europa\",\"Earth\",\"Earth\",\"Earth\",\"Mars\",\"Earth\",\"Earth\",\"Earth\",\"Earth\",\"Earth\",\"Earth\",\"Europa\",\"Europa\",\"Europa\",\"Europa\",\"Europa\",\"Mars\",\"Mars\",\"Mars\",\"Earth\",\"Mars\",\"Mars\",\"Earth\",\"Europa\",\"Earth\",\"Europa\",\"Europa\",\"Mars\",\"Earth\",\"Earth\",\"Europa\",\"Europa\",\"Europa\",\"Earth\",\"Europa\",\"Earth\",\"Earth\",\"Earth\",\"Mars\",\"Earth\",\"Mars\",\"Europa\",\"Earth\",\"Earth\",\"Earth\",\"Europa\",\"Earth\",\"Earth\",\"Europa\",\"Mars\",\"Europa\",\"Earth\",\"Earth\",\"Mars\",\"Mars\",\"Europa\",\"Earth\",\"Earth\",\"Earth\",\"Earth\",\"Mars\",\"Earth\",\"Earth\",\"Earth\",\"Mars\",\"Mars\",\"Mars\",\"Mars\",\"Mars\",\"Earth\",\"Mars\",\"Earth\",\"Europa\",\"Europa\",\"Europa\",\"Europa\",\"Europa\",\"Mars\",\"Europa\",\"Europa\",\"Europa\",\"Earth\",\"Earth\",\"Earth\",\"Earth\",\"Europa\",\"Earth\",\"Europa\",\"Europa\",\"Europa\",\"Earth\",\"Europa\",\"Mars\",\"Earth\",\"Europa\",\"Earth\",\"Earth\",\"Earth\",\"Mars\",\"Europa\",\"Europa\",\"Europa\",\"Mars\",\"Earth\",\"Earth\",\"Europa\",\"Europa\",\"Europa\",\"Europa\",\"Mars\",\"Mars\",\"Earth\",\"Earth\",\"Mars\",\"Earth\",\"Earth\",\"Europa\",\"Earth\",\"Mars\",\"Europa\",\"Earth\",\"Europa\",\"Europa\",\"Europa\",\"Mars\",\"Europa\",\"Earth\",\"Earth\",\"Earth\",\"Europa\",\"Europa\",\"Europa\",\"Europa\",\"Europa\",\"Europa\",\"Earth\",\"Earth\",\"Mars\",\"Europa\",\"Europa\",\"Europa\",\"Earth\",\"Earth\",\"Earth\",\"Earth\",\"Mars\",\"Europa\",\"Earth\",\"Europa\",\"Earth\",\"Earth\",\"Earth\",\"Europa\",\"Earth\",\"Earth\",\"Earth\",\"Mars\",\"Earth\",\"Earth\",\"Earth\",\"Mars\",\"Earth\",\"Earth\",\"Earth\",\"Earth\",\"Europa\",\"Mars\",\"Mars\",\"Mars\",\"Europa\",\"Europa\",\"Europa\",\"Earth\",\"Earth\",\"Earth\",\"Earth\",\"Europa\",\"Earth\",\"Europa\",\"Earth\",\"Earth\",\"Earth\",\"Europa\",\"Europa\",\"Earth\",\"Earth\",\"Earth\",\"Earth\",\"Mars\",\"Earth\",\"Earth\",\"Europa\",\"Europa\",\"Europa\",\"Europa\",\"Earth\",\"Earth\",\"Mars\",\"Mars\",\"Europa\",\"Europa\",\"Europa\",\"Mars\",\"Mars\",\"Mars\",\"Earth\",\"Europa\",\"Europa\",\"Earth\",\"Europa\",\"Earth\",\"Earth\",\"Earth\",\"Europa\",\"Mars\",\"Mars\",\"Earth\",\"Europa\",\"Europa\",\"Europa\",\"Europa\",\"Europa\",\"Europa\",\"Europa\",\"Europa\",\"Earth\",\"Europa\",\"Europa\",\"Europa\",\"Earth\",\"Europa\",\"Earth\",\"Earth\",\"Earth\",\"Europa\",\"Europa\",\"Earth\",\"Europa\",\"Earth\",\"Europa\",\"Europa\",\"Earth\",\"Europa\",\"Earth\",\"Earth\",\"Earth\",\"Earth\",\"Earth\",\"Earth\",\"Earth\",\"Europa\",\"Europa\",\"Earth\",\"Europa\",\"Mars\",\"Mars\",\"Mars\",\"Earth\",\"Europa\",\"Europa\",\"Europa\",\"Earth\",\"Mars\",\"Mars\",\"Mars\",\"Earth\",\"Mars\",\"Earth\",\"Mars\",\"Earth\",\"Earth\",\"Earth\",\"Europa\",\"Europa\",\"Europa\",\"Europa\",\"Europa\",\"Europa\",\"Europa\",\"Europa\",\"Earth\",\"Earth\",\"Mars\",\"Mars\",\"Mars\",\"Europa\",\"Europa\",\"Europa\",\"Mars\",\"Europa\",\"Europa\",\"Mars\",\"Mars\",\"Earth\",\"Earth\",\"Earth\",\"Earth\",\"Mars\",\"Mars\",\"Mars\",\"Earth\",\"Earth\",\"Mars\",\"Europa\",\"Europa\",\"Europa\",\"Mars\",\"Europa\",\"Europa\",\"Earth\",\"Earth\",\"Europa\",\"Earth\",\"Mars\",\"Earth\",\"Mars\",\"Mars\",\"Mars\",\"Earth\",\"Earth\",\"Earth\",\"Europa\",\"Earth\",\"Earth\",\"Mars\",\"Mars\",\"Mars\",\"Mars\",\"Mars\",\"Earth\",\"Earth\",\"Mars\",\"Mars\",\"Mars\",\"Earth\",\"Europa\",\"Europa\",\"Earth\",\"Earth\",\"Earth\",\"Earth\",\"Earth\",\"Earth\",\"Earth\",\"Earth\",\"Earth\",\"Europa\",\"Mars\",\"Mars\",\"Earth\",\"Mars\",\"Mars\",\"Earth\",\"Europa\",\"Earth\",\"Earth\",\"Europa\",\"Europa\",\"Earth\",\"Earth\",\"Earth\",\"Earth\",\"Earth\",\"Mars\",\"Mars\",\"Mars\",\"Europa\",\"Earth\",\"Earth\",\"Mars\",\"Mars\",\"Mars\",\"Mars\",\"Mars\",\"Mars\",\"Mars\",\"Mars\",\"Mars\",\"Europa\",\"Mars\",\"Mars\",\"Mars\",\"Mars\",\"Earth\",\"Earth\",\"Earth\",\"Earth\",\"Mars\",\"Europa\",\"Earth\",\"Mars\",\"Mars\",\"Earth\",\"Earth\",\"Mars\",\"Earth\",\"Europa\",\"Earth\",\"Europa\",\"Earth\",\"Earth\",\"Earth\",\"Earth\",\"Earth\",\"Earth\",\"Earth\",\"Earth\",\"Earth\",\"Europa\",\"Earth\",\"Earth\",\"Europa\",\"Europa\",\"Europa\",\"Mars\",\"Mars\",\"Earth\",\"Earth\",\"Mars\",\"Mars\",\"Earth\",\"Earth\",\"Europa\",\"Europa\",\"Earth\",\"Mars\",\"Mars\",\"Earth\",\"Earth\",\"Earth\",\"Mars\",\"Mars\",\"Earth\",\"Mars\",\"Mars\",\"Europa\",\"Europa\",\"Europa\",\"Europa\",\"Earth\",\"Europa\",\"Earth\",\"Earth\",\"Mars\",\"Earth\",\"Earth\",\"Europa\",\"Mars\",\"Earth\",\"Earth\",\"Earth\",\"Europa\",\"Earth\",\"Earth\",\"Earth\",\"Earth\",\"Europa\",\"Europa\",\"Europa\",\"Europa\",\"Europa\",\"Mars\",\"Mars\",\"Earth\",\"Europa\",\"Earth\",\"Mars\",\"Earth\",\"Earth\",\"Earth\",\"Earth\",\"Earth\",\"Europa\",\"Earth\",\"Mars\",\"Mars\",\"Mars\",\"Earth\",\"Earth\",\"Earth\",\"Earth\",\"Mars\",\"Europa\",\"Europa\",\"Earth\",\"Mars\",\"Mars\",\"Earth\",\"Earth\",\"Earth\",\"Mars\",\"Mars\",\"Europa\",\"Europa\",\"Europa\",\"Earth\",\"Europa\",\"Earth\",\"Earth\",\"Earth\",\"Earth\",\"Mars\",\"Europa\",\"Europa\",\"Europa\",\"Earth\",\"Earth\",\"Earth\",\"Earth\",\"Earth\",\"Earth\",\"Europa\",\"Earth\",\"Earth\",\"Earth\",\"Europa\",\"Europa\",\"Mars\",\"Mars\",\"Mars\",\"Mars\",\"Earth\",\"Earth\",\"Mars\",\"Mars\",\"Earth\",\"Earth\",\"Earth\",\"Earth\",\"Earth\",\"Earth\",\"Earth\",\"Earth\",\"Earth\",\"Earth\",\"Mars\",\"Mars\",\"Earth\",\"Earth\",\"Europa\",\"Europa\",\"Europa\",\"Europa\",\"Mars\",\"Europa\",\"Earth\",\"Earth\",\"Earth\",\"Earth\",\"Earth\",\"Earth\",\"Mars\",\"Europa\",\"Earth\",\"Europa\",\"Earth\",\"Earth\",\"Earth\",\"Earth\",\"Earth\",\"Europa\",\"Earth\",\"Earth\",\"Earth\",\"Earth\",\"Europa\",\"Europa\",\"Earth\",\"Earth\",\"Earth\",\"Earth\",\"Europa\",\"Europa\",\"Earth\",\"Europa\",\"Mars\",\"Europa\",\"Mars\",\"Mars\",\"Earth\",\"Mars\",\"Earth\",\"Earth\",\"Earth\",\"Earth\",\"Mars\",\"Earth\",\"Europa\",\"Earth\",\"Mars\",\"Europa\",\"Europa\",\"Earth\",\"Earth\",\"Mars\",\"Earth\",\"Europa\",\"Mars\",\"Europa\",\"Europa\",\"Europa\",\"Europa\",\"Europa\",\"Europa\",\"Europa\",\"Earth\",\"Mars\",\"Earth\",\"Earth\",\"Earth\",\"Mars\",\"Mars\",\"Mars\",\"Mars\",\"Mars\",\"Earth\",\"Earth\",\"Earth\",\"Mars\",\"Mars\",\"Mars\",\"Earth\",\"Europa\",\"Mars\",\"Earth\",\"Earth\",\"Mars\",\"Earth\",\"Europa\",\"Earth\",\"Mars\",\"Mars\",\"Earth\",\"Europa\",\"Earth\",\"Mars\",\"Europa\",\"Europa\",\"Europa\",\"Europa\",\"Earth\",\"Earth\",\"Earth\",\"Earth\",\"Earth\",\"Mars\",\"Mars\",\"Europa\",\"Europa\",\"Europa\",\"Earth\",\"Earth\",\"Earth\",\"Europa\",\"Europa\",\"Earth\",\"Earth\",\"Europa\",\"Earth\",\"Earth\",\"Earth\",\"Europa\",\"Earth\",\"Earth\",\"Earth\",\"Earth\",\"Earth\",\"Earth\",\"Earth\",\"Earth\",\"Earth\",\"Earth\",\"Earth\",\"Mars\",\"Mars\",\"Earth\",\"Earth\",\"Earth\",\"Mars\",\"Mars\",\"Mars\",\"Earth\",\"Mars\",\"Europa\",\"Earth\",\"Earth\",\"Earth\",\"Earth\",\"Earth\",\"Mars\",\"Earth\",\"Earth\",\"Europa\",\"Europa\",\"Europa\",\"Earth\",\"Mars\",\"Mars\",\"Earth\",\"Earth\",\"Europa\",\"Europa\",\"Earth\",\"Earth\",\"Mars\",\"Earth\",\"Earth\",\"Earth\",\"Earth\",\"Earth\",\"Europa\",\"Europa\",\"Europa\",\"Europa\",\"Earth\",\"Europa\",\"Europa\",\"Earth\",\"Earth\",\"Earth\",\"Earth\",\"Earth\",\"Earth\",\"Earth\",\"Earth\",\"Mars\",\"Earth\",\"Earth\",\"Earth\",\"Europa\",\"Europa\",\"Mars\",\"Earth\",\"Mars\",\"Europa\",\"Europa\",\"Earth\",\"Earth\",\"Earth\",\"Europa\",\"Earth\",\"Earth\",\"Earth\",\"Earth\",\"Earth\",\"Earth\",\"Europa\",\"Europa\",\"Earth\",\"Earth\",\"Earth\",\"Earth\",\"Earth\",\"Earth\",\"Mars\",\"Earth\",\"Earth\",\"Earth\",\"Earth\",\"Earth\",\"Earth\",\"Europa\",\"Earth\",\"Europa\",\"Earth\",\"Earth\",\"Earth\",\"Earth\",\"Earth\",\"Earth\",\"Earth\",\"Earth\",\"Earth\",\"Europa\",\"Earth\",\"Earth\",\"Europa\",\"Mars\",\"Earth\",\"Earth\",\"Europa\",\"Europa\",\"Earth\",\"Earth\",\"Earth\",\"Earth\",\"Earth\",\"Earth\",\"Europa\",\"Earth\",\"Earth\",\"Europa\",\"Europa\",\"Europa\",\"Europa\",\"Earth\",\"Europa\",\"Earth\",\"Europa\",\"Europa\",\"Europa\",\"Earth\",\"Mars\",\"Europa\",\"Earth\",\"Mars\",\"Earth\",\"Earth\",\"Europa\",\"Earth\",\"Earth\",\"Earth\",\"Earth\",\"Earth\",\"Earth\",\"Earth\",\"Mars\",\"Mars\",\"Mars\",\"Mars\",\"Earth\",\"Mars\",\"Europa\",\"Earth\",\"Earth\",\"Earth\",\"Earth\",\"Europa\",\"Earth\",\"Earth\",\"Europa\",\"Europa\",\"Europa\",\"Europa\",\"Earth\",\"Earth\",\"Earth\",\"Earth\",\"Earth\",\"Europa\",\"Europa\",\"Earth\",\"Mars\",\"Mars\",\"Earth\",\"Earth\",\"Earth\",\"Earth\",\"Earth\",\"Mars\",\"Mars\",\"Mars\",\"Europa\",\"Mars\",\"Earth\",\"Earth\",\"Earth\",\"Earth\",\"Earth\",\"Earth\",\"Earth\",\"Earth\",\"Earth\",\"Earth\",\"Europa\",\"Earth\",\"Mars\",\"Mars\",\"Mars\",\"Earth\",\"Earth\",\"Earth\",\"Earth\",\"Earth\",\"Earth\",\"Earth\",\"Europa\",\"Earth\",\"Mars\",\"Europa\",\"Europa\",\"Europa\",\"Earth\",\"Europa\",\"Europa\",\"Earth\",\"Earth\",\"Earth\",\"Earth\",\"Earth\",\"Earth\",\"Earth\",\"Earth\",\"Europa\",\"Mars\",\"Mars\",\"Europa\",\"Europa\",\"Europa\",\"Europa\",\"Europa\",\"Europa\",\"Earth\",\"Earth\",\"Earth\",\"Earth\",\"Earth\",\"Europa\",\"Earth\",\"Mars\",\"Europa\",\"Europa\",\"Europa\",\"Europa\",\"Mars\",\"Mars\",\"Mars\",\"Earth\",\"Europa\",\"Earth\",\"Earth\",\"Europa\",\"Earth\",\"Mars\",\"Earth\",\"Earth\",\"Earth\",\"Mars\",\"Europa\",\"Earth\",\"Earth\",\"Europa\",\"Europa\",\"Mars\",\"Mars\",\"Earth\",\"Earth\",\"Mars\",\"Europa\",\"Europa\",\"Europa\",\"Europa\",\"Earth\",\"Earth\",\"Earth\",\"Earth\",\"Earth\",\"Earth\",\"Earth\",\"Earth\",\"Earth\",\"Mars\",\"Mars\",\"Mars\",\"Earth\",\"Europa\",\"Europa\",\"Earth\",\"Earth\",\"Earth\",\"Earth\",\"Mars\",\"Europa\",\"Earth\",\"Earth\",\"Europa\",\"Earth\",\"Earth\",\"Mars\",\"Europa\",\"Earth\",\"Earth\",\"Earth\",\"Earth\",\"Europa\",\"Mars\",\"Earth\",\"Earth\",\"Earth\",\"Earth\",\"Europa\",\"Europa\",\"Europa\",\"Mars\",\"Mars\",\"Earth\",\"Earth\",\"Europa\",\"Earth\",\"Europa\",\"Earth\",\"Europa\",\"Europa\",\"Europa\",\"Europa\",\"Mars\",\"Earth\",\"Europa\",\"Earth\",\"Mars\",\"Earth\",\"Europa\",\"Europa\",\"Mars\",\"Earth\",\"Earth\",\"Earth\",\"Earth\",\"Earth\",\"Earth\",\"Mars\",\"Europa\",\"Europa\",\"Europa\",\"Europa\",\"Europa\",\"Europa\",\"Earth\",\"Mars\",\"Mars\",\"Earth\",\"Earth\",\"Europa\",\"Europa\",\"Earth\",\"Earth\",\"Earth\",\"Earth\",\"Earth\",\"Earth\",\"Europa\",\"Earth\",\"Earth\",\"Mars\",\"Europa\",\"Earth\",\"Earth\",\"Mars\",\"Earth\",\"Europa\",\"Europa\",\"Europa\",\"Europa\",\"Earth\",\"Mars\",\"Mars\",\"Europa\",\"Mars\",\"Mars\",\"Mars\",\"Earth\",\"Europa\",\"Mars\",\"Earth\",\"Earth\",\"Mars\",\"Europa\",\"Mars\",\"Mars\",\"Mars\",\"Earth\",\"Earth\",\"Earth\",\"Earth\",\"Earth\",\"Earth\",\"Europa\",\"Europa\",\"Earth\",\"Mars\",\"Europa\",\"Earth\",\"Mars\",\"Europa\",\"Mars\",\"Earth\",\"Earth\",\"Earth\",\"Earth\",\"Europa\",\"Europa\",\"Earth\",\"Earth\",\"Earth\",\"Europa\",\"Earth\",\"Europa\",\"Mars\",\"Earth\",\"Earth\",\"Earth\",\"Earth\",\"Europa\",\"Europa\",\"Earth\",\"Earth\",\"Earth\",\"Earth\",\"Earth\",\"Earth\",\"Mars\",\"Europa\",\"Europa\",\"Earth\",\"Europa\",\"Earth\",\"Earth\",\"Earth\",\"Mars\",\"Earth\",\"Earth\",\"Europa\",\"Earth\",\"Earth\",\"Earth\",\"Earth\",\"Earth\",\"Earth\",\"Europa\",\"Mars\",\"Earth\",\"Earth\",\"Earth\",\"Mars\",\"Earth\",\"Europa\",\"Earth\",\"Earth\",\"Europa\",\"Europa\",\"Europa\",\"Earth\",\"Earth\",\"Earth\",\"Mars\",\"Earth\",\"Mars\",\"Europa\",\"Europa\",\"Europa\",\"Earth\",\"Mars\",\"Earth\",\"Earth\",\"Earth\",\"Earth\",\"Earth\",\"Earth\",\"Earth\",\"Earth\",\"Europa\",\"Earth\",\"Earth\",\"Earth\",\"Earth\",\"Earth\",\"Europa\",\"Europa\",\"Earth\",\"Earth\",\"Mars\",\"Earth\",\"Earth\",\"Europa\",\"Mars\",\"Europa\",\"Europa\",\"Earth\",\"Mars\",\"Mars\",\"Earth\",\"Earth\",\"Earth\",\"Earth\",\"Earth\",\"Earth\",\"Earth\",\"Earth\",\"Earth\",\"Earth\",\"Earth\",\"Earth\",\"Earth\",\"Europa\",\"Earth\",\"Earth\",\"Earth\",\"Earth\",\"Earth\",\"Earth\",\"Mars\",\"Mars\",\"Mars\",\"Mars\",\"Earth\",\"Europa\",\"Europa\",\"Mars\",\"Mars\",\"Earth\",\"Mars\",\"Mars\",\"Earth\",\"Earth\",\"Europa\",\"Europa\",\"Earth\",\"Earth\",\"Earth\",\"Earth\",\"Earth\",\"Earth\",\"Europa\",\"Earth\",\"Earth\",\"Earth\",\"Earth\",\"Earth\",\"Earth\",\"Earth\",\"Earth\",\"Europa\",\"Earth\",\"Earth\",\"Mars\",\"Mars\",\"Earth\",\"Earth\",\"Earth\",\"Earth\",\"Earth\",\"Mars\",\"Europa\",\"Europa\",\"Earth\",\"Earth\",\"Earth\",\"Earth\",\"Europa\",\"Mars\",\"Earth\",\"Earth\",\"Earth\",\"Mars\",\"Europa\",\"Earth\",\"Mars\",\"Europa\",\"Earth\",\"Earth\",\"Earth\",\"Mars\",\"Earth\",\"Europa\",\"Earth\",\"Earth\",\"Earth\",\"Earth\",\"Earth\",\"Europa\",\"Europa\",\"Earth\",\"Europa\",\"Europa\",\"Earth\",\"Earth\",\"Earth\",\"Earth\",\"Earth\",\"Earth\",\"Earth\",\"Mars\",\"Europa\",\"Mars\",\"Earth\",\"Earth\",\"Earth\",\"Europa\",\"Europa\",\"Europa\",\"Earth\",\"Earth\",\"Mars\",\"Mars\",\"Mars\",\"Mars\",\"Mars\",\"Europa\",\"Europa\",\"Europa\",\"Europa\",\"Earth\",\"Earth\",\"Earth\",\"Europa\",\"Earth\",\"Europa\",\"Earth\",\"Earth\",\"Europa\",\"Europa\",\"Earth\",\"Europa\",\"Europa\",\"Europa\",\"Europa\",\"Europa\",\"Earth\",\"Earth\",\"Mars\",\"Europa\",\"Earth\",\"Europa\",\"Europa\",\"Europa\",\"Europa\",\"Earth\",\"Earth\",\"Europa\",\"Earth\",\"Europa\",\"Europa\",\"Europa\",\"Europa\",\"Earth\",\"Earth\",\"Earth\",\"Earth\",\"Europa\",\"Mars\",\"Mars\",\"Earth\",\"Mars\",\"Europa\",\"Europa\",\"Earth\",\"Earth\",\"Mars\",\"Mars\",\"Earth\",\"Mars\",\"Mars\",\"Earth\",\"Earth\",\"Earth\",\"Earth\",\"Europa\",\"Europa\",\"Europa\",\"Europa\",\"Europa\",\"Europa\",\"Earth\",\"Earth\",\"Earth\",\"Earth\",\"Earth\",\"Mars\",\"Mars\",\"Mars\",\"Earth\",\"Europa\",\"Earth\",\"Europa\",\"Earth\",\"Mars\",\"Mars\",\"Mars\",\"Mars\",\"Mars\",\"Earth\",\"Earth\",\"Earth\",\"Earth\",\"Earth\",\"Europa\",\"Europa\",\"Europa\",\"Earth\",\"Mars\",\"Earth\",\"Mars\",\"Mars\",\"Mars\",\"Europa\",\"Europa\",\"Europa\",\"Earth\",\"Europa\",\"Europa\",\"Earth\",\"Earth\",\"Earth\",\"Europa\",\"Europa\",\"Europa\",\"Europa\",\"Earth\",\"Europa\",\"Earth\",\"Mars\",\"Earth\",\"Mars\",\"Mars\",\"Earth\",\"Europa\",\"Mars\",\"Mars\",\"Mars\",\"Mars\",\"Mars\",\"Europa\",\"Europa\",\"Earth\",\"Europa\",\"Earth\",\"Mars\",\"Mars\",\"Earth\",\"Mars\",\"Mars\",\"Mars\",\"Earth\",\"Europa\",\"Europa\",\"Europa\",\"Europa\",\"Europa\",\"Earth\",\"Earth\",\"Earth\",\"Earth\",\"Earth\",\"Europa\",\"Earth\",\"Mars\",\"Earth\",\"Mars\",\"Europa\",\"Europa\",\"Europa\",\"Europa\",\"Europa\",\"Europa\",\"Europa\",\"Europa\",\"Europa\",\"Europa\",\"Europa\",\"Europa\",\"Europa\",\"Europa\",\"Europa\",\"Earth\",\"Earth\",\"Earth\",\"Earth\",\"Earth\",\"Mars\",\"Earth\",\"Europa\",\"Europa\",\"Earth\",\"Europa\",\"Europa\",\"Earth\",\"Europa\",\"Earth\",\"Earth\",\"Europa\",\"Europa\",\"Earth\",\"Earth\",\"Earth\",\"Europa\",\"Earth\",\"Earth\",\"Earth\",\"Earth\",\"Earth\",\"Earth\",\"Earth\",\"Earth\",\"Mars\",\"Earth\",\"Earth\",\"Earth\",\"Europa\",\"Mars\",\"Earth\",\"Earth\",\"Earth\",\"Earth\",\"Earth\",\"Earth\",\"Europa\",\"Europa\",\"Mars\",\"Mars\",\"Earth\",\"Europa\",\"Earth\",\"Earth\",\"Europa\",\"Earth\",\"Europa\",\"Europa\",\"Europa\",\"Earth\",\"Europa\",\"Mars\",\"Earth\",\"Europa\",\"Europa\",\"Europa\",\"Europa\",\"Europa\",\"Earth\",\"Mars\",\"Europa\",\"Mars\",\"Earth\",\"Earth\",\"Mars\",\"Mars\",\"Mars\",\"Mars\",\"Mars\",\"Europa\",\"Earth\",\"Mars\",\"Europa\",\"Earth\",\"Earth\",\"Earth\",\"Europa\",\"Europa\",\"Earth\",\"Mars\",\"Earth\",\"Europa\",\"Earth\",\"Europa\",\"Europa\",\"Europa\",\"Earth\",\"Earth\",\"Earth\",\"Europa\",\"Earth\",\"Earth\",\"Earth\",\"Earth\",\"Mars\",\"Earth\",\"Mars\",\"Europa\",\"Europa\",\"Europa\",\"Earth\",\"Earth\",\"Earth\",\"Mars\",\"Mars\",\"Europa\",\"Mars\",\"Mars\",\"Europa\",\"Earth\",\"Earth\",\"Earth\",\"Earth\",\"Europa\",\"Europa\",\"Earth\",\"Earth\",\"Earth\",\"Earth\",\"Europa\",\"Mars\",\"Earth\",\"Europa\",\"Europa\",\"Europa\",\"Europa\",\"Earth\",\"Earth\",\"Mars\",\"Mars\",\"Earth\",\"Earth\",\"Mars\",\"Europa\",\"Mars\",\"Earth\",\"Earth\",\"Earth\",\"Europa\",\"Europa\",\"Europa\",\"Earth\",\"Earth\",\"Earth\",\"Europa\",\"Europa\",\"Earth\",\"Mars\",\"Europa\",\"Europa\",\"Earth\",\"Europa\",\"Europa\",\"Europa\",\"Europa\",\"Europa\",\"Earth\",\"Europa\",\"Europa\",\"Earth\",\"Earth\",\"Mars\",\"Earth\",\"Earth\",\"Mars\",\"Europa\",\"Europa\",\"Europa\",\"Europa\",\"Europa\",\"Earth\",\"Europa\",\"Europa\",\"Europa\",\"Europa\",\"Europa\",\"Earth\",\"Earth\",\"Europa\",\"Earth\",\"Earth\",\"Mars\",\"Mars\",\"Mars\",\"Mars\",\"Mars\",\"Earth\",\"Earth\",\"Mars\",\"Earth\",\"Mars\",\"Europa\",\"Mars\",\"Mars\",\"Earth\",\"Europa\",\"Europa\",\"Europa\",\"Mars\",\"Mars\",\"Earth\",\"Earth\",\"Mars\",\"Europa\",\"Earth\",\"Earth\",\"Earth\",\"Europa\",\"Earth\",\"Earth\",\"Europa\",\"Europa\",\"Earth\",\"Earth\",\"Mars\",\"Earth\",\"Earth\",\"Earth\",\"Europa\",\"Mars\",\"Europa\",\"Europa\",\"Europa\",\"Europa\",\"Europa\",\"Earth\",\"Earth\",\"Mars\",\"Europa\",\"Europa\",\"Europa\",\"Europa\",\"Europa\",\"Earth\",\"Earth\",\"Europa\",\"Earth\",\"Europa\",\"Europa\",\"Earth\",\"Mars\",\"Mars\",\"Mars\",\"Europa\",\"Europa\",\"Earth\",\"Earth\",\"Europa\",\"Europa\",\"Europa\",\"Mars\",\"Europa\",\"Europa\",\"Earth\",\"Earth\",\"Europa\",\"Earth\",\"Europa\",\"Europa\",\"Earth\",\"Earth\",\"Earth\",\"Earth\",\"Europa\",\"Europa\",\"Earth\",\"Mars\",\"Europa\",\"Mars\",\"Earth\",\"Earth\",\"Europa\",\"Earth\",\"Mars\",\"Europa\",\"Europa\",\"Europa\",\"Europa\",\"Mars\",\"Earth\",\"Earth\",\"Europa\",\"Europa\",\"Europa\",\"Europa\",\"Mars\",\"Mars\",\"Europa\",\"Earth\",\"Europa\",\"Europa\",\"Mars\",\"Mars\",\"Mars\",\"Europa\",\"Europa\",\"Mars\",\"Europa\",\"Europa\",\"Earth\",\"Europa\",\"Europa\",\"Earth\",\"Earth\",\"Earth\",\"Earth\",\"Earth\",\"Earth\",\"Mars\",\"Earth\",\"Earth\",\"Mars\",\"Mars\",\"Europa\",\"Mars\",\"Earth\",\"Earth\",\"Mars\",\"Mars\",\"Earth\",\"Earth\",\"Earth\",\"Earth\",\"Earth\",\"Earth\",\"Europa\",\"Europa\",\"Europa\",\"Mars\",\"Mars\",\"Europa\",\"Mars\",\"Mars\",\"Mars\",\"Earth\",\"Earth\",\"Europa\",\"Europa\",\"Europa\",\"Europa\",\"Earth\",\"Earth\",\"Earth\",\"Earth\",\"Europa\",\"Earth\",\"Earth\",\"Earth\",\"Earth\",\"Europa\",\"Earth\",\"Earth\",\"Earth\",\"Mars\",\"Earth\",\"Europa\",\"Earth\",\"Mars\",\"Earth\",\"Earth\",\"Earth\",\"Europa\",\"Mars\",\"Europa\",\"Earth\",\"Earth\",\"Mars\",\"Mars\",\"Earth\",\"Earth\",\"Earth\",\"Europa\",\"Europa\",\"Europa\",\"Europa\",\"Mars\",\"Earth\",\"Earth\",\"Earth\",\"Earth\",\"Earth\",\"Mars\",\"Mars\",\"Europa\",\"Europa\",\"Earth\",\"Europa\",\"Europa\",\"Mars\",\"Mars\",\"Mars\",\"Mars\",\"Earth\",\"Europa\",\"Earth\",\"Europa\",\"Europa\",\"Europa\",\"Europa\",\"Earth\",\"Earth\",\"Mars\",\"Mars\",\"Earth\",\"Earth\",\"Europa\",\"Mars\",\"Mars\",\"Earth\",\"Europa\",\"Europa\",\"Mars\",\"Europa\",\"Europa\",\"Europa\",\"Mars\",\"Europa\",\"Europa\",\"Mars\",\"Europa\",\"Europa\",\"Europa\",\"Europa\",\"Europa\",\"Europa\",\"Earth\",\"Earth\",\"Earth\",\"Europa\",\"Europa\",\"Europa\",\"Mars\",\"Mars\",\"Mars\",\"Mars\",\"Europa\",\"Earth\",\"Europa\",\"Earth\",\"Europa\",\"Earth\",\"Earth\",\"Europa\",\"Earth\",\"Europa\",\"Europa\",\"Europa\",\"Europa\",\"Europa\",\"Europa\",\"Europa\",\"Earth\",\"Europa\",\"Europa\",\"Europa\",\"Europa\",\"Earth\",\"Europa\",\"Earth\",\"Europa\",\"Mars\",\"Earth\",\"Earth\",\"Mars\",\"Europa\",\"Europa\",\"Earth\",\"Earth\",\"Earth\",\"Earth\",\"Europa\",\"Europa\",\"Europa\",\"Earth\",\"Earth\",\"Mars\",\"Mars\",\"Earth\",\"Earth\",\"Earth\",\"Earth\",\"Earth\",\"Earth\",\"Earth\",\"Earth\",\"Europa\",\"Europa\",\"Earth\",\"Earth\",\"Earth\",\"Europa\",\"Earth\",\"Earth\",\"Europa\",\"Europa\",\"Europa\",\"Europa\",\"Europa\",\"Mars\",\"Earth\",\"Earth\",\"Earth\",\"Europa\",\"Earth\",\"Europa\",\"Europa\",\"Mars\",\"Mars\",\"Mars\",\"Mars\",\"Mars\",\"Earth\",\"Earth\",\"Earth\",\"Earth\",\"Europa\",\"Mars\",\"Earth\",\"Earth\",\"Mars\",\"Earth\",\"Mars\",\"Europa\",\"Mars\",\"Earth\",\"Mars\",\"Mars\",\"Mars\",\"Mars\",\"Europa\",\"Europa\",\"Earth\",\"Earth\",\"Earth\",\"Earth\",\"Europa\",\"Mars\",\"Mars\",\"Earth\",\"Earth\",\"Earth\",\"Europa\",\"Europa\",\"Europa\",\"Mars\",\"Mars\",\"Earth\",\"Earth\",\"Earth\",\"Earth\",\"Mars\",\"Mars\",\"Mars\",\"Europa\",\"Europa\",\"Mars\",\"Mars\",\"Mars\",\"Mars\",\"Europa\",\"Europa\",\"Europa\",\"Europa\",\"Earth\",\"Earth\",\"Earth\",\"Earth\",\"Earth\",\"Mars\",\"Mars\",\"Earth\",\"Europa\",\"Earth\",\"Mars\",\"Earth\",\"Earth\",\"Earth\",\"Earth\",\"Earth\",\"Earth\",\"Earth\",\"Europa\",\"Europa\",\"Europa\",\"Earth\",\"Earth\",\"Earth\",\"Earth\",\"Earth\",\"Europa\",\"Earth\",\"Earth\",\"Earth\",\"Earth\",\"Europa\",\"Earth\",\"Earth\",\"Europa\",\"Europa\",\"Mars\",\"Europa\",\"Europa\",\"Europa\",\"Europa\",\"Europa\",\"Europa\",\"Europa\",\"Europa\",\"Europa\",\"Earth\",\"Mars\",\"Earth\",\"Earth\",\"Mars\",\"Europa\",\"Europa\",\"Earth\",\"Earth\",\"Mars\",\"Earth\",\"Mars\",\"Europa\",\"Mars\",\"Europa\",\"Earth\",\"Earth\",\"Mars\",\"Mars\",\"Mars\",\"Earth\",\"Earth\",\"Earth\",\"Europa\",\"Mars\",\"Mars\",\"Mars\",\"Mars\",\"Earth\",\"Europa\",\"Europa\",\"Europa\",\"Mars\",\"Mars\",\"Earth\",\"Europa\",\"Earth\",\"Earth\",\"Mars\",\"Mars\",\"Mars\",\"Mars\",\"Europa\",\"Europa\",\"Mars\",\"Mars\",\"Europa\",\"Europa\",\"Earth\",\"Earth\",\"Earth\",\"Mars\",\"Europa\",\"Europa\",\"Europa\",\"Earth\",\"Earth\",\"Earth\",\"Earth\",\"Earth\",\"Earth\",\"Mars\",\"Earth\",\"Europa\",\"Earth\",\"Mars\",\"Mars\",\"Earth\",\"Earth\",\"Mars\",\"Mars\",\"Earth\",\"Europa\",\"Europa\",\"Earth\",\"Earth\",\"Europa\",\"Mars\",\"Mars\",\"Earth\",\"Earth\",\"Earth\",\"Mars\",\"Earth\",\"Europa\",\"Europa\",\"Mars\",\"Mars\",\"Earth\",\"Earth\",\"Earth\",\"Earth\",\"Mars\",\"Europa\",\"Mars\",\"Mars\",\"Mars\",\"Europa\",\"Earth\",\"Europa\",\"Earth\",\"Earth\",\"Earth\",\"Earth\",\"Mars\",\"Mars\",\"Europa\",\"Europa\",\"Europa\",\"Earth\",\"Earth\",\"Mars\",\"Mars\",\"Mars\",\"Earth\",\"Earth\",\"Earth\",\"Europa\",\"Earth\",\"Earth\",\"Mars\",\"Mars\",\"Earth\",\"Europa\",\"Earth\",\"Europa\",\"Earth\",\"Earth\",\"Earth\",\"Earth\",\"Earth\",\"Earth\",\"Europa\",\"Mars\",\"Earth\",\"Europa\",\"Europa\",\"Europa\",\"Earth\",\"Earth\",\"Earth\",\"Mars\",\"Earth\",\"Earth\",\"Earth\",\"Mars\",\"Mars\",\"Earth\",\"Earth\",\"Mars\",\"Europa\",\"Earth\",\"Earth\",\"Mars\",\"Earth\",\"Mars\",\"Mars\",\"Europa\",\"Europa\",\"Europa\",\"Europa\",\"Europa\",\"Earth\",\"Mars\",\"Europa\",\"Europa\",\"Earth\",\"Earth\",\"Earth\",\"Earth\",\"Mars\",\"Europa\",\"Mars\",\"Earth\",\"Earth\",\"Earth\",\"Earth\",\"Earth\",\"Mars\",\"Mars\",\"Earth\",\"Earth\",\"Europa\",\"Earth\",\"Mars\",\"Earth\",\"Earth\",\"Earth\",\"Earth\",\"Europa\",\"Earth\",\"Europa\",\"Mars\",\"Earth\",\"Mars\",\"Europa\",\"Earth\",\"Earth\",\"Mars\",\"Europa\",\"Europa\",\"Earth\",\"Mars\",\"Mars\",\"Europa\",\"Europa\",\"Mars\",\"Earth\",\"Europa\",\"Earth\",\"Earth\",\"Earth\",\"Earth\",\"Europa\",\"Europa\",\"Europa\",\"Earth\",\"Earth\",\"Europa\",\"Europa\",\"Earth\",\"Mars\",\"Earth\",\"Europa\",\"Earth\",\"Mars\",\"Earth\",\"Mars\",\"Earth\",\"Europa\",\"Europa\",\"Europa\",\"Earth\",\"Europa\",\"Earth\",\"Europa\",\"Europa\",\"Europa\",\"Europa\",\"Europa\",\"Europa\",\"Europa\",\"Europa\",\"Europa\",\"Earth\",\"Earth\",\"Earth\",\"Earth\",\"Earth\",\"Earth\",\"Earth\",\"Earth\",\"Earth\",\"Earth\",\"Europa\",\"Earth\",\"Mars\",\"Earth\",\"Europa\",\"Earth\",\"Europa\",\"Earth\",\"Earth\",\"Earth\",\"Mars\",\"Mars\",\"Mars\",\"Europa\",\"Earth\",\"Europa\",\"Europa\",\"Mars\",\"Earth\",\"Europa\",\"Earth\",\"Earth\",\"Earth\",\"Earth\",\"Europa\",\"Earth\",\"Earth\",\"Earth\",\"Europa\",\"Mars\",\"Earth\",\"Europa\",\"Earth\",\"Earth\",\"Earth\",\"Earth\",\"Earth\",\"Mars\",\"Earth\",\"Earth\",\"Mars\",\"Europa\",\"Europa\",\"Europa\",\"Europa\",\"Europa\",\"Earth\",\"Mars\",\"Europa\",\"Europa\",\"Europa\",\"Earth\",\"Earth\",\"Earth\",\"Europa\",\"Earth\",\"Earth\",\"Earth\",\"Mars\",\"Earth\",\"Earth\",\"Earth\",\"Europa\",\"Mars\",\"Mars\",\"Earth\",\"Earth\",\"Earth\",\"Earth\",\"Earth\",\"Europa\",\"Mars\",\"Europa\",\"Europa\",\"Earth\",\"Earth\",\"Earth\",\"Europa\",\"Europa\",\"Europa\",\"Earth\",\"Earth\",\"Earth\",\"Europa\",\"Europa\",\"Earth\",\"Europa\"],\"xaxis\":\"x\",\"yaxis\":\"y\",\"type\":\"histogram\"}],                        {\"template\":{\"data\":{\"bar\":[{\"error_x\":{\"color\":\"#2a3f5f\"},\"error_y\":{\"color\":\"#2a3f5f\"},\"marker\":{\"line\":{\"color\":\"#E5ECF6\",\"width\":0.5},\"pattern\":{\"fillmode\":\"overlay\",\"size\":10,\"solidity\":0.2}},\"type\":\"bar\"}],\"barpolar\":[{\"marker\":{\"line\":{\"color\":\"#E5ECF6\",\"width\":0.5},\"pattern\":{\"fillmode\":\"overlay\",\"size\":10,\"solidity\":0.2}},\"type\":\"barpolar\"}],\"carpet\":[{\"aaxis\":{\"endlinecolor\":\"#2a3f5f\",\"gridcolor\":\"white\",\"linecolor\":\"white\",\"minorgridcolor\":\"white\",\"startlinecolor\":\"#2a3f5f\"},\"baxis\":{\"endlinecolor\":\"#2a3f5f\",\"gridcolor\":\"white\",\"linecolor\":\"white\",\"minorgridcolor\":\"white\",\"startlinecolor\":\"#2a3f5f\"},\"type\":\"carpet\"}],\"choropleth\":[{\"colorbar\":{\"outlinewidth\":0,\"ticks\":\"\"},\"type\":\"choropleth\"}],\"contour\":[{\"colorbar\":{\"outlinewidth\":0,\"ticks\":\"\"},\"colorscale\":[[0.0,\"#0d0887\"],[0.1111111111111111,\"#46039f\"],[0.2222222222222222,\"#7201a8\"],[0.3333333333333333,\"#9c179e\"],[0.4444444444444444,\"#bd3786\"],[0.5555555555555556,\"#d8576b\"],[0.6666666666666666,\"#ed7953\"],[0.7777777777777778,\"#fb9f3a\"],[0.8888888888888888,\"#fdca26\"],[1.0,\"#f0f921\"]],\"type\":\"contour\"}],\"contourcarpet\":[{\"colorbar\":{\"outlinewidth\":0,\"ticks\":\"\"},\"type\":\"contourcarpet\"}],\"heatmap\":[{\"colorbar\":{\"outlinewidth\":0,\"ticks\":\"\"},\"colorscale\":[[0.0,\"#0d0887\"],[0.1111111111111111,\"#46039f\"],[0.2222222222222222,\"#7201a8\"],[0.3333333333333333,\"#9c179e\"],[0.4444444444444444,\"#bd3786\"],[0.5555555555555556,\"#d8576b\"],[0.6666666666666666,\"#ed7953\"],[0.7777777777777778,\"#fb9f3a\"],[0.8888888888888888,\"#fdca26\"],[1.0,\"#f0f921\"]],\"type\":\"heatmap\"}],\"heatmapgl\":[{\"colorbar\":{\"outlinewidth\":0,\"ticks\":\"\"},\"colorscale\":[[0.0,\"#0d0887\"],[0.1111111111111111,\"#46039f\"],[0.2222222222222222,\"#7201a8\"],[0.3333333333333333,\"#9c179e\"],[0.4444444444444444,\"#bd3786\"],[0.5555555555555556,\"#d8576b\"],[0.6666666666666666,\"#ed7953\"],[0.7777777777777778,\"#fb9f3a\"],[0.8888888888888888,\"#fdca26\"],[1.0,\"#f0f921\"]],\"type\":\"heatmapgl\"}],\"histogram\":[{\"marker\":{\"pattern\":{\"fillmode\":\"overlay\",\"size\":10,\"solidity\":0.2}},\"type\":\"histogram\"}],\"histogram2d\":[{\"colorbar\":{\"outlinewidth\":0,\"ticks\":\"\"},\"colorscale\":[[0.0,\"#0d0887\"],[0.1111111111111111,\"#46039f\"],[0.2222222222222222,\"#7201a8\"],[0.3333333333333333,\"#9c179e\"],[0.4444444444444444,\"#bd3786\"],[0.5555555555555556,\"#d8576b\"],[0.6666666666666666,\"#ed7953\"],[0.7777777777777778,\"#fb9f3a\"],[0.8888888888888888,\"#fdca26\"],[1.0,\"#f0f921\"]],\"type\":\"histogram2d\"}],\"histogram2dcontour\":[{\"colorbar\":{\"outlinewidth\":0,\"ticks\":\"\"},\"colorscale\":[[0.0,\"#0d0887\"],[0.1111111111111111,\"#46039f\"],[0.2222222222222222,\"#7201a8\"],[0.3333333333333333,\"#9c179e\"],[0.4444444444444444,\"#bd3786\"],[0.5555555555555556,\"#d8576b\"],[0.6666666666666666,\"#ed7953\"],[0.7777777777777778,\"#fb9f3a\"],[0.8888888888888888,\"#fdca26\"],[1.0,\"#f0f921\"]],\"type\":\"histogram2dcontour\"}],\"mesh3d\":[{\"colorbar\":{\"outlinewidth\":0,\"ticks\":\"\"},\"type\":\"mesh3d\"}],\"parcoords\":[{\"line\":{\"colorbar\":{\"outlinewidth\":0,\"ticks\":\"\"}},\"type\":\"parcoords\"}],\"pie\":[{\"automargin\":true,\"type\":\"pie\"}],\"scatter\":[{\"marker\":{\"colorbar\":{\"outlinewidth\":0,\"ticks\":\"\"}},\"type\":\"scatter\"}],\"scatter3d\":[{\"line\":{\"colorbar\":{\"outlinewidth\":0,\"ticks\":\"\"}},\"marker\":{\"colorbar\":{\"outlinewidth\":0,\"ticks\":\"\"}},\"type\":\"scatter3d\"}],\"scattercarpet\":[{\"marker\":{\"colorbar\":{\"outlinewidth\":0,\"ticks\":\"\"}},\"type\":\"scattercarpet\"}],\"scattergeo\":[{\"marker\":{\"colorbar\":{\"outlinewidth\":0,\"ticks\":\"\"}},\"type\":\"scattergeo\"}],\"scattergl\":[{\"marker\":{\"colorbar\":{\"outlinewidth\":0,\"ticks\":\"\"}},\"type\":\"scattergl\"}],\"scattermapbox\":[{\"marker\":{\"colorbar\":{\"outlinewidth\":0,\"ticks\":\"\"}},\"type\":\"scattermapbox\"}],\"scatterpolar\":[{\"marker\":{\"colorbar\":{\"outlinewidth\":0,\"ticks\":\"\"}},\"type\":\"scatterpolar\"}],\"scatterpolargl\":[{\"marker\":{\"colorbar\":{\"outlinewidth\":0,\"ticks\":\"\"}},\"type\":\"scatterpolargl\"}],\"scatterternary\":[{\"marker\":{\"colorbar\":{\"outlinewidth\":0,\"ticks\":\"\"}},\"type\":\"scatterternary\"}],\"surface\":[{\"colorbar\":{\"outlinewidth\":0,\"ticks\":\"\"},\"colorscale\":[[0.0,\"#0d0887\"],[0.1111111111111111,\"#46039f\"],[0.2222222222222222,\"#7201a8\"],[0.3333333333333333,\"#9c179e\"],[0.4444444444444444,\"#bd3786\"],[0.5555555555555556,\"#d8576b\"],[0.6666666666666666,\"#ed7953\"],[0.7777777777777778,\"#fb9f3a\"],[0.8888888888888888,\"#fdca26\"],[1.0,\"#f0f921\"]],\"type\":\"surface\"}],\"table\":[{\"cells\":{\"fill\":{\"color\":\"#EBF0F8\"},\"line\":{\"color\":\"white\"}},\"header\":{\"fill\":{\"color\":\"#C8D4E3\"},\"line\":{\"color\":\"white\"}},\"type\":\"table\"}]},\"layout\":{\"annotationdefaults\":{\"arrowcolor\":\"#2a3f5f\",\"arrowhead\":0,\"arrowwidth\":1},\"autotypenumbers\":\"strict\",\"coloraxis\":{\"colorbar\":{\"outlinewidth\":0,\"ticks\":\"\"}},\"colorscale\":{\"diverging\":[[0,\"#8e0152\"],[0.1,\"#c51b7d\"],[0.2,\"#de77ae\"],[0.3,\"#f1b6da\"],[0.4,\"#fde0ef\"],[0.5,\"#f7f7f7\"],[0.6,\"#e6f5d0\"],[0.7,\"#b8e186\"],[0.8,\"#7fbc41\"],[0.9,\"#4d9221\"],[1,\"#276419\"]],\"sequential\":[[0.0,\"#0d0887\"],[0.1111111111111111,\"#46039f\"],[0.2222222222222222,\"#7201a8\"],[0.3333333333333333,\"#9c179e\"],[0.4444444444444444,\"#bd3786\"],[0.5555555555555556,\"#d8576b\"],[0.6666666666666666,\"#ed7953\"],[0.7777777777777778,\"#fb9f3a\"],[0.8888888888888888,\"#fdca26\"],[1.0,\"#f0f921\"]],\"sequentialminus\":[[0.0,\"#0d0887\"],[0.1111111111111111,\"#46039f\"],[0.2222222222222222,\"#7201a8\"],[0.3333333333333333,\"#9c179e\"],[0.4444444444444444,\"#bd3786\"],[0.5555555555555556,\"#d8576b\"],[0.6666666666666666,\"#ed7953\"],[0.7777777777777778,\"#fb9f3a\"],[0.8888888888888888,\"#fdca26\"],[1.0,\"#f0f921\"]]},\"colorway\":[\"#636efa\",\"#EF553B\",\"#00cc96\",\"#ab63fa\",\"#FFA15A\",\"#19d3f3\",\"#FF6692\",\"#B6E880\",\"#FF97FF\",\"#FECB52\"],\"font\":{\"color\":\"#2a3f5f\"},\"geo\":{\"bgcolor\":\"white\",\"lakecolor\":\"white\",\"landcolor\":\"#E5ECF6\",\"showlakes\":true,\"showland\":true,\"subunitcolor\":\"white\"},\"hoverlabel\":{\"align\":\"left\"},\"hovermode\":\"closest\",\"mapbox\":{\"style\":\"light\"},\"paper_bgcolor\":\"white\",\"plot_bgcolor\":\"#E5ECF6\",\"polar\":{\"angularaxis\":{\"gridcolor\":\"white\",\"linecolor\":\"white\",\"ticks\":\"\"},\"bgcolor\":\"#E5ECF6\",\"radialaxis\":{\"gridcolor\":\"white\",\"linecolor\":\"white\",\"ticks\":\"\"}},\"scene\":{\"xaxis\":{\"backgroundcolor\":\"#E5ECF6\",\"gridcolor\":\"white\",\"gridwidth\":2,\"linecolor\":\"white\",\"showbackground\":true,\"ticks\":\"\",\"zerolinecolor\":\"white\"},\"yaxis\":{\"backgroundcolor\":\"#E5ECF6\",\"gridcolor\":\"white\",\"gridwidth\":2,\"linecolor\":\"white\",\"showbackground\":true,\"ticks\":\"\",\"zerolinecolor\":\"white\"},\"zaxis\":{\"backgroundcolor\":\"#E5ECF6\",\"gridcolor\":\"white\",\"gridwidth\":2,\"linecolor\":\"white\",\"showbackground\":true,\"ticks\":\"\",\"zerolinecolor\":\"white\"}},\"shapedefaults\":{\"line\":{\"color\":\"#2a3f5f\"}},\"ternary\":{\"aaxis\":{\"gridcolor\":\"white\",\"linecolor\":\"white\",\"ticks\":\"\"},\"baxis\":{\"gridcolor\":\"white\",\"linecolor\":\"white\",\"ticks\":\"\"},\"bgcolor\":\"#E5ECF6\",\"caxis\":{\"gridcolor\":\"white\",\"linecolor\":\"white\",\"ticks\":\"\"}},\"title\":{\"x\":0.05},\"xaxis\":{\"automargin\":true,\"gridcolor\":\"white\",\"linecolor\":\"white\",\"ticks\":\"\",\"title\":{\"standoff\":15},\"zerolinecolor\":\"white\",\"zerolinewidth\":2},\"yaxis\":{\"automargin\":true,\"gridcolor\":\"white\",\"linecolor\":\"white\",\"ticks\":\"\",\"title\":{\"standoff\":15},\"zerolinecolor\":\"white\",\"zerolinewidth\":2}}},\"xaxis\":{\"anchor\":\"y\",\"domain\":[0.0,1.0],\"title\":{\"text\":\"HomePlanet\"}},\"yaxis\":{\"anchor\":\"x\",\"domain\":[0.0,1.0],\"title\":{\"text\":\"count\"}},\"legend\":{\"title\":{\"text\":\"Transported\"},\"tracegroupgap\":0},\"margin\":{\"t\":60},\"barmode\":\"group\",\"height\":500,\"width\":700},                        {\"responsive\": true}                    ).then(function(){\n",
              "                            \n",
              "var gd = document.getElementById('b5347cb9-2c53-4d42-a94a-d2d1d1ca1d46');\n",
              "var x = new MutationObserver(function (mutations, observer) {{\n",
              "        var display = window.getComputedStyle(gd).display;\n",
              "        if (!display || display === 'none') {{\n",
              "            console.log([gd, 'removed!']);\n",
              "            Plotly.purge(gd);\n",
              "            observer.disconnect();\n",
              "        }}\n",
              "}});\n",
              "\n",
              "// Listen for the removal of the full notebook cells\n",
              "var notebookContainer = gd.closest('#notebook-container');\n",
              "if (notebookContainer) {{\n",
              "    x.observe(notebookContainer, {childList: true});\n",
              "}}\n",
              "\n",
              "// Listen for the clearing of the current output cell\n",
              "var outputEl = gd.closest('.output');\n",
              "if (outputEl) {{\n",
              "    x.observe(outputEl, {childList: true});\n",
              "}}\n",
              "\n",
              "                        })                };                            </script>        </div>\n",
              "</body>\n",
              "</html>"
            ]
          },
          "metadata": {}
        }
      ]
    },
    {
      "cell_type": "code",
      "source": [
        "fig1 = px.histogram(space_df2, x=space_df2[\"Destination\"],\n",
        "             color='Transported', barmode='group',width=750,\n",
        "             height=700)\n",
        "fig1.show()"
      ],
      "metadata": {
        "colab": {
          "base_uri": "https://localhost:8080/",
          "height": 717
        },
        "id": "VkXo4YyxYvHo",
        "outputId": "620b1247-3e25-4318-e47a-88b2d5232ce7"
      },
      "execution_count": 25,
      "outputs": [
        {
          "output_type": "display_data",
          "data": {
            "text/html": [
              "<html>\n",
              "<head><meta charset=\"utf-8\" /></head>\n",
              "<body>\n",
              "    <div>            <script src=\"https://cdnjs.cloudflare.com/ajax/libs/mathjax/2.7.5/MathJax.js?config=TeX-AMS-MML_SVG\"></script><script type=\"text/javascript\">if (window.MathJax) {MathJax.Hub.Config({SVG: {font: \"STIX-Web\"}});}</script>                <script type=\"text/javascript\">window.PlotlyConfig = {MathJaxConfig: 'local'};</script>\n",
              "        <script src=\"https://cdn.plot.ly/plotly-2.8.3.min.js\"></script>                <div id=\"19942ef5-8e09-443a-8ab6-27cae33fd4bb\" class=\"plotly-graph-div\" style=\"height:700px; width:750px;\"></div>            <script type=\"text/javascript\">                                    window.PLOTLYENV=window.PLOTLYENV || {};                                    if (document.getElementById(\"19942ef5-8e09-443a-8ab6-27cae33fd4bb\")) {                    Plotly.newPlot(                        \"19942ef5-8e09-443a-8ab6-27cae33fd4bb\",                        [{\"alignmentgroup\":\"True\",\"bingroup\":\"x\",\"hovertemplate\":\"Transported=False<br>Destination=%{x}<br>count=%{y}<extra></extra>\",\"legendgroup\":\"False\",\"marker\":{\"color\":\"#636efa\",\"pattern\":{\"shape\":\"\"}},\"name\":\"False\",\"offsetgroup\":\"False\",\"orientation\":\"v\",\"showlegend\":true,\"x\":[\"TRAPPIST-1e\",\"TRAPPIST-1e\",\"TRAPPIST-1e\",\"TRAPPIST-1e\",\"TRAPPIST-1e\",\"55 Cancri e\",\"55 Cancri e\",\"55 Cancri e\",\"TRAPPIST-1e\",\"55 Cancri e\",\"55 Cancri e\",\"PSO J318.5-22\",\"TRAPPIST-1e\",\"TRAPPIST-1e\",\"TRAPPIST-1e\",\"55 Cancri e\",\"TRAPPIST-1e\",\"TRAPPIST-1e\",\"55 Cancri e\",\"55 Cancri e\",\"55 Cancri e\",\"55 Cancri e\",\"TRAPPIST-1e\",\"TRAPPIST-1e\",\"TRAPPIST-1e\",\"55 Cancri e\",\"TRAPPIST-1e\",\"TRAPPIST-1e\",\"PSO J318.5-22\",\"TRAPPIST-1e\",\"TRAPPIST-1e\",\"TRAPPIST-1e\",\"55 Cancri e\",\"TRAPPIST-1e\",\"TRAPPIST-1e\",\"TRAPPIST-1e\",\"TRAPPIST-1e\",\"PSO J318.5-22\",\"TRAPPIST-1e\",\"TRAPPIST-1e\",\"TRAPPIST-1e\",\"TRAPPIST-1e\",\"TRAPPIST-1e\",\"TRAPPIST-1e\",\"TRAPPIST-1e\",\"TRAPPIST-1e\",\"PSO J318.5-22\",\"TRAPPIST-1e\",\"TRAPPIST-1e\",\"TRAPPIST-1e\",\"TRAPPIST-1e\",\"TRAPPIST-1e\",\"TRAPPIST-1e\",\"TRAPPIST-1e\",\"TRAPPIST-1e\",\"TRAPPIST-1e\",\"TRAPPIST-1e\",\"TRAPPIST-1e\",\"TRAPPIST-1e\",\"TRAPPIST-1e\",\"TRAPPIST-1e\",\"TRAPPIST-1e\",\"PSO J318.5-22\",\"TRAPPIST-1e\",\"TRAPPIST-1e\",\"TRAPPIST-1e\",\"TRAPPIST-1e\",\"55 Cancri e\",\"TRAPPIST-1e\",\"PSO J318.5-22\",\"TRAPPIST-1e\",\"TRAPPIST-1e\",\"TRAPPIST-1e\",\"55 Cancri e\",\"TRAPPIST-1e\",\"TRAPPIST-1e\",\"TRAPPIST-1e\",\"TRAPPIST-1e\",\"TRAPPIST-1e\",\"55 Cancri e\",\"55 Cancri e\",\"TRAPPIST-1e\",\"TRAPPIST-1e\",\"TRAPPIST-1e\",\"PSO J318.5-22\",\"TRAPPIST-1e\",\"TRAPPIST-1e\",\"TRAPPIST-1e\",\"PSO J318.5-22\",\"TRAPPIST-1e\",\"TRAPPIST-1e\",\"TRAPPIST-1e\",\"TRAPPIST-1e\",\"55 Cancri e\",\"TRAPPIST-1e\",\"TRAPPIST-1e\",\"TRAPPIST-1e\",\"TRAPPIST-1e\",\"55 Cancri e\",\"55 Cancri e\",\"TRAPPIST-1e\",\"TRAPPIST-1e\",\"TRAPPIST-1e\",\"TRAPPIST-1e\",\"TRAPPIST-1e\",\"TRAPPIST-1e\",\"TRAPPIST-1e\",\"TRAPPIST-1e\",\"TRAPPIST-1e\",\"TRAPPIST-1e\",\"PSO J318.5-22\",\"TRAPPIST-1e\",\"TRAPPIST-1e\",\"TRAPPIST-1e\",\"55 Cancri e\",\"TRAPPIST-1e\",\"TRAPPIST-1e\",\"TRAPPIST-1e\",\"TRAPPIST-1e\",\"PSO J318.5-22\",\"TRAPPIST-1e\",\"TRAPPIST-1e\",\"55 Cancri e\",\"TRAPPIST-1e\",\"TRAPPIST-1e\",\"TRAPPIST-1e\",\"TRAPPIST-1e\",\"TRAPPIST-1e\",\"TRAPPIST-1e\",\"TRAPPIST-1e\",\"55 Cancri e\",\"TRAPPIST-1e\",\"55 Cancri e\",\"TRAPPIST-1e\",\"TRAPPIST-1e\",\"TRAPPIST-1e\",\"55 Cancri e\",\"TRAPPIST-1e\",\"TRAPPIST-1e\",\"TRAPPIST-1e\",\"55 Cancri e\",\"TRAPPIST-1e\",\"TRAPPIST-1e\",\"PSO J318.5-22\",\"55 Cancri e\",\"TRAPPIST-1e\",\"TRAPPIST-1e\",\"TRAPPIST-1e\",\"TRAPPIST-1e\",\"TRAPPIST-1e\",\"PSO J318.5-22\",\"PSO J318.5-22\",\"TRAPPIST-1e\",\"TRAPPIST-1e\",\"TRAPPIST-1e\",\"TRAPPIST-1e\",\"PSO J318.5-22\",\"TRAPPIST-1e\",\"55 Cancri e\",\"TRAPPIST-1e\",\"TRAPPIST-1e\",\"TRAPPIST-1e\",\"TRAPPIST-1e\",\"TRAPPIST-1e\",\"55 Cancri e\",\"55 Cancri e\",\"TRAPPIST-1e\",\"TRAPPIST-1e\",\"TRAPPIST-1e\",\"PSO J318.5-22\",\"TRAPPIST-1e\",\"TRAPPIST-1e\",\"TRAPPIST-1e\",\"TRAPPIST-1e\",\"TRAPPIST-1e\",\"55 Cancri e\",\"55 Cancri e\",\"TRAPPIST-1e\",\"TRAPPIST-1e\",\"TRAPPIST-1e\",\"55 Cancri e\",\"TRAPPIST-1e\",\"TRAPPIST-1e\",\"TRAPPIST-1e\",\"TRAPPIST-1e\",\"TRAPPIST-1e\",\"55 Cancri e\",\"TRAPPIST-1e\",\"TRAPPIST-1e\",\"TRAPPIST-1e\",\"55 Cancri e\",\"TRAPPIST-1e\",\"TRAPPIST-1e\",\"TRAPPIST-1e\",\"PSO J318.5-22\",\"TRAPPIST-1e\",\"PSO J318.5-22\",\"55 Cancri e\",\"55 Cancri e\",\"TRAPPIST-1e\",\"TRAPPIST-1e\",\"TRAPPIST-1e\",\"TRAPPIST-1e\",\"TRAPPIST-1e\",\"TRAPPIST-1e\",\"TRAPPIST-1e\",\"TRAPPIST-1e\",\"TRAPPIST-1e\",\"TRAPPIST-1e\",\"TRAPPIST-1e\",\"TRAPPIST-1e\",\"TRAPPIST-1e\",\"TRAPPIST-1e\",\"PSO J318.5-22\",\"TRAPPIST-1e\",\"PSO J318.5-22\",\"TRAPPIST-1e\",\"TRAPPIST-1e\",\"TRAPPIST-1e\",\"TRAPPIST-1e\",\"55 Cancri e\",\"TRAPPIST-1e\",\"PSO J318.5-22\",\"TRAPPIST-1e\",\"TRAPPIST-1e\",\"TRAPPIST-1e\",\"TRAPPIST-1e\",\"TRAPPIST-1e\",\"TRAPPIST-1e\",\"55 Cancri e\",\"TRAPPIST-1e\",\"TRAPPIST-1e\",\"TRAPPIST-1e\",\"55 Cancri e\",\"TRAPPIST-1e\",\"PSO J318.5-22\",\"55 Cancri e\",\"TRAPPIST-1e\",\"TRAPPIST-1e\",\"TRAPPIST-1e\",\"TRAPPIST-1e\",\"TRAPPIST-1e\",\"TRAPPIST-1e\",\"TRAPPIST-1e\",\"55 Cancri e\",\"TRAPPIST-1e\",\"TRAPPIST-1e\",\"TRAPPIST-1e\",\"PSO J318.5-22\",\"TRAPPIST-1e\",\"TRAPPIST-1e\",\"55 Cancri e\",\"TRAPPIST-1e\",\"TRAPPIST-1e\",\"TRAPPIST-1e\",\"TRAPPIST-1e\",\"TRAPPIST-1e\",\"TRAPPIST-1e\",\"TRAPPIST-1e\",\"TRAPPIST-1e\",\"TRAPPIST-1e\",\"TRAPPIST-1e\",\"TRAPPIST-1e\",\"PSO J318.5-22\",\"TRAPPIST-1e\",\"TRAPPIST-1e\",\"PSO J318.5-22\",\"TRAPPIST-1e\",\"55 Cancri e\",\"TRAPPIST-1e\",\"TRAPPIST-1e\",\"TRAPPIST-1e\",\"TRAPPIST-1e\",\"TRAPPIST-1e\",\"TRAPPIST-1e\",\"55 Cancri e\",\"TRAPPIST-1e\",\"TRAPPIST-1e\",\"TRAPPIST-1e\",\"TRAPPIST-1e\",\"PSO J318.5-22\",\"TRAPPIST-1e\",\"PSO J318.5-22\",\"TRAPPIST-1e\",\"TRAPPIST-1e\",\"55 Cancri e\",\"TRAPPIST-1e\",\"TRAPPIST-1e\",\"TRAPPIST-1e\",\"TRAPPIST-1e\",\"TRAPPIST-1e\",\"TRAPPIST-1e\",\"TRAPPIST-1e\",\"PSO J318.5-22\",\"TRAPPIST-1e\",\"TRAPPIST-1e\",\"TRAPPIST-1e\",\"TRAPPIST-1e\",\"TRAPPIST-1e\",\"TRAPPIST-1e\",\"TRAPPIST-1e\",\"PSO J318.5-22\",\"TRAPPIST-1e\",\"TRAPPIST-1e\",\"TRAPPIST-1e\",\"PSO J318.5-22\",\"TRAPPIST-1e\",\"TRAPPIST-1e\",\"TRAPPIST-1e\",\"TRAPPIST-1e\",\"TRAPPIST-1e\",\"TRAPPIST-1e\",\"TRAPPIST-1e\",\"TRAPPIST-1e\",\"TRAPPIST-1e\",\"TRAPPIST-1e\",\"55 Cancri e\",\"TRAPPIST-1e\",\"TRAPPIST-1e\",\"TRAPPIST-1e\",\"TRAPPIST-1e\",\"TRAPPIST-1e\",\"PSO J318.5-22\",\"PSO J318.5-22\",\"TRAPPIST-1e\",\"TRAPPIST-1e\",\"PSO J318.5-22\",\"TRAPPIST-1e\",\"TRAPPIST-1e\",\"55 Cancri e\",\"TRAPPIST-1e\",\"TRAPPIST-1e\",\"55 Cancri e\",\"55 Cancri e\",\"TRAPPIST-1e\",\"TRAPPIST-1e\",\"55 Cancri e\",\"55 Cancri e\",\"TRAPPIST-1e\",\"55 Cancri e\",\"PSO J318.5-22\",\"TRAPPIST-1e\",\"TRAPPIST-1e\",\"TRAPPIST-1e\",\"55 Cancri e\",\"TRAPPIST-1e\",\"TRAPPIST-1e\",\"TRAPPIST-1e\",\"PSO J318.5-22\",\"TRAPPIST-1e\",\"55 Cancri e\",\"TRAPPIST-1e\",\"TRAPPIST-1e\",\"PSO J318.5-22\",\"TRAPPIST-1e\",\"TRAPPIST-1e\",\"55 Cancri e\",\"TRAPPIST-1e\",\"TRAPPIST-1e\",\"PSO J318.5-22\",\"PSO J318.5-22\",\"TRAPPIST-1e\",\"TRAPPIST-1e\",\"55 Cancri e\",\"TRAPPIST-1e\",\"TRAPPIST-1e\",\"TRAPPIST-1e\",\"TRAPPIST-1e\",\"PSO J318.5-22\",\"TRAPPIST-1e\",\"55 Cancri e\",\"TRAPPIST-1e\",\"TRAPPIST-1e\",\"TRAPPIST-1e\",\"TRAPPIST-1e\",\"TRAPPIST-1e\",\"55 Cancri e\",\"PSO J318.5-22\",\"TRAPPIST-1e\",\"TRAPPIST-1e\",\"55 Cancri e\",\"TRAPPIST-1e\",\"55 Cancri e\",\"TRAPPIST-1e\",\"TRAPPIST-1e\",\"TRAPPIST-1e\",\"TRAPPIST-1e\",\"TRAPPIST-1e\",\"TRAPPIST-1e\",\"PSO J318.5-22\",\"TRAPPIST-1e\",\"TRAPPIST-1e\",\"TRAPPIST-1e\",\"TRAPPIST-1e\",\"PSO J318.5-22\",\"TRAPPIST-1e\",\"TRAPPIST-1e\",\"TRAPPIST-1e\",\"TRAPPIST-1e\",\"TRAPPIST-1e\",\"TRAPPIST-1e\",\"TRAPPIST-1e\",\"TRAPPIST-1e\",\"55 Cancri e\",\"TRAPPIST-1e\",\"PSO J318.5-22\",\"55 Cancri e\",\"TRAPPIST-1e\",\"TRAPPIST-1e\",\"55 Cancri e\",\"TRAPPIST-1e\",\"TRAPPIST-1e\",\"PSO J318.5-22\",\"PSO J318.5-22\",\"55 Cancri e\",\"TRAPPIST-1e\",\"TRAPPIST-1e\",\"TRAPPIST-1e\",\"TRAPPIST-1e\",\"TRAPPIST-1e\",\"TRAPPIST-1e\",\"TRAPPIST-1e\",\"TRAPPIST-1e\",\"TRAPPIST-1e\",\"TRAPPIST-1e\",\"TRAPPIST-1e\",\"55 Cancri e\",\"55 Cancri e\",\"TRAPPIST-1e\",\"PSO J318.5-22\",\"55 Cancri e\",\"TRAPPIST-1e\",\"TRAPPIST-1e\",\"TRAPPIST-1e\",\"TRAPPIST-1e\",\"TRAPPIST-1e\",\"TRAPPIST-1e\",\"TRAPPIST-1e\",\"TRAPPIST-1e\",\"TRAPPIST-1e\",\"TRAPPIST-1e\",\"TRAPPIST-1e\",\"TRAPPIST-1e\",\"55 Cancri e\",\"PSO J318.5-22\",\"TRAPPIST-1e\",\"TRAPPIST-1e\",\"PSO J318.5-22\",\"TRAPPIST-1e\",\"TRAPPIST-1e\",\"55 Cancri e\",\"55 Cancri e\",\"55 Cancri e\",\"TRAPPIST-1e\",\"TRAPPIST-1e\",\"TRAPPIST-1e\",\"TRAPPIST-1e\",\"TRAPPIST-1e\",\"TRAPPIST-1e\",\"TRAPPIST-1e\",\"TRAPPIST-1e\",\"TRAPPIST-1e\",\"TRAPPIST-1e\",\"TRAPPIST-1e\",\"TRAPPIST-1e\",\"TRAPPIST-1e\",\"55 Cancri e\",\"55 Cancri e\",\"TRAPPIST-1e\",\"TRAPPIST-1e\",\"TRAPPIST-1e\",\"TRAPPIST-1e\",\"TRAPPIST-1e\",\"TRAPPIST-1e\",\"PSO J318.5-22\",\"TRAPPIST-1e\",\"TRAPPIST-1e\",\"TRAPPIST-1e\",\"TRAPPIST-1e\",\"TRAPPIST-1e\",\"TRAPPIST-1e\",\"TRAPPIST-1e\",\"55 Cancri e\",\"PSO J318.5-22\",\"TRAPPIST-1e\",\"TRAPPIST-1e\",\"TRAPPIST-1e\",\"PSO J318.5-22\",\"TRAPPIST-1e\",\"TRAPPIST-1e\",\"55 Cancri e\",\"55 Cancri e\",\"TRAPPIST-1e\",\"TRAPPIST-1e\",\"TRAPPIST-1e\",\"TRAPPIST-1e\",\"TRAPPIST-1e\",\"TRAPPIST-1e\",\"PSO J318.5-22\",\"TRAPPIST-1e\",\"TRAPPIST-1e\",\"TRAPPIST-1e\",\"PSO J318.5-22\",\"TRAPPIST-1e\",\"TRAPPIST-1e\",\"TRAPPIST-1e\",\"PSO J318.5-22\",\"TRAPPIST-1e\",\"TRAPPIST-1e\",\"TRAPPIST-1e\",\"TRAPPIST-1e\",\"TRAPPIST-1e\",\"TRAPPIST-1e\",\"TRAPPIST-1e\",\"TRAPPIST-1e\",\"TRAPPIST-1e\",\"TRAPPIST-1e\",\"TRAPPIST-1e\",\"TRAPPIST-1e\",\"55 Cancri e\",\"55 Cancri e\",\"TRAPPIST-1e\",\"55 Cancri e\",\"TRAPPIST-1e\",\"TRAPPIST-1e\",\"TRAPPIST-1e\",\"55 Cancri e\",\"55 Cancri e\",\"TRAPPIST-1e\",\"TRAPPIST-1e\",\"TRAPPIST-1e\",\"55 Cancri e\",\"55 Cancri e\",\"TRAPPIST-1e\",\"55 Cancri e\",\"TRAPPIST-1e\",\"TRAPPIST-1e\",\"TRAPPIST-1e\",\"TRAPPIST-1e\",\"TRAPPIST-1e\",\"TRAPPIST-1e\",\"TRAPPIST-1e\",\"TRAPPIST-1e\",\"TRAPPIST-1e\",\"TRAPPIST-1e\",\"TRAPPIST-1e\",\"TRAPPIST-1e\",\"TRAPPIST-1e\",\"TRAPPIST-1e\",\"TRAPPIST-1e\",\"55 Cancri e\",\"TRAPPIST-1e\",\"55 Cancri e\",\"TRAPPIST-1e\",\"TRAPPIST-1e\",\"TRAPPIST-1e\",\"PSO J318.5-22\",\"TRAPPIST-1e\",\"TRAPPIST-1e\",\"TRAPPIST-1e\",\"TRAPPIST-1e\",\"TRAPPIST-1e\",\"TRAPPIST-1e\",\"TRAPPIST-1e\",\"TRAPPIST-1e\",\"TRAPPIST-1e\",\"TRAPPIST-1e\",\"TRAPPIST-1e\",\"55 Cancri e\",\"55 Cancri e\",\"TRAPPIST-1e\",\"TRAPPIST-1e\",\"TRAPPIST-1e\",\"TRAPPIST-1e\",\"TRAPPIST-1e\",\"TRAPPIST-1e\",\"TRAPPIST-1e\",\"55 Cancri e\",\"TRAPPIST-1e\",\"55 Cancri e\",\"TRAPPIST-1e\",\"TRAPPIST-1e\",\"TRAPPIST-1e\",\"PSO J318.5-22\",\"TRAPPIST-1e\",\"55 Cancri e\",\"TRAPPIST-1e\",\"TRAPPIST-1e\",\"PSO J318.5-22\",\"TRAPPIST-1e\",\"55 Cancri e\",\"TRAPPIST-1e\",\"TRAPPIST-1e\",\"TRAPPIST-1e\",\"TRAPPIST-1e\",\"TRAPPIST-1e\",\"TRAPPIST-1e\",\"TRAPPIST-1e\",\"TRAPPIST-1e\",\"55 Cancri e\",\"TRAPPIST-1e\",\"TRAPPIST-1e\",\"TRAPPIST-1e\",\"TRAPPIST-1e\",\"55 Cancri e\",\"55 Cancri e\",\"TRAPPIST-1e\",\"TRAPPIST-1e\",\"TRAPPIST-1e\",\"55 Cancri e\",\"TRAPPIST-1e\",\"55 Cancri e\",\"55 Cancri e\",\"TRAPPIST-1e\",\"TRAPPIST-1e\",\"TRAPPIST-1e\",\"TRAPPIST-1e\",\"TRAPPIST-1e\",\"TRAPPIST-1e\",\"PSO J318.5-22\",\"TRAPPIST-1e\",\"55 Cancri e\",\"TRAPPIST-1e\",\"TRAPPIST-1e\",\"TRAPPIST-1e\",\"TRAPPIST-1e\",\"TRAPPIST-1e\",\"PSO J318.5-22\",\"PSO J318.5-22\",\"TRAPPIST-1e\",\"TRAPPIST-1e\",\"TRAPPIST-1e\",\"TRAPPIST-1e\",\"TRAPPIST-1e\",\"55 Cancri e\",\"TRAPPIST-1e\",\"TRAPPIST-1e\",\"TRAPPIST-1e\",\"TRAPPIST-1e\",\"TRAPPIST-1e\",\"TRAPPIST-1e\",\"TRAPPIST-1e\",\"TRAPPIST-1e\",\"55 Cancri e\",\"TRAPPIST-1e\",\"TRAPPIST-1e\",\"TRAPPIST-1e\",\"TRAPPIST-1e\",\"TRAPPIST-1e\",\"TRAPPIST-1e\",\"TRAPPIST-1e\",\"TRAPPIST-1e\",\"TRAPPIST-1e\",\"TRAPPIST-1e\",\"TRAPPIST-1e\",\"TRAPPIST-1e\",\"TRAPPIST-1e\",\"TRAPPIST-1e\",\"PSO J318.5-22\",\"TRAPPIST-1e\",\"55 Cancri e\",\"PSO J318.5-22\",\"TRAPPIST-1e\",\"TRAPPIST-1e\",\"TRAPPIST-1e\",\"TRAPPIST-1e\",\"TRAPPIST-1e\",\"TRAPPIST-1e\",\"55 Cancri e\",\"55 Cancri e\",\"TRAPPIST-1e\",\"TRAPPIST-1e\",\"TRAPPIST-1e\",\"TRAPPIST-1e\",\"TRAPPIST-1e\",\"TRAPPIST-1e\",\"TRAPPIST-1e\",\"TRAPPIST-1e\",\"TRAPPIST-1e\",\"TRAPPIST-1e\",\"TRAPPIST-1e\",\"TRAPPIST-1e\",\"55 Cancri e\",\"55 Cancri e\",\"TRAPPIST-1e\",\"55 Cancri e\",\"TRAPPIST-1e\",\"55 Cancri e\",\"TRAPPIST-1e\",\"55 Cancri e\",\"TRAPPIST-1e\",\"TRAPPIST-1e\",\"PSO J318.5-22\",\"PSO J318.5-22\",\"TRAPPIST-1e\",\"PSO J318.5-22\",\"TRAPPIST-1e\",\"TRAPPIST-1e\",\"TRAPPIST-1e\",\"55 Cancri e\",\"TRAPPIST-1e\",\"TRAPPIST-1e\",\"TRAPPIST-1e\",\"TRAPPIST-1e\",\"TRAPPIST-1e\",\"TRAPPIST-1e\",\"55 Cancri e\",\"TRAPPIST-1e\",\"TRAPPIST-1e\",\"TRAPPIST-1e\",\"TRAPPIST-1e\",\"TRAPPIST-1e\",\"TRAPPIST-1e\",\"TRAPPIST-1e\",\"TRAPPIST-1e\",\"TRAPPIST-1e\",\"55 Cancri e\",\"TRAPPIST-1e\",\"55 Cancri e\",\"TRAPPIST-1e\",\"TRAPPIST-1e\",\"TRAPPIST-1e\",\"TRAPPIST-1e\",\"TRAPPIST-1e\",\"TRAPPIST-1e\",\"TRAPPIST-1e\",\"TRAPPIST-1e\",\"TRAPPIST-1e\",\"55 Cancri e\",\"TRAPPIST-1e\",\"TRAPPIST-1e\",\"TRAPPIST-1e\",\"TRAPPIST-1e\",\"55 Cancri e\",\"TRAPPIST-1e\",\"TRAPPIST-1e\",\"PSO J318.5-22\",\"TRAPPIST-1e\",\"TRAPPIST-1e\",\"TRAPPIST-1e\",\"TRAPPIST-1e\",\"TRAPPIST-1e\",\"TRAPPIST-1e\",\"TRAPPIST-1e\",\"TRAPPIST-1e\",\"TRAPPIST-1e\",\"TRAPPIST-1e\",\"55 Cancri e\",\"TRAPPIST-1e\",\"TRAPPIST-1e\",\"TRAPPIST-1e\",\"TRAPPIST-1e\",\"TRAPPIST-1e\",\"TRAPPIST-1e\",\"55 Cancri e\",\"TRAPPIST-1e\",\"TRAPPIST-1e\",\"PSO J318.5-22\",\"PSO J318.5-22\",\"TRAPPIST-1e\",\"TRAPPIST-1e\",\"TRAPPIST-1e\",\"TRAPPIST-1e\",\"TRAPPIST-1e\",\"55 Cancri e\",\"TRAPPIST-1e\",\"TRAPPIST-1e\",\"TRAPPIST-1e\",\"55 Cancri e\",\"TRAPPIST-1e\",\"55 Cancri e\",\"PSO J318.5-22\",\"TRAPPIST-1e\",\"TRAPPIST-1e\",\"TRAPPIST-1e\",\"TRAPPIST-1e\",\"TRAPPIST-1e\",\"TRAPPIST-1e\",\"TRAPPIST-1e\",\"TRAPPIST-1e\",\"PSO J318.5-22\",\"TRAPPIST-1e\",\"TRAPPIST-1e\",\"55 Cancri e\",\"TRAPPIST-1e\",\"TRAPPIST-1e\",\"55 Cancri e\",\"TRAPPIST-1e\",\"55 Cancri e\",\"PSO J318.5-22\",\"TRAPPIST-1e\",\"TRAPPIST-1e\",\"TRAPPIST-1e\",\"55 Cancri e\",\"55 Cancri e\",\"TRAPPIST-1e\",\"TRAPPIST-1e\",\"TRAPPIST-1e\",\"TRAPPIST-1e\",\"TRAPPIST-1e\",\"TRAPPIST-1e\",\"TRAPPIST-1e\",\"TRAPPIST-1e\",\"TRAPPIST-1e\",\"TRAPPIST-1e\",\"TRAPPIST-1e\",\"PSO J318.5-22\",\"TRAPPIST-1e\",\"TRAPPIST-1e\",\"TRAPPIST-1e\",\"TRAPPIST-1e\",\"TRAPPIST-1e\",\"TRAPPIST-1e\",\"TRAPPIST-1e\",\"TRAPPIST-1e\",\"TRAPPIST-1e\",\"TRAPPIST-1e\",\"TRAPPIST-1e\",\"TRAPPIST-1e\",\"TRAPPIST-1e\",\"TRAPPIST-1e\",\"TRAPPIST-1e\",\"TRAPPIST-1e\",\"55 Cancri e\",\"TRAPPIST-1e\",\"TRAPPIST-1e\",\"PSO J318.5-22\",\"TRAPPIST-1e\",\"TRAPPIST-1e\",\"PSO J318.5-22\",\"TRAPPIST-1e\",\"TRAPPIST-1e\",\"TRAPPIST-1e\",\"PSO J318.5-22\",\"TRAPPIST-1e\",\"TRAPPIST-1e\",\"TRAPPIST-1e\",\"TRAPPIST-1e\",\"55 Cancri e\",\"TRAPPIST-1e\",\"55 Cancri e\",\"TRAPPIST-1e\",\"TRAPPIST-1e\",\"TRAPPIST-1e\",\"PSO J318.5-22\",\"TRAPPIST-1e\",\"TRAPPIST-1e\",\"55 Cancri e\",\"PSO J318.5-22\",\"55 Cancri e\",\"TRAPPIST-1e\",\"TRAPPIST-1e\",\"TRAPPIST-1e\",\"TRAPPIST-1e\",\"55 Cancri e\",\"TRAPPIST-1e\",\"TRAPPIST-1e\",\"55 Cancri e\",\"TRAPPIST-1e\",\"55 Cancri e\",\"TRAPPIST-1e\",\"TRAPPIST-1e\",\"TRAPPIST-1e\",\"55 Cancri e\",\"PSO J318.5-22\",\"TRAPPIST-1e\",\"55 Cancri e\",\"55 Cancri e\",\"TRAPPIST-1e\",\"TRAPPIST-1e\",\"55 Cancri e\",\"TRAPPIST-1e\",\"TRAPPIST-1e\",\"PSO J318.5-22\",\"TRAPPIST-1e\",\"TRAPPIST-1e\",\"TRAPPIST-1e\",\"TRAPPIST-1e\",\"PSO J318.5-22\",\"55 Cancri e\",\"TRAPPIST-1e\",\"55 Cancri e\",\"TRAPPIST-1e\",\"55 Cancri e\",\"TRAPPIST-1e\",\"TRAPPIST-1e\",\"TRAPPIST-1e\",\"TRAPPIST-1e\",\"TRAPPIST-1e\",\"TRAPPIST-1e\",\"TRAPPIST-1e\",\"TRAPPIST-1e\",\"TRAPPIST-1e\",\"PSO J318.5-22\",\"TRAPPIST-1e\",\"TRAPPIST-1e\",\"TRAPPIST-1e\",\"55 Cancri e\",\"TRAPPIST-1e\",\"TRAPPIST-1e\",\"TRAPPIST-1e\",\"TRAPPIST-1e\",\"TRAPPIST-1e\",\"55 Cancri e\",\"TRAPPIST-1e\",\"55 Cancri e\",\"55 Cancri e\",\"PSO J318.5-22\",\"TRAPPIST-1e\",\"TRAPPIST-1e\",\"55 Cancri e\",\"TRAPPIST-1e\",\"TRAPPIST-1e\",\"TRAPPIST-1e\",\"TRAPPIST-1e\",\"TRAPPIST-1e\",\"55 Cancri e\",\"TRAPPIST-1e\",\"TRAPPIST-1e\",\"55 Cancri e\",\"TRAPPIST-1e\",\"TRAPPIST-1e\",\"55 Cancri e\",\"TRAPPIST-1e\",\"TRAPPIST-1e\",\"TRAPPIST-1e\",\"TRAPPIST-1e\",\"TRAPPIST-1e\",\"TRAPPIST-1e\",\"TRAPPIST-1e\",\"TRAPPIST-1e\",\"TRAPPIST-1e\",\"TRAPPIST-1e\",\"TRAPPIST-1e\",\"TRAPPIST-1e\",\"TRAPPIST-1e\",\"TRAPPIST-1e\",\"TRAPPIST-1e\",\"TRAPPIST-1e\",\"55 Cancri e\",\"TRAPPIST-1e\",\"TRAPPIST-1e\",\"PSO J318.5-22\",\"TRAPPIST-1e\",\"TRAPPIST-1e\",\"TRAPPIST-1e\",\"TRAPPIST-1e\",\"TRAPPIST-1e\",\"TRAPPIST-1e\",\"PSO J318.5-22\",\"TRAPPIST-1e\",\"55 Cancri e\",\"TRAPPIST-1e\",\"PSO J318.5-22\",\"TRAPPIST-1e\",\"TRAPPIST-1e\",\"TRAPPIST-1e\",\"TRAPPIST-1e\",\"TRAPPIST-1e\",\"TRAPPIST-1e\",\"TRAPPIST-1e\",\"TRAPPIST-1e\",\"PSO J318.5-22\",\"55 Cancri e\",\"TRAPPIST-1e\",\"55 Cancri e\",\"PSO J318.5-22\",\"TRAPPIST-1e\",\"PSO J318.5-22\",\"55 Cancri e\",\"TRAPPIST-1e\",\"TRAPPIST-1e\",\"TRAPPIST-1e\",\"55 Cancri e\",\"55 Cancri e\",\"55 Cancri e\",\"TRAPPIST-1e\",\"TRAPPIST-1e\",\"TRAPPIST-1e\",\"TRAPPIST-1e\",\"TRAPPIST-1e\",\"TRAPPIST-1e\",\"PSO J318.5-22\",\"TRAPPIST-1e\",\"TRAPPIST-1e\",\"55 Cancri e\",\"TRAPPIST-1e\",\"TRAPPIST-1e\",\"55 Cancri e\",\"TRAPPIST-1e\",\"TRAPPIST-1e\",\"TRAPPIST-1e\",\"TRAPPIST-1e\",\"TRAPPIST-1e\",\"55 Cancri e\",\"PSO J318.5-22\",\"TRAPPIST-1e\",\"TRAPPIST-1e\",\"TRAPPIST-1e\",\"TRAPPIST-1e\",\"TRAPPIST-1e\",\"PSO J318.5-22\",\"TRAPPIST-1e\",\"TRAPPIST-1e\",\"TRAPPIST-1e\",\"TRAPPIST-1e\",\"TRAPPIST-1e\",\"55 Cancri e\",\"55 Cancri e\",\"TRAPPIST-1e\",\"TRAPPIST-1e\",\"TRAPPIST-1e\",\"TRAPPIST-1e\",\"TRAPPIST-1e\",\"TRAPPIST-1e\",\"PSO J318.5-22\",\"TRAPPIST-1e\",\"PSO J318.5-22\",\"55 Cancri e\",\"TRAPPIST-1e\",\"TRAPPIST-1e\",\"TRAPPIST-1e\",\"TRAPPIST-1e\",\"PSO J318.5-22\",\"TRAPPIST-1e\",\"TRAPPIST-1e\",\"TRAPPIST-1e\",\"TRAPPIST-1e\",\"TRAPPIST-1e\",\"TRAPPIST-1e\",\"TRAPPIST-1e\",\"TRAPPIST-1e\",\"TRAPPIST-1e\",\"TRAPPIST-1e\",\"TRAPPIST-1e\",\"PSO J318.5-22\",\"TRAPPIST-1e\",\"TRAPPIST-1e\",\"TRAPPIST-1e\",\"TRAPPIST-1e\",\"TRAPPIST-1e\",\"PSO J318.5-22\",\"TRAPPIST-1e\",\"TRAPPIST-1e\",\"TRAPPIST-1e\",\"TRAPPIST-1e\",\"55 Cancri e\",\"TRAPPIST-1e\",\"PSO J318.5-22\",\"TRAPPIST-1e\",\"TRAPPIST-1e\",\"TRAPPIST-1e\",\"55 Cancri e\",\"TRAPPIST-1e\",\"PSO J318.5-22\",\"TRAPPIST-1e\",\"TRAPPIST-1e\",\"55 Cancri e\",\"TRAPPIST-1e\",\"TRAPPIST-1e\",\"TRAPPIST-1e\",\"TRAPPIST-1e\",\"PSO J318.5-22\",\"TRAPPIST-1e\",\"TRAPPIST-1e\",\"TRAPPIST-1e\",\"TRAPPIST-1e\",\"TRAPPIST-1e\",\"PSO J318.5-22\",\"TRAPPIST-1e\",\"TRAPPIST-1e\",\"TRAPPIST-1e\",\"55 Cancri e\",\"TRAPPIST-1e\",\"TRAPPIST-1e\",\"TRAPPIST-1e\",\"55 Cancri e\",\"TRAPPIST-1e\",\"TRAPPIST-1e\",\"TRAPPIST-1e\",\"TRAPPIST-1e\",\"55 Cancri e\",\"TRAPPIST-1e\",\"TRAPPIST-1e\",\"TRAPPIST-1e\",\"55 Cancri e\",\"TRAPPIST-1e\",\"TRAPPIST-1e\",\"TRAPPIST-1e\",\"TRAPPIST-1e\",\"PSO J318.5-22\",\"TRAPPIST-1e\",\"55 Cancri e\",\"TRAPPIST-1e\",\"TRAPPIST-1e\",\"TRAPPIST-1e\",\"TRAPPIST-1e\",\"TRAPPIST-1e\",\"55 Cancri e\",\"TRAPPIST-1e\",\"55 Cancri e\",\"TRAPPIST-1e\",\"TRAPPIST-1e\",\"PSO J318.5-22\",\"TRAPPIST-1e\",\"55 Cancri e\",\"55 Cancri e\",\"55 Cancri e\",\"55 Cancri e\",\"TRAPPIST-1e\",\"TRAPPIST-1e\",\"TRAPPIST-1e\",\"55 Cancri e\",\"55 Cancri e\",\"TRAPPIST-1e\",\"PSO J318.5-22\",\"TRAPPIST-1e\",\"TRAPPIST-1e\",\"TRAPPIST-1e\",\"TRAPPIST-1e\",\"TRAPPIST-1e\",\"TRAPPIST-1e\",\"55 Cancri e\",\"PSO J318.5-22\",\"TRAPPIST-1e\",\"TRAPPIST-1e\",\"TRAPPIST-1e\",\"TRAPPIST-1e\",\"TRAPPIST-1e\",\"PSO J318.5-22\",\"PSO J318.5-22\",\"55 Cancri e\",\"TRAPPIST-1e\",\"55 Cancri e\",\"TRAPPIST-1e\",\"55 Cancri e\",\"TRAPPIST-1e\",\"55 Cancri e\",\"TRAPPIST-1e\",\"TRAPPIST-1e\",\"PSO J318.5-22\",\"TRAPPIST-1e\",\"TRAPPIST-1e\",\"TRAPPIST-1e\",\"TRAPPIST-1e\",\"TRAPPIST-1e\",\"55 Cancri e\",\"TRAPPIST-1e\",\"55 Cancri e\",\"TRAPPIST-1e\",\"PSO J318.5-22\",\"TRAPPIST-1e\",\"TRAPPIST-1e\",\"TRAPPIST-1e\",\"TRAPPIST-1e\",\"TRAPPIST-1e\",\"TRAPPIST-1e\",\"TRAPPIST-1e\",\"TRAPPIST-1e\",\"TRAPPIST-1e\",\"55 Cancri e\",\"TRAPPIST-1e\",\"TRAPPIST-1e\",\"TRAPPIST-1e\",\"TRAPPIST-1e\",\"55 Cancri e\",\"TRAPPIST-1e\",\"TRAPPIST-1e\",\"TRAPPIST-1e\",\"TRAPPIST-1e\",\"TRAPPIST-1e\",\"TRAPPIST-1e\",\"TRAPPIST-1e\",\"TRAPPIST-1e\",\"TRAPPIST-1e\",\"55 Cancri e\",\"55 Cancri e\",\"TRAPPIST-1e\",\"55 Cancri e\",\"TRAPPIST-1e\",\"TRAPPIST-1e\",\"PSO J318.5-22\",\"PSO J318.5-22\",\"TRAPPIST-1e\",\"TRAPPIST-1e\",\"TRAPPIST-1e\",\"TRAPPIST-1e\",\"TRAPPIST-1e\",\"TRAPPIST-1e\",\"TRAPPIST-1e\",\"TRAPPIST-1e\",\"TRAPPIST-1e\",\"TRAPPIST-1e\",\"PSO J318.5-22\",\"55 Cancri e\",\"55 Cancri e\",\"TRAPPIST-1e\",\"TRAPPIST-1e\",\"TRAPPIST-1e\",\"PSO J318.5-22\",\"TRAPPIST-1e\",\"55 Cancri e\",\"TRAPPIST-1e\",\"TRAPPIST-1e\",\"TRAPPIST-1e\",\"TRAPPIST-1e\",\"TRAPPIST-1e\",\"55 Cancri e\",\"TRAPPIST-1e\",\"55 Cancri e\",\"TRAPPIST-1e\",\"55 Cancri e\",\"55 Cancri e\",\"TRAPPIST-1e\",\"TRAPPIST-1e\",\"TRAPPIST-1e\",\"TRAPPIST-1e\",\"55 Cancri e\",\"TRAPPIST-1e\",\"TRAPPIST-1e\",\"TRAPPIST-1e\",\"TRAPPIST-1e\",\"55 Cancri e\",\"TRAPPIST-1e\",\"55 Cancri e\",\"TRAPPIST-1e\",\"TRAPPIST-1e\",\"TRAPPIST-1e\",\"TRAPPIST-1e\",\"TRAPPIST-1e\",\"TRAPPIST-1e\",\"TRAPPIST-1e\",\"TRAPPIST-1e\",\"TRAPPIST-1e\",\"TRAPPIST-1e\",\"TRAPPIST-1e\",\"TRAPPIST-1e\",\"TRAPPIST-1e\",\"TRAPPIST-1e\",\"TRAPPIST-1e\",\"TRAPPIST-1e\",\"PSO J318.5-22\",\"TRAPPIST-1e\",\"TRAPPIST-1e\",\"TRAPPIST-1e\",\"TRAPPIST-1e\",\"PSO J318.5-22\",\"TRAPPIST-1e\",\"TRAPPIST-1e\",\"TRAPPIST-1e\",\"TRAPPIST-1e\",\"TRAPPIST-1e\",\"TRAPPIST-1e\",\"TRAPPIST-1e\",\"TRAPPIST-1e\",\"TRAPPIST-1e\",\"TRAPPIST-1e\",\"TRAPPIST-1e\",\"TRAPPIST-1e\",\"TRAPPIST-1e\",\"PSO J318.5-22\",\"55 Cancri e\",\"55 Cancri e\",\"TRAPPIST-1e\",\"TRAPPIST-1e\",\"TRAPPIST-1e\",\"PSO J318.5-22\",\"55 Cancri e\",\"TRAPPIST-1e\",\"55 Cancri e\",\"TRAPPIST-1e\",\"TRAPPIST-1e\",\"TRAPPIST-1e\",\"PSO J318.5-22\",\"PSO J318.5-22\",\"TRAPPIST-1e\",\"55 Cancri e\",\"TRAPPIST-1e\",\"TRAPPIST-1e\",\"TRAPPIST-1e\",\"TRAPPIST-1e\",\"TRAPPIST-1e\",\"TRAPPIST-1e\",\"TRAPPIST-1e\",\"TRAPPIST-1e\",\"TRAPPIST-1e\",\"55 Cancri e\",\"TRAPPIST-1e\",\"55 Cancri e\",\"55 Cancri e\",\"55 Cancri e\",\"TRAPPIST-1e\",\"55 Cancri e\",\"PSO J318.5-22\",\"TRAPPIST-1e\",\"TRAPPIST-1e\",\"TRAPPIST-1e\",\"TRAPPIST-1e\",\"TRAPPIST-1e\",\"TRAPPIST-1e\",\"TRAPPIST-1e\",\"TRAPPIST-1e\",\"55 Cancri e\",\"TRAPPIST-1e\",\"55 Cancri e\",\"TRAPPIST-1e\",\"TRAPPIST-1e\",\"TRAPPIST-1e\",\"TRAPPIST-1e\",\"TRAPPIST-1e\",\"TRAPPIST-1e\",\"55 Cancri e\",\"TRAPPIST-1e\",\"PSO J318.5-22\",\"TRAPPIST-1e\",\"PSO J318.5-22\",\"TRAPPIST-1e\",\"TRAPPIST-1e\",\"TRAPPIST-1e\",\"TRAPPIST-1e\",\"TRAPPIST-1e\",\"55 Cancri e\",\"TRAPPIST-1e\",\"TRAPPIST-1e\",\"TRAPPIST-1e\",\"TRAPPIST-1e\",\"TRAPPIST-1e\",\"TRAPPIST-1e\",\"TRAPPIST-1e\",\"PSO J318.5-22\",\"PSO J318.5-22\",\"TRAPPIST-1e\",\"55 Cancri e\",\"TRAPPIST-1e\",\"TRAPPIST-1e\",\"TRAPPIST-1e\",\"TRAPPIST-1e\",\"55 Cancri e\",\"TRAPPIST-1e\",\"TRAPPIST-1e\",\"TRAPPIST-1e\",\"PSO J318.5-22\",\"TRAPPIST-1e\",\"TRAPPIST-1e\",\"TRAPPIST-1e\",\"TRAPPIST-1e\",\"TRAPPIST-1e\",\"TRAPPIST-1e\",\"TRAPPIST-1e\",\"TRAPPIST-1e\",\"55 Cancri e\",\"55 Cancri e\",\"PSO J318.5-22\",\"TRAPPIST-1e\",\"55 Cancri e\",\"TRAPPIST-1e\",\"55 Cancri e\",\"TRAPPIST-1e\",\"55 Cancri e\",\"TRAPPIST-1e\",\"TRAPPIST-1e\",\"TRAPPIST-1e\",\"TRAPPIST-1e\",\"TRAPPIST-1e\",\"TRAPPIST-1e\",\"TRAPPIST-1e\",\"PSO J318.5-22\",\"TRAPPIST-1e\",\"TRAPPIST-1e\",\"TRAPPIST-1e\",\"TRAPPIST-1e\",\"55 Cancri e\",\"TRAPPIST-1e\",\"TRAPPIST-1e\",\"TRAPPIST-1e\",\"55 Cancri e\",\"PSO J318.5-22\",\"TRAPPIST-1e\",\"55 Cancri e\",\"TRAPPIST-1e\",\"55 Cancri e\",\"55 Cancri e\",\"PSO J318.5-22\",\"TRAPPIST-1e\",\"TRAPPIST-1e\",\"TRAPPIST-1e\",\"TRAPPIST-1e\",\"55 Cancri e\",\"TRAPPIST-1e\",\"TRAPPIST-1e\",\"PSO J318.5-22\",\"55 Cancri e\",\"TRAPPIST-1e\",\"TRAPPIST-1e\",\"TRAPPIST-1e\",\"TRAPPIST-1e\",\"TRAPPIST-1e\",\"TRAPPIST-1e\",\"55 Cancri e\",\"TRAPPIST-1e\",\"TRAPPIST-1e\",\"55 Cancri e\",\"PSO J318.5-22\",\"TRAPPIST-1e\",\"TRAPPIST-1e\",\"TRAPPIST-1e\",\"55 Cancri e\",\"55 Cancri e\",\"PSO J318.5-22\",\"TRAPPIST-1e\",\"TRAPPIST-1e\",\"TRAPPIST-1e\",\"55 Cancri e\",\"TRAPPIST-1e\",\"PSO J318.5-22\",\"TRAPPIST-1e\",\"TRAPPIST-1e\",\"TRAPPIST-1e\",\"TRAPPIST-1e\",\"TRAPPIST-1e\",\"TRAPPIST-1e\",\"PSO J318.5-22\",\"55 Cancri e\",\"TRAPPIST-1e\",\"TRAPPIST-1e\",\"PSO J318.5-22\",\"TRAPPIST-1e\",\"PSO J318.5-22\",\"TRAPPIST-1e\",\"TRAPPIST-1e\",\"TRAPPIST-1e\",\"TRAPPIST-1e\",\"TRAPPIST-1e\",\"TRAPPIST-1e\",\"PSO J318.5-22\",\"TRAPPIST-1e\",\"TRAPPIST-1e\",\"TRAPPIST-1e\",\"55 Cancri e\",\"TRAPPIST-1e\",\"TRAPPIST-1e\",\"55 Cancri e\",\"TRAPPIST-1e\",\"55 Cancri e\",\"TRAPPIST-1e\",\"PSO J318.5-22\",\"TRAPPIST-1e\",\"TRAPPIST-1e\",\"55 Cancri e\",\"TRAPPIST-1e\",\"TRAPPIST-1e\",\"TRAPPIST-1e\",\"TRAPPIST-1e\",\"TRAPPIST-1e\",\"TRAPPIST-1e\",\"55 Cancri e\",\"TRAPPIST-1e\",\"TRAPPIST-1e\",\"TRAPPIST-1e\",\"55 Cancri e\",\"TRAPPIST-1e\",\"TRAPPIST-1e\",\"TRAPPIST-1e\",\"TRAPPIST-1e\",\"PSO J318.5-22\",\"TRAPPIST-1e\",\"PSO J318.5-22\",\"TRAPPIST-1e\",\"TRAPPIST-1e\",\"TRAPPIST-1e\",\"TRAPPIST-1e\",\"TRAPPIST-1e\",\"TRAPPIST-1e\",\"TRAPPIST-1e\",\"TRAPPIST-1e\",\"55 Cancri e\",\"TRAPPIST-1e\",\"TRAPPIST-1e\",\"TRAPPIST-1e\",\"TRAPPIST-1e\",\"TRAPPIST-1e\",\"TRAPPIST-1e\",\"TRAPPIST-1e\",\"TRAPPIST-1e\",\"TRAPPIST-1e\",\"TRAPPIST-1e\",\"TRAPPIST-1e\",\"TRAPPIST-1e\",\"55 Cancri e\",\"TRAPPIST-1e\",\"55 Cancri e\",\"TRAPPIST-1e\",\"TRAPPIST-1e\",\"TRAPPIST-1e\",\"TRAPPIST-1e\",\"PSO J318.5-22\",\"TRAPPIST-1e\",\"TRAPPIST-1e\",\"TRAPPIST-1e\",\"PSO J318.5-22\",\"TRAPPIST-1e\",\"TRAPPIST-1e\",\"TRAPPIST-1e\",\"TRAPPIST-1e\",\"TRAPPIST-1e\",\"TRAPPIST-1e\",\"55 Cancri e\",\"TRAPPIST-1e\",\"PSO J318.5-22\",\"TRAPPIST-1e\",\"TRAPPIST-1e\",\"TRAPPIST-1e\",\"TRAPPIST-1e\",\"TRAPPIST-1e\",\"TRAPPIST-1e\",\"55 Cancri e\",\"TRAPPIST-1e\",\"TRAPPIST-1e\",\"TRAPPIST-1e\",\"55 Cancri e\",\"TRAPPIST-1e\",\"55 Cancri e\",\"TRAPPIST-1e\",\"TRAPPIST-1e\",\"TRAPPIST-1e\",\"55 Cancri e\",\"TRAPPIST-1e\",\"TRAPPIST-1e\",\"TRAPPIST-1e\",\"PSO J318.5-22\",\"PSO J318.5-22\",\"55 Cancri e\",\"TRAPPIST-1e\",\"TRAPPIST-1e\",\"55 Cancri e\",\"TRAPPIST-1e\",\"TRAPPIST-1e\",\"TRAPPIST-1e\",\"TRAPPIST-1e\",\"TRAPPIST-1e\",\"TRAPPIST-1e\",\"TRAPPIST-1e\",\"55 Cancri e\",\"55 Cancri e\",\"TRAPPIST-1e\",\"TRAPPIST-1e\",\"55 Cancri e\",\"TRAPPIST-1e\",\"TRAPPIST-1e\",\"TRAPPIST-1e\",\"TRAPPIST-1e\",\"55 Cancri e\",\"TRAPPIST-1e\",\"TRAPPIST-1e\",\"TRAPPIST-1e\",\"PSO J318.5-22\",\"TRAPPIST-1e\",\"TRAPPIST-1e\",\"TRAPPIST-1e\",\"TRAPPIST-1e\",\"TRAPPIST-1e\",\"TRAPPIST-1e\",\"TRAPPIST-1e\",\"TRAPPIST-1e\",\"TRAPPIST-1e\",\"TRAPPIST-1e\",\"55 Cancri e\",\"TRAPPIST-1e\",\"TRAPPIST-1e\",\"55 Cancri e\",\"TRAPPIST-1e\",\"TRAPPIST-1e\",\"TRAPPIST-1e\",\"TRAPPIST-1e\",\"TRAPPIST-1e\",\"TRAPPIST-1e\",\"PSO J318.5-22\",\"55 Cancri e\",\"TRAPPIST-1e\",\"TRAPPIST-1e\",\"55 Cancri e\",\"TRAPPIST-1e\",\"TRAPPIST-1e\",\"TRAPPIST-1e\",\"TRAPPIST-1e\",\"55 Cancri e\",\"55 Cancri e\",\"TRAPPIST-1e\",\"55 Cancri e\",\"TRAPPIST-1e\",\"TRAPPIST-1e\",\"TRAPPIST-1e\",\"TRAPPIST-1e\",\"55 Cancri e\",\"PSO J318.5-22\",\"TRAPPIST-1e\",\"TRAPPIST-1e\",\"TRAPPIST-1e\",\"TRAPPIST-1e\",\"TRAPPIST-1e\",\"TRAPPIST-1e\",\"TRAPPIST-1e\",\"TRAPPIST-1e\",\"TRAPPIST-1e\",\"TRAPPIST-1e\",\"TRAPPIST-1e\",\"55 Cancri e\",\"TRAPPIST-1e\",\"TRAPPIST-1e\",\"TRAPPIST-1e\",\"55 Cancri e\",\"TRAPPIST-1e\",\"PSO J318.5-22\",\"TRAPPIST-1e\",\"TRAPPIST-1e\",\"PSO J318.5-22\",\"TRAPPIST-1e\",\"TRAPPIST-1e\",\"PSO J318.5-22\",\"55 Cancri e\",\"TRAPPIST-1e\",\"TRAPPIST-1e\",\"55 Cancri e\",\"TRAPPIST-1e\",\"PSO J318.5-22\",\"55 Cancri e\",\"TRAPPIST-1e\",\"TRAPPIST-1e\",\"TRAPPIST-1e\",\"55 Cancri e\",\"55 Cancri e\",\"TRAPPIST-1e\",\"TRAPPIST-1e\",\"TRAPPIST-1e\",\"55 Cancri e\",\"TRAPPIST-1e\",\"TRAPPIST-1e\",\"TRAPPIST-1e\",\"TRAPPIST-1e\",\"PSO J318.5-22\",\"TRAPPIST-1e\",\"TRAPPIST-1e\",\"TRAPPIST-1e\",\"PSO J318.5-22\",\"TRAPPIST-1e\",\"TRAPPIST-1e\",\"TRAPPIST-1e\",\"PSO J318.5-22\",\"55 Cancri e\",\"PSO J318.5-22\",\"55 Cancri e\",\"TRAPPIST-1e\",\"TRAPPIST-1e\",\"55 Cancri e\",\"TRAPPIST-1e\",\"TRAPPIST-1e\",\"TRAPPIST-1e\",\"TRAPPIST-1e\",\"TRAPPIST-1e\",\"TRAPPIST-1e\",\"PSO J318.5-22\",\"TRAPPIST-1e\",\"TRAPPIST-1e\",\"TRAPPIST-1e\",\"TRAPPIST-1e\",\"TRAPPIST-1e\",\"TRAPPIST-1e\",\"TRAPPIST-1e\",\"TRAPPIST-1e\",\"TRAPPIST-1e\",\"TRAPPIST-1e\",\"PSO J318.5-22\",\"PSO J318.5-22\",\"TRAPPIST-1e\",\"TRAPPIST-1e\",\"55 Cancri e\",\"TRAPPIST-1e\",\"TRAPPIST-1e\",\"TRAPPIST-1e\",\"TRAPPIST-1e\",\"TRAPPIST-1e\",\"TRAPPIST-1e\",\"TRAPPIST-1e\",\"TRAPPIST-1e\",\"TRAPPIST-1e\",\"TRAPPIST-1e\",\"55 Cancri e\",\"55 Cancri e\",\"TRAPPIST-1e\",\"TRAPPIST-1e\",\"TRAPPIST-1e\",\"55 Cancri e\",\"TRAPPIST-1e\",\"TRAPPIST-1e\",\"TRAPPIST-1e\",\"55 Cancri e\",\"TRAPPIST-1e\",\"TRAPPIST-1e\",\"55 Cancri e\",\"TRAPPIST-1e\",\"PSO J318.5-22\",\"TRAPPIST-1e\",\"55 Cancri e\",\"TRAPPIST-1e\",\"TRAPPIST-1e\",\"TRAPPIST-1e\",\"55 Cancri e\",\"55 Cancri e\",\"TRAPPIST-1e\",\"TRAPPIST-1e\",\"TRAPPIST-1e\",\"TRAPPIST-1e\",\"PSO J318.5-22\",\"TRAPPIST-1e\",\"PSO J318.5-22\",\"TRAPPIST-1e\",\"TRAPPIST-1e\",\"TRAPPIST-1e\",\"TRAPPIST-1e\",\"TRAPPIST-1e\",\"TRAPPIST-1e\",\"55 Cancri e\",\"TRAPPIST-1e\",\"55 Cancri e\",\"TRAPPIST-1e\",\"TRAPPIST-1e\",\"55 Cancri e\",\"TRAPPIST-1e\",\"55 Cancri e\",\"55 Cancri e\",\"PSO J318.5-22\",\"TRAPPIST-1e\",\"TRAPPIST-1e\",\"55 Cancri e\",\"TRAPPIST-1e\",\"TRAPPIST-1e\",\"TRAPPIST-1e\",\"PSO J318.5-22\",\"TRAPPIST-1e\",\"TRAPPIST-1e\",\"55 Cancri e\",\"TRAPPIST-1e\",\"TRAPPIST-1e\",\"TRAPPIST-1e\",\"TRAPPIST-1e\",\"PSO J318.5-22\",\"TRAPPIST-1e\",\"55 Cancri e\",\"TRAPPIST-1e\",\"TRAPPIST-1e\",\"TRAPPIST-1e\",\"TRAPPIST-1e\",\"TRAPPIST-1e\",\"TRAPPIST-1e\",\"TRAPPIST-1e\",\"TRAPPIST-1e\",\"TRAPPIST-1e\",\"TRAPPIST-1e\",\"TRAPPIST-1e\",\"TRAPPIST-1e\",\"55 Cancri e\",\"TRAPPIST-1e\",\"55 Cancri e\",\"TRAPPIST-1e\",\"TRAPPIST-1e\",\"PSO J318.5-22\",\"PSO J318.5-22\",\"TRAPPIST-1e\",\"TRAPPIST-1e\",\"TRAPPIST-1e\",\"TRAPPIST-1e\",\"55 Cancri e\",\"TRAPPIST-1e\",\"55 Cancri e\",\"TRAPPIST-1e\",\"TRAPPIST-1e\",\"55 Cancri e\",\"TRAPPIST-1e\",\"TRAPPIST-1e\",\"TRAPPIST-1e\",\"TRAPPIST-1e\",\"TRAPPIST-1e\",\"TRAPPIST-1e\",\"TRAPPIST-1e\",\"55 Cancri e\",\"TRAPPIST-1e\",\"PSO J318.5-22\",\"TRAPPIST-1e\",\"55 Cancri e\",\"TRAPPIST-1e\",\"TRAPPIST-1e\",\"TRAPPIST-1e\",\"TRAPPIST-1e\",\"TRAPPIST-1e\",\"TRAPPIST-1e\",\"55 Cancri e\",\"TRAPPIST-1e\",\"TRAPPIST-1e\",\"TRAPPIST-1e\",\"TRAPPIST-1e\",\"TRAPPIST-1e\",\"TRAPPIST-1e\",\"55 Cancri e\",\"TRAPPIST-1e\",\"TRAPPIST-1e\",\"TRAPPIST-1e\",\"TRAPPIST-1e\",\"TRAPPIST-1e\",\"TRAPPIST-1e\",\"TRAPPIST-1e\",\"TRAPPIST-1e\",\"TRAPPIST-1e\",\"TRAPPIST-1e\",\"PSO J318.5-22\",\"PSO J318.5-22\",\"55 Cancri e\",\"TRAPPIST-1e\",\"TRAPPIST-1e\",\"PSO J318.5-22\",\"TRAPPIST-1e\",\"TRAPPIST-1e\",\"55 Cancri e\",\"TRAPPIST-1e\",\"TRAPPIST-1e\",\"TRAPPIST-1e\",\"55 Cancri e\",\"TRAPPIST-1e\",\"TRAPPIST-1e\",\"TRAPPIST-1e\",\"TRAPPIST-1e\",\"TRAPPIST-1e\",\"TRAPPIST-1e\",\"TRAPPIST-1e\",\"TRAPPIST-1e\",\"TRAPPIST-1e\",\"TRAPPIST-1e\",\"55 Cancri e\",\"TRAPPIST-1e\",\"TRAPPIST-1e\",\"TRAPPIST-1e\",\"TRAPPIST-1e\",\"55 Cancri e\",\"TRAPPIST-1e\",\"PSO J318.5-22\",\"TRAPPIST-1e\",\"TRAPPIST-1e\",\"PSO J318.5-22\",\"TRAPPIST-1e\",\"TRAPPIST-1e\",\"TRAPPIST-1e\",\"TRAPPIST-1e\",\"TRAPPIST-1e\",\"55 Cancri e\",\"55 Cancri e\",\"55 Cancri e\",\"PSO J318.5-22\",\"TRAPPIST-1e\",\"TRAPPIST-1e\",\"TRAPPIST-1e\",\"TRAPPIST-1e\",\"PSO J318.5-22\",\"TRAPPIST-1e\",\"TRAPPIST-1e\",\"TRAPPIST-1e\",\"TRAPPIST-1e\",\"TRAPPIST-1e\",\"TRAPPIST-1e\",\"TRAPPIST-1e\",\"TRAPPIST-1e\",\"TRAPPIST-1e\",\"TRAPPIST-1e\",\"TRAPPIST-1e\",\"PSO J318.5-22\",\"TRAPPIST-1e\",\"TRAPPIST-1e\",\"TRAPPIST-1e\",\"TRAPPIST-1e\",\"PSO J318.5-22\",\"TRAPPIST-1e\",\"TRAPPIST-1e\",\"TRAPPIST-1e\",\"TRAPPIST-1e\",\"TRAPPIST-1e\",\"PSO J318.5-22\",\"TRAPPIST-1e\",\"PSO J318.5-22\",\"55 Cancri e\",\"TRAPPIST-1e\",\"TRAPPIST-1e\",\"55 Cancri e\",\"TRAPPIST-1e\",\"TRAPPIST-1e\",\"55 Cancri e\",\"TRAPPIST-1e\",\"TRAPPIST-1e\",\"TRAPPIST-1e\",\"TRAPPIST-1e\",\"TRAPPIST-1e\",\"TRAPPIST-1e\",\"TRAPPIST-1e\",\"TRAPPIST-1e\",\"TRAPPIST-1e\",\"55 Cancri e\",\"55 Cancri e\",\"TRAPPIST-1e\",\"TRAPPIST-1e\",\"TRAPPIST-1e\",\"TRAPPIST-1e\",\"55 Cancri e\",\"TRAPPIST-1e\",\"PSO J318.5-22\",\"TRAPPIST-1e\",\"TRAPPIST-1e\",\"TRAPPIST-1e\",\"TRAPPIST-1e\",\"TRAPPIST-1e\",\"TRAPPIST-1e\",\"TRAPPIST-1e\",\"PSO J318.5-22\",\"TRAPPIST-1e\",\"TRAPPIST-1e\",\"TRAPPIST-1e\",\"TRAPPIST-1e\",\"TRAPPIST-1e\",\"55 Cancri e\",\"55 Cancri e\",\"TRAPPIST-1e\",\"TRAPPIST-1e\",\"TRAPPIST-1e\",\"TRAPPIST-1e\",\"TRAPPIST-1e\",\"55 Cancri e\",\"TRAPPIST-1e\",\"TRAPPIST-1e\",\"TRAPPIST-1e\",\"55 Cancri e\",\"55 Cancri e\",\"55 Cancri e\",\"TRAPPIST-1e\",\"TRAPPIST-1e\",\"55 Cancri e\",\"TRAPPIST-1e\",\"TRAPPIST-1e\",\"TRAPPIST-1e\",\"TRAPPIST-1e\",\"TRAPPIST-1e\",\"TRAPPIST-1e\",\"TRAPPIST-1e\",\"PSO J318.5-22\",\"PSO J318.5-22\",\"TRAPPIST-1e\",\"TRAPPIST-1e\",\"55 Cancri e\",\"TRAPPIST-1e\",\"55 Cancri e\",\"PSO J318.5-22\",\"TRAPPIST-1e\",\"TRAPPIST-1e\",\"TRAPPIST-1e\",\"PSO J318.5-22\",\"TRAPPIST-1e\",\"55 Cancri e\",\"TRAPPIST-1e\",\"TRAPPIST-1e\",\"PSO J318.5-22\",\"TRAPPIST-1e\",\"TRAPPIST-1e\",\"TRAPPIST-1e\",\"TRAPPIST-1e\",\"55 Cancri e\",\"TRAPPIST-1e\",\"TRAPPIST-1e\",\"TRAPPIST-1e\",\"55 Cancri e\",\"TRAPPIST-1e\",\"TRAPPIST-1e\",\"55 Cancri e\",\"TRAPPIST-1e\",\"55 Cancri e\",\"55 Cancri e\",\"TRAPPIST-1e\",\"55 Cancri e\",\"TRAPPIST-1e\",\"55 Cancri e\",\"55 Cancri e\",\"TRAPPIST-1e\",\"TRAPPIST-1e\",\"TRAPPIST-1e\",\"TRAPPIST-1e\",\"TRAPPIST-1e\",\"TRAPPIST-1e\",\"55 Cancri e\",\"PSO J318.5-22\",\"TRAPPIST-1e\",\"TRAPPIST-1e\",\"TRAPPIST-1e\",\"TRAPPIST-1e\",\"TRAPPIST-1e\",\"TRAPPIST-1e\",\"TRAPPIST-1e\",\"TRAPPIST-1e\",\"55 Cancri e\",\"TRAPPIST-1e\",\"TRAPPIST-1e\",\"TRAPPIST-1e\",\"TRAPPIST-1e\",\"TRAPPIST-1e\",\"TRAPPIST-1e\",\"TRAPPIST-1e\",\"55 Cancri e\",\"TRAPPIST-1e\",\"TRAPPIST-1e\",\"TRAPPIST-1e\",\"TRAPPIST-1e\",\"TRAPPIST-1e\",\"TRAPPIST-1e\",\"55 Cancri e\",\"TRAPPIST-1e\",\"TRAPPIST-1e\",\"TRAPPIST-1e\",\"TRAPPIST-1e\",\"55 Cancri e\",\"TRAPPIST-1e\",\"55 Cancri e\",\"PSO J318.5-22\",\"TRAPPIST-1e\",\"TRAPPIST-1e\",\"TRAPPIST-1e\",\"55 Cancri e\",\"TRAPPIST-1e\",\"TRAPPIST-1e\",\"TRAPPIST-1e\",\"TRAPPIST-1e\",\"TRAPPIST-1e\",\"PSO J318.5-22\",\"TRAPPIST-1e\",\"TRAPPIST-1e\",\"TRAPPIST-1e\",\"55 Cancri e\",\"TRAPPIST-1e\",\"TRAPPIST-1e\",\"TRAPPIST-1e\",\"TRAPPIST-1e\",\"TRAPPIST-1e\",\"PSO J318.5-22\",\"TRAPPIST-1e\",\"TRAPPIST-1e\",\"TRAPPIST-1e\",\"55 Cancri e\",\"TRAPPIST-1e\",\"TRAPPIST-1e\",\"55 Cancri e\",\"TRAPPIST-1e\",\"PSO J318.5-22\",\"PSO J318.5-22\",\"TRAPPIST-1e\",\"55 Cancri e\",\"TRAPPIST-1e\",\"TRAPPIST-1e\",\"TRAPPIST-1e\",\"TRAPPIST-1e\",\"TRAPPIST-1e\",\"TRAPPIST-1e\",\"PSO J318.5-22\",\"TRAPPIST-1e\",\"TRAPPIST-1e\",\"TRAPPIST-1e\",\"TRAPPIST-1e\",\"TRAPPIST-1e\",\"TRAPPIST-1e\",\"55 Cancri e\",\"TRAPPIST-1e\",\"TRAPPIST-1e\",\"55 Cancri e\",\"TRAPPIST-1e\",\"PSO J318.5-22\",\"TRAPPIST-1e\",\"TRAPPIST-1e\",\"TRAPPIST-1e\",\"TRAPPIST-1e\",\"TRAPPIST-1e\",\"TRAPPIST-1e\",\"TRAPPIST-1e\",\"TRAPPIST-1e\",\"TRAPPIST-1e\",\"TRAPPIST-1e\",\"TRAPPIST-1e\",\"TRAPPIST-1e\",\"55 Cancri e\",\"55 Cancri e\",\"TRAPPIST-1e\",\"PSO J318.5-22\",\"TRAPPIST-1e\",\"55 Cancri e\",\"TRAPPIST-1e\",\"TRAPPIST-1e\",\"TRAPPIST-1e\",\"55 Cancri e\",\"TRAPPIST-1e\",\"55 Cancri e\",\"TRAPPIST-1e\",\"TRAPPIST-1e\",\"TRAPPIST-1e\",\"TRAPPIST-1e\",\"TRAPPIST-1e\",\"55 Cancri e\",\"TRAPPIST-1e\",\"TRAPPIST-1e\",\"55 Cancri e\",\"PSO J318.5-22\",\"TRAPPIST-1e\",\"TRAPPIST-1e\",\"TRAPPIST-1e\",\"TRAPPIST-1e\",\"TRAPPIST-1e\",\"TRAPPIST-1e\",\"TRAPPIST-1e\",\"55 Cancri e\",\"TRAPPIST-1e\",\"TRAPPIST-1e\",\"TRAPPIST-1e\",\"TRAPPIST-1e\",\"55 Cancri e\",\"TRAPPIST-1e\",\"TRAPPIST-1e\",\"TRAPPIST-1e\",\"55 Cancri e\",\"TRAPPIST-1e\",\"TRAPPIST-1e\",\"TRAPPIST-1e\",\"TRAPPIST-1e\",\"TRAPPIST-1e\",\"PSO J318.5-22\",\"TRAPPIST-1e\",\"PSO J318.5-22\",\"TRAPPIST-1e\",\"TRAPPIST-1e\",\"55 Cancri e\",\"55 Cancri e\",\"TRAPPIST-1e\",\"TRAPPIST-1e\",\"TRAPPIST-1e\",\"TRAPPIST-1e\",\"55 Cancri e\",\"55 Cancri e\",\"TRAPPIST-1e\",\"TRAPPIST-1e\",\"TRAPPIST-1e\",\"55 Cancri e\",\"55 Cancri e\",\"TRAPPIST-1e\",\"TRAPPIST-1e\",\"TRAPPIST-1e\",\"TRAPPIST-1e\",\"55 Cancri e\",\"TRAPPIST-1e\",\"TRAPPIST-1e\",\"TRAPPIST-1e\",\"TRAPPIST-1e\",\"55 Cancri e\",\"PSO J318.5-22\",\"TRAPPIST-1e\",\"TRAPPIST-1e\",\"TRAPPIST-1e\",\"TRAPPIST-1e\",\"TRAPPIST-1e\",\"55 Cancri e\",\"TRAPPIST-1e\",\"PSO J318.5-22\",\"TRAPPIST-1e\",\"TRAPPIST-1e\",\"TRAPPIST-1e\",\"TRAPPIST-1e\",\"TRAPPIST-1e\",\"TRAPPIST-1e\",\"TRAPPIST-1e\",\"TRAPPIST-1e\",\"TRAPPIST-1e\",\"TRAPPIST-1e\",\"TRAPPIST-1e\",\"TRAPPIST-1e\",\"55 Cancri e\",\"TRAPPIST-1e\",\"TRAPPIST-1e\",\"TRAPPIST-1e\",\"TRAPPIST-1e\",\"TRAPPIST-1e\",\"TRAPPIST-1e\",\"PSO J318.5-22\",\"55 Cancri e\",\"55 Cancri e\",\"TRAPPIST-1e\",\"TRAPPIST-1e\",\"TRAPPIST-1e\",\"TRAPPIST-1e\",\"TRAPPIST-1e\",\"TRAPPIST-1e\",\"TRAPPIST-1e\",\"55 Cancri e\",\"55 Cancri e\",\"TRAPPIST-1e\",\"TRAPPIST-1e\",\"55 Cancri e\",\"TRAPPIST-1e\",\"TRAPPIST-1e\",\"TRAPPIST-1e\",\"TRAPPIST-1e\",\"TRAPPIST-1e\",\"PSO J318.5-22\",\"55 Cancri e\",\"TRAPPIST-1e\",\"TRAPPIST-1e\",\"TRAPPIST-1e\",\"TRAPPIST-1e\",\"TRAPPIST-1e\",\"TRAPPIST-1e\",\"TRAPPIST-1e\",\"PSO J318.5-22\",\"TRAPPIST-1e\",\"55 Cancri e\",\"TRAPPIST-1e\",\"TRAPPIST-1e\",\"TRAPPIST-1e\",\"55 Cancri e\",\"TRAPPIST-1e\",\"TRAPPIST-1e\",\"TRAPPIST-1e\",\"TRAPPIST-1e\",\"55 Cancri e\",\"55 Cancri e\",\"TRAPPIST-1e\",\"TRAPPIST-1e\",\"55 Cancri e\",\"TRAPPIST-1e\",\"TRAPPIST-1e\",\"TRAPPIST-1e\",\"TRAPPIST-1e\",\"TRAPPIST-1e\",\"PSO J318.5-22\",\"TRAPPIST-1e\",\"TRAPPIST-1e\",\"TRAPPIST-1e\",\"TRAPPIST-1e\",\"TRAPPIST-1e\",\"TRAPPIST-1e\",\"TRAPPIST-1e\",\"TRAPPIST-1e\",\"TRAPPIST-1e\",\"TRAPPIST-1e\",\"55 Cancri e\",\"TRAPPIST-1e\",\"TRAPPIST-1e\",\"55 Cancri e\",\"55 Cancri e\",\"PSO J318.5-22\",\"TRAPPIST-1e\",\"TRAPPIST-1e\",\"TRAPPIST-1e\",\"55 Cancri e\",\"TRAPPIST-1e\",\"TRAPPIST-1e\",\"TRAPPIST-1e\",\"PSO J318.5-22\",\"TRAPPIST-1e\",\"TRAPPIST-1e\",\"TRAPPIST-1e\",\"PSO J318.5-22\",\"TRAPPIST-1e\",\"TRAPPIST-1e\",\"TRAPPIST-1e\",\"55 Cancri e\",\"TRAPPIST-1e\",\"55 Cancri e\",\"TRAPPIST-1e\",\"TRAPPIST-1e\",\"TRAPPIST-1e\",\"PSO J318.5-22\",\"55 Cancri e\",\"TRAPPIST-1e\",\"TRAPPIST-1e\",\"TRAPPIST-1e\",\"TRAPPIST-1e\",\"55 Cancri e\",\"TRAPPIST-1e\",\"TRAPPIST-1e\",\"PSO J318.5-22\",\"TRAPPIST-1e\",\"TRAPPIST-1e\",\"TRAPPIST-1e\",\"PSO J318.5-22\",\"TRAPPIST-1e\",\"TRAPPIST-1e\",\"TRAPPIST-1e\",\"TRAPPIST-1e\",\"PSO J318.5-22\",\"TRAPPIST-1e\",\"TRAPPIST-1e\",\"TRAPPIST-1e\",\"TRAPPIST-1e\",\"TRAPPIST-1e\",\"TRAPPIST-1e\",\"PSO J318.5-22\",\"TRAPPIST-1e\",\"TRAPPIST-1e\",\"TRAPPIST-1e\",\"TRAPPIST-1e\",\"TRAPPIST-1e\",\"TRAPPIST-1e\",\"55 Cancri e\",\"TRAPPIST-1e\",\"TRAPPIST-1e\",\"55 Cancri e\",\"TRAPPIST-1e\",\"55 Cancri e\",\"55 Cancri e\",\"TRAPPIST-1e\",\"PSO J318.5-22\",\"TRAPPIST-1e\",\"TRAPPIST-1e\",\"TRAPPIST-1e\",\"TRAPPIST-1e\",\"55 Cancri e\",\"TRAPPIST-1e\",\"TRAPPIST-1e\",\"TRAPPIST-1e\",\"PSO J318.5-22\",\"55 Cancri e\",\"55 Cancri e\",\"55 Cancri e\",\"55 Cancri e\",\"55 Cancri e\",\"PSO J318.5-22\",\"TRAPPIST-1e\",\"PSO J318.5-22\",\"TRAPPIST-1e\",\"TRAPPIST-1e\",\"TRAPPIST-1e\",\"TRAPPIST-1e\",\"TRAPPIST-1e\",\"TRAPPIST-1e\",\"TRAPPIST-1e\",\"TRAPPIST-1e\",\"TRAPPIST-1e\",\"TRAPPIST-1e\",\"PSO J318.5-22\",\"55 Cancri e\",\"55 Cancri e\",\"TRAPPIST-1e\",\"TRAPPIST-1e\",\"TRAPPIST-1e\",\"TRAPPIST-1e\",\"55 Cancri e\",\"TRAPPIST-1e\",\"TRAPPIST-1e\",\"TRAPPIST-1e\",\"PSO J318.5-22\",\"55 Cancri e\",\"TRAPPIST-1e\",\"TRAPPIST-1e\",\"TRAPPIST-1e\",\"55 Cancri e\",\"TRAPPIST-1e\",\"TRAPPIST-1e\",\"TRAPPIST-1e\",\"TRAPPIST-1e\",\"TRAPPIST-1e\",\"TRAPPIST-1e\",\"55 Cancri e\",\"TRAPPIST-1e\",\"55 Cancri e\",\"TRAPPIST-1e\",\"TRAPPIST-1e\",\"TRAPPIST-1e\",\"TRAPPIST-1e\",\"TRAPPIST-1e\",\"TRAPPIST-1e\",\"TRAPPIST-1e\",\"TRAPPIST-1e\",\"TRAPPIST-1e\",\"TRAPPIST-1e\",\"TRAPPIST-1e\",\"TRAPPIST-1e\",\"TRAPPIST-1e\",\"PSO J318.5-22\",\"TRAPPIST-1e\",\"PSO J318.5-22\",\"PSO J318.5-22\",\"TRAPPIST-1e\",\"55 Cancri e\",\"TRAPPIST-1e\",\"55 Cancri e\",\"TRAPPIST-1e\",\"TRAPPIST-1e\",\"TRAPPIST-1e\",\"TRAPPIST-1e\",\"TRAPPIST-1e\",\"TRAPPIST-1e\",\"PSO J318.5-22\",\"TRAPPIST-1e\",\"TRAPPIST-1e\",\"TRAPPIST-1e\",\"55 Cancri e\",\"TRAPPIST-1e\",\"55 Cancri e\",\"55 Cancri e\",\"TRAPPIST-1e\",\"TRAPPIST-1e\",\"TRAPPIST-1e\",\"TRAPPIST-1e\",\"TRAPPIST-1e\",\"TRAPPIST-1e\",\"TRAPPIST-1e\",\"55 Cancri e\",\"TRAPPIST-1e\",\"55 Cancri e\",\"TRAPPIST-1e\",\"TRAPPIST-1e\",\"TRAPPIST-1e\",\"TRAPPIST-1e\",\"TRAPPIST-1e\",\"TRAPPIST-1e\",\"TRAPPIST-1e\",\"TRAPPIST-1e\",\"55 Cancri e\",\"TRAPPIST-1e\",\"TRAPPIST-1e\",\"TRAPPIST-1e\",\"55 Cancri e\",\"PSO J318.5-22\",\"TRAPPIST-1e\",\"TRAPPIST-1e\",\"TRAPPIST-1e\",\"TRAPPIST-1e\",\"TRAPPIST-1e\",\"TRAPPIST-1e\",\"TRAPPIST-1e\",\"TRAPPIST-1e\",\"55 Cancri e\",\"TRAPPIST-1e\",\"TRAPPIST-1e\",\"TRAPPIST-1e\",\"TRAPPIST-1e\",\"TRAPPIST-1e\",\"TRAPPIST-1e\",\"TRAPPIST-1e\",\"TRAPPIST-1e\",\"TRAPPIST-1e\",\"TRAPPIST-1e\",\"TRAPPIST-1e\",\"TRAPPIST-1e\",\"PSO J318.5-22\",\"TRAPPIST-1e\",\"TRAPPIST-1e\",\"TRAPPIST-1e\",\"TRAPPIST-1e\",\"TRAPPIST-1e\",\"TRAPPIST-1e\",\"TRAPPIST-1e\",\"TRAPPIST-1e\",\"PSO J318.5-22\",\"PSO J318.5-22\",\"TRAPPIST-1e\",\"TRAPPIST-1e\",\"TRAPPIST-1e\",\"TRAPPIST-1e\",\"TRAPPIST-1e\",\"PSO J318.5-22\",\"55 Cancri e\",\"TRAPPIST-1e\",\"55 Cancri e\",\"55 Cancri e\",\"TRAPPIST-1e\",\"55 Cancri e\",\"TRAPPIST-1e\",\"TRAPPIST-1e\",\"TRAPPIST-1e\",\"TRAPPIST-1e\",\"TRAPPIST-1e\",\"55 Cancri e\",\"55 Cancri e\",\"TRAPPIST-1e\",\"TRAPPIST-1e\",\"TRAPPIST-1e\",\"TRAPPIST-1e\",\"TRAPPIST-1e\",\"TRAPPIST-1e\",\"TRAPPIST-1e\",\"PSO J318.5-22\",\"TRAPPIST-1e\",\"TRAPPIST-1e\",\"TRAPPIST-1e\",\"TRAPPIST-1e\",\"TRAPPIST-1e\",\"TRAPPIST-1e\",\"55 Cancri e\",\"TRAPPIST-1e\",\"TRAPPIST-1e\",\"TRAPPIST-1e\",\"PSO J318.5-22\",\"55 Cancri e\",\"TRAPPIST-1e\",\"TRAPPIST-1e\",\"TRAPPIST-1e\",\"PSO J318.5-22\",\"TRAPPIST-1e\",\"TRAPPIST-1e\",\"55 Cancri e\",\"TRAPPIST-1e\",\"TRAPPIST-1e\",\"55 Cancri e\",\"TRAPPIST-1e\",\"PSO J318.5-22\",\"TRAPPIST-1e\",\"TRAPPIST-1e\",\"TRAPPIST-1e\",\"55 Cancri e\",\"TRAPPIST-1e\",\"TRAPPIST-1e\",\"TRAPPIST-1e\",\"TRAPPIST-1e\",\"TRAPPIST-1e\",\"TRAPPIST-1e\",\"TRAPPIST-1e\",\"55 Cancri e\",\"TRAPPIST-1e\",\"TRAPPIST-1e\",\"55 Cancri e\",\"55 Cancri e\",\"TRAPPIST-1e\",\"TRAPPIST-1e\",\"PSO J318.5-22\",\"PSO J318.5-22\",\"55 Cancri e\",\"55 Cancri e\",\"TRAPPIST-1e\",\"TRAPPIST-1e\",\"TRAPPIST-1e\",\"55 Cancri e\",\"TRAPPIST-1e\",\"55 Cancri e\",\"TRAPPIST-1e\",\"TRAPPIST-1e\",\"PSO J318.5-22\",\"TRAPPIST-1e\",\"TRAPPIST-1e\",\"TRAPPIST-1e\",\"TRAPPIST-1e\",\"TRAPPIST-1e\",\"TRAPPIST-1e\",\"55 Cancri e\",\"TRAPPIST-1e\",\"TRAPPIST-1e\",\"TRAPPIST-1e\",\"55 Cancri e\",\"55 Cancri e\",\"TRAPPIST-1e\",\"TRAPPIST-1e\",\"TRAPPIST-1e\",\"PSO J318.5-22\",\"TRAPPIST-1e\",\"55 Cancri e\",\"TRAPPIST-1e\",\"55 Cancri e\",\"TRAPPIST-1e\",\"TRAPPIST-1e\",\"TRAPPIST-1e\",\"55 Cancri e\",\"TRAPPIST-1e\",\"55 Cancri e\",\"55 Cancri e\",\"TRAPPIST-1e\",\"TRAPPIST-1e\",\"TRAPPIST-1e\",\"TRAPPIST-1e\",\"TRAPPIST-1e\",\"TRAPPIST-1e\",\"TRAPPIST-1e\",\"TRAPPIST-1e\",\"TRAPPIST-1e\",\"TRAPPIST-1e\",\"55 Cancri e\",\"TRAPPIST-1e\",\"TRAPPIST-1e\",\"TRAPPIST-1e\",\"TRAPPIST-1e\",\"TRAPPIST-1e\",\"55 Cancri e\",\"55 Cancri e\",\"TRAPPIST-1e\",\"TRAPPIST-1e\",\"TRAPPIST-1e\",\"TRAPPIST-1e\",\"PSO J318.5-22\",\"TRAPPIST-1e\",\"TRAPPIST-1e\",\"PSO J318.5-22\",\"TRAPPIST-1e\",\"PSO J318.5-22\",\"TRAPPIST-1e\",\"PSO J318.5-22\",\"TRAPPIST-1e\",\"TRAPPIST-1e\",\"TRAPPIST-1e\",\"TRAPPIST-1e\",\"55 Cancri e\",\"TRAPPIST-1e\",\"PSO J318.5-22\",\"TRAPPIST-1e\",\"55 Cancri e\",\"PSO J318.5-22\",\"PSO J318.5-22\",\"TRAPPIST-1e\",\"55 Cancri e\",\"TRAPPIST-1e\",\"TRAPPIST-1e\",\"TRAPPIST-1e\",\"TRAPPIST-1e\",\"TRAPPIST-1e\",\"TRAPPIST-1e\",\"TRAPPIST-1e\",\"TRAPPIST-1e\",\"55 Cancri e\",\"TRAPPIST-1e\",\"TRAPPIST-1e\",\"55 Cancri e\",\"TRAPPIST-1e\",\"TRAPPIST-1e\",\"55 Cancri e\",\"TRAPPIST-1e\",\"TRAPPIST-1e\",\"TRAPPIST-1e\",\"TRAPPIST-1e\",\"TRAPPIST-1e\",\"TRAPPIST-1e\",\"TRAPPIST-1e\",\"TRAPPIST-1e\",\"TRAPPIST-1e\",\"TRAPPIST-1e\",\"TRAPPIST-1e\",\"TRAPPIST-1e\",\"TRAPPIST-1e\",\"TRAPPIST-1e\",\"TRAPPIST-1e\",\"TRAPPIST-1e\",\"TRAPPIST-1e\",\"TRAPPIST-1e\",\"TRAPPIST-1e\",\"55 Cancri e\",\"TRAPPIST-1e\",\"TRAPPIST-1e\",\"55 Cancri e\",\"PSO J318.5-22\",\"TRAPPIST-1e\",\"TRAPPIST-1e\",\"TRAPPIST-1e\",\"TRAPPIST-1e\",\"TRAPPIST-1e\",\"TRAPPIST-1e\",\"TRAPPIST-1e\",\"TRAPPIST-1e\",\"TRAPPIST-1e\",\"55 Cancri e\",\"55 Cancri e\",\"55 Cancri e\",\"55 Cancri e\",\"TRAPPIST-1e\",\"55 Cancri e\",\"TRAPPIST-1e\",\"TRAPPIST-1e\",\"TRAPPIST-1e\",\"TRAPPIST-1e\",\"55 Cancri e\",\"TRAPPIST-1e\",\"TRAPPIST-1e\",\"TRAPPIST-1e\",\"TRAPPIST-1e\",\"TRAPPIST-1e\",\"55 Cancri e\",\"TRAPPIST-1e\",\"55 Cancri e\",\"TRAPPIST-1e\",\"TRAPPIST-1e\",\"55 Cancri e\",\"TRAPPIST-1e\",\"TRAPPIST-1e\",\"TRAPPIST-1e\",\"55 Cancri e\",\"TRAPPIST-1e\",\"TRAPPIST-1e\",\"TRAPPIST-1e\",\"TRAPPIST-1e\",\"55 Cancri e\",\"55 Cancri e\",\"TRAPPIST-1e\",\"TRAPPIST-1e\",\"TRAPPIST-1e\",\"TRAPPIST-1e\",\"55 Cancri e\",\"TRAPPIST-1e\",\"TRAPPIST-1e\",\"TRAPPIST-1e\",\"TRAPPIST-1e\",\"55 Cancri e\",\"TRAPPIST-1e\",\"TRAPPIST-1e\",\"TRAPPIST-1e\",\"55 Cancri e\",\"TRAPPIST-1e\",\"TRAPPIST-1e\",\"TRAPPIST-1e\",\"TRAPPIST-1e\",\"55 Cancri e\",\"TRAPPIST-1e\",\"TRAPPIST-1e\",\"TRAPPIST-1e\",\"PSO J318.5-22\",\"TRAPPIST-1e\",\"TRAPPIST-1e\",\"TRAPPIST-1e\",\"TRAPPIST-1e\",\"TRAPPIST-1e\",\"TRAPPIST-1e\",\"TRAPPIST-1e\",\"PSO J318.5-22\",\"TRAPPIST-1e\",\"55 Cancri e\",\"TRAPPIST-1e\",\"TRAPPIST-1e\",\"55 Cancri e\",\"TRAPPIST-1e\",\"55 Cancri e\",\"TRAPPIST-1e\",\"55 Cancri e\",\"TRAPPIST-1e\",\"TRAPPIST-1e\",\"TRAPPIST-1e\",\"TRAPPIST-1e\",\"TRAPPIST-1e\",\"TRAPPIST-1e\",\"55 Cancri e\",\"55 Cancri e\",\"PSO J318.5-22\",\"TRAPPIST-1e\",\"TRAPPIST-1e\",\"TRAPPIST-1e\",\"TRAPPIST-1e\",\"TRAPPIST-1e\",\"TRAPPIST-1e\",\"55 Cancri e\",\"TRAPPIST-1e\",\"TRAPPIST-1e\",\"TRAPPIST-1e\",\"TRAPPIST-1e\",\"TRAPPIST-1e\",\"TRAPPIST-1e\",\"TRAPPIST-1e\",\"TRAPPIST-1e\",\"PSO J318.5-22\",\"55 Cancri e\",\"TRAPPIST-1e\",\"TRAPPIST-1e\",\"TRAPPIST-1e\",\"TRAPPIST-1e\",\"TRAPPIST-1e\",\"55 Cancri e\",\"TRAPPIST-1e\",\"TRAPPIST-1e\",\"TRAPPIST-1e\",\"55 Cancri e\",\"TRAPPIST-1e\",\"TRAPPIST-1e\",\"TRAPPIST-1e\",\"PSO J318.5-22\",\"TRAPPIST-1e\",\"TRAPPIST-1e\",\"TRAPPIST-1e\",\"TRAPPIST-1e\",\"55 Cancri e\",\"55 Cancri e\",\"TRAPPIST-1e\",\"TRAPPIST-1e\",\"TRAPPIST-1e\",\"TRAPPIST-1e\",\"55 Cancri e\",\"55 Cancri e\",\"TRAPPIST-1e\",\"TRAPPIST-1e\",\"PSO J318.5-22\",\"PSO J318.5-22\",\"TRAPPIST-1e\",\"TRAPPIST-1e\",\"TRAPPIST-1e\",\"PSO J318.5-22\",\"TRAPPIST-1e\",\"TRAPPIST-1e\",\"TRAPPIST-1e\",\"TRAPPIST-1e\",\"TRAPPIST-1e\",\"TRAPPIST-1e\",\"55 Cancri e\",\"TRAPPIST-1e\",\"TRAPPIST-1e\",\"TRAPPIST-1e\",\"55 Cancri e\",\"TRAPPIST-1e\",\"TRAPPIST-1e\",\"TRAPPIST-1e\",\"TRAPPIST-1e\",\"TRAPPIST-1e\",\"TRAPPIST-1e\",\"TRAPPIST-1e\",\"TRAPPIST-1e\",\"TRAPPIST-1e\",\"TRAPPIST-1e\",\"55 Cancri e\",\"TRAPPIST-1e\",\"TRAPPIST-1e\",\"TRAPPIST-1e\",\"TRAPPIST-1e\",\"55 Cancri e\",\"TRAPPIST-1e\",\"TRAPPIST-1e\",\"TRAPPIST-1e\",\"55 Cancri e\",\"TRAPPIST-1e\",\"TRAPPIST-1e\",\"TRAPPIST-1e\",\"PSO J318.5-22\",\"TRAPPIST-1e\",\"TRAPPIST-1e\",\"TRAPPIST-1e\",\"55 Cancri e\",\"55 Cancri e\",\"55 Cancri e\",\"TRAPPIST-1e\",\"TRAPPIST-1e\",\"55 Cancri e\",\"TRAPPIST-1e\",\"TRAPPIST-1e\",\"TRAPPIST-1e\",\"TRAPPIST-1e\",\"TRAPPIST-1e\",\"TRAPPIST-1e\",\"55 Cancri e\",\"TRAPPIST-1e\",\"TRAPPIST-1e\",\"TRAPPIST-1e\",\"TRAPPIST-1e\",\"TRAPPIST-1e\",\"55 Cancri e\",\"TRAPPIST-1e\",\"PSO J318.5-22\",\"55 Cancri e\",\"TRAPPIST-1e\",\"TRAPPIST-1e\",\"TRAPPIST-1e\",\"55 Cancri e\",\"TRAPPIST-1e\",\"TRAPPIST-1e\",\"PSO J318.5-22\",\"TRAPPIST-1e\",\"PSO J318.5-22\",\"TRAPPIST-1e\",\"TRAPPIST-1e\",\"TRAPPIST-1e\",\"TRAPPIST-1e\",\"TRAPPIST-1e\",\"TRAPPIST-1e\",\"TRAPPIST-1e\",\"TRAPPIST-1e\",\"TRAPPIST-1e\",\"55 Cancri e\",\"55 Cancri e\",\"55 Cancri e\",\"TRAPPIST-1e\",\"TRAPPIST-1e\",\"TRAPPIST-1e\",\"TRAPPIST-1e\",\"TRAPPIST-1e\",\"TRAPPIST-1e\",\"TRAPPIST-1e\",\"TRAPPIST-1e\",\"TRAPPIST-1e\",\"PSO J318.5-22\",\"TRAPPIST-1e\",\"TRAPPIST-1e\",\"TRAPPIST-1e\",\"TRAPPIST-1e\",\"TRAPPIST-1e\",\"PSO J318.5-22\",\"TRAPPIST-1e\",\"TRAPPIST-1e\",\"TRAPPIST-1e\",\"55 Cancri e\",\"55 Cancri e\",\"TRAPPIST-1e\",\"TRAPPIST-1e\",\"55 Cancri e\",\"TRAPPIST-1e\",\"TRAPPIST-1e\",\"TRAPPIST-1e\",\"55 Cancri e\",\"TRAPPIST-1e\",\"TRAPPIST-1e\",\"TRAPPIST-1e\",\"PSO J318.5-22\",\"TRAPPIST-1e\",\"TRAPPIST-1e\",\"TRAPPIST-1e\",\"TRAPPIST-1e\",\"TRAPPIST-1e\",\"55 Cancri e\",\"TRAPPIST-1e\",\"PSO J318.5-22\",\"TRAPPIST-1e\",\"55 Cancri e\",\"TRAPPIST-1e\",\"TRAPPIST-1e\",\"TRAPPIST-1e\",\"TRAPPIST-1e\",\"TRAPPIST-1e\",\"55 Cancri e\",\"TRAPPIST-1e\",\"TRAPPIST-1e\",\"PSO J318.5-22\",\"55 Cancri e\",\"TRAPPIST-1e\",\"TRAPPIST-1e\",\"TRAPPIST-1e\",\"TRAPPIST-1e\",\"TRAPPIST-1e\",\"TRAPPIST-1e\",\"TRAPPIST-1e\",\"55 Cancri e\",\"TRAPPIST-1e\",\"TRAPPIST-1e\",\"TRAPPIST-1e\",\"TRAPPIST-1e\",\"TRAPPIST-1e\",\"55 Cancri e\",\"TRAPPIST-1e\",\"TRAPPIST-1e\",\"TRAPPIST-1e\",\"TRAPPIST-1e\",\"PSO J318.5-22\",\"TRAPPIST-1e\",\"TRAPPIST-1e\",\"TRAPPIST-1e\",\"55 Cancri e\",\"TRAPPIST-1e\",\"55 Cancri e\",\"TRAPPIST-1e\",\"TRAPPIST-1e\",\"TRAPPIST-1e\",\"TRAPPIST-1e\",\"55 Cancri e\",\"TRAPPIST-1e\",\"TRAPPIST-1e\",\"TRAPPIST-1e\",\"TRAPPIST-1e\",\"TRAPPIST-1e\",\"PSO J318.5-22\",\"TRAPPIST-1e\",\"TRAPPIST-1e\",\"TRAPPIST-1e\",\"TRAPPIST-1e\",\"TRAPPIST-1e\",\"55 Cancri e\",\"TRAPPIST-1e\",\"TRAPPIST-1e\",\"55 Cancri e\",\"PSO J318.5-22\",\"TRAPPIST-1e\",\"TRAPPIST-1e\",\"TRAPPIST-1e\",\"TRAPPIST-1e\",\"PSO J318.5-22\",\"TRAPPIST-1e\",\"TRAPPIST-1e\",\"TRAPPIST-1e\",\"PSO J318.5-22\",\"TRAPPIST-1e\",\"TRAPPIST-1e\",\"TRAPPIST-1e\",\"55 Cancri e\",\"TRAPPIST-1e\",\"TRAPPIST-1e\",\"55 Cancri e\",\"TRAPPIST-1e\",\"TRAPPIST-1e\",\"TRAPPIST-1e\",\"TRAPPIST-1e\",\"PSO J318.5-22\",\"TRAPPIST-1e\",\"TRAPPIST-1e\",\"55 Cancri e\",\"TRAPPIST-1e\",\"TRAPPIST-1e\",\"PSO J318.5-22\",\"TRAPPIST-1e\",\"TRAPPIST-1e\",\"TRAPPIST-1e\",\"TRAPPIST-1e\",\"TRAPPIST-1e\",\"TRAPPIST-1e\",\"TRAPPIST-1e\",\"55 Cancri e\",\"TRAPPIST-1e\",\"55 Cancri e\",\"TRAPPIST-1e\",\"PSO J318.5-22\",\"TRAPPIST-1e\",\"TRAPPIST-1e\",\"TRAPPIST-1e\",\"55 Cancri e\",\"TRAPPIST-1e\",\"PSO J318.5-22\",\"55 Cancri e\",\"PSO J318.5-22\",\"TRAPPIST-1e\",\"TRAPPIST-1e\",\"TRAPPIST-1e\",\"TRAPPIST-1e\",\"TRAPPIST-1e\",\"55 Cancri e\",\"TRAPPIST-1e\",\"TRAPPIST-1e\",\"55 Cancri e\",\"55 Cancri e\",\"TRAPPIST-1e\",\"55 Cancri e\",\"TRAPPIST-1e\",\"TRAPPIST-1e\",\"TRAPPIST-1e\",\"TRAPPIST-1e\",\"TRAPPIST-1e\",\"TRAPPIST-1e\",\"55 Cancri e\",\"TRAPPIST-1e\",\"TRAPPIST-1e\",\"TRAPPIST-1e\",\"TRAPPIST-1e\",\"55 Cancri e\",\"TRAPPIST-1e\",\"PSO J318.5-22\",\"TRAPPIST-1e\",\"55 Cancri e\",\"TRAPPIST-1e\",\"PSO J318.5-22\",\"55 Cancri e\",\"TRAPPIST-1e\",\"TRAPPIST-1e\",\"TRAPPIST-1e\",\"55 Cancri e\",\"TRAPPIST-1e\",\"TRAPPIST-1e\",\"TRAPPIST-1e\",\"TRAPPIST-1e\",\"TRAPPIST-1e\",\"TRAPPIST-1e\",\"TRAPPIST-1e\",\"TRAPPIST-1e\",\"TRAPPIST-1e\",\"TRAPPIST-1e\",\"PSO J318.5-22\",\"TRAPPIST-1e\",\"TRAPPIST-1e\",\"55 Cancri e\",\"TRAPPIST-1e\",\"TRAPPIST-1e\",\"TRAPPIST-1e\",\"TRAPPIST-1e\",\"TRAPPIST-1e\",\"TRAPPIST-1e\",\"TRAPPIST-1e\",\"TRAPPIST-1e\",\"TRAPPIST-1e\",\"55 Cancri e\",\"TRAPPIST-1e\",\"TRAPPIST-1e\",\"55 Cancri e\",\"TRAPPIST-1e\",\"PSO J318.5-22\",\"TRAPPIST-1e\",\"TRAPPIST-1e\",\"55 Cancri e\",\"TRAPPIST-1e\",\"55 Cancri e\",\"TRAPPIST-1e\",\"PSO J318.5-22\",\"TRAPPIST-1e\",\"55 Cancri e\",\"PSO J318.5-22\",\"TRAPPIST-1e\",\"PSO J318.5-22\",\"TRAPPIST-1e\",\"TRAPPIST-1e\",\"TRAPPIST-1e\",\"PSO J318.5-22\",\"55 Cancri e\",\"TRAPPIST-1e\",\"TRAPPIST-1e\",\"55 Cancri e\",\"55 Cancri e\",\"TRAPPIST-1e\",\"TRAPPIST-1e\",\"TRAPPIST-1e\",\"TRAPPIST-1e\",\"TRAPPIST-1e\",\"55 Cancri e\",\"TRAPPIST-1e\",\"TRAPPIST-1e\",\"TRAPPIST-1e\",\"PSO J318.5-22\",\"TRAPPIST-1e\",\"TRAPPIST-1e\",\"TRAPPIST-1e\",\"TRAPPIST-1e\",\"55 Cancri e\",\"PSO J318.5-22\",\"TRAPPIST-1e\",\"TRAPPIST-1e\",\"TRAPPIST-1e\",\"TRAPPIST-1e\",\"PSO J318.5-22\",\"PSO J318.5-22\",\"TRAPPIST-1e\",\"55 Cancri e\",\"TRAPPIST-1e\",\"TRAPPIST-1e\",\"PSO J318.5-22\",\"55 Cancri e\",\"TRAPPIST-1e\",\"TRAPPIST-1e\",\"TRAPPIST-1e\",\"PSO J318.5-22\",\"TRAPPIST-1e\",\"55 Cancri e\",\"PSO J318.5-22\",\"PSO J318.5-22\",\"TRAPPIST-1e\",\"TRAPPIST-1e\",\"TRAPPIST-1e\",\"55 Cancri e\",\"TRAPPIST-1e\",\"55 Cancri e\",\"TRAPPIST-1e\",\"TRAPPIST-1e\",\"TRAPPIST-1e\",\"TRAPPIST-1e\",\"TRAPPIST-1e\",\"TRAPPIST-1e\",\"TRAPPIST-1e\",\"TRAPPIST-1e\",\"55 Cancri e\",\"55 Cancri e\",\"55 Cancri e\",\"PSO J318.5-22\",\"TRAPPIST-1e\",\"TRAPPIST-1e\",\"TRAPPIST-1e\",\"PSO J318.5-22\",\"PSO J318.5-22\",\"TRAPPIST-1e\",\"TRAPPIST-1e\",\"TRAPPIST-1e\",\"55 Cancri e\",\"55 Cancri e\",\"55 Cancri e\",\"TRAPPIST-1e\",\"TRAPPIST-1e\",\"TRAPPIST-1e\",\"TRAPPIST-1e\",\"TRAPPIST-1e\",\"TRAPPIST-1e\",\"TRAPPIST-1e\",\"TRAPPIST-1e\",\"PSO J318.5-22\",\"TRAPPIST-1e\",\"TRAPPIST-1e\",\"TRAPPIST-1e\",\"TRAPPIST-1e\",\"PSO J318.5-22\",\"TRAPPIST-1e\",\"TRAPPIST-1e\",\"TRAPPIST-1e\",\"TRAPPIST-1e\",\"TRAPPIST-1e\",\"TRAPPIST-1e\",\"TRAPPIST-1e\",\"TRAPPIST-1e\",\"TRAPPIST-1e\",\"TRAPPIST-1e\",\"TRAPPIST-1e\",\"TRAPPIST-1e\",\"TRAPPIST-1e\",\"TRAPPIST-1e\",\"TRAPPIST-1e\",\"TRAPPIST-1e\",\"TRAPPIST-1e\",\"TRAPPIST-1e\",\"TRAPPIST-1e\",\"55 Cancri e\",\"55 Cancri e\",\"TRAPPIST-1e\",\"TRAPPIST-1e\",\"PSO J318.5-22\",\"TRAPPIST-1e\",\"TRAPPIST-1e\",\"TRAPPIST-1e\",\"TRAPPIST-1e\",\"TRAPPIST-1e\",\"TRAPPIST-1e\",\"TRAPPIST-1e\",\"TRAPPIST-1e\",\"TRAPPIST-1e\",\"TRAPPIST-1e\",\"TRAPPIST-1e\",\"55 Cancri e\",\"TRAPPIST-1e\",\"55 Cancri e\",\"TRAPPIST-1e\",\"TRAPPIST-1e\",\"TRAPPIST-1e\",\"TRAPPIST-1e\",\"55 Cancri e\",\"TRAPPIST-1e\",\"TRAPPIST-1e\",\"TRAPPIST-1e\",\"TRAPPIST-1e\",\"TRAPPIST-1e\",\"TRAPPIST-1e\",\"TRAPPIST-1e\",\"TRAPPIST-1e\",\"TRAPPIST-1e\",\"TRAPPIST-1e\",\"TRAPPIST-1e\",\"TRAPPIST-1e\",\"TRAPPIST-1e\",\"TRAPPIST-1e\",\"TRAPPIST-1e\",\"TRAPPIST-1e\",\"TRAPPIST-1e\",\"TRAPPIST-1e\",\"TRAPPIST-1e\",\"TRAPPIST-1e\",\"TRAPPIST-1e\",\"PSO J318.5-22\",\"TRAPPIST-1e\",\"55 Cancri e\",\"TRAPPIST-1e\",\"TRAPPIST-1e\",\"55 Cancri e\",\"TRAPPIST-1e\",\"TRAPPIST-1e\",\"TRAPPIST-1e\",\"TRAPPIST-1e\",\"TRAPPIST-1e\",\"TRAPPIST-1e\",\"PSO J318.5-22\",\"TRAPPIST-1e\",\"PSO J318.5-22\",\"TRAPPIST-1e\",\"TRAPPIST-1e\",\"TRAPPIST-1e\",\"55 Cancri e\",\"TRAPPIST-1e\",\"55 Cancri e\",\"TRAPPIST-1e\",\"55 Cancri e\",\"TRAPPIST-1e\",\"TRAPPIST-1e\",\"TRAPPIST-1e\",\"TRAPPIST-1e\",\"55 Cancri e\",\"TRAPPIST-1e\",\"TRAPPIST-1e\",\"TRAPPIST-1e\",\"TRAPPIST-1e\",\"PSO J318.5-22\",\"55 Cancri e\",\"TRAPPIST-1e\",\"TRAPPIST-1e\",\"PSO J318.5-22\",\"TRAPPIST-1e\",\"TRAPPIST-1e\",\"TRAPPIST-1e\",\"TRAPPIST-1e\",\"55 Cancri e\",\"PSO J318.5-22\",\"TRAPPIST-1e\",\"TRAPPIST-1e\",\"TRAPPIST-1e\",\"TRAPPIST-1e\",\"PSO J318.5-22\",\"TRAPPIST-1e\",\"TRAPPIST-1e\",\"55 Cancri e\",\"TRAPPIST-1e\",\"TRAPPIST-1e\",\"TRAPPIST-1e\",\"TRAPPIST-1e\",\"TRAPPIST-1e\",\"TRAPPIST-1e\",\"TRAPPIST-1e\",\"TRAPPIST-1e\",\"TRAPPIST-1e\",\"TRAPPIST-1e\",\"TRAPPIST-1e\",\"55 Cancri e\",\"PSO J318.5-22\",\"TRAPPIST-1e\",\"TRAPPIST-1e\",\"TRAPPIST-1e\",\"PSO J318.5-22\",\"PSO J318.5-22\",\"TRAPPIST-1e\",\"TRAPPIST-1e\",\"TRAPPIST-1e\",\"TRAPPIST-1e\",\"PSO J318.5-22\",\"TRAPPIST-1e\",\"55 Cancri e\",\"TRAPPIST-1e\",\"TRAPPIST-1e\",\"TRAPPIST-1e\",\"TRAPPIST-1e\",\"PSO J318.5-22\",\"TRAPPIST-1e\",\"TRAPPIST-1e\",\"55 Cancri e\",\"55 Cancri e\",\"TRAPPIST-1e\",\"TRAPPIST-1e\",\"TRAPPIST-1e\",\"TRAPPIST-1e\",\"PSO J318.5-22\",\"TRAPPIST-1e\",\"PSO J318.5-22\",\"55 Cancri e\",\"TRAPPIST-1e\",\"TRAPPIST-1e\",\"TRAPPIST-1e\",\"TRAPPIST-1e\",\"TRAPPIST-1e\",\"55 Cancri e\",\"55 Cancri e\",\"TRAPPIST-1e\",\"TRAPPIST-1e\",\"TRAPPIST-1e\",\"TRAPPIST-1e\",\"TRAPPIST-1e\",\"55 Cancri e\",\"TRAPPIST-1e\",\"TRAPPIST-1e\",\"55 Cancri e\",\"55 Cancri e\",\"TRAPPIST-1e\",\"55 Cancri e\",\"TRAPPIST-1e\",\"TRAPPIST-1e\",\"TRAPPIST-1e\",\"TRAPPIST-1e\",\"TRAPPIST-1e\",\"PSO J318.5-22\",\"TRAPPIST-1e\",\"TRAPPIST-1e\",\"TRAPPIST-1e\",\"TRAPPIST-1e\",\"PSO J318.5-22\",\"TRAPPIST-1e\",\"55 Cancri e\",\"TRAPPIST-1e\",\"TRAPPIST-1e\",\"TRAPPIST-1e\",\"TRAPPIST-1e\",\"TRAPPIST-1e\",\"TRAPPIST-1e\",\"TRAPPIST-1e\",\"PSO J318.5-22\",\"PSO J318.5-22\",\"TRAPPIST-1e\",\"55 Cancri e\",\"TRAPPIST-1e\",\"55 Cancri e\",\"TRAPPIST-1e\",\"TRAPPIST-1e\",\"TRAPPIST-1e\",\"TRAPPIST-1e\",\"TRAPPIST-1e\",\"TRAPPIST-1e\",\"TRAPPIST-1e\",\"TRAPPIST-1e\",\"TRAPPIST-1e\",\"TRAPPIST-1e\",\"TRAPPIST-1e\",\"TRAPPIST-1e\",\"PSO J318.5-22\",\"55 Cancri e\",\"PSO J318.5-22\",\"55 Cancri e\",\"TRAPPIST-1e\",\"TRAPPIST-1e\",\"TRAPPIST-1e\",\"55 Cancri e\",\"55 Cancri e\",\"TRAPPIST-1e\",\"TRAPPIST-1e\",\"55 Cancri e\",\"TRAPPIST-1e\",\"TRAPPIST-1e\",\"TRAPPIST-1e\",\"55 Cancri e\",\"PSO J318.5-22\",\"TRAPPIST-1e\",\"55 Cancri e\",\"55 Cancri e\",\"TRAPPIST-1e\",\"TRAPPIST-1e\",\"55 Cancri e\",\"TRAPPIST-1e\",\"55 Cancri e\",\"TRAPPIST-1e\",\"TRAPPIST-1e\",\"TRAPPIST-1e\",\"TRAPPIST-1e\",\"TRAPPIST-1e\",\"PSO J318.5-22\",\"TRAPPIST-1e\",\"TRAPPIST-1e\",\"TRAPPIST-1e\",\"TRAPPIST-1e\",\"55 Cancri e\",\"TRAPPIST-1e\",\"PSO J318.5-22\",\"TRAPPIST-1e\",\"PSO J318.5-22\",\"PSO J318.5-22\",\"PSO J318.5-22\",\"TRAPPIST-1e\",\"TRAPPIST-1e\",\"TRAPPIST-1e\",\"TRAPPIST-1e\",\"TRAPPIST-1e\",\"TRAPPIST-1e\",\"TRAPPIST-1e\",\"TRAPPIST-1e\",\"55 Cancri e\",\"TRAPPIST-1e\",\"TRAPPIST-1e\",\"55 Cancri e\",\"55 Cancri e\",\"TRAPPIST-1e\",\"TRAPPIST-1e\",\"TRAPPIST-1e\",\"TRAPPIST-1e\",\"TRAPPIST-1e\",\"TRAPPIST-1e\",\"TRAPPIST-1e\",\"TRAPPIST-1e\",\"TRAPPIST-1e\",\"TRAPPIST-1e\",\"TRAPPIST-1e\",\"TRAPPIST-1e\",\"TRAPPIST-1e\",\"55 Cancri e\",\"TRAPPIST-1e\",\"TRAPPIST-1e\",\"TRAPPIST-1e\",\"TRAPPIST-1e\",\"TRAPPIST-1e\",\"TRAPPIST-1e\",\"TRAPPIST-1e\",\"55 Cancri e\",\"TRAPPIST-1e\",\"TRAPPIST-1e\",\"TRAPPIST-1e\",\"TRAPPIST-1e\",\"TRAPPIST-1e\",\"TRAPPIST-1e\",\"TRAPPIST-1e\",\"TRAPPIST-1e\",\"TRAPPIST-1e\",\"TRAPPIST-1e\",\"TRAPPIST-1e\",\"TRAPPIST-1e\",\"TRAPPIST-1e\",\"TRAPPIST-1e\",\"TRAPPIST-1e\",\"TRAPPIST-1e\",\"TRAPPIST-1e\",\"TRAPPIST-1e\",\"55 Cancri e\",\"TRAPPIST-1e\",\"TRAPPIST-1e\",\"TRAPPIST-1e\",\"TRAPPIST-1e\",\"TRAPPIST-1e\",\"TRAPPIST-1e\",\"TRAPPIST-1e\",\"TRAPPIST-1e\",\"TRAPPIST-1e\",\"TRAPPIST-1e\",\"TRAPPIST-1e\",\"TRAPPIST-1e\",\"PSO J318.5-22\",\"PSO J318.5-22\",\"TRAPPIST-1e\",\"55 Cancri e\",\"TRAPPIST-1e\",\"TRAPPIST-1e\",\"TRAPPIST-1e\",\"TRAPPIST-1e\",\"TRAPPIST-1e\",\"TRAPPIST-1e\",\"TRAPPIST-1e\",\"TRAPPIST-1e\",\"TRAPPIST-1e\",\"TRAPPIST-1e\",\"TRAPPIST-1e\",\"55 Cancri e\",\"TRAPPIST-1e\",\"PSO J318.5-22\",\"TRAPPIST-1e\",\"TRAPPIST-1e\",\"TRAPPIST-1e\",\"TRAPPIST-1e\",\"TRAPPIST-1e\",\"PSO J318.5-22\",\"TRAPPIST-1e\",\"PSO J318.5-22\",\"TRAPPIST-1e\",\"55 Cancri e\",\"TRAPPIST-1e\",\"TRAPPIST-1e\",\"TRAPPIST-1e\",\"TRAPPIST-1e\",\"TRAPPIST-1e\",\"TRAPPIST-1e\",\"55 Cancri e\",\"TRAPPIST-1e\",\"55 Cancri e\",\"55 Cancri e\",\"55 Cancri e\",\"55 Cancri e\",\"TRAPPIST-1e\",\"TRAPPIST-1e\",\"TRAPPIST-1e\",\"TRAPPIST-1e\",\"TRAPPIST-1e\",\"PSO J318.5-22\",\"TRAPPIST-1e\",\"TRAPPIST-1e\",\"TRAPPIST-1e\",\"TRAPPIST-1e\",\"TRAPPIST-1e\",\"TRAPPIST-1e\",\"TRAPPIST-1e\",\"PSO J318.5-22\",\"PSO J318.5-22\",\"PSO J318.5-22\",\"PSO J318.5-22\",\"55 Cancri e\",\"TRAPPIST-1e\",\"TRAPPIST-1e\",\"55 Cancri e\",\"55 Cancri e\",\"55 Cancri e\",\"TRAPPIST-1e\",\"TRAPPIST-1e\",\"TRAPPIST-1e\",\"TRAPPIST-1e\",\"55 Cancri e\",\"TRAPPIST-1e\",\"TRAPPIST-1e\",\"55 Cancri e\",\"TRAPPIST-1e\",\"TRAPPIST-1e\",\"TRAPPIST-1e\",\"TRAPPIST-1e\",\"55 Cancri e\",\"TRAPPIST-1e\",\"TRAPPIST-1e\",\"TRAPPIST-1e\",\"TRAPPIST-1e\",\"PSO J318.5-22\",\"TRAPPIST-1e\",\"TRAPPIST-1e\",\"TRAPPIST-1e\",\"PSO J318.5-22\",\"55 Cancri e\",\"TRAPPIST-1e\",\"TRAPPIST-1e\",\"TRAPPIST-1e\",\"TRAPPIST-1e\",\"TRAPPIST-1e\",\"TRAPPIST-1e\",\"55 Cancri e\",\"TRAPPIST-1e\",\"TRAPPIST-1e\",\"TRAPPIST-1e\",\"TRAPPIST-1e\",\"TRAPPIST-1e\",\"55 Cancri e\",\"TRAPPIST-1e\",\"PSO J318.5-22\",\"TRAPPIST-1e\",\"PSO J318.5-22\",\"TRAPPIST-1e\",\"PSO J318.5-22\",\"TRAPPIST-1e\",\"55 Cancri e\",\"TRAPPIST-1e\",\"55 Cancri e\",\"55 Cancri e\",\"TRAPPIST-1e\",\"TRAPPIST-1e\",\"TRAPPIST-1e\",\"TRAPPIST-1e\",\"PSO J318.5-22\",\"TRAPPIST-1e\",\"TRAPPIST-1e\",\"TRAPPIST-1e\",\"TRAPPIST-1e\",\"TRAPPIST-1e\",\"TRAPPIST-1e\",\"TRAPPIST-1e\",\"TRAPPIST-1e\",\"TRAPPIST-1e\",\"TRAPPIST-1e\",\"TRAPPIST-1e\",\"TRAPPIST-1e\",\"TRAPPIST-1e\",\"55 Cancri e\",\"55 Cancri e\",\"TRAPPIST-1e\",\"TRAPPIST-1e\",\"TRAPPIST-1e\",\"PSO J318.5-22\",\"55 Cancri e\",\"TRAPPIST-1e\",\"TRAPPIST-1e\",\"TRAPPIST-1e\",\"TRAPPIST-1e\",\"TRAPPIST-1e\",\"55 Cancri e\",\"PSO J318.5-22\",\"TRAPPIST-1e\",\"TRAPPIST-1e\",\"TRAPPIST-1e\",\"TRAPPIST-1e\",\"TRAPPIST-1e\",\"TRAPPIST-1e\",\"TRAPPIST-1e\",\"TRAPPIST-1e\",\"TRAPPIST-1e\",\"TRAPPIST-1e\",\"TRAPPIST-1e\",\"TRAPPIST-1e\",\"55 Cancri e\",\"TRAPPIST-1e\",\"TRAPPIST-1e\",\"TRAPPIST-1e\",\"55 Cancri e\",\"55 Cancri e\",\"TRAPPIST-1e\",\"55 Cancri e\",\"TRAPPIST-1e\",\"TRAPPIST-1e\",\"PSO J318.5-22\",\"PSO J318.5-22\",\"TRAPPIST-1e\",\"TRAPPIST-1e\",\"TRAPPIST-1e\",\"TRAPPIST-1e\",\"55 Cancri e\",\"TRAPPIST-1e\",\"TRAPPIST-1e\",\"TRAPPIST-1e\",\"TRAPPIST-1e\",\"TRAPPIST-1e\",\"55 Cancri e\",\"TRAPPIST-1e\",\"PSO J318.5-22\",\"TRAPPIST-1e\",\"PSO J318.5-22\",\"55 Cancri e\",\"TRAPPIST-1e\",\"TRAPPIST-1e\",\"TRAPPIST-1e\",\"TRAPPIST-1e\",\"TRAPPIST-1e\",\"TRAPPIST-1e\",\"TRAPPIST-1e\",\"TRAPPIST-1e\",\"TRAPPIST-1e\",\"TRAPPIST-1e\",\"TRAPPIST-1e\",\"TRAPPIST-1e\",\"TRAPPIST-1e\",\"TRAPPIST-1e\",\"TRAPPIST-1e\",\"TRAPPIST-1e\",\"55 Cancri e\",\"PSO J318.5-22\",\"TRAPPIST-1e\",\"55 Cancri e\",\"TRAPPIST-1e\",\"TRAPPIST-1e\",\"TRAPPIST-1e\",\"TRAPPIST-1e\",\"TRAPPIST-1e\",\"TRAPPIST-1e\",\"TRAPPIST-1e\",\"TRAPPIST-1e\",\"TRAPPIST-1e\",\"PSO J318.5-22\",\"TRAPPIST-1e\",\"55 Cancri e\",\"TRAPPIST-1e\",\"PSO J318.5-22\",\"TRAPPIST-1e\",\"TRAPPIST-1e\",\"TRAPPIST-1e\",\"TRAPPIST-1e\",\"55 Cancri e\",\"55 Cancri e\",\"55 Cancri e\",\"TRAPPIST-1e\",\"TRAPPIST-1e\",\"55 Cancri e\",\"PSO J318.5-22\",\"TRAPPIST-1e\",\"55 Cancri e\",\"TRAPPIST-1e\",\"TRAPPIST-1e\",\"55 Cancri e\",\"55 Cancri e\",\"55 Cancri e\",\"TRAPPIST-1e\",\"55 Cancri e\",\"55 Cancri e\",\"55 Cancri e\",\"TRAPPIST-1e\",\"TRAPPIST-1e\",\"TRAPPIST-1e\",\"TRAPPIST-1e\",\"55 Cancri e\",\"55 Cancri e\",\"PSO J318.5-22\",\"TRAPPIST-1e\",\"TRAPPIST-1e\",\"TRAPPIST-1e\",\"TRAPPIST-1e\",\"TRAPPIST-1e\",\"PSO J318.5-22\",\"TRAPPIST-1e\",\"TRAPPIST-1e\",\"55 Cancri e\",\"TRAPPIST-1e\",\"TRAPPIST-1e\",\"55 Cancri e\",\"55 Cancri e\",\"TRAPPIST-1e\",\"TRAPPIST-1e\",\"TRAPPIST-1e\",\"TRAPPIST-1e\",\"TRAPPIST-1e\",\"TRAPPIST-1e\",\"TRAPPIST-1e\",\"TRAPPIST-1e\",\"TRAPPIST-1e\",\"TRAPPIST-1e\",\"TRAPPIST-1e\",\"TRAPPIST-1e\",\"TRAPPIST-1e\",\"PSO J318.5-22\",\"TRAPPIST-1e\",\"PSO J318.5-22\",\"TRAPPIST-1e\",\"TRAPPIST-1e\",\"TRAPPIST-1e\",\"PSO J318.5-22\",\"TRAPPIST-1e\",\"TRAPPIST-1e\",\"55 Cancri e\",\"55 Cancri e\",\"TRAPPIST-1e\",\"TRAPPIST-1e\",\"55 Cancri e\",\"55 Cancri e\",\"TRAPPIST-1e\",\"PSO J318.5-22\",\"PSO J318.5-22\",\"TRAPPIST-1e\",\"TRAPPIST-1e\",\"TRAPPIST-1e\",\"TRAPPIST-1e\",\"TRAPPIST-1e\",\"TRAPPIST-1e\",\"55 Cancri e\",\"TRAPPIST-1e\",\"55 Cancri e\",\"TRAPPIST-1e\",\"TRAPPIST-1e\",\"TRAPPIST-1e\",\"TRAPPIST-1e\",\"TRAPPIST-1e\",\"TRAPPIST-1e\",\"PSO J318.5-22\",\"TRAPPIST-1e\",\"TRAPPIST-1e\",\"TRAPPIST-1e\",\"TRAPPIST-1e\",\"TRAPPIST-1e\",\"TRAPPIST-1e\",\"TRAPPIST-1e\",\"TRAPPIST-1e\",\"TRAPPIST-1e\",\"PSO J318.5-22\",\"TRAPPIST-1e\",\"TRAPPIST-1e\",\"TRAPPIST-1e\",\"TRAPPIST-1e\",\"55 Cancri e\",\"TRAPPIST-1e\",\"TRAPPIST-1e\",\"55 Cancri e\",\"TRAPPIST-1e\",\"TRAPPIST-1e\",\"TRAPPIST-1e\",\"TRAPPIST-1e\",\"TRAPPIST-1e\",\"TRAPPIST-1e\",\"TRAPPIST-1e\",\"TRAPPIST-1e\",\"TRAPPIST-1e\",\"TRAPPIST-1e\",\"TRAPPIST-1e\",\"TRAPPIST-1e\",\"TRAPPIST-1e\",\"PSO J318.5-22\",\"TRAPPIST-1e\",\"TRAPPIST-1e\",\"PSO J318.5-22\",\"TRAPPIST-1e\",\"TRAPPIST-1e\",\"TRAPPIST-1e\",\"55 Cancri e\",\"TRAPPIST-1e\",\"PSO J318.5-22\",\"TRAPPIST-1e\",\"PSO J318.5-22\",\"PSO J318.5-22\",\"TRAPPIST-1e\",\"TRAPPIST-1e\",\"55 Cancri e\",\"TRAPPIST-1e\",\"TRAPPIST-1e\",\"TRAPPIST-1e\",\"55 Cancri e\",\"TRAPPIST-1e\",\"TRAPPIST-1e\",\"PSO J318.5-22\",\"PSO J318.5-22\",\"TRAPPIST-1e\",\"TRAPPIST-1e\",\"TRAPPIST-1e\",\"TRAPPIST-1e\",\"TRAPPIST-1e\",\"TRAPPIST-1e\",\"TRAPPIST-1e\",\"55 Cancri e\",\"TRAPPIST-1e\",\"TRAPPIST-1e\",\"TRAPPIST-1e\",\"TRAPPIST-1e\",\"TRAPPIST-1e\",\"TRAPPIST-1e\",\"TRAPPIST-1e\",\"TRAPPIST-1e\",\"TRAPPIST-1e\",\"TRAPPIST-1e\",\"TRAPPIST-1e\",\"TRAPPIST-1e\",\"PSO J318.5-22\",\"TRAPPIST-1e\",\"TRAPPIST-1e\",\"TRAPPIST-1e\",\"55 Cancri e\",\"TRAPPIST-1e\",\"55 Cancri e\",\"TRAPPIST-1e\",\"TRAPPIST-1e\",\"TRAPPIST-1e\",\"TRAPPIST-1e\",\"55 Cancri e\",\"PSO J318.5-22\",\"TRAPPIST-1e\",\"TRAPPIST-1e\",\"TRAPPIST-1e\",\"TRAPPIST-1e\",\"PSO J318.5-22\",\"TRAPPIST-1e\",\"TRAPPIST-1e\",\"PSO J318.5-22\",\"PSO J318.5-22\",\"TRAPPIST-1e\",\"PSO J318.5-22\",\"TRAPPIST-1e\",\"PSO J318.5-22\",\"55 Cancri e\",\"TRAPPIST-1e\",\"TRAPPIST-1e\",\"TRAPPIST-1e\",\"55 Cancri e\",\"TRAPPIST-1e\",\"55 Cancri e\",\"55 Cancri e\",\"TRAPPIST-1e\",\"TRAPPIST-1e\",\"TRAPPIST-1e\",\"TRAPPIST-1e\",\"TRAPPIST-1e\",\"TRAPPIST-1e\",\"55 Cancri e\",\"TRAPPIST-1e\",\"TRAPPIST-1e\",\"TRAPPIST-1e\",\"TRAPPIST-1e\",\"TRAPPIST-1e\",\"PSO J318.5-22\",\"TRAPPIST-1e\",\"TRAPPIST-1e\",\"TRAPPIST-1e\",\"PSO J318.5-22\",\"TRAPPIST-1e\",\"TRAPPIST-1e\",\"TRAPPIST-1e\",\"TRAPPIST-1e\",\"55 Cancri e\",\"TRAPPIST-1e\",\"PSO J318.5-22\",\"TRAPPIST-1e\",\"TRAPPIST-1e\",\"TRAPPIST-1e\",\"TRAPPIST-1e\",\"55 Cancri e\",\"TRAPPIST-1e\",\"TRAPPIST-1e\",\"TRAPPIST-1e\",\"TRAPPIST-1e\",\"TRAPPIST-1e\",\"TRAPPIST-1e\",\"TRAPPIST-1e\",\"TRAPPIST-1e\",\"TRAPPIST-1e\",\"TRAPPIST-1e\",\"TRAPPIST-1e\",\"TRAPPIST-1e\",\"PSO J318.5-22\",\"TRAPPIST-1e\",\"TRAPPIST-1e\",\"PSO J318.5-22\",\"TRAPPIST-1e\",\"TRAPPIST-1e\",\"PSO J318.5-22\",\"55 Cancri e\",\"TRAPPIST-1e\",\"TRAPPIST-1e\",\"TRAPPIST-1e\",\"TRAPPIST-1e\",\"TRAPPIST-1e\",\"TRAPPIST-1e\",\"TRAPPIST-1e\",\"55 Cancri e\",\"TRAPPIST-1e\",\"TRAPPIST-1e\",\"TRAPPIST-1e\",\"55 Cancri e\",\"TRAPPIST-1e\",\"TRAPPIST-1e\",\"TRAPPIST-1e\",\"TRAPPIST-1e\",\"55 Cancri e\",\"TRAPPIST-1e\",\"PSO J318.5-22\",\"TRAPPIST-1e\",\"TRAPPIST-1e\",\"TRAPPIST-1e\",\"TRAPPIST-1e\",\"55 Cancri e\",\"TRAPPIST-1e\",\"PSO J318.5-22\",\"TRAPPIST-1e\",\"TRAPPIST-1e\",\"TRAPPIST-1e\",\"TRAPPIST-1e\",\"55 Cancri e\",\"55 Cancri e\",\"TRAPPIST-1e\",\"TRAPPIST-1e\",\"TRAPPIST-1e\",\"TRAPPIST-1e\",\"TRAPPIST-1e\",\"TRAPPIST-1e\",\"TRAPPIST-1e\",\"55 Cancri e\",\"TRAPPIST-1e\",\"55 Cancri e\",\"TRAPPIST-1e\",\"TRAPPIST-1e\",\"TRAPPIST-1e\",\"TRAPPIST-1e\",\"TRAPPIST-1e\",\"TRAPPIST-1e\",\"55 Cancri e\",\"TRAPPIST-1e\",\"TRAPPIST-1e\",\"55 Cancri e\",\"TRAPPIST-1e\",\"TRAPPIST-1e\",\"TRAPPIST-1e\",\"55 Cancri e\",\"55 Cancri e\",\"TRAPPIST-1e\",\"TRAPPIST-1e\",\"TRAPPIST-1e\",\"TRAPPIST-1e\",\"PSO J318.5-22\",\"TRAPPIST-1e\",\"55 Cancri e\",\"55 Cancri e\",\"TRAPPIST-1e\",\"TRAPPIST-1e\",\"TRAPPIST-1e\",\"PSO J318.5-22\",\"TRAPPIST-1e\",\"TRAPPIST-1e\",\"TRAPPIST-1e\",\"PSO J318.5-22\",\"PSO J318.5-22\",\"TRAPPIST-1e\",\"TRAPPIST-1e\",\"55 Cancri e\",\"TRAPPIST-1e\",\"PSO J318.5-22\",\"55 Cancri e\",\"55 Cancri e\",\"TRAPPIST-1e\",\"PSO J318.5-22\",\"TRAPPIST-1e\",\"TRAPPIST-1e\",\"TRAPPIST-1e\",\"TRAPPIST-1e\",\"TRAPPIST-1e\",\"TRAPPIST-1e\",\"TRAPPIST-1e\",\"TRAPPIST-1e\",\"TRAPPIST-1e\",\"PSO J318.5-22\",\"TRAPPIST-1e\",\"TRAPPIST-1e\",\"55 Cancri e\",\"TRAPPIST-1e\",\"PSO J318.5-22\",\"TRAPPIST-1e\",\"PSO J318.5-22\",\"TRAPPIST-1e\",\"55 Cancri e\",\"TRAPPIST-1e\",\"TRAPPIST-1e\",\"TRAPPIST-1e\",\"TRAPPIST-1e\",\"TRAPPIST-1e\",\"TRAPPIST-1e\",\"TRAPPIST-1e\",\"TRAPPIST-1e\",\"TRAPPIST-1e\",\"TRAPPIST-1e\",\"55 Cancri e\",\"TRAPPIST-1e\",\"TRAPPIST-1e\",\"TRAPPIST-1e\",\"TRAPPIST-1e\",\"TRAPPIST-1e\",\"55 Cancri e\",\"TRAPPIST-1e\",\"TRAPPIST-1e\",\"TRAPPIST-1e\",\"55 Cancri e\",\"TRAPPIST-1e\",\"TRAPPIST-1e\",\"PSO J318.5-22\",\"TRAPPIST-1e\",\"TRAPPIST-1e\",\"PSO J318.5-22\",\"TRAPPIST-1e\",\"55 Cancri e\",\"TRAPPIST-1e\",\"TRAPPIST-1e\",\"PSO J318.5-22\",\"PSO J318.5-22\",\"TRAPPIST-1e\",\"TRAPPIST-1e\",\"55 Cancri e\",\"TRAPPIST-1e\",\"TRAPPIST-1e\",\"TRAPPIST-1e\",\"55 Cancri e\",\"TRAPPIST-1e\",\"TRAPPIST-1e\",\"TRAPPIST-1e\",\"TRAPPIST-1e\",\"TRAPPIST-1e\",\"TRAPPIST-1e\",\"TRAPPIST-1e\",\"TRAPPIST-1e\",\"TRAPPIST-1e\",\"TRAPPIST-1e\",\"TRAPPIST-1e\",\"TRAPPIST-1e\",\"PSO J318.5-22\",\"PSO J318.5-22\",\"TRAPPIST-1e\",\"TRAPPIST-1e\",\"55 Cancri e\",\"PSO J318.5-22\",\"55 Cancri e\"],\"xaxis\":\"x\",\"yaxis\":\"y\",\"type\":\"histogram\"},{\"alignmentgroup\":\"True\",\"bingroup\":\"x\",\"hovertemplate\":\"Transported=True<br>Destination=%{x}<br>count=%{y}<extra></extra>\",\"legendgroup\":\"True\",\"marker\":{\"color\":\"#EF553B\",\"pattern\":{\"shape\":\"\"}},\"name\":\"True\",\"offsetgroup\":\"True\",\"orientation\":\"v\",\"showlegend\":true,\"x\":[\"TRAPPIST-1e\",\"TRAPPIST-1e\",\"PSO J318.5-22\",\"TRAPPIST-1e\",\"TRAPPIST-1e\",\"TRAPPIST-1e\",\"55 Cancri e\",\"TRAPPIST-1e\",\"55 Cancri e\",\"TRAPPIST-1e\",\"TRAPPIST-1e\",\"TRAPPIST-1e\",\"TRAPPIST-1e\",\"TRAPPIST-1e\",\"TRAPPIST-1e\",\"TRAPPIST-1e\",\"TRAPPIST-1e\",\"TRAPPIST-1e\",\"55 Cancri e\",\"TRAPPIST-1e\",\"55 Cancri e\",\"PSO J318.5-22\",\"TRAPPIST-1e\",\"TRAPPIST-1e\",\"TRAPPIST-1e\",\"TRAPPIST-1e\",\"TRAPPIST-1e\",\"PSO J318.5-22\",\"TRAPPIST-1e\",\"TRAPPIST-1e\",\"TRAPPIST-1e\",\"TRAPPIST-1e\",\"TRAPPIST-1e\",\"TRAPPIST-1e\",\"TRAPPIST-1e\",\"TRAPPIST-1e\",\"TRAPPIST-1e\",\"PSO J318.5-22\",\"TRAPPIST-1e\",\"TRAPPIST-1e\",\"TRAPPIST-1e\",\"TRAPPIST-1e\",\"TRAPPIST-1e\",\"TRAPPIST-1e\",\"TRAPPIST-1e\",\"TRAPPIST-1e\",\"55 Cancri e\",\"TRAPPIST-1e\",\"TRAPPIST-1e\",\"TRAPPIST-1e\",\"TRAPPIST-1e\",\"55 Cancri e\",\"TRAPPIST-1e\",\"TRAPPIST-1e\",\"TRAPPIST-1e\",\"TRAPPIST-1e\",\"TRAPPIST-1e\",\"TRAPPIST-1e\",\"PSO J318.5-22\",\"TRAPPIST-1e\",\"TRAPPIST-1e\",\"TRAPPIST-1e\",\"55 Cancri e\",\"TRAPPIST-1e\",\"TRAPPIST-1e\",\"TRAPPIST-1e\",\"55 Cancri e\",\"TRAPPIST-1e\",\"TRAPPIST-1e\",\"TRAPPIST-1e\",\"TRAPPIST-1e\",\"TRAPPIST-1e\",\"PSO J318.5-22\",\"TRAPPIST-1e\",\"TRAPPIST-1e\",\"TRAPPIST-1e\",\"TRAPPIST-1e\",\"TRAPPIST-1e\",\"TRAPPIST-1e\",\"TRAPPIST-1e\",\"TRAPPIST-1e\",\"TRAPPIST-1e\",\"TRAPPIST-1e\",\"TRAPPIST-1e\",\"PSO J318.5-22\",\"TRAPPIST-1e\",\"TRAPPIST-1e\",\"TRAPPIST-1e\",\"55 Cancri e\",\"55 Cancri e\",\"TRAPPIST-1e\",\"55 Cancri e\",\"TRAPPIST-1e\",\"TRAPPIST-1e\",\"TRAPPIST-1e\",\"TRAPPIST-1e\",\"TRAPPIST-1e\",\"TRAPPIST-1e\",\"TRAPPIST-1e\",\"TRAPPIST-1e\",\"TRAPPIST-1e\",\"PSO J318.5-22\",\"TRAPPIST-1e\",\"TRAPPIST-1e\",\"TRAPPIST-1e\",\"55 Cancri e\",\"55 Cancri e\",\"TRAPPIST-1e\",\"TRAPPIST-1e\",\"TRAPPIST-1e\",\"TRAPPIST-1e\",\"TRAPPIST-1e\",\"55 Cancri e\",\"55 Cancri e\",\"55 Cancri e\",\"TRAPPIST-1e\",\"TRAPPIST-1e\",\"PSO J318.5-22\",\"TRAPPIST-1e\",\"TRAPPIST-1e\",\"55 Cancri e\",\"55 Cancri e\",\"55 Cancri e\",\"55 Cancri e\",\"TRAPPIST-1e\",\"TRAPPIST-1e\",\"55 Cancri e\",\"TRAPPIST-1e\",\"TRAPPIST-1e\",\"TRAPPIST-1e\",\"55 Cancri e\",\"TRAPPIST-1e\",\"PSO J318.5-22\",\"55 Cancri e\",\"55 Cancri e\",\"55 Cancri e\",\"TRAPPIST-1e\",\"TRAPPIST-1e\",\"TRAPPIST-1e\",\"TRAPPIST-1e\",\"TRAPPIST-1e\",\"55 Cancri e\",\"55 Cancri e\",\"TRAPPIST-1e\",\"55 Cancri e\",\"TRAPPIST-1e\",\"55 Cancri e\",\"55 Cancri e\",\"TRAPPIST-1e\",\"TRAPPIST-1e\",\"PSO J318.5-22\",\"TRAPPIST-1e\",\"55 Cancri e\",\"TRAPPIST-1e\",\"PSO J318.5-22\",\"55 Cancri e\",\"TRAPPIST-1e\",\"TRAPPIST-1e\",\"TRAPPIST-1e\",\"TRAPPIST-1e\",\"55 Cancri e\",\"TRAPPIST-1e\",\"TRAPPIST-1e\",\"TRAPPIST-1e\",\"TRAPPIST-1e\",\"55 Cancri e\",\"55 Cancri e\",\"55 Cancri e\",\"55 Cancri e\",\"TRAPPIST-1e\",\"PSO J318.5-22\",\"TRAPPIST-1e\",\"TRAPPIST-1e\",\"TRAPPIST-1e\",\"TRAPPIST-1e\",\"55 Cancri e\",\"TRAPPIST-1e\",\"TRAPPIST-1e\",\"TRAPPIST-1e\",\"TRAPPIST-1e\",\"TRAPPIST-1e\",\"TRAPPIST-1e\",\"55 Cancri e\",\"55 Cancri e\",\"TRAPPIST-1e\",\"TRAPPIST-1e\",\"55 Cancri e\",\"TRAPPIST-1e\",\"TRAPPIST-1e\",\"55 Cancri e\",\"TRAPPIST-1e\",\"55 Cancri e\",\"TRAPPIST-1e\",\"PSO J318.5-22\",\"TRAPPIST-1e\",\"TRAPPIST-1e\",\"TRAPPIST-1e\",\"55 Cancri e\",\"TRAPPIST-1e\",\"55 Cancri e\",\"TRAPPIST-1e\",\"TRAPPIST-1e\",\"PSO J318.5-22\",\"55 Cancri e\",\"PSO J318.5-22\",\"PSO J318.5-22\",\"TRAPPIST-1e\",\"55 Cancri e\",\"TRAPPIST-1e\",\"55 Cancri e\",\"55 Cancri e\",\"55 Cancri e\",\"TRAPPIST-1e\",\"TRAPPIST-1e\",\"TRAPPIST-1e\",\"TRAPPIST-1e\",\"55 Cancri e\",\"55 Cancri e\",\"55 Cancri e\",\"55 Cancri e\",\"TRAPPIST-1e\",\"55 Cancri e\",\"55 Cancri e\",\"55 Cancri e\",\"TRAPPIST-1e\",\"TRAPPIST-1e\",\"TRAPPIST-1e\",\"55 Cancri e\",\"TRAPPIST-1e\",\"PSO J318.5-22\",\"TRAPPIST-1e\",\"TRAPPIST-1e\",\"TRAPPIST-1e\",\"TRAPPIST-1e\",\"TRAPPIST-1e\",\"TRAPPIST-1e\",\"55 Cancri e\",\"TRAPPIST-1e\",\"TRAPPIST-1e\",\"55 Cancri e\",\"TRAPPIST-1e\",\"TRAPPIST-1e\",\"TRAPPIST-1e\",\"PSO J318.5-22\",\"TRAPPIST-1e\",\"TRAPPIST-1e\",\"55 Cancri e\",\"TRAPPIST-1e\",\"TRAPPIST-1e\",\"55 Cancri e\",\"TRAPPIST-1e\",\"PSO J318.5-22\",\"55 Cancri e\",\"TRAPPIST-1e\",\"TRAPPIST-1e\",\"TRAPPIST-1e\",\"55 Cancri e\",\"TRAPPIST-1e\",\"TRAPPIST-1e\",\"55 Cancri e\",\"TRAPPIST-1e\",\"55 Cancri e\",\"TRAPPIST-1e\",\"TRAPPIST-1e\",\"TRAPPIST-1e\",\"TRAPPIST-1e\",\"TRAPPIST-1e\",\"TRAPPIST-1e\",\"TRAPPIST-1e\",\"TRAPPIST-1e\",\"TRAPPIST-1e\",\"TRAPPIST-1e\",\"TRAPPIST-1e\",\"TRAPPIST-1e\",\"TRAPPIST-1e\",\"TRAPPIST-1e\",\"TRAPPIST-1e\",\"TRAPPIST-1e\",\"TRAPPIST-1e\",\"TRAPPIST-1e\",\"TRAPPIST-1e\",\"PSO J318.5-22\",\"TRAPPIST-1e\",\"TRAPPIST-1e\",\"TRAPPIST-1e\",\"55 Cancri e\",\"55 Cancri e\",\"TRAPPIST-1e\",\"55 Cancri e\",\"TRAPPIST-1e\",\"TRAPPIST-1e\",\"TRAPPIST-1e\",\"TRAPPIST-1e\",\"TRAPPIST-1e\",\"55 Cancri e\",\"TRAPPIST-1e\",\"55 Cancri e\",\"55 Cancri e\",\"55 Cancri e\",\"55 Cancri e\",\"TRAPPIST-1e\",\"TRAPPIST-1e\",\"55 Cancri e\",\"TRAPPIST-1e\",\"TRAPPIST-1e\",\"PSO J318.5-22\",\"TRAPPIST-1e\",\"TRAPPIST-1e\",\"TRAPPIST-1e\",\"TRAPPIST-1e\",\"TRAPPIST-1e\",\"PSO J318.5-22\",\"TRAPPIST-1e\",\"TRAPPIST-1e\",\"TRAPPIST-1e\",\"TRAPPIST-1e\",\"TRAPPIST-1e\",\"TRAPPIST-1e\",\"TRAPPIST-1e\",\"TRAPPIST-1e\",\"55 Cancri e\",\"TRAPPIST-1e\",\"55 Cancri e\",\"TRAPPIST-1e\",\"TRAPPIST-1e\",\"TRAPPIST-1e\",\"55 Cancri e\",\"TRAPPIST-1e\",\"55 Cancri e\",\"55 Cancri e\",\"55 Cancri e\",\"TRAPPIST-1e\",\"PSO J318.5-22\",\"55 Cancri e\",\"55 Cancri e\",\"55 Cancri e\",\"TRAPPIST-1e\",\"55 Cancri e\",\"TRAPPIST-1e\",\"TRAPPIST-1e\",\"55 Cancri e\",\"TRAPPIST-1e\",\"55 Cancri e\",\"55 Cancri e\",\"55 Cancri e\",\"TRAPPIST-1e\",\"PSO J318.5-22\",\"TRAPPIST-1e\",\"55 Cancri e\",\"55 Cancri e\",\"PSO J318.5-22\",\"55 Cancri e\",\"55 Cancri e\",\"TRAPPIST-1e\",\"TRAPPIST-1e\",\"55 Cancri e\",\"TRAPPIST-1e\",\"TRAPPIST-1e\",\"PSO J318.5-22\",\"55 Cancri e\",\"55 Cancri e\",\"55 Cancri e\",\"PSO J318.5-22\",\"TRAPPIST-1e\",\"55 Cancri e\",\"TRAPPIST-1e\",\"TRAPPIST-1e\",\"TRAPPIST-1e\",\"TRAPPIST-1e\",\"TRAPPIST-1e\",\"TRAPPIST-1e\",\"TRAPPIST-1e\",\"PSO J318.5-22\",\"55 Cancri e\",\"TRAPPIST-1e\",\"55 Cancri e\",\"55 Cancri e\",\"TRAPPIST-1e\",\"TRAPPIST-1e\",\"TRAPPIST-1e\",\"PSO J318.5-22\",\"TRAPPIST-1e\",\"55 Cancri e\",\"TRAPPIST-1e\",\"TRAPPIST-1e\",\"TRAPPIST-1e\",\"55 Cancri e\",\"TRAPPIST-1e\",\"TRAPPIST-1e\",\"55 Cancri e\",\"55 Cancri e\",\"TRAPPIST-1e\",\"TRAPPIST-1e\",\"55 Cancri e\",\"55 Cancri e\",\"55 Cancri e\",\"55 Cancri e\",\"TRAPPIST-1e\",\"TRAPPIST-1e\",\"TRAPPIST-1e\",\"55 Cancri e\",\"TRAPPIST-1e\",\"TRAPPIST-1e\",\"55 Cancri e\",\"55 Cancri e\",\"TRAPPIST-1e\",\"TRAPPIST-1e\",\"TRAPPIST-1e\",\"55 Cancri e\",\"PSO J318.5-22\",\"TRAPPIST-1e\",\"TRAPPIST-1e\",\"TRAPPIST-1e\",\"TRAPPIST-1e\",\"TRAPPIST-1e\",\"TRAPPIST-1e\",\"TRAPPIST-1e\",\"TRAPPIST-1e\",\"55 Cancri e\",\"PSO J318.5-22\",\"TRAPPIST-1e\",\"TRAPPIST-1e\",\"55 Cancri e\",\"TRAPPIST-1e\",\"TRAPPIST-1e\",\"TRAPPIST-1e\",\"TRAPPIST-1e\",\"55 Cancri e\",\"PSO J318.5-22\",\"55 Cancri e\",\"TRAPPIST-1e\",\"TRAPPIST-1e\",\"TRAPPIST-1e\",\"55 Cancri e\",\"TRAPPIST-1e\",\"TRAPPIST-1e\",\"55 Cancri e\",\"55 Cancri e\",\"55 Cancri e\",\"TRAPPIST-1e\",\"55 Cancri e\",\"TRAPPIST-1e\",\"55 Cancri e\",\"TRAPPIST-1e\",\"TRAPPIST-1e\",\"55 Cancri e\",\"TRAPPIST-1e\",\"TRAPPIST-1e\",\"TRAPPIST-1e\",\"TRAPPIST-1e\",\"TRAPPIST-1e\",\"TRAPPIST-1e\",\"TRAPPIST-1e\",\"55 Cancri e\",\"TRAPPIST-1e\",\"TRAPPIST-1e\",\"55 Cancri e\",\"PSO J318.5-22\",\"PSO J318.5-22\",\"TRAPPIST-1e\",\"TRAPPIST-1e\",\"TRAPPIST-1e\",\"55 Cancri e\",\"TRAPPIST-1e\",\"TRAPPIST-1e\",\"55 Cancri e\",\"55 Cancri e\",\"TRAPPIST-1e\",\"TRAPPIST-1e\",\"TRAPPIST-1e\",\"TRAPPIST-1e\",\"TRAPPIST-1e\",\"TRAPPIST-1e\",\"TRAPPIST-1e\",\"TRAPPIST-1e\",\"TRAPPIST-1e\",\"TRAPPIST-1e\",\"TRAPPIST-1e\",\"TRAPPIST-1e\",\"TRAPPIST-1e\",\"TRAPPIST-1e\",\"TRAPPIST-1e\",\"TRAPPIST-1e\",\"55 Cancri e\",\"55 Cancri e\",\"TRAPPIST-1e\",\"TRAPPIST-1e\",\"TRAPPIST-1e\",\"TRAPPIST-1e\",\"TRAPPIST-1e\",\"PSO J318.5-22\",\"55 Cancri e\",\"55 Cancri e\",\"TRAPPIST-1e\",\"55 Cancri e\",\"TRAPPIST-1e\",\"TRAPPIST-1e\",\"TRAPPIST-1e\",\"55 Cancri e\",\"TRAPPIST-1e\",\"TRAPPIST-1e\",\"TRAPPIST-1e\",\"TRAPPIST-1e\",\"55 Cancri e\",\"55 Cancri e\",\"TRAPPIST-1e\",\"55 Cancri e\",\"TRAPPIST-1e\",\"TRAPPIST-1e\",\"TRAPPIST-1e\",\"55 Cancri e\",\"TRAPPIST-1e\",\"TRAPPIST-1e\",\"55 Cancri e\",\"TRAPPIST-1e\",\"55 Cancri e\",\"TRAPPIST-1e\",\"TRAPPIST-1e\",\"TRAPPIST-1e\",\"PSO J318.5-22\",\"TRAPPIST-1e\",\"TRAPPIST-1e\",\"TRAPPIST-1e\",\"TRAPPIST-1e\",\"55 Cancri e\",\"TRAPPIST-1e\",\"TRAPPIST-1e\",\"TRAPPIST-1e\",\"TRAPPIST-1e\",\"TRAPPIST-1e\",\"TRAPPIST-1e\",\"55 Cancri e\",\"55 Cancri e\",\"TRAPPIST-1e\",\"TRAPPIST-1e\",\"TRAPPIST-1e\",\"55 Cancri e\",\"55 Cancri e\",\"TRAPPIST-1e\",\"55 Cancri e\",\"TRAPPIST-1e\",\"TRAPPIST-1e\",\"55 Cancri e\",\"TRAPPIST-1e\",\"TRAPPIST-1e\",\"TRAPPIST-1e\",\"TRAPPIST-1e\",\"TRAPPIST-1e\",\"PSO J318.5-22\",\"PSO J318.5-22\",\"TRAPPIST-1e\",\"TRAPPIST-1e\",\"TRAPPIST-1e\",\"PSO J318.5-22\",\"TRAPPIST-1e\",\"55 Cancri e\",\"PSO J318.5-22\",\"TRAPPIST-1e\",\"TRAPPIST-1e\",\"PSO J318.5-22\",\"PSO J318.5-22\",\"55 Cancri e\",\"PSO J318.5-22\",\"TRAPPIST-1e\",\"TRAPPIST-1e\",\"55 Cancri e\",\"55 Cancri e\",\"TRAPPIST-1e\",\"TRAPPIST-1e\",\"PSO J318.5-22\",\"TRAPPIST-1e\",\"55 Cancri e\",\"55 Cancri e\",\"TRAPPIST-1e\",\"PSO J318.5-22\",\"TRAPPIST-1e\",\"55 Cancri e\",\"55 Cancri e\",\"55 Cancri e\",\"TRAPPIST-1e\",\"55 Cancri e\",\"TRAPPIST-1e\",\"TRAPPIST-1e\",\"55 Cancri e\",\"TRAPPIST-1e\",\"TRAPPIST-1e\",\"TRAPPIST-1e\",\"TRAPPIST-1e\",\"PSO J318.5-22\",\"TRAPPIST-1e\",\"TRAPPIST-1e\",\"55 Cancri e\",\"TRAPPIST-1e\",\"TRAPPIST-1e\",\"TRAPPIST-1e\",\"PSO J318.5-22\",\"TRAPPIST-1e\",\"TRAPPIST-1e\",\"TRAPPIST-1e\",\"55 Cancri e\",\"TRAPPIST-1e\",\"TRAPPIST-1e\",\"PSO J318.5-22\",\"TRAPPIST-1e\",\"TRAPPIST-1e\",\"TRAPPIST-1e\",\"TRAPPIST-1e\",\"55 Cancri e\",\"PSO J318.5-22\",\"TRAPPIST-1e\",\"TRAPPIST-1e\",\"TRAPPIST-1e\",\"55 Cancri e\",\"PSO J318.5-22\",\"55 Cancri e\",\"PSO J318.5-22\",\"55 Cancri e\",\"TRAPPIST-1e\",\"TRAPPIST-1e\",\"55 Cancri e\",\"TRAPPIST-1e\",\"TRAPPIST-1e\",\"55 Cancri e\",\"TRAPPIST-1e\",\"TRAPPIST-1e\",\"TRAPPIST-1e\",\"55 Cancri e\",\"TRAPPIST-1e\",\"TRAPPIST-1e\",\"PSO J318.5-22\",\"TRAPPIST-1e\",\"TRAPPIST-1e\",\"PSO J318.5-22\",\"55 Cancri e\",\"TRAPPIST-1e\",\"TRAPPIST-1e\",\"55 Cancri e\",\"TRAPPIST-1e\",\"55 Cancri e\",\"TRAPPIST-1e\",\"55 Cancri e\",\"TRAPPIST-1e\",\"PSO J318.5-22\",\"TRAPPIST-1e\",\"TRAPPIST-1e\",\"TRAPPIST-1e\",\"TRAPPIST-1e\",\"TRAPPIST-1e\",\"55 Cancri e\",\"TRAPPIST-1e\",\"55 Cancri e\",\"55 Cancri e\",\"TRAPPIST-1e\",\"TRAPPIST-1e\",\"TRAPPIST-1e\",\"TRAPPIST-1e\",\"TRAPPIST-1e\",\"TRAPPIST-1e\",\"TRAPPIST-1e\",\"55 Cancri e\",\"TRAPPIST-1e\",\"TRAPPIST-1e\",\"TRAPPIST-1e\",\"55 Cancri e\",\"TRAPPIST-1e\",\"55 Cancri e\",\"PSO J318.5-22\",\"TRAPPIST-1e\",\"TRAPPIST-1e\",\"55 Cancri e\",\"TRAPPIST-1e\",\"TRAPPIST-1e\",\"55 Cancri e\",\"TRAPPIST-1e\",\"55 Cancri e\",\"TRAPPIST-1e\",\"TRAPPIST-1e\",\"TRAPPIST-1e\",\"PSO J318.5-22\",\"TRAPPIST-1e\",\"55 Cancri e\",\"TRAPPIST-1e\",\"TRAPPIST-1e\",\"TRAPPIST-1e\",\"TRAPPIST-1e\",\"55 Cancri e\",\"TRAPPIST-1e\",\"TRAPPIST-1e\",\"55 Cancri e\",\"TRAPPIST-1e\",\"55 Cancri e\",\"TRAPPIST-1e\",\"TRAPPIST-1e\",\"TRAPPIST-1e\",\"55 Cancri e\",\"TRAPPIST-1e\",\"55 Cancri e\",\"TRAPPIST-1e\",\"TRAPPIST-1e\",\"TRAPPIST-1e\",\"TRAPPIST-1e\",\"TRAPPIST-1e\",\"TRAPPIST-1e\",\"TRAPPIST-1e\",\"55 Cancri e\",\"TRAPPIST-1e\",\"PSO J318.5-22\",\"55 Cancri e\",\"TRAPPIST-1e\",\"55 Cancri e\",\"TRAPPIST-1e\",\"PSO J318.5-22\",\"TRAPPIST-1e\",\"TRAPPIST-1e\",\"TRAPPIST-1e\",\"TRAPPIST-1e\",\"TRAPPIST-1e\",\"TRAPPIST-1e\",\"55 Cancri e\",\"55 Cancri e\",\"PSO J318.5-22\",\"TRAPPIST-1e\",\"TRAPPIST-1e\",\"TRAPPIST-1e\",\"PSO J318.5-22\",\"TRAPPIST-1e\",\"TRAPPIST-1e\",\"TRAPPIST-1e\",\"TRAPPIST-1e\",\"TRAPPIST-1e\",\"PSO J318.5-22\",\"55 Cancri e\",\"TRAPPIST-1e\",\"55 Cancri e\",\"TRAPPIST-1e\",\"TRAPPIST-1e\",\"PSO J318.5-22\",\"TRAPPIST-1e\",\"TRAPPIST-1e\",\"55 Cancri e\",\"TRAPPIST-1e\",\"55 Cancri e\",\"PSO J318.5-22\",\"55 Cancri e\",\"TRAPPIST-1e\",\"55 Cancri e\",\"PSO J318.5-22\",\"TRAPPIST-1e\",\"55 Cancri e\",\"TRAPPIST-1e\",\"55 Cancri e\",\"TRAPPIST-1e\",\"PSO J318.5-22\",\"TRAPPIST-1e\",\"TRAPPIST-1e\",\"55 Cancri e\",\"TRAPPIST-1e\",\"TRAPPIST-1e\",\"TRAPPIST-1e\",\"TRAPPIST-1e\",\"55 Cancri e\",\"TRAPPIST-1e\",\"TRAPPIST-1e\",\"TRAPPIST-1e\",\"55 Cancri e\",\"55 Cancri e\",\"TRAPPIST-1e\",\"55 Cancri e\",\"55 Cancri e\",\"TRAPPIST-1e\",\"TRAPPIST-1e\",\"TRAPPIST-1e\",\"TRAPPIST-1e\",\"PSO J318.5-22\",\"TRAPPIST-1e\",\"TRAPPIST-1e\",\"TRAPPIST-1e\",\"TRAPPIST-1e\",\"55 Cancri e\",\"TRAPPIST-1e\",\"TRAPPIST-1e\",\"TRAPPIST-1e\",\"55 Cancri e\",\"TRAPPIST-1e\",\"TRAPPIST-1e\",\"TRAPPIST-1e\",\"TRAPPIST-1e\",\"55 Cancri e\",\"TRAPPIST-1e\",\"TRAPPIST-1e\",\"TRAPPIST-1e\",\"55 Cancri e\",\"TRAPPIST-1e\",\"TRAPPIST-1e\",\"TRAPPIST-1e\",\"TRAPPIST-1e\",\"TRAPPIST-1e\",\"55 Cancri e\",\"55 Cancri e\",\"TRAPPIST-1e\",\"TRAPPIST-1e\",\"TRAPPIST-1e\",\"55 Cancri e\",\"TRAPPIST-1e\",\"55 Cancri e\",\"55 Cancri e\",\"TRAPPIST-1e\",\"TRAPPIST-1e\",\"TRAPPIST-1e\",\"TRAPPIST-1e\",\"55 Cancri e\",\"PSO J318.5-22\",\"55 Cancri e\",\"TRAPPIST-1e\",\"TRAPPIST-1e\",\"PSO J318.5-22\",\"TRAPPIST-1e\",\"55 Cancri e\",\"TRAPPIST-1e\",\"PSO J318.5-22\",\"TRAPPIST-1e\",\"TRAPPIST-1e\",\"TRAPPIST-1e\",\"PSO J318.5-22\",\"55 Cancri e\",\"55 Cancri e\",\"55 Cancri e\",\"TRAPPIST-1e\",\"55 Cancri e\",\"55 Cancri e\",\"TRAPPIST-1e\",\"TRAPPIST-1e\",\"TRAPPIST-1e\",\"TRAPPIST-1e\",\"TRAPPIST-1e\",\"55 Cancri e\",\"55 Cancri e\",\"TRAPPIST-1e\",\"TRAPPIST-1e\",\"TRAPPIST-1e\",\"TRAPPIST-1e\",\"55 Cancri e\",\"55 Cancri e\",\"TRAPPIST-1e\",\"55 Cancri e\",\"PSO J318.5-22\",\"TRAPPIST-1e\",\"55 Cancri e\",\"55 Cancri e\",\"TRAPPIST-1e\",\"PSO J318.5-22\",\"55 Cancri e\",\"TRAPPIST-1e\",\"TRAPPIST-1e\",\"TRAPPIST-1e\",\"TRAPPIST-1e\",\"TRAPPIST-1e\",\"TRAPPIST-1e\",\"55 Cancri e\",\"TRAPPIST-1e\",\"TRAPPIST-1e\",\"TRAPPIST-1e\",\"TRAPPIST-1e\",\"TRAPPIST-1e\",\"PSO J318.5-22\",\"TRAPPIST-1e\",\"TRAPPIST-1e\",\"TRAPPIST-1e\",\"TRAPPIST-1e\",\"TRAPPIST-1e\",\"55 Cancri e\",\"TRAPPIST-1e\",\"PSO J318.5-22\",\"TRAPPIST-1e\",\"TRAPPIST-1e\",\"TRAPPIST-1e\",\"TRAPPIST-1e\",\"TRAPPIST-1e\",\"TRAPPIST-1e\",\"TRAPPIST-1e\",\"TRAPPIST-1e\",\"55 Cancri e\",\"PSO J318.5-22\",\"55 Cancri e\",\"TRAPPIST-1e\",\"TRAPPIST-1e\",\"PSO J318.5-22\",\"TRAPPIST-1e\",\"TRAPPIST-1e\",\"TRAPPIST-1e\",\"55 Cancri e\",\"55 Cancri e\",\"55 Cancri e\",\"TRAPPIST-1e\",\"TRAPPIST-1e\",\"55 Cancri e\",\"TRAPPIST-1e\",\"TRAPPIST-1e\",\"TRAPPIST-1e\",\"TRAPPIST-1e\",\"TRAPPIST-1e\",\"TRAPPIST-1e\",\"PSO J318.5-22\",\"TRAPPIST-1e\",\"TRAPPIST-1e\",\"TRAPPIST-1e\",\"PSO J318.5-22\",\"PSO J318.5-22\",\"55 Cancri e\",\"TRAPPIST-1e\",\"TRAPPIST-1e\",\"TRAPPIST-1e\",\"55 Cancri e\",\"TRAPPIST-1e\",\"55 Cancri e\",\"55 Cancri e\",\"55 Cancri e\",\"TRAPPIST-1e\",\"55 Cancri e\",\"TRAPPIST-1e\",\"TRAPPIST-1e\",\"55 Cancri e\",\"TRAPPIST-1e\",\"PSO J318.5-22\",\"TRAPPIST-1e\",\"55 Cancri e\",\"55 Cancri e\",\"55 Cancri e\",\"55 Cancri e\",\"TRAPPIST-1e\",\"55 Cancri e\",\"PSO J318.5-22\",\"TRAPPIST-1e\",\"55 Cancri e\",\"TRAPPIST-1e\",\"TRAPPIST-1e\",\"TRAPPIST-1e\",\"55 Cancri e\",\"TRAPPIST-1e\",\"TRAPPIST-1e\",\"TRAPPIST-1e\",\"TRAPPIST-1e\",\"TRAPPIST-1e\",\"TRAPPIST-1e\",\"TRAPPIST-1e\",\"55 Cancri e\",\"TRAPPIST-1e\",\"55 Cancri e\",\"55 Cancri e\",\"55 Cancri e\",\"TRAPPIST-1e\",\"TRAPPIST-1e\",\"TRAPPIST-1e\",\"TRAPPIST-1e\",\"55 Cancri e\",\"TRAPPIST-1e\",\"TRAPPIST-1e\",\"55 Cancri e\",\"55 Cancri e\",\"TRAPPIST-1e\",\"TRAPPIST-1e\",\"55 Cancri e\",\"TRAPPIST-1e\",\"TRAPPIST-1e\",\"55 Cancri e\",\"PSO J318.5-22\",\"PSO J318.5-22\",\"TRAPPIST-1e\",\"TRAPPIST-1e\",\"55 Cancri e\",\"55 Cancri e\",\"TRAPPIST-1e\",\"TRAPPIST-1e\",\"PSO J318.5-22\",\"55 Cancri e\",\"TRAPPIST-1e\",\"TRAPPIST-1e\",\"TRAPPIST-1e\",\"TRAPPIST-1e\",\"TRAPPIST-1e\",\"TRAPPIST-1e\",\"TRAPPIST-1e\",\"TRAPPIST-1e\",\"55 Cancri e\",\"PSO J318.5-22\",\"55 Cancri e\",\"TRAPPIST-1e\",\"TRAPPIST-1e\",\"PSO J318.5-22\",\"TRAPPIST-1e\",\"55 Cancri e\",\"TRAPPIST-1e\",\"TRAPPIST-1e\",\"TRAPPIST-1e\",\"TRAPPIST-1e\",\"TRAPPIST-1e\",\"PSO J318.5-22\",\"TRAPPIST-1e\",\"TRAPPIST-1e\",\"TRAPPIST-1e\",\"TRAPPIST-1e\",\"TRAPPIST-1e\",\"TRAPPIST-1e\",\"TRAPPIST-1e\",\"TRAPPIST-1e\",\"TRAPPIST-1e\",\"TRAPPIST-1e\",\"TRAPPIST-1e\",\"TRAPPIST-1e\",\"TRAPPIST-1e\",\"TRAPPIST-1e\",\"TRAPPIST-1e\",\"TRAPPIST-1e\",\"PSO J318.5-22\",\"TRAPPIST-1e\",\"TRAPPIST-1e\",\"55 Cancri e\",\"TRAPPIST-1e\",\"TRAPPIST-1e\",\"55 Cancri e\",\"TRAPPIST-1e\",\"55 Cancri e\",\"55 Cancri e\",\"TRAPPIST-1e\",\"TRAPPIST-1e\",\"55 Cancri e\",\"55 Cancri e\",\"TRAPPIST-1e\",\"55 Cancri e\",\"TRAPPIST-1e\",\"TRAPPIST-1e\",\"55 Cancri e\",\"55 Cancri e\",\"55 Cancri e\",\"PSO J318.5-22\",\"TRAPPIST-1e\",\"PSO J318.5-22\",\"TRAPPIST-1e\",\"55 Cancri e\",\"PSO J318.5-22\",\"55 Cancri e\",\"55 Cancri e\",\"TRAPPIST-1e\",\"TRAPPIST-1e\",\"TRAPPIST-1e\",\"55 Cancri e\",\"55 Cancri e\",\"TRAPPIST-1e\",\"55 Cancri e\",\"TRAPPIST-1e\",\"TRAPPIST-1e\",\"TRAPPIST-1e\",\"TRAPPIST-1e\",\"TRAPPIST-1e\",\"TRAPPIST-1e\",\"PSO J318.5-22\",\"TRAPPIST-1e\",\"TRAPPIST-1e\",\"TRAPPIST-1e\",\"TRAPPIST-1e\",\"55 Cancri e\",\"55 Cancri e\",\"55 Cancri e\",\"TRAPPIST-1e\",\"TRAPPIST-1e\",\"55 Cancri e\",\"TRAPPIST-1e\",\"PSO J318.5-22\",\"TRAPPIST-1e\",\"55 Cancri e\",\"TRAPPIST-1e\",\"TRAPPIST-1e\",\"TRAPPIST-1e\",\"TRAPPIST-1e\",\"TRAPPIST-1e\",\"55 Cancri e\",\"55 Cancri e\",\"TRAPPIST-1e\",\"TRAPPIST-1e\",\"55 Cancri e\",\"TRAPPIST-1e\",\"PSO J318.5-22\",\"TRAPPIST-1e\",\"55 Cancri e\",\"55 Cancri e\",\"TRAPPIST-1e\",\"TRAPPIST-1e\",\"TRAPPIST-1e\",\"TRAPPIST-1e\",\"55 Cancri e\",\"55 Cancri e\",\"55 Cancri e\",\"TRAPPIST-1e\",\"TRAPPIST-1e\",\"TRAPPIST-1e\",\"55 Cancri e\",\"PSO J318.5-22\",\"TRAPPIST-1e\",\"55 Cancri e\",\"TRAPPIST-1e\",\"TRAPPIST-1e\",\"TRAPPIST-1e\",\"55 Cancri e\",\"PSO J318.5-22\",\"TRAPPIST-1e\",\"55 Cancri e\",\"TRAPPIST-1e\",\"PSO J318.5-22\",\"PSO J318.5-22\",\"TRAPPIST-1e\",\"TRAPPIST-1e\",\"TRAPPIST-1e\",\"TRAPPIST-1e\",\"TRAPPIST-1e\",\"TRAPPIST-1e\",\"TRAPPIST-1e\",\"55 Cancri e\",\"TRAPPIST-1e\",\"TRAPPIST-1e\",\"55 Cancri e\",\"TRAPPIST-1e\",\"TRAPPIST-1e\",\"55 Cancri e\",\"TRAPPIST-1e\",\"55 Cancri e\",\"PSO J318.5-22\",\"TRAPPIST-1e\",\"TRAPPIST-1e\",\"55 Cancri e\",\"TRAPPIST-1e\",\"TRAPPIST-1e\",\"55 Cancri e\",\"PSO J318.5-22\",\"TRAPPIST-1e\",\"TRAPPIST-1e\",\"TRAPPIST-1e\",\"TRAPPIST-1e\",\"TRAPPIST-1e\",\"55 Cancri e\",\"55 Cancri e\",\"TRAPPIST-1e\",\"TRAPPIST-1e\",\"PSO J318.5-22\",\"55 Cancri e\",\"55 Cancri e\",\"PSO J318.5-22\",\"TRAPPIST-1e\",\"TRAPPIST-1e\",\"55 Cancri e\",\"TRAPPIST-1e\",\"TRAPPIST-1e\",\"TRAPPIST-1e\",\"55 Cancri e\",\"TRAPPIST-1e\",\"TRAPPIST-1e\",\"55 Cancri e\",\"TRAPPIST-1e\",\"TRAPPIST-1e\",\"55 Cancri e\",\"55 Cancri e\",\"TRAPPIST-1e\",\"55 Cancri e\",\"TRAPPIST-1e\",\"TRAPPIST-1e\",\"TRAPPIST-1e\",\"TRAPPIST-1e\",\"TRAPPIST-1e\",\"TRAPPIST-1e\",\"TRAPPIST-1e\",\"TRAPPIST-1e\",\"TRAPPIST-1e\",\"TRAPPIST-1e\",\"55 Cancri e\",\"PSO J318.5-22\",\"TRAPPIST-1e\",\"TRAPPIST-1e\",\"TRAPPIST-1e\",\"TRAPPIST-1e\",\"PSO J318.5-22\",\"TRAPPIST-1e\",\"TRAPPIST-1e\",\"TRAPPIST-1e\",\"PSO J318.5-22\",\"55 Cancri e\",\"TRAPPIST-1e\",\"TRAPPIST-1e\",\"TRAPPIST-1e\",\"PSO J318.5-22\",\"55 Cancri e\",\"TRAPPIST-1e\",\"TRAPPIST-1e\",\"PSO J318.5-22\",\"TRAPPIST-1e\",\"TRAPPIST-1e\",\"TRAPPIST-1e\",\"TRAPPIST-1e\",\"TRAPPIST-1e\",\"TRAPPIST-1e\",\"55 Cancri e\",\"55 Cancri e\",\"TRAPPIST-1e\",\"TRAPPIST-1e\",\"PSO J318.5-22\",\"TRAPPIST-1e\",\"PSO J318.5-22\",\"TRAPPIST-1e\",\"55 Cancri e\",\"TRAPPIST-1e\",\"55 Cancri e\",\"TRAPPIST-1e\",\"TRAPPIST-1e\",\"TRAPPIST-1e\",\"TRAPPIST-1e\",\"55 Cancri e\",\"TRAPPIST-1e\",\"PSO J318.5-22\",\"55 Cancri e\",\"55 Cancri e\",\"55 Cancri e\",\"TRAPPIST-1e\",\"TRAPPIST-1e\",\"TRAPPIST-1e\",\"PSO J318.5-22\",\"TRAPPIST-1e\",\"TRAPPIST-1e\",\"TRAPPIST-1e\",\"TRAPPIST-1e\",\"TRAPPIST-1e\",\"55 Cancri e\",\"TRAPPIST-1e\",\"PSO J318.5-22\",\"TRAPPIST-1e\",\"PSO J318.5-22\",\"TRAPPIST-1e\",\"TRAPPIST-1e\",\"55 Cancri e\",\"TRAPPIST-1e\",\"TRAPPIST-1e\",\"TRAPPIST-1e\",\"TRAPPIST-1e\",\"PSO J318.5-22\",\"55 Cancri e\",\"TRAPPIST-1e\",\"PSO J318.5-22\",\"55 Cancri e\",\"TRAPPIST-1e\",\"TRAPPIST-1e\",\"TRAPPIST-1e\",\"55 Cancri e\",\"55 Cancri e\",\"TRAPPIST-1e\",\"TRAPPIST-1e\",\"TRAPPIST-1e\",\"55 Cancri e\",\"TRAPPIST-1e\",\"TRAPPIST-1e\",\"TRAPPIST-1e\",\"TRAPPIST-1e\",\"55 Cancri e\",\"TRAPPIST-1e\",\"PSO J318.5-22\",\"TRAPPIST-1e\",\"TRAPPIST-1e\",\"TRAPPIST-1e\",\"55 Cancri e\",\"TRAPPIST-1e\",\"55 Cancri e\",\"TRAPPIST-1e\",\"TRAPPIST-1e\",\"PSO J318.5-22\",\"TRAPPIST-1e\",\"55 Cancri e\",\"TRAPPIST-1e\",\"TRAPPIST-1e\",\"TRAPPIST-1e\",\"TRAPPIST-1e\",\"55 Cancri e\",\"TRAPPIST-1e\",\"TRAPPIST-1e\",\"TRAPPIST-1e\",\"TRAPPIST-1e\",\"55 Cancri e\",\"TRAPPIST-1e\",\"55 Cancri e\",\"TRAPPIST-1e\",\"TRAPPIST-1e\",\"55 Cancri e\",\"55 Cancri e\",\"55 Cancri e\",\"TRAPPIST-1e\",\"TRAPPIST-1e\",\"55 Cancri e\",\"55 Cancri e\",\"TRAPPIST-1e\",\"TRAPPIST-1e\",\"55 Cancri e\",\"TRAPPIST-1e\",\"TRAPPIST-1e\",\"TRAPPIST-1e\",\"55 Cancri e\",\"TRAPPIST-1e\",\"TRAPPIST-1e\",\"TRAPPIST-1e\",\"TRAPPIST-1e\",\"55 Cancri e\",\"TRAPPIST-1e\",\"TRAPPIST-1e\",\"TRAPPIST-1e\",\"PSO J318.5-22\",\"55 Cancri e\",\"55 Cancri e\",\"TRAPPIST-1e\",\"55 Cancri e\",\"TRAPPIST-1e\",\"55 Cancri e\",\"TRAPPIST-1e\",\"55 Cancri e\",\"55 Cancri e\",\"TRAPPIST-1e\",\"TRAPPIST-1e\",\"TRAPPIST-1e\",\"PSO J318.5-22\",\"55 Cancri e\",\"TRAPPIST-1e\",\"TRAPPIST-1e\",\"PSO J318.5-22\",\"PSO J318.5-22\",\"PSO J318.5-22\",\"TRAPPIST-1e\",\"TRAPPIST-1e\",\"TRAPPIST-1e\",\"55 Cancri e\",\"TRAPPIST-1e\",\"TRAPPIST-1e\",\"TRAPPIST-1e\",\"PSO J318.5-22\",\"55 Cancri e\",\"55 Cancri e\",\"TRAPPIST-1e\",\"55 Cancri e\",\"TRAPPIST-1e\",\"TRAPPIST-1e\",\"TRAPPIST-1e\",\"55 Cancri e\",\"TRAPPIST-1e\",\"55 Cancri e\",\"TRAPPIST-1e\",\"TRAPPIST-1e\",\"TRAPPIST-1e\",\"55 Cancri e\",\"55 Cancri e\",\"TRAPPIST-1e\",\"TRAPPIST-1e\",\"PSO J318.5-22\",\"TRAPPIST-1e\",\"TRAPPIST-1e\",\"55 Cancri e\",\"TRAPPIST-1e\",\"55 Cancri e\",\"PSO J318.5-22\",\"TRAPPIST-1e\",\"TRAPPIST-1e\",\"TRAPPIST-1e\",\"55 Cancri e\",\"TRAPPIST-1e\",\"55 Cancri e\",\"TRAPPIST-1e\",\"TRAPPIST-1e\",\"TRAPPIST-1e\",\"TRAPPIST-1e\",\"TRAPPIST-1e\",\"TRAPPIST-1e\",\"PSO J318.5-22\",\"PSO J318.5-22\",\"TRAPPIST-1e\",\"TRAPPIST-1e\",\"55 Cancri e\",\"TRAPPIST-1e\",\"TRAPPIST-1e\",\"TRAPPIST-1e\",\"TRAPPIST-1e\",\"TRAPPIST-1e\",\"TRAPPIST-1e\",\"TRAPPIST-1e\",\"TRAPPIST-1e\",\"PSO J318.5-22\",\"TRAPPIST-1e\",\"TRAPPIST-1e\",\"PSO J318.5-22\",\"55 Cancri e\",\"TRAPPIST-1e\",\"TRAPPIST-1e\",\"TRAPPIST-1e\",\"55 Cancri e\",\"TRAPPIST-1e\",\"TRAPPIST-1e\",\"55 Cancri e\",\"TRAPPIST-1e\",\"TRAPPIST-1e\",\"55 Cancri e\",\"TRAPPIST-1e\",\"TRAPPIST-1e\",\"TRAPPIST-1e\",\"TRAPPIST-1e\",\"TRAPPIST-1e\",\"TRAPPIST-1e\",\"TRAPPIST-1e\",\"TRAPPIST-1e\",\"TRAPPIST-1e\",\"55 Cancri e\",\"TRAPPIST-1e\",\"TRAPPIST-1e\",\"TRAPPIST-1e\",\"PSO J318.5-22\",\"55 Cancri e\",\"TRAPPIST-1e\",\"TRAPPIST-1e\",\"PSO J318.5-22\",\"55 Cancri e\",\"TRAPPIST-1e\",\"TRAPPIST-1e\",\"TRAPPIST-1e\",\"TRAPPIST-1e\",\"55 Cancri e\",\"TRAPPIST-1e\",\"55 Cancri e\",\"TRAPPIST-1e\",\"TRAPPIST-1e\",\"55 Cancri e\",\"55 Cancri e\",\"55 Cancri e\",\"55 Cancri e\",\"PSO J318.5-22\",\"TRAPPIST-1e\",\"TRAPPIST-1e\",\"TRAPPIST-1e\",\"TRAPPIST-1e\",\"TRAPPIST-1e\",\"55 Cancri e\",\"TRAPPIST-1e\",\"TRAPPIST-1e\",\"55 Cancri e\",\"TRAPPIST-1e\",\"TRAPPIST-1e\",\"TRAPPIST-1e\",\"TRAPPIST-1e\",\"TRAPPIST-1e\",\"55 Cancri e\",\"TRAPPIST-1e\",\"TRAPPIST-1e\",\"TRAPPIST-1e\",\"TRAPPIST-1e\",\"TRAPPIST-1e\",\"PSO J318.5-22\",\"55 Cancri e\",\"TRAPPIST-1e\",\"TRAPPIST-1e\",\"TRAPPIST-1e\",\"TRAPPIST-1e\",\"TRAPPIST-1e\",\"TRAPPIST-1e\",\"55 Cancri e\",\"PSO J318.5-22\",\"TRAPPIST-1e\",\"TRAPPIST-1e\",\"55 Cancri e\",\"TRAPPIST-1e\",\"TRAPPIST-1e\",\"TRAPPIST-1e\",\"TRAPPIST-1e\",\"TRAPPIST-1e\",\"TRAPPIST-1e\",\"PSO J318.5-22\",\"TRAPPIST-1e\",\"TRAPPIST-1e\",\"TRAPPIST-1e\",\"PSO J318.5-22\",\"55 Cancri e\",\"TRAPPIST-1e\",\"TRAPPIST-1e\",\"55 Cancri e\",\"TRAPPIST-1e\",\"TRAPPIST-1e\",\"PSO J318.5-22\",\"PSO J318.5-22\",\"TRAPPIST-1e\",\"TRAPPIST-1e\",\"TRAPPIST-1e\",\"TRAPPIST-1e\",\"55 Cancri e\",\"55 Cancri e\",\"TRAPPIST-1e\",\"TRAPPIST-1e\",\"55 Cancri e\",\"55 Cancri e\",\"TRAPPIST-1e\",\"TRAPPIST-1e\",\"TRAPPIST-1e\",\"TRAPPIST-1e\",\"55 Cancri e\",\"55 Cancri e\",\"55 Cancri e\",\"TRAPPIST-1e\",\"TRAPPIST-1e\",\"TRAPPIST-1e\",\"TRAPPIST-1e\",\"TRAPPIST-1e\",\"PSO J318.5-22\",\"TRAPPIST-1e\",\"TRAPPIST-1e\",\"TRAPPIST-1e\",\"TRAPPIST-1e\",\"TRAPPIST-1e\",\"TRAPPIST-1e\",\"TRAPPIST-1e\",\"55 Cancri e\",\"TRAPPIST-1e\",\"TRAPPIST-1e\",\"TRAPPIST-1e\",\"55 Cancri e\",\"55 Cancri e\",\"TRAPPIST-1e\",\"55 Cancri e\",\"55 Cancri e\",\"55 Cancri e\",\"55 Cancri e\",\"TRAPPIST-1e\",\"55 Cancri e\",\"55 Cancri e\",\"TRAPPIST-1e\",\"55 Cancri e\",\"TRAPPIST-1e\",\"TRAPPIST-1e\",\"TRAPPIST-1e\",\"TRAPPIST-1e\",\"55 Cancri e\",\"55 Cancri e\",\"55 Cancri e\",\"TRAPPIST-1e\",\"55 Cancri e\",\"TRAPPIST-1e\",\"TRAPPIST-1e\",\"TRAPPIST-1e\",\"55 Cancri e\",\"TRAPPIST-1e\",\"TRAPPIST-1e\",\"TRAPPIST-1e\",\"TRAPPIST-1e\",\"TRAPPIST-1e\",\"TRAPPIST-1e\",\"PSO J318.5-22\",\"PSO J318.5-22\",\"55 Cancri e\",\"TRAPPIST-1e\",\"PSO J318.5-22\",\"TRAPPIST-1e\",\"TRAPPIST-1e\",\"55 Cancri e\",\"TRAPPIST-1e\",\"TRAPPIST-1e\",\"PSO J318.5-22\",\"TRAPPIST-1e\",\"55 Cancri e\",\"TRAPPIST-1e\",\"55 Cancri e\",\"TRAPPIST-1e\",\"TRAPPIST-1e\",\"TRAPPIST-1e\",\"TRAPPIST-1e\",\"TRAPPIST-1e\",\"PSO J318.5-22\",\"TRAPPIST-1e\",\"PSO J318.5-22\",\"TRAPPIST-1e\",\"TRAPPIST-1e\",\"TRAPPIST-1e\",\"55 Cancri e\",\"TRAPPIST-1e\",\"PSO J318.5-22\",\"TRAPPIST-1e\",\"PSO J318.5-22\",\"TRAPPIST-1e\",\"TRAPPIST-1e\",\"TRAPPIST-1e\",\"55 Cancri e\",\"TRAPPIST-1e\",\"TRAPPIST-1e\",\"TRAPPIST-1e\",\"TRAPPIST-1e\",\"TRAPPIST-1e\",\"TRAPPIST-1e\",\"55 Cancri e\",\"55 Cancri e\",\"55 Cancri e\",\"TRAPPIST-1e\",\"TRAPPIST-1e\",\"TRAPPIST-1e\",\"TRAPPIST-1e\",\"TRAPPIST-1e\",\"TRAPPIST-1e\",\"PSO J318.5-22\",\"TRAPPIST-1e\",\"TRAPPIST-1e\",\"TRAPPIST-1e\",\"55 Cancri e\",\"TRAPPIST-1e\",\"55 Cancri e\",\"TRAPPIST-1e\",\"TRAPPIST-1e\",\"55 Cancri e\",\"TRAPPIST-1e\",\"PSO J318.5-22\",\"TRAPPIST-1e\",\"55 Cancri e\",\"55 Cancri e\",\"TRAPPIST-1e\",\"TRAPPIST-1e\",\"TRAPPIST-1e\",\"TRAPPIST-1e\",\"TRAPPIST-1e\",\"TRAPPIST-1e\",\"55 Cancri e\",\"TRAPPIST-1e\",\"55 Cancri e\",\"55 Cancri e\",\"TRAPPIST-1e\",\"TRAPPIST-1e\",\"55 Cancri e\",\"55 Cancri e\",\"PSO J318.5-22\",\"TRAPPIST-1e\",\"PSO J318.5-22\",\"TRAPPIST-1e\",\"TRAPPIST-1e\",\"TRAPPIST-1e\",\"55 Cancri e\",\"55 Cancri e\",\"TRAPPIST-1e\",\"TRAPPIST-1e\",\"TRAPPIST-1e\",\"PSO J318.5-22\",\"TRAPPIST-1e\",\"TRAPPIST-1e\",\"55 Cancri e\",\"TRAPPIST-1e\",\"PSO J318.5-22\",\"TRAPPIST-1e\",\"55 Cancri e\",\"55 Cancri e\",\"55 Cancri e\",\"55 Cancri e\",\"TRAPPIST-1e\",\"55 Cancri e\",\"55 Cancri e\",\"TRAPPIST-1e\",\"TRAPPIST-1e\",\"TRAPPIST-1e\",\"TRAPPIST-1e\",\"TRAPPIST-1e\",\"55 Cancri e\",\"TRAPPIST-1e\",\"55 Cancri e\",\"PSO J318.5-22\",\"TRAPPIST-1e\",\"TRAPPIST-1e\",\"TRAPPIST-1e\",\"TRAPPIST-1e\",\"TRAPPIST-1e\",\"TRAPPIST-1e\",\"TRAPPIST-1e\",\"TRAPPIST-1e\",\"TRAPPIST-1e\",\"PSO J318.5-22\",\"TRAPPIST-1e\",\"TRAPPIST-1e\",\"55 Cancri e\",\"PSO J318.5-22\",\"55 Cancri e\",\"TRAPPIST-1e\",\"TRAPPIST-1e\",\"TRAPPIST-1e\",\"TRAPPIST-1e\",\"PSO J318.5-22\",\"55 Cancri e\",\"TRAPPIST-1e\",\"TRAPPIST-1e\",\"TRAPPIST-1e\",\"PSO J318.5-22\",\"PSO J318.5-22\",\"TRAPPIST-1e\",\"55 Cancri e\",\"TRAPPIST-1e\",\"PSO J318.5-22\",\"55 Cancri e\",\"TRAPPIST-1e\",\"55 Cancri e\",\"TRAPPIST-1e\",\"TRAPPIST-1e\",\"55 Cancri e\",\"55 Cancri e\",\"PSO J318.5-22\",\"55 Cancri e\",\"TRAPPIST-1e\",\"PSO J318.5-22\",\"55 Cancri e\",\"55 Cancri e\",\"PSO J318.5-22\",\"TRAPPIST-1e\",\"55 Cancri e\",\"55 Cancri e\",\"TRAPPIST-1e\",\"TRAPPIST-1e\",\"PSO J318.5-22\",\"TRAPPIST-1e\",\"TRAPPIST-1e\",\"TRAPPIST-1e\",\"TRAPPIST-1e\",\"TRAPPIST-1e\",\"TRAPPIST-1e\",\"TRAPPIST-1e\",\"55 Cancri e\",\"55 Cancri e\",\"TRAPPIST-1e\",\"TRAPPIST-1e\",\"TRAPPIST-1e\",\"TRAPPIST-1e\",\"TRAPPIST-1e\",\"TRAPPIST-1e\",\"TRAPPIST-1e\",\"TRAPPIST-1e\",\"TRAPPIST-1e\",\"TRAPPIST-1e\",\"55 Cancri e\",\"TRAPPIST-1e\",\"TRAPPIST-1e\",\"TRAPPIST-1e\",\"55 Cancri e\",\"TRAPPIST-1e\",\"TRAPPIST-1e\",\"TRAPPIST-1e\",\"PSO J318.5-22\",\"TRAPPIST-1e\",\"TRAPPIST-1e\",\"TRAPPIST-1e\",\"TRAPPIST-1e\",\"TRAPPIST-1e\",\"TRAPPIST-1e\",\"TRAPPIST-1e\",\"TRAPPIST-1e\",\"55 Cancri e\",\"TRAPPIST-1e\",\"55 Cancri e\",\"TRAPPIST-1e\",\"TRAPPIST-1e\",\"55 Cancri e\",\"TRAPPIST-1e\",\"55 Cancri e\",\"55 Cancri e\",\"TRAPPIST-1e\",\"TRAPPIST-1e\",\"TRAPPIST-1e\",\"TRAPPIST-1e\",\"TRAPPIST-1e\",\"TRAPPIST-1e\",\"TRAPPIST-1e\",\"TRAPPIST-1e\",\"TRAPPIST-1e\",\"TRAPPIST-1e\",\"55 Cancri e\",\"TRAPPIST-1e\",\"55 Cancri e\",\"TRAPPIST-1e\",\"TRAPPIST-1e\",\"TRAPPIST-1e\",\"TRAPPIST-1e\",\"TRAPPIST-1e\",\"55 Cancri e\",\"TRAPPIST-1e\",\"55 Cancri e\",\"TRAPPIST-1e\",\"55 Cancri e\",\"TRAPPIST-1e\",\"TRAPPIST-1e\",\"TRAPPIST-1e\",\"TRAPPIST-1e\",\"PSO J318.5-22\",\"TRAPPIST-1e\",\"55 Cancri e\",\"55 Cancri e\",\"55 Cancri e\",\"TRAPPIST-1e\",\"TRAPPIST-1e\",\"TRAPPIST-1e\",\"TRAPPIST-1e\",\"TRAPPIST-1e\",\"TRAPPIST-1e\",\"55 Cancri e\",\"55 Cancri e\",\"55 Cancri e\",\"TRAPPIST-1e\",\"TRAPPIST-1e\",\"55 Cancri e\",\"TRAPPIST-1e\",\"TRAPPIST-1e\",\"TRAPPIST-1e\",\"TRAPPIST-1e\",\"TRAPPIST-1e\",\"TRAPPIST-1e\",\"55 Cancri e\",\"TRAPPIST-1e\",\"TRAPPIST-1e\",\"PSO J318.5-22\",\"TRAPPIST-1e\",\"TRAPPIST-1e\",\"TRAPPIST-1e\",\"TRAPPIST-1e\",\"55 Cancri e\",\"TRAPPIST-1e\",\"PSO J318.5-22\",\"TRAPPIST-1e\",\"TRAPPIST-1e\",\"TRAPPIST-1e\",\"TRAPPIST-1e\",\"TRAPPIST-1e\",\"TRAPPIST-1e\",\"TRAPPIST-1e\",\"55 Cancri e\",\"TRAPPIST-1e\",\"TRAPPIST-1e\",\"55 Cancri e\",\"TRAPPIST-1e\",\"55 Cancri e\",\"55 Cancri e\",\"55 Cancri e\",\"PSO J318.5-22\",\"PSO J318.5-22\",\"55 Cancri e\",\"TRAPPIST-1e\",\"TRAPPIST-1e\",\"TRAPPIST-1e\",\"TRAPPIST-1e\",\"TRAPPIST-1e\",\"55 Cancri e\",\"TRAPPIST-1e\",\"55 Cancri e\",\"TRAPPIST-1e\",\"55 Cancri e\",\"55 Cancri e\",\"TRAPPIST-1e\",\"TRAPPIST-1e\",\"TRAPPIST-1e\",\"TRAPPIST-1e\",\"55 Cancri e\",\"TRAPPIST-1e\",\"TRAPPIST-1e\",\"TRAPPIST-1e\",\"55 Cancri e\",\"TRAPPIST-1e\",\"PSO J318.5-22\",\"TRAPPIST-1e\",\"55 Cancri e\",\"TRAPPIST-1e\",\"TRAPPIST-1e\",\"TRAPPIST-1e\",\"TRAPPIST-1e\",\"55 Cancri e\",\"PSO J318.5-22\",\"55 Cancri e\",\"TRAPPIST-1e\",\"55 Cancri e\",\"TRAPPIST-1e\",\"PSO J318.5-22\",\"PSO J318.5-22\",\"55 Cancri e\",\"55 Cancri e\",\"TRAPPIST-1e\",\"TRAPPIST-1e\",\"55 Cancri e\",\"TRAPPIST-1e\",\"PSO J318.5-22\",\"PSO J318.5-22\",\"TRAPPIST-1e\",\"TRAPPIST-1e\",\"TRAPPIST-1e\",\"TRAPPIST-1e\",\"TRAPPIST-1e\",\"TRAPPIST-1e\",\"TRAPPIST-1e\",\"PSO J318.5-22\",\"55 Cancri e\",\"55 Cancri e\",\"PSO J318.5-22\",\"TRAPPIST-1e\",\"TRAPPIST-1e\",\"TRAPPIST-1e\",\"TRAPPIST-1e\",\"PSO J318.5-22\",\"55 Cancri e\",\"TRAPPIST-1e\",\"TRAPPIST-1e\",\"TRAPPIST-1e\",\"55 Cancri e\",\"PSO J318.5-22\",\"PSO J318.5-22\",\"TRAPPIST-1e\",\"55 Cancri e\",\"TRAPPIST-1e\",\"55 Cancri e\",\"55 Cancri e\",\"55 Cancri e\",\"TRAPPIST-1e\",\"TRAPPIST-1e\",\"TRAPPIST-1e\",\"TRAPPIST-1e\",\"55 Cancri e\",\"55 Cancri e\",\"55 Cancri e\",\"TRAPPIST-1e\",\"TRAPPIST-1e\",\"TRAPPIST-1e\",\"PSO J318.5-22\",\"TRAPPIST-1e\",\"TRAPPIST-1e\",\"TRAPPIST-1e\",\"TRAPPIST-1e\",\"TRAPPIST-1e\",\"TRAPPIST-1e\",\"TRAPPIST-1e\",\"55 Cancri e\",\"TRAPPIST-1e\",\"TRAPPIST-1e\",\"TRAPPIST-1e\",\"TRAPPIST-1e\",\"TRAPPIST-1e\",\"TRAPPIST-1e\",\"TRAPPIST-1e\",\"TRAPPIST-1e\",\"55 Cancri e\",\"PSO J318.5-22\",\"TRAPPIST-1e\",\"TRAPPIST-1e\",\"55 Cancri e\",\"TRAPPIST-1e\",\"PSO J318.5-22\",\"TRAPPIST-1e\",\"TRAPPIST-1e\",\"TRAPPIST-1e\",\"55 Cancri e\",\"TRAPPIST-1e\",\"55 Cancri e\",\"TRAPPIST-1e\",\"PSO J318.5-22\",\"TRAPPIST-1e\",\"TRAPPIST-1e\",\"TRAPPIST-1e\",\"55 Cancri e\",\"55 Cancri e\",\"TRAPPIST-1e\",\"TRAPPIST-1e\",\"55 Cancri e\",\"TRAPPIST-1e\",\"PSO J318.5-22\",\"TRAPPIST-1e\",\"TRAPPIST-1e\",\"TRAPPIST-1e\",\"TRAPPIST-1e\",\"TRAPPIST-1e\",\"TRAPPIST-1e\",\"55 Cancri e\",\"55 Cancri e\",\"TRAPPIST-1e\",\"TRAPPIST-1e\",\"TRAPPIST-1e\",\"TRAPPIST-1e\",\"TRAPPIST-1e\",\"TRAPPIST-1e\",\"55 Cancri e\",\"55 Cancri e\",\"TRAPPIST-1e\",\"TRAPPIST-1e\",\"TRAPPIST-1e\",\"TRAPPIST-1e\",\"TRAPPIST-1e\",\"TRAPPIST-1e\",\"TRAPPIST-1e\",\"55 Cancri e\",\"55 Cancri e\",\"TRAPPIST-1e\",\"55 Cancri e\",\"TRAPPIST-1e\",\"TRAPPIST-1e\",\"TRAPPIST-1e\",\"55 Cancri e\",\"PSO J318.5-22\",\"TRAPPIST-1e\",\"55 Cancri e\",\"TRAPPIST-1e\",\"55 Cancri e\",\"TRAPPIST-1e\",\"55 Cancri e\",\"TRAPPIST-1e\",\"PSO J318.5-22\",\"55 Cancri e\",\"TRAPPIST-1e\",\"TRAPPIST-1e\",\"PSO J318.5-22\",\"TRAPPIST-1e\",\"55 Cancri e\",\"TRAPPIST-1e\",\"55 Cancri e\",\"TRAPPIST-1e\",\"TRAPPIST-1e\",\"PSO J318.5-22\",\"TRAPPIST-1e\",\"TRAPPIST-1e\",\"TRAPPIST-1e\",\"55 Cancri e\",\"TRAPPIST-1e\",\"TRAPPIST-1e\",\"TRAPPIST-1e\",\"TRAPPIST-1e\",\"TRAPPIST-1e\",\"55 Cancri e\",\"TRAPPIST-1e\",\"55 Cancri e\",\"TRAPPIST-1e\",\"55 Cancri e\",\"55 Cancri e\",\"TRAPPIST-1e\",\"TRAPPIST-1e\",\"TRAPPIST-1e\",\"TRAPPIST-1e\",\"TRAPPIST-1e\",\"TRAPPIST-1e\",\"TRAPPIST-1e\",\"TRAPPIST-1e\",\"55 Cancri e\",\"55 Cancri e\",\"TRAPPIST-1e\",\"TRAPPIST-1e\",\"TRAPPIST-1e\",\"TRAPPIST-1e\",\"TRAPPIST-1e\",\"PSO J318.5-22\",\"TRAPPIST-1e\",\"TRAPPIST-1e\",\"TRAPPIST-1e\",\"55 Cancri e\",\"TRAPPIST-1e\",\"55 Cancri e\",\"TRAPPIST-1e\",\"TRAPPIST-1e\",\"TRAPPIST-1e\",\"TRAPPIST-1e\",\"TRAPPIST-1e\",\"TRAPPIST-1e\",\"TRAPPIST-1e\",\"TRAPPIST-1e\",\"TRAPPIST-1e\",\"55 Cancri e\",\"TRAPPIST-1e\",\"TRAPPIST-1e\",\"TRAPPIST-1e\",\"55 Cancri e\",\"TRAPPIST-1e\",\"55 Cancri e\",\"55 Cancri e\",\"TRAPPIST-1e\",\"TRAPPIST-1e\",\"TRAPPIST-1e\",\"TRAPPIST-1e\",\"55 Cancri e\",\"PSO J318.5-22\",\"TRAPPIST-1e\",\"TRAPPIST-1e\",\"TRAPPIST-1e\",\"TRAPPIST-1e\",\"TRAPPIST-1e\",\"TRAPPIST-1e\",\"55 Cancri e\",\"55 Cancri e\",\"TRAPPIST-1e\",\"TRAPPIST-1e\",\"55 Cancri e\",\"TRAPPIST-1e\",\"TRAPPIST-1e\",\"TRAPPIST-1e\",\"TRAPPIST-1e\",\"TRAPPIST-1e\",\"TRAPPIST-1e\",\"PSO J318.5-22\",\"TRAPPIST-1e\",\"TRAPPIST-1e\",\"TRAPPIST-1e\",\"TRAPPIST-1e\",\"TRAPPIST-1e\",\"TRAPPIST-1e\",\"55 Cancri e\",\"55 Cancri e\",\"55 Cancri e\",\"TRAPPIST-1e\",\"TRAPPIST-1e\",\"55 Cancri e\",\"TRAPPIST-1e\",\"TRAPPIST-1e\",\"PSO J318.5-22\",\"55 Cancri e\",\"TRAPPIST-1e\",\"TRAPPIST-1e\",\"TRAPPIST-1e\",\"TRAPPIST-1e\",\"55 Cancri e\",\"55 Cancri e\",\"TRAPPIST-1e\",\"TRAPPIST-1e\",\"TRAPPIST-1e\",\"TRAPPIST-1e\",\"TRAPPIST-1e\",\"PSO J318.5-22\",\"TRAPPIST-1e\",\"TRAPPIST-1e\",\"TRAPPIST-1e\",\"55 Cancri e\",\"TRAPPIST-1e\",\"TRAPPIST-1e\",\"TRAPPIST-1e\",\"TRAPPIST-1e\",\"TRAPPIST-1e\",\"TRAPPIST-1e\",\"TRAPPIST-1e\",\"55 Cancri e\",\"TRAPPIST-1e\",\"TRAPPIST-1e\",\"55 Cancri e\",\"55 Cancri e\",\"55 Cancri e\",\"TRAPPIST-1e\",\"TRAPPIST-1e\",\"PSO J318.5-22\",\"TRAPPIST-1e\",\"TRAPPIST-1e\",\"TRAPPIST-1e\",\"55 Cancri e\",\"55 Cancri e\",\"55 Cancri e\",\"TRAPPIST-1e\",\"TRAPPIST-1e\",\"TRAPPIST-1e\",\"TRAPPIST-1e\",\"TRAPPIST-1e\",\"TRAPPIST-1e\",\"TRAPPIST-1e\",\"TRAPPIST-1e\",\"55 Cancri e\",\"TRAPPIST-1e\",\"TRAPPIST-1e\",\"55 Cancri e\",\"TRAPPIST-1e\",\"TRAPPIST-1e\",\"55 Cancri e\",\"TRAPPIST-1e\",\"TRAPPIST-1e\",\"TRAPPIST-1e\",\"TRAPPIST-1e\",\"55 Cancri e\",\"PSO J318.5-22\",\"TRAPPIST-1e\",\"TRAPPIST-1e\",\"TRAPPIST-1e\",\"TRAPPIST-1e\",\"TRAPPIST-1e\",\"TRAPPIST-1e\",\"55 Cancri e\",\"55 Cancri e\",\"55 Cancri e\",\"PSO J318.5-22\",\"TRAPPIST-1e\",\"PSO J318.5-22\",\"TRAPPIST-1e\",\"TRAPPIST-1e\",\"PSO J318.5-22\",\"TRAPPIST-1e\",\"TRAPPIST-1e\",\"55 Cancri e\",\"TRAPPIST-1e\",\"TRAPPIST-1e\",\"TRAPPIST-1e\",\"TRAPPIST-1e\",\"TRAPPIST-1e\",\"55 Cancri e\",\"TRAPPIST-1e\",\"TRAPPIST-1e\",\"55 Cancri e\",\"TRAPPIST-1e\",\"TRAPPIST-1e\",\"TRAPPIST-1e\",\"TRAPPIST-1e\",\"PSO J318.5-22\",\"TRAPPIST-1e\",\"TRAPPIST-1e\",\"TRAPPIST-1e\",\"TRAPPIST-1e\",\"TRAPPIST-1e\",\"TRAPPIST-1e\",\"PSO J318.5-22\",\"TRAPPIST-1e\",\"TRAPPIST-1e\",\"55 Cancri e\",\"55 Cancri e\",\"TRAPPIST-1e\",\"TRAPPIST-1e\",\"55 Cancri e\",\"TRAPPIST-1e\",\"TRAPPIST-1e\",\"TRAPPIST-1e\",\"TRAPPIST-1e\",\"55 Cancri e\",\"55 Cancri e\",\"TRAPPIST-1e\",\"55 Cancri e\",\"TRAPPIST-1e\",\"55 Cancri e\",\"TRAPPIST-1e\",\"TRAPPIST-1e\",\"55 Cancri e\",\"TRAPPIST-1e\",\"55 Cancri e\",\"TRAPPIST-1e\",\"PSO J318.5-22\",\"TRAPPIST-1e\",\"PSO J318.5-22\",\"PSO J318.5-22\",\"55 Cancri e\",\"55 Cancri e\",\"TRAPPIST-1e\",\"TRAPPIST-1e\",\"55 Cancri e\",\"TRAPPIST-1e\",\"TRAPPIST-1e\",\"TRAPPIST-1e\",\"55 Cancri e\",\"TRAPPIST-1e\",\"TRAPPIST-1e\",\"TRAPPIST-1e\",\"TRAPPIST-1e\",\"55 Cancri e\",\"PSO J318.5-22\",\"55 Cancri e\",\"55 Cancri e\",\"PSO J318.5-22\",\"TRAPPIST-1e\",\"TRAPPIST-1e\",\"TRAPPIST-1e\",\"TRAPPIST-1e\",\"TRAPPIST-1e\",\"55 Cancri e\",\"TRAPPIST-1e\",\"TRAPPIST-1e\",\"55 Cancri e\",\"TRAPPIST-1e\",\"TRAPPIST-1e\",\"55 Cancri e\",\"55 Cancri e\",\"TRAPPIST-1e\",\"TRAPPIST-1e\",\"TRAPPIST-1e\",\"TRAPPIST-1e\",\"TRAPPIST-1e\",\"55 Cancri e\",\"TRAPPIST-1e\",\"55 Cancri e\",\"PSO J318.5-22\",\"TRAPPIST-1e\",\"TRAPPIST-1e\",\"TRAPPIST-1e\",\"TRAPPIST-1e\",\"TRAPPIST-1e\",\"TRAPPIST-1e\",\"TRAPPIST-1e\",\"TRAPPIST-1e\",\"55 Cancri e\",\"TRAPPIST-1e\",\"TRAPPIST-1e\",\"TRAPPIST-1e\",\"TRAPPIST-1e\",\"55 Cancri e\",\"55 Cancri e\",\"55 Cancri e\",\"TRAPPIST-1e\",\"TRAPPIST-1e\",\"TRAPPIST-1e\",\"55 Cancri e\",\"55 Cancri e\",\"55 Cancri e\",\"PSO J318.5-22\",\"TRAPPIST-1e\",\"TRAPPIST-1e\",\"PSO J318.5-22\",\"TRAPPIST-1e\",\"TRAPPIST-1e\",\"TRAPPIST-1e\",\"TRAPPIST-1e\",\"TRAPPIST-1e\",\"TRAPPIST-1e\",\"TRAPPIST-1e\",\"TRAPPIST-1e\",\"TRAPPIST-1e\",\"TRAPPIST-1e\",\"TRAPPIST-1e\",\"TRAPPIST-1e\",\"TRAPPIST-1e\",\"TRAPPIST-1e\",\"TRAPPIST-1e\",\"TRAPPIST-1e\",\"TRAPPIST-1e\",\"TRAPPIST-1e\",\"TRAPPIST-1e\",\"TRAPPIST-1e\",\"55 Cancri e\",\"TRAPPIST-1e\",\"TRAPPIST-1e\",\"55 Cancri e\",\"TRAPPIST-1e\",\"TRAPPIST-1e\",\"55 Cancri e\",\"TRAPPIST-1e\",\"TRAPPIST-1e\",\"TRAPPIST-1e\",\"55 Cancri e\",\"TRAPPIST-1e\",\"55 Cancri e\",\"TRAPPIST-1e\",\"TRAPPIST-1e\",\"TRAPPIST-1e\",\"55 Cancri e\",\"PSO J318.5-22\",\"TRAPPIST-1e\",\"TRAPPIST-1e\",\"TRAPPIST-1e\",\"TRAPPIST-1e\",\"55 Cancri e\",\"TRAPPIST-1e\",\"55 Cancri e\",\"TRAPPIST-1e\",\"TRAPPIST-1e\",\"TRAPPIST-1e\",\"TRAPPIST-1e\",\"TRAPPIST-1e\",\"TRAPPIST-1e\",\"TRAPPIST-1e\",\"TRAPPIST-1e\",\"55 Cancri e\",\"55 Cancri e\",\"TRAPPIST-1e\",\"TRAPPIST-1e\",\"PSO J318.5-22\",\"TRAPPIST-1e\",\"TRAPPIST-1e\",\"TRAPPIST-1e\",\"55 Cancri e\",\"TRAPPIST-1e\",\"TRAPPIST-1e\",\"TRAPPIST-1e\",\"55 Cancri e\",\"TRAPPIST-1e\",\"TRAPPIST-1e\",\"55 Cancri e\",\"TRAPPIST-1e\",\"TRAPPIST-1e\",\"TRAPPIST-1e\",\"TRAPPIST-1e\",\"PSO J318.5-22\",\"55 Cancri e\",\"TRAPPIST-1e\",\"TRAPPIST-1e\",\"TRAPPIST-1e\",\"55 Cancri e\",\"TRAPPIST-1e\",\"TRAPPIST-1e\",\"TRAPPIST-1e\",\"TRAPPIST-1e\",\"TRAPPIST-1e\",\"TRAPPIST-1e\",\"TRAPPIST-1e\",\"PSO J318.5-22\",\"TRAPPIST-1e\",\"TRAPPIST-1e\",\"TRAPPIST-1e\",\"TRAPPIST-1e\",\"TRAPPIST-1e\",\"55 Cancri e\",\"TRAPPIST-1e\",\"TRAPPIST-1e\",\"PSO J318.5-22\",\"TRAPPIST-1e\",\"TRAPPIST-1e\",\"55 Cancri e\",\"TRAPPIST-1e\",\"55 Cancri e\",\"TRAPPIST-1e\",\"55 Cancri e\",\"TRAPPIST-1e\",\"TRAPPIST-1e\",\"TRAPPIST-1e\",\"55 Cancri e\",\"TRAPPIST-1e\",\"55 Cancri e\",\"TRAPPIST-1e\",\"PSO J318.5-22\",\"TRAPPIST-1e\",\"TRAPPIST-1e\",\"TRAPPIST-1e\",\"55 Cancri e\",\"TRAPPIST-1e\",\"TRAPPIST-1e\",\"55 Cancri e\",\"PSO J318.5-22\",\"TRAPPIST-1e\",\"TRAPPIST-1e\",\"TRAPPIST-1e\",\"55 Cancri e\",\"55 Cancri e\",\"TRAPPIST-1e\",\"TRAPPIST-1e\",\"TRAPPIST-1e\",\"TRAPPIST-1e\",\"TRAPPIST-1e\",\"TRAPPIST-1e\",\"55 Cancri e\",\"TRAPPIST-1e\",\"TRAPPIST-1e\",\"TRAPPIST-1e\",\"TRAPPIST-1e\",\"TRAPPIST-1e\",\"TRAPPIST-1e\",\"TRAPPIST-1e\",\"TRAPPIST-1e\",\"55 Cancri e\",\"TRAPPIST-1e\",\"PSO J318.5-22\",\"TRAPPIST-1e\",\"TRAPPIST-1e\",\"TRAPPIST-1e\",\"55 Cancri e\",\"TRAPPIST-1e\",\"TRAPPIST-1e\",\"55 Cancri e\",\"TRAPPIST-1e\",\"55 Cancri e\",\"TRAPPIST-1e\",\"TRAPPIST-1e\",\"TRAPPIST-1e\",\"TRAPPIST-1e\",\"55 Cancri e\",\"TRAPPIST-1e\",\"TRAPPIST-1e\",\"TRAPPIST-1e\",\"TRAPPIST-1e\",\"TRAPPIST-1e\",\"TRAPPIST-1e\",\"PSO J318.5-22\",\"TRAPPIST-1e\",\"TRAPPIST-1e\",\"TRAPPIST-1e\",\"TRAPPIST-1e\",\"TRAPPIST-1e\",\"TRAPPIST-1e\",\"55 Cancri e\",\"TRAPPIST-1e\",\"TRAPPIST-1e\",\"55 Cancri e\",\"55 Cancri e\",\"55 Cancri e\",\"TRAPPIST-1e\",\"55 Cancri e\",\"PSO J318.5-22\",\"55 Cancri e\",\"TRAPPIST-1e\",\"TRAPPIST-1e\",\"TRAPPIST-1e\",\"55 Cancri e\",\"TRAPPIST-1e\",\"TRAPPIST-1e\",\"55 Cancri e\",\"TRAPPIST-1e\",\"55 Cancri e\",\"TRAPPIST-1e\",\"55 Cancri e\",\"55 Cancri e\",\"TRAPPIST-1e\",\"TRAPPIST-1e\",\"TRAPPIST-1e\",\"TRAPPIST-1e\",\"TRAPPIST-1e\",\"55 Cancri e\",\"55 Cancri e\",\"PSO J318.5-22\",\"TRAPPIST-1e\",\"55 Cancri e\",\"TRAPPIST-1e\",\"TRAPPIST-1e\",\"TRAPPIST-1e\",\"PSO J318.5-22\",\"TRAPPIST-1e\",\"TRAPPIST-1e\",\"TRAPPIST-1e\",\"55 Cancri e\",\"TRAPPIST-1e\",\"TRAPPIST-1e\",\"55 Cancri e\",\"TRAPPIST-1e\",\"55 Cancri e\",\"PSO J318.5-22\",\"PSO J318.5-22\",\"TRAPPIST-1e\",\"TRAPPIST-1e\",\"TRAPPIST-1e\",\"PSO J318.5-22\",\"55 Cancri e\",\"TRAPPIST-1e\",\"TRAPPIST-1e\",\"TRAPPIST-1e\",\"55 Cancri e\",\"TRAPPIST-1e\",\"TRAPPIST-1e\",\"TRAPPIST-1e\",\"TRAPPIST-1e\",\"PSO J318.5-22\",\"TRAPPIST-1e\",\"TRAPPIST-1e\",\"TRAPPIST-1e\",\"55 Cancri e\",\"TRAPPIST-1e\",\"TRAPPIST-1e\",\"TRAPPIST-1e\",\"TRAPPIST-1e\",\"TRAPPIST-1e\",\"TRAPPIST-1e\",\"TRAPPIST-1e\",\"TRAPPIST-1e\",\"TRAPPIST-1e\",\"TRAPPIST-1e\",\"TRAPPIST-1e\",\"TRAPPIST-1e\",\"TRAPPIST-1e\",\"PSO J318.5-22\",\"TRAPPIST-1e\",\"TRAPPIST-1e\",\"TRAPPIST-1e\",\"TRAPPIST-1e\",\"PSO J318.5-22\",\"TRAPPIST-1e\",\"55 Cancri e\",\"TRAPPIST-1e\",\"55 Cancri e\",\"TRAPPIST-1e\",\"TRAPPIST-1e\",\"TRAPPIST-1e\",\"TRAPPIST-1e\",\"TRAPPIST-1e\",\"TRAPPIST-1e\",\"TRAPPIST-1e\",\"TRAPPIST-1e\",\"TRAPPIST-1e\",\"TRAPPIST-1e\",\"TRAPPIST-1e\",\"PSO J318.5-22\",\"TRAPPIST-1e\",\"55 Cancri e\",\"TRAPPIST-1e\",\"55 Cancri e\",\"TRAPPIST-1e\",\"55 Cancri e\",\"TRAPPIST-1e\",\"TRAPPIST-1e\",\"TRAPPIST-1e\",\"55 Cancri e\",\"55 Cancri e\",\"TRAPPIST-1e\",\"55 Cancri e\",\"PSO J318.5-22\",\"TRAPPIST-1e\",\"TRAPPIST-1e\",\"TRAPPIST-1e\",\"55 Cancri e\",\"TRAPPIST-1e\",\"TRAPPIST-1e\",\"TRAPPIST-1e\",\"TRAPPIST-1e\",\"TRAPPIST-1e\",\"55 Cancri e\",\"TRAPPIST-1e\",\"55 Cancri e\",\"55 Cancri e\",\"TRAPPIST-1e\",\"TRAPPIST-1e\",\"TRAPPIST-1e\",\"TRAPPIST-1e\",\"TRAPPIST-1e\",\"TRAPPIST-1e\",\"TRAPPIST-1e\",\"55 Cancri e\",\"55 Cancri e\",\"TRAPPIST-1e\",\"TRAPPIST-1e\",\"PSO J318.5-22\",\"55 Cancri e\",\"TRAPPIST-1e\",\"55 Cancri e\",\"55 Cancri e\",\"TRAPPIST-1e\",\"55 Cancri e\",\"TRAPPIST-1e\",\"TRAPPIST-1e\",\"PSO J318.5-22\",\"55 Cancri e\",\"TRAPPIST-1e\",\"55 Cancri e\",\"TRAPPIST-1e\",\"TRAPPIST-1e\",\"TRAPPIST-1e\",\"55 Cancri e\",\"55 Cancri e\",\"55 Cancri e\",\"PSO J318.5-22\",\"TRAPPIST-1e\",\"55 Cancri e\",\"TRAPPIST-1e\",\"55 Cancri e\",\"TRAPPIST-1e\",\"TRAPPIST-1e\",\"TRAPPIST-1e\",\"TRAPPIST-1e\",\"TRAPPIST-1e\",\"55 Cancri e\",\"TRAPPIST-1e\",\"PSO J318.5-22\",\"TRAPPIST-1e\",\"PSO J318.5-22\",\"PSO J318.5-22\",\"55 Cancri e\",\"55 Cancri e\",\"TRAPPIST-1e\",\"TRAPPIST-1e\",\"TRAPPIST-1e\",\"TRAPPIST-1e\",\"PSO J318.5-22\",\"TRAPPIST-1e\",\"55 Cancri e\",\"TRAPPIST-1e\",\"55 Cancri e\",\"TRAPPIST-1e\",\"55 Cancri e\",\"TRAPPIST-1e\",\"55 Cancri e\",\"TRAPPIST-1e\",\"55 Cancri e\",\"TRAPPIST-1e\",\"TRAPPIST-1e\",\"55 Cancri e\",\"55 Cancri e\",\"TRAPPIST-1e\",\"55 Cancri e\",\"TRAPPIST-1e\",\"TRAPPIST-1e\",\"PSO J318.5-22\",\"TRAPPIST-1e\",\"55 Cancri e\",\"PSO J318.5-22\",\"TRAPPIST-1e\",\"TRAPPIST-1e\",\"55 Cancri e\",\"55 Cancri e\",\"55 Cancri e\",\"TRAPPIST-1e\",\"TRAPPIST-1e\",\"TRAPPIST-1e\",\"55 Cancri e\",\"TRAPPIST-1e\",\"55 Cancri e\",\"TRAPPIST-1e\",\"TRAPPIST-1e\",\"TRAPPIST-1e\",\"55 Cancri e\",\"TRAPPIST-1e\",\"55 Cancri e\",\"55 Cancri e\",\"TRAPPIST-1e\",\"TRAPPIST-1e\",\"55 Cancri e\",\"TRAPPIST-1e\",\"TRAPPIST-1e\",\"PSO J318.5-22\",\"TRAPPIST-1e\",\"TRAPPIST-1e\",\"TRAPPIST-1e\",\"TRAPPIST-1e\",\"55 Cancri e\",\"PSO J318.5-22\",\"TRAPPIST-1e\",\"PSO J318.5-22\",\"TRAPPIST-1e\",\"TRAPPIST-1e\",\"TRAPPIST-1e\",\"55 Cancri e\",\"PSO J318.5-22\",\"55 Cancri e\",\"TRAPPIST-1e\",\"55 Cancri e\",\"TRAPPIST-1e\",\"TRAPPIST-1e\",\"TRAPPIST-1e\",\"PSO J318.5-22\",\"TRAPPIST-1e\",\"TRAPPIST-1e\",\"55 Cancri e\",\"TRAPPIST-1e\",\"TRAPPIST-1e\",\"TRAPPIST-1e\",\"TRAPPIST-1e\",\"TRAPPIST-1e\",\"TRAPPIST-1e\",\"TRAPPIST-1e\",\"TRAPPIST-1e\",\"TRAPPIST-1e\",\"TRAPPIST-1e\",\"55 Cancri e\",\"55 Cancri e\",\"PSO J318.5-22\",\"TRAPPIST-1e\",\"TRAPPIST-1e\",\"TRAPPIST-1e\",\"TRAPPIST-1e\",\"TRAPPIST-1e\",\"TRAPPIST-1e\",\"PSO J318.5-22\",\"TRAPPIST-1e\",\"TRAPPIST-1e\",\"TRAPPIST-1e\",\"TRAPPIST-1e\",\"TRAPPIST-1e\",\"TRAPPIST-1e\",\"TRAPPIST-1e\",\"TRAPPIST-1e\",\"55 Cancri e\",\"TRAPPIST-1e\",\"TRAPPIST-1e\",\"TRAPPIST-1e\",\"TRAPPIST-1e\",\"TRAPPIST-1e\",\"55 Cancri e\",\"TRAPPIST-1e\",\"TRAPPIST-1e\",\"TRAPPIST-1e\",\"PSO J318.5-22\",\"TRAPPIST-1e\",\"55 Cancri e\",\"55 Cancri e\",\"55 Cancri e\",\"TRAPPIST-1e\",\"TRAPPIST-1e\",\"TRAPPIST-1e\",\"PSO J318.5-22\",\"55 Cancri e\",\"55 Cancri e\",\"TRAPPIST-1e\",\"55 Cancri e\",\"TRAPPIST-1e\",\"55 Cancri e\",\"55 Cancri e\",\"TRAPPIST-1e\",\"TRAPPIST-1e\",\"PSO J318.5-22\",\"TRAPPIST-1e\",\"55 Cancri e\",\"TRAPPIST-1e\",\"PSO J318.5-22\",\"55 Cancri e\",\"55 Cancri e\",\"TRAPPIST-1e\",\"PSO J318.5-22\",\"TRAPPIST-1e\",\"TRAPPIST-1e\",\"TRAPPIST-1e\",\"TRAPPIST-1e\",\"TRAPPIST-1e\",\"TRAPPIST-1e\",\"TRAPPIST-1e\",\"TRAPPIST-1e\",\"TRAPPIST-1e\",\"TRAPPIST-1e\",\"55 Cancri e\",\"55 Cancri e\",\"TRAPPIST-1e\",\"TRAPPIST-1e\",\"TRAPPIST-1e\",\"TRAPPIST-1e\",\"TRAPPIST-1e\",\"TRAPPIST-1e\",\"55 Cancri e\",\"PSO J318.5-22\",\"PSO J318.5-22\",\"PSO J318.5-22\",\"55 Cancri e\",\"TRAPPIST-1e\",\"TRAPPIST-1e\",\"TRAPPIST-1e\",\"PSO J318.5-22\",\"TRAPPIST-1e\",\"TRAPPIST-1e\",\"TRAPPIST-1e\",\"PSO J318.5-22\",\"PSO J318.5-22\",\"TRAPPIST-1e\",\"TRAPPIST-1e\",\"TRAPPIST-1e\",\"TRAPPIST-1e\",\"TRAPPIST-1e\",\"TRAPPIST-1e\",\"PSO J318.5-22\",\"TRAPPIST-1e\",\"TRAPPIST-1e\",\"TRAPPIST-1e\",\"TRAPPIST-1e\",\"55 Cancri e\",\"TRAPPIST-1e\",\"55 Cancri e\",\"55 Cancri e\",\"TRAPPIST-1e\",\"55 Cancri e\",\"TRAPPIST-1e\",\"TRAPPIST-1e\",\"55 Cancri e\",\"PSO J318.5-22\",\"TRAPPIST-1e\",\"TRAPPIST-1e\",\"PSO J318.5-22\",\"TRAPPIST-1e\",\"55 Cancri e\",\"TRAPPIST-1e\",\"TRAPPIST-1e\",\"TRAPPIST-1e\",\"TRAPPIST-1e\",\"TRAPPIST-1e\",\"TRAPPIST-1e\",\"TRAPPIST-1e\",\"55 Cancri e\",\"TRAPPIST-1e\",\"TRAPPIST-1e\",\"TRAPPIST-1e\",\"TRAPPIST-1e\",\"55 Cancri e\",\"TRAPPIST-1e\",\"TRAPPIST-1e\",\"TRAPPIST-1e\",\"55 Cancri e\",\"TRAPPIST-1e\",\"TRAPPIST-1e\",\"TRAPPIST-1e\",\"PSO J318.5-22\",\"TRAPPIST-1e\",\"TRAPPIST-1e\",\"55 Cancri e\",\"TRAPPIST-1e\",\"TRAPPIST-1e\",\"PSO J318.5-22\",\"55 Cancri e\",\"TRAPPIST-1e\",\"55 Cancri e\",\"55 Cancri e\",\"TRAPPIST-1e\",\"TRAPPIST-1e\",\"TRAPPIST-1e\",\"TRAPPIST-1e\",\"55 Cancri e\",\"TRAPPIST-1e\",\"TRAPPIST-1e\",\"55 Cancri e\",\"55 Cancri e\",\"TRAPPIST-1e\",\"TRAPPIST-1e\",\"55 Cancri e\",\"TRAPPIST-1e\",\"TRAPPIST-1e\",\"TRAPPIST-1e\",\"55 Cancri e\",\"PSO J318.5-22\",\"55 Cancri e\",\"TRAPPIST-1e\",\"PSO J318.5-22\",\"55 Cancri e\",\"PSO J318.5-22\",\"TRAPPIST-1e\",\"55 Cancri e\",\"TRAPPIST-1e\",\"TRAPPIST-1e\",\"55 Cancri e\",\"TRAPPIST-1e\",\"TRAPPIST-1e\",\"TRAPPIST-1e\",\"55 Cancri e\",\"TRAPPIST-1e\",\"TRAPPIST-1e\",\"55 Cancri e\",\"TRAPPIST-1e\",\"TRAPPIST-1e\",\"TRAPPIST-1e\",\"TRAPPIST-1e\",\"TRAPPIST-1e\",\"PSO J318.5-22\",\"55 Cancri e\",\"PSO J318.5-22\",\"TRAPPIST-1e\",\"TRAPPIST-1e\",\"55 Cancri e\",\"55 Cancri e\",\"55 Cancri e\",\"55 Cancri e\",\"PSO J318.5-22\",\"TRAPPIST-1e\",\"TRAPPIST-1e\",\"TRAPPIST-1e\",\"TRAPPIST-1e\",\"TRAPPIST-1e\",\"TRAPPIST-1e\",\"55 Cancri e\",\"55 Cancri e\",\"TRAPPIST-1e\",\"PSO J318.5-22\",\"TRAPPIST-1e\",\"TRAPPIST-1e\",\"55 Cancri e\",\"55 Cancri e\",\"55 Cancri e\",\"TRAPPIST-1e\",\"TRAPPIST-1e\",\"TRAPPIST-1e\",\"TRAPPIST-1e\",\"TRAPPIST-1e\",\"55 Cancri e\",\"TRAPPIST-1e\",\"55 Cancri e\",\"TRAPPIST-1e\",\"PSO J318.5-22\",\"55 Cancri e\",\"TRAPPIST-1e\",\"PSO J318.5-22\",\"TRAPPIST-1e\",\"55 Cancri e\",\"PSO J318.5-22\",\"TRAPPIST-1e\",\"55 Cancri e\",\"TRAPPIST-1e\",\"TRAPPIST-1e\",\"TRAPPIST-1e\",\"TRAPPIST-1e\",\"TRAPPIST-1e\",\"TRAPPIST-1e\",\"PSO J318.5-22\",\"55 Cancri e\",\"TRAPPIST-1e\",\"TRAPPIST-1e\",\"TRAPPIST-1e\",\"TRAPPIST-1e\",\"55 Cancri e\",\"TRAPPIST-1e\",\"TRAPPIST-1e\",\"TRAPPIST-1e\",\"TRAPPIST-1e\",\"TRAPPIST-1e\",\"TRAPPIST-1e\",\"TRAPPIST-1e\",\"55 Cancri e\",\"TRAPPIST-1e\",\"TRAPPIST-1e\",\"TRAPPIST-1e\",\"TRAPPIST-1e\",\"TRAPPIST-1e\",\"55 Cancri e\",\"TRAPPIST-1e\",\"55 Cancri e\",\"55 Cancri e\",\"PSO J318.5-22\",\"PSO J318.5-22\",\"TRAPPIST-1e\",\"TRAPPIST-1e\",\"PSO J318.5-22\",\"55 Cancri e\",\"TRAPPIST-1e\",\"55 Cancri e\",\"PSO J318.5-22\",\"PSO J318.5-22\",\"TRAPPIST-1e\",\"TRAPPIST-1e\",\"PSO J318.5-22\",\"55 Cancri e\",\"TRAPPIST-1e\",\"TRAPPIST-1e\",\"TRAPPIST-1e\",\"TRAPPIST-1e\",\"TRAPPIST-1e\",\"55 Cancri e\",\"TRAPPIST-1e\",\"TRAPPIST-1e\",\"TRAPPIST-1e\",\"55 Cancri e\",\"TRAPPIST-1e\",\"TRAPPIST-1e\",\"TRAPPIST-1e\",\"55 Cancri e\",\"TRAPPIST-1e\",\"TRAPPIST-1e\",\"TRAPPIST-1e\",\"TRAPPIST-1e\",\"TRAPPIST-1e\",\"TRAPPIST-1e\",\"PSO J318.5-22\",\"55 Cancri e\",\"TRAPPIST-1e\",\"TRAPPIST-1e\",\"TRAPPIST-1e\",\"TRAPPIST-1e\",\"TRAPPIST-1e\",\"55 Cancri e\",\"55 Cancri e\",\"PSO J318.5-22\",\"TRAPPIST-1e\",\"TRAPPIST-1e\",\"TRAPPIST-1e\",\"TRAPPIST-1e\",\"PSO J318.5-22\",\"55 Cancri e\",\"TRAPPIST-1e\",\"PSO J318.5-22\",\"TRAPPIST-1e\",\"TRAPPIST-1e\",\"55 Cancri e\",\"PSO J318.5-22\",\"TRAPPIST-1e\",\"55 Cancri e\",\"TRAPPIST-1e\",\"55 Cancri e\",\"TRAPPIST-1e\",\"PSO J318.5-22\",\"55 Cancri e\",\"55 Cancri e\",\"TRAPPIST-1e\",\"TRAPPIST-1e\",\"TRAPPIST-1e\",\"TRAPPIST-1e\",\"TRAPPIST-1e\",\"55 Cancri e\",\"TRAPPIST-1e\",\"55 Cancri e\",\"TRAPPIST-1e\",\"TRAPPIST-1e\",\"TRAPPIST-1e\",\"55 Cancri e\",\"TRAPPIST-1e\",\"TRAPPIST-1e\",\"TRAPPIST-1e\",\"55 Cancri e\",\"TRAPPIST-1e\",\"TRAPPIST-1e\",\"55 Cancri e\",\"TRAPPIST-1e\",\"TRAPPIST-1e\",\"TRAPPIST-1e\",\"55 Cancri e\",\"PSO J318.5-22\",\"TRAPPIST-1e\",\"TRAPPIST-1e\",\"55 Cancri e\",\"TRAPPIST-1e\",\"TRAPPIST-1e\",\"TRAPPIST-1e\",\"TRAPPIST-1e\",\"TRAPPIST-1e\",\"TRAPPIST-1e\",\"TRAPPIST-1e\",\"55 Cancri e\",\"55 Cancri e\",\"55 Cancri e\",\"TRAPPIST-1e\",\"TRAPPIST-1e\",\"TRAPPIST-1e\",\"TRAPPIST-1e\",\"TRAPPIST-1e\",\"55 Cancri e\",\"55 Cancri e\",\"55 Cancri e\",\"55 Cancri e\",\"TRAPPIST-1e\",\"TRAPPIST-1e\",\"55 Cancri e\",\"TRAPPIST-1e\",\"55 Cancri e\",\"55 Cancri e\",\"55 Cancri e\",\"55 Cancri e\",\"TRAPPIST-1e\",\"TRAPPIST-1e\",\"TRAPPIST-1e\",\"TRAPPIST-1e\",\"TRAPPIST-1e\",\"TRAPPIST-1e\",\"TRAPPIST-1e\",\"TRAPPIST-1e\",\"TRAPPIST-1e\",\"TRAPPIST-1e\",\"TRAPPIST-1e\",\"PSO J318.5-22\",\"TRAPPIST-1e\",\"PSO J318.5-22\",\"TRAPPIST-1e\",\"TRAPPIST-1e\",\"TRAPPIST-1e\",\"TRAPPIST-1e\",\"TRAPPIST-1e\",\"TRAPPIST-1e\",\"TRAPPIST-1e\",\"55 Cancri e\",\"TRAPPIST-1e\",\"55 Cancri e\",\"TRAPPIST-1e\",\"TRAPPIST-1e\",\"55 Cancri e\",\"TRAPPIST-1e\",\"TRAPPIST-1e\",\"TRAPPIST-1e\",\"PSO J318.5-22\",\"TRAPPIST-1e\",\"55 Cancri e\",\"55 Cancri e\",\"TRAPPIST-1e\",\"TRAPPIST-1e\",\"TRAPPIST-1e\",\"55 Cancri e\",\"TRAPPIST-1e\",\"TRAPPIST-1e\",\"TRAPPIST-1e\",\"TRAPPIST-1e\",\"TRAPPIST-1e\",\"TRAPPIST-1e\",\"55 Cancri e\",\"55 Cancri e\",\"PSO J318.5-22\",\"TRAPPIST-1e\",\"TRAPPIST-1e\",\"TRAPPIST-1e\",\"TRAPPIST-1e\",\"TRAPPIST-1e\",\"TRAPPIST-1e\",\"TRAPPIST-1e\",\"TRAPPIST-1e\",\"TRAPPIST-1e\",\"TRAPPIST-1e\",\"TRAPPIST-1e\",\"TRAPPIST-1e\",\"55 Cancri e\",\"TRAPPIST-1e\",\"55 Cancri e\",\"TRAPPIST-1e\",\"TRAPPIST-1e\",\"TRAPPIST-1e\",\"TRAPPIST-1e\",\"PSO J318.5-22\",\"PSO J318.5-22\",\"TRAPPIST-1e\",\"TRAPPIST-1e\",\"55 Cancri e\",\"TRAPPIST-1e\",\"55 Cancri e\",\"TRAPPIST-1e\",\"55 Cancri e\",\"TRAPPIST-1e\",\"55 Cancri e\",\"TRAPPIST-1e\",\"TRAPPIST-1e\",\"TRAPPIST-1e\",\"TRAPPIST-1e\",\"TRAPPIST-1e\",\"TRAPPIST-1e\",\"TRAPPIST-1e\",\"TRAPPIST-1e\",\"TRAPPIST-1e\",\"TRAPPIST-1e\",\"55 Cancri e\",\"TRAPPIST-1e\",\"TRAPPIST-1e\",\"TRAPPIST-1e\",\"55 Cancri e\",\"TRAPPIST-1e\",\"TRAPPIST-1e\",\"TRAPPIST-1e\",\"TRAPPIST-1e\",\"TRAPPIST-1e\",\"TRAPPIST-1e\",\"PSO J318.5-22\",\"TRAPPIST-1e\",\"55 Cancri e\",\"TRAPPIST-1e\",\"TRAPPIST-1e\",\"55 Cancri e\",\"TRAPPIST-1e\",\"TRAPPIST-1e\",\"TRAPPIST-1e\",\"TRAPPIST-1e\",\"TRAPPIST-1e\",\"55 Cancri e\",\"TRAPPIST-1e\",\"TRAPPIST-1e\",\"TRAPPIST-1e\",\"TRAPPIST-1e\",\"55 Cancri e\",\"TRAPPIST-1e\",\"55 Cancri e\",\"TRAPPIST-1e\",\"TRAPPIST-1e\",\"55 Cancri e\",\"55 Cancri e\",\"TRAPPIST-1e\",\"TRAPPIST-1e\",\"TRAPPIST-1e\",\"TRAPPIST-1e\",\"TRAPPIST-1e\",\"TRAPPIST-1e\",\"55 Cancri e\",\"55 Cancri e\",\"TRAPPIST-1e\",\"PSO J318.5-22\",\"TRAPPIST-1e\",\"55 Cancri e\",\"TRAPPIST-1e\",\"TRAPPIST-1e\",\"TRAPPIST-1e\",\"TRAPPIST-1e\",\"TRAPPIST-1e\",\"TRAPPIST-1e\",\"TRAPPIST-1e\",\"TRAPPIST-1e\",\"55 Cancri e\",\"TRAPPIST-1e\",\"TRAPPIST-1e\",\"TRAPPIST-1e\",\"55 Cancri e\",\"TRAPPIST-1e\",\"TRAPPIST-1e\",\"TRAPPIST-1e\",\"55 Cancri e\",\"TRAPPIST-1e\",\"TRAPPIST-1e\",\"TRAPPIST-1e\",\"55 Cancri e\",\"TRAPPIST-1e\",\"TRAPPIST-1e\",\"TRAPPIST-1e\",\"TRAPPIST-1e\",\"TRAPPIST-1e\",\"TRAPPIST-1e\",\"55 Cancri e\",\"TRAPPIST-1e\",\"TRAPPIST-1e\",\"55 Cancri e\",\"55 Cancri e\",\"TRAPPIST-1e\",\"TRAPPIST-1e\",\"TRAPPIST-1e\",\"TRAPPIST-1e\",\"TRAPPIST-1e\",\"55 Cancri e\",\"TRAPPIST-1e\",\"55 Cancri e\",\"55 Cancri e\",\"TRAPPIST-1e\",\"TRAPPIST-1e\",\"TRAPPIST-1e\",\"TRAPPIST-1e\",\"TRAPPIST-1e\",\"TRAPPIST-1e\",\"PSO J318.5-22\",\"TRAPPIST-1e\",\"TRAPPIST-1e\",\"55 Cancri e\",\"TRAPPIST-1e\",\"TRAPPIST-1e\",\"TRAPPIST-1e\",\"55 Cancri e\",\"55 Cancri e\",\"55 Cancri e\",\"55 Cancri e\",\"TRAPPIST-1e\",\"55 Cancri e\",\"PSO J318.5-22\",\"TRAPPIST-1e\",\"55 Cancri e\",\"PSO J318.5-22\",\"TRAPPIST-1e\",\"PSO J318.5-22\",\"TRAPPIST-1e\",\"TRAPPIST-1e\",\"TRAPPIST-1e\",\"TRAPPIST-1e\",\"TRAPPIST-1e\",\"PSO J318.5-22\",\"TRAPPIST-1e\",\"TRAPPIST-1e\",\"55 Cancri e\",\"TRAPPIST-1e\",\"TRAPPIST-1e\",\"PSO J318.5-22\",\"55 Cancri e\",\"TRAPPIST-1e\",\"TRAPPIST-1e\",\"TRAPPIST-1e\",\"TRAPPIST-1e\",\"TRAPPIST-1e\",\"PSO J318.5-22\",\"TRAPPIST-1e\",\"TRAPPIST-1e\",\"TRAPPIST-1e\",\"55 Cancri e\",\"TRAPPIST-1e\",\"TRAPPIST-1e\",\"TRAPPIST-1e\",\"TRAPPIST-1e\",\"TRAPPIST-1e\",\"TRAPPIST-1e\",\"55 Cancri e\",\"TRAPPIST-1e\",\"PSO J318.5-22\",\"TRAPPIST-1e\",\"TRAPPIST-1e\",\"TRAPPIST-1e\",\"TRAPPIST-1e\",\"TRAPPIST-1e\",\"TRAPPIST-1e\",\"TRAPPIST-1e\",\"TRAPPIST-1e\",\"TRAPPIST-1e\",\"55 Cancri e\",\"TRAPPIST-1e\",\"55 Cancri e\",\"TRAPPIST-1e\",\"55 Cancri e\",\"TRAPPIST-1e\",\"PSO J318.5-22\",\"PSO J318.5-22\",\"TRAPPIST-1e\",\"TRAPPIST-1e\",\"TRAPPIST-1e\",\"55 Cancri e\",\"TRAPPIST-1e\",\"TRAPPIST-1e\",\"55 Cancri e\",\"TRAPPIST-1e\",\"PSO J318.5-22\",\"55 Cancri e\",\"55 Cancri e\",\"55 Cancri e\",\"55 Cancri e\",\"TRAPPIST-1e\",\"TRAPPIST-1e\",\"TRAPPIST-1e\",\"TRAPPIST-1e\",\"TRAPPIST-1e\",\"55 Cancri e\",\"TRAPPIST-1e\",\"TRAPPIST-1e\",\"TRAPPIST-1e\",\"55 Cancri e\",\"TRAPPIST-1e\",\"TRAPPIST-1e\",\"55 Cancri e\",\"TRAPPIST-1e\",\"TRAPPIST-1e\",\"TRAPPIST-1e\",\"PSO J318.5-22\",\"55 Cancri e\",\"55 Cancri e\",\"55 Cancri e\",\"55 Cancri e\",\"TRAPPIST-1e\",\"TRAPPIST-1e\",\"TRAPPIST-1e\",\"PSO J318.5-22\",\"55 Cancri e\",\"TRAPPIST-1e\",\"55 Cancri e\",\"TRAPPIST-1e\",\"PSO J318.5-22\",\"TRAPPIST-1e\",\"TRAPPIST-1e\",\"55 Cancri e\",\"TRAPPIST-1e\",\"TRAPPIST-1e\",\"TRAPPIST-1e\",\"TRAPPIST-1e\",\"TRAPPIST-1e\",\"TRAPPIST-1e\",\"TRAPPIST-1e\",\"55 Cancri e\",\"55 Cancri e\",\"TRAPPIST-1e\",\"TRAPPIST-1e\",\"55 Cancri e\",\"TRAPPIST-1e\",\"55 Cancri e\",\"55 Cancri e\",\"55 Cancri e\",\"55 Cancri e\",\"TRAPPIST-1e\",\"55 Cancri e\",\"TRAPPIST-1e\",\"PSO J318.5-22\",\"TRAPPIST-1e\",\"TRAPPIST-1e\",\"TRAPPIST-1e\",\"TRAPPIST-1e\",\"TRAPPIST-1e\",\"PSO J318.5-22\",\"55 Cancri e\",\"TRAPPIST-1e\",\"PSO J318.5-22\",\"TRAPPIST-1e\",\"TRAPPIST-1e\",\"55 Cancri e\",\"TRAPPIST-1e\",\"TRAPPIST-1e\",\"55 Cancri e\",\"55 Cancri e\",\"TRAPPIST-1e\",\"TRAPPIST-1e\",\"TRAPPIST-1e\",\"TRAPPIST-1e\",\"TRAPPIST-1e\",\"55 Cancri e\",\"TRAPPIST-1e\",\"TRAPPIST-1e\",\"TRAPPIST-1e\",\"TRAPPIST-1e\",\"PSO J318.5-22\",\"55 Cancri e\",\"TRAPPIST-1e\",\"TRAPPIST-1e\",\"TRAPPIST-1e\",\"55 Cancri e\",\"55 Cancri e\",\"TRAPPIST-1e\",\"TRAPPIST-1e\",\"TRAPPIST-1e\",\"PSO J318.5-22\",\"TRAPPIST-1e\",\"TRAPPIST-1e\",\"55 Cancri e\",\"TRAPPIST-1e\",\"55 Cancri e\",\"TRAPPIST-1e\",\"55 Cancri e\",\"TRAPPIST-1e\",\"PSO J318.5-22\",\"TRAPPIST-1e\",\"TRAPPIST-1e\",\"TRAPPIST-1e\",\"55 Cancri e\",\"TRAPPIST-1e\",\"TRAPPIST-1e\",\"TRAPPIST-1e\",\"55 Cancri e\",\"55 Cancri e\",\"55 Cancri e\",\"TRAPPIST-1e\",\"55 Cancri e\",\"TRAPPIST-1e\",\"PSO J318.5-22\",\"TRAPPIST-1e\",\"TRAPPIST-1e\",\"TRAPPIST-1e\",\"TRAPPIST-1e\",\"55 Cancri e\",\"PSO J318.5-22\",\"TRAPPIST-1e\",\"55 Cancri e\",\"PSO J318.5-22\",\"55 Cancri e\",\"TRAPPIST-1e\",\"55 Cancri e\",\"55 Cancri e\",\"TRAPPIST-1e\",\"55 Cancri e\",\"TRAPPIST-1e\",\"PSO J318.5-22\",\"55 Cancri e\",\"55 Cancri e\",\"TRAPPIST-1e\",\"TRAPPIST-1e\",\"PSO J318.5-22\",\"TRAPPIST-1e\",\"55 Cancri e\",\"55 Cancri e\",\"TRAPPIST-1e\",\"TRAPPIST-1e\",\"55 Cancri e\",\"TRAPPIST-1e\",\"TRAPPIST-1e\",\"TRAPPIST-1e\",\"TRAPPIST-1e\",\"TRAPPIST-1e\",\"TRAPPIST-1e\",\"TRAPPIST-1e\",\"TRAPPIST-1e\",\"TRAPPIST-1e\",\"55 Cancri e\",\"TRAPPIST-1e\",\"55 Cancri e\",\"TRAPPIST-1e\",\"TRAPPIST-1e\",\"TRAPPIST-1e\",\"TRAPPIST-1e\",\"55 Cancri e\",\"TRAPPIST-1e\",\"TRAPPIST-1e\",\"TRAPPIST-1e\",\"55 Cancri e\",\"55 Cancri e\",\"55 Cancri e\",\"TRAPPIST-1e\",\"TRAPPIST-1e\",\"TRAPPIST-1e\",\"TRAPPIST-1e\",\"55 Cancri e\",\"55 Cancri e\",\"55 Cancri e\",\"55 Cancri e\",\"TRAPPIST-1e\",\"TRAPPIST-1e\",\"TRAPPIST-1e\",\"TRAPPIST-1e\",\"55 Cancri e\",\"PSO J318.5-22\",\"TRAPPIST-1e\",\"TRAPPIST-1e\",\"TRAPPIST-1e\",\"55 Cancri e\",\"PSO J318.5-22\",\"55 Cancri e\",\"TRAPPIST-1e\",\"TRAPPIST-1e\",\"TRAPPIST-1e\",\"TRAPPIST-1e\",\"TRAPPIST-1e\",\"55 Cancri e\",\"TRAPPIST-1e\",\"TRAPPIST-1e\",\"PSO J318.5-22\",\"PSO J318.5-22\",\"55 Cancri e\",\"TRAPPIST-1e\",\"PSO J318.5-22\",\"PSO J318.5-22\",\"TRAPPIST-1e\",\"55 Cancri e\",\"TRAPPIST-1e\",\"TRAPPIST-1e\",\"TRAPPIST-1e\",\"55 Cancri e\",\"TRAPPIST-1e\",\"TRAPPIST-1e\",\"TRAPPIST-1e\",\"TRAPPIST-1e\",\"55 Cancri e\",\"PSO J318.5-22\",\"TRAPPIST-1e\",\"55 Cancri e\",\"TRAPPIST-1e\",\"TRAPPIST-1e\",\"TRAPPIST-1e\",\"PSO J318.5-22\",\"TRAPPIST-1e\",\"55 Cancri e\",\"TRAPPIST-1e\",\"TRAPPIST-1e\",\"TRAPPIST-1e\",\"TRAPPIST-1e\",\"PSO J318.5-22\",\"55 Cancri e\",\"TRAPPIST-1e\",\"55 Cancri e\",\"TRAPPIST-1e\",\"55 Cancri e\",\"55 Cancri e\",\"TRAPPIST-1e\",\"TRAPPIST-1e\",\"PSO J318.5-22\",\"TRAPPIST-1e\",\"TRAPPIST-1e\",\"TRAPPIST-1e\",\"TRAPPIST-1e\",\"55 Cancri e\",\"TRAPPIST-1e\",\"TRAPPIST-1e\",\"TRAPPIST-1e\",\"TRAPPIST-1e\",\"TRAPPIST-1e\",\"TRAPPIST-1e\",\"TRAPPIST-1e\",\"55 Cancri e\",\"55 Cancri e\",\"PSO J318.5-22\",\"TRAPPIST-1e\",\"TRAPPIST-1e\",\"PSO J318.5-22\",\"TRAPPIST-1e\",\"55 Cancri e\",\"TRAPPIST-1e\",\"PSO J318.5-22\",\"TRAPPIST-1e\",\"TRAPPIST-1e\",\"55 Cancri e\",\"55 Cancri e\",\"PSO J318.5-22\",\"TRAPPIST-1e\",\"TRAPPIST-1e\",\"TRAPPIST-1e\",\"TRAPPIST-1e\",\"TRAPPIST-1e\",\"TRAPPIST-1e\",\"TRAPPIST-1e\",\"TRAPPIST-1e\",\"55 Cancri e\",\"TRAPPIST-1e\",\"55 Cancri e\",\"TRAPPIST-1e\",\"55 Cancri e\",\"TRAPPIST-1e\",\"TRAPPIST-1e\",\"TRAPPIST-1e\",\"55 Cancri e\",\"PSO J318.5-22\",\"PSO J318.5-22\",\"TRAPPIST-1e\",\"TRAPPIST-1e\",\"TRAPPIST-1e\",\"TRAPPIST-1e\",\"TRAPPIST-1e\",\"55 Cancri e\",\"TRAPPIST-1e\",\"TRAPPIST-1e\",\"TRAPPIST-1e\",\"TRAPPIST-1e\",\"TRAPPIST-1e\",\"55 Cancri e\",\"TRAPPIST-1e\",\"TRAPPIST-1e\",\"55 Cancri e\",\"55 Cancri e\",\"55 Cancri e\",\"TRAPPIST-1e\",\"TRAPPIST-1e\",\"55 Cancri e\",\"PSO J318.5-22\",\"TRAPPIST-1e\",\"PSO J318.5-22\",\"TRAPPIST-1e\",\"TRAPPIST-1e\",\"55 Cancri e\",\"TRAPPIST-1e\",\"TRAPPIST-1e\",\"TRAPPIST-1e\",\"TRAPPIST-1e\",\"55 Cancri e\",\"TRAPPIST-1e\",\"TRAPPIST-1e\",\"PSO J318.5-22\",\"55 Cancri e\",\"55 Cancri e\",\"PSO J318.5-22\",\"TRAPPIST-1e\",\"TRAPPIST-1e\",\"TRAPPIST-1e\",\"55 Cancri e\",\"TRAPPIST-1e\",\"TRAPPIST-1e\",\"55 Cancri e\",\"55 Cancri e\",\"55 Cancri e\",\"55 Cancri e\",\"TRAPPIST-1e\",\"TRAPPIST-1e\",\"TRAPPIST-1e\",\"55 Cancri e\",\"55 Cancri e\",\"55 Cancri e\",\"TRAPPIST-1e\",\"TRAPPIST-1e\",\"TRAPPIST-1e\",\"55 Cancri e\",\"TRAPPIST-1e\",\"TRAPPIST-1e\",\"TRAPPIST-1e\",\"55 Cancri e\",\"TRAPPIST-1e\",\"PSO J318.5-22\",\"TRAPPIST-1e\",\"TRAPPIST-1e\",\"55 Cancri e\",\"TRAPPIST-1e\",\"TRAPPIST-1e\",\"TRAPPIST-1e\",\"55 Cancri e\",\"55 Cancri e\",\"PSO J318.5-22\",\"TRAPPIST-1e\",\"TRAPPIST-1e\",\"55 Cancri e\",\"TRAPPIST-1e\",\"PSO J318.5-22\",\"TRAPPIST-1e\",\"PSO J318.5-22\",\"TRAPPIST-1e\",\"TRAPPIST-1e\",\"TRAPPIST-1e\",\"TRAPPIST-1e\",\"55 Cancri e\",\"PSO J318.5-22\",\"55 Cancri e\",\"TRAPPIST-1e\",\"PSO J318.5-22\",\"TRAPPIST-1e\",\"TRAPPIST-1e\",\"TRAPPIST-1e\",\"TRAPPIST-1e\",\"TRAPPIST-1e\",\"TRAPPIST-1e\",\"PSO J318.5-22\",\"TRAPPIST-1e\",\"55 Cancri e\",\"TRAPPIST-1e\",\"TRAPPIST-1e\",\"TRAPPIST-1e\",\"TRAPPIST-1e\",\"TRAPPIST-1e\",\"TRAPPIST-1e\",\"TRAPPIST-1e\",\"TRAPPIST-1e\",\"TRAPPIST-1e\",\"TRAPPIST-1e\",\"TRAPPIST-1e\",\"TRAPPIST-1e\",\"TRAPPIST-1e\",\"TRAPPIST-1e\",\"TRAPPIST-1e\",\"55 Cancri e\",\"55 Cancri e\",\"TRAPPIST-1e\",\"TRAPPIST-1e\",\"TRAPPIST-1e\",\"TRAPPIST-1e\",\"TRAPPIST-1e\",\"TRAPPIST-1e\",\"TRAPPIST-1e\",\"TRAPPIST-1e\",\"TRAPPIST-1e\",\"TRAPPIST-1e\",\"TRAPPIST-1e\",\"TRAPPIST-1e\",\"55 Cancri e\",\"TRAPPIST-1e\",\"TRAPPIST-1e\",\"TRAPPIST-1e\",\"TRAPPIST-1e\",\"TRAPPIST-1e\",\"TRAPPIST-1e\",\"TRAPPIST-1e\",\"TRAPPIST-1e\",\"PSO J318.5-22\",\"55 Cancri e\",\"TRAPPIST-1e\",\"55 Cancri e\",\"TRAPPIST-1e\",\"55 Cancri e\",\"PSO J318.5-22\",\"PSO J318.5-22\",\"PSO J318.5-22\",\"PSO J318.5-22\",\"TRAPPIST-1e\",\"TRAPPIST-1e\",\"TRAPPIST-1e\",\"TRAPPIST-1e\",\"TRAPPIST-1e\",\"TRAPPIST-1e\",\"TRAPPIST-1e\",\"TRAPPIST-1e\",\"TRAPPIST-1e\",\"TRAPPIST-1e\",\"TRAPPIST-1e\",\"TRAPPIST-1e\",\"TRAPPIST-1e\",\"TRAPPIST-1e\",\"55 Cancri e\",\"TRAPPIST-1e\",\"TRAPPIST-1e\",\"55 Cancri e\",\"TRAPPIST-1e\",\"TRAPPIST-1e\",\"55 Cancri e\",\"55 Cancri e\",\"PSO J318.5-22\",\"TRAPPIST-1e\",\"PSO J318.5-22\",\"TRAPPIST-1e\",\"TRAPPIST-1e\",\"TRAPPIST-1e\",\"TRAPPIST-1e\",\"PSO J318.5-22\",\"PSO J318.5-22\",\"TRAPPIST-1e\",\"55 Cancri e\",\"55 Cancri e\",\"TRAPPIST-1e\",\"TRAPPIST-1e\",\"TRAPPIST-1e\",\"TRAPPIST-1e\",\"TRAPPIST-1e\",\"55 Cancri e\",\"TRAPPIST-1e\",\"TRAPPIST-1e\",\"TRAPPIST-1e\",\"55 Cancri e\",\"55 Cancri e\",\"TRAPPIST-1e\",\"55 Cancri e\",\"55 Cancri e\",\"TRAPPIST-1e\",\"TRAPPIST-1e\",\"TRAPPIST-1e\",\"55 Cancri e\",\"TRAPPIST-1e\",\"55 Cancri e\",\"55 Cancri e\",\"55 Cancri e\",\"TRAPPIST-1e\",\"TRAPPIST-1e\",\"TRAPPIST-1e\",\"TRAPPIST-1e\",\"TRAPPIST-1e\",\"55 Cancri e\",\"55 Cancri e\",\"TRAPPIST-1e\",\"TRAPPIST-1e\",\"TRAPPIST-1e\",\"TRAPPIST-1e\",\"PSO J318.5-22\",\"55 Cancri e\",\"TRAPPIST-1e\",\"TRAPPIST-1e\",\"55 Cancri e\",\"TRAPPIST-1e\",\"55 Cancri e\",\"TRAPPIST-1e\",\"55 Cancri e\",\"TRAPPIST-1e\",\"TRAPPIST-1e\",\"TRAPPIST-1e\",\"55 Cancri e\",\"TRAPPIST-1e\",\"TRAPPIST-1e\",\"55 Cancri e\",\"TRAPPIST-1e\",\"TRAPPIST-1e\",\"55 Cancri e\",\"TRAPPIST-1e\",\"PSO J318.5-22\",\"55 Cancri e\",\"TRAPPIST-1e\",\"55 Cancri e\",\"TRAPPIST-1e\",\"TRAPPIST-1e\",\"55 Cancri e\",\"TRAPPIST-1e\",\"TRAPPIST-1e\",\"TRAPPIST-1e\",\"TRAPPIST-1e\",\"TRAPPIST-1e\",\"55 Cancri e\",\"TRAPPIST-1e\",\"TRAPPIST-1e\",\"TRAPPIST-1e\",\"TRAPPIST-1e\",\"TRAPPIST-1e\",\"TRAPPIST-1e\",\"55 Cancri e\",\"TRAPPIST-1e\",\"55 Cancri e\",\"PSO J318.5-22\",\"TRAPPIST-1e\",\"TRAPPIST-1e\",\"55 Cancri e\",\"55 Cancri e\",\"PSO J318.5-22\",\"PSO J318.5-22\",\"TRAPPIST-1e\",\"TRAPPIST-1e\",\"55 Cancri e\",\"55 Cancri e\",\"55 Cancri e\",\"TRAPPIST-1e\",\"TRAPPIST-1e\",\"TRAPPIST-1e\",\"TRAPPIST-1e\",\"TRAPPIST-1e\",\"TRAPPIST-1e\",\"55 Cancri e\",\"TRAPPIST-1e\",\"TRAPPIST-1e\",\"55 Cancri e\",\"TRAPPIST-1e\",\"TRAPPIST-1e\",\"TRAPPIST-1e\",\"TRAPPIST-1e\",\"55 Cancri e\",\"TRAPPIST-1e\",\"TRAPPIST-1e\",\"TRAPPIST-1e\",\"TRAPPIST-1e\",\"55 Cancri e\",\"TRAPPIST-1e\",\"PSO J318.5-22\",\"55 Cancri e\",\"TRAPPIST-1e\",\"TRAPPIST-1e\",\"TRAPPIST-1e\",\"55 Cancri e\",\"TRAPPIST-1e\",\"PSO J318.5-22\",\"TRAPPIST-1e\",\"TRAPPIST-1e\",\"PSO J318.5-22\",\"TRAPPIST-1e\",\"TRAPPIST-1e\",\"TRAPPIST-1e\",\"55 Cancri e\",\"55 Cancri e\",\"55 Cancri e\",\"TRAPPIST-1e\",\"55 Cancri e\",\"TRAPPIST-1e\",\"PSO J318.5-22\",\"TRAPPIST-1e\",\"TRAPPIST-1e\",\"TRAPPIST-1e\",\"55 Cancri e\",\"55 Cancri e\",\"TRAPPIST-1e\",\"TRAPPIST-1e\",\"55 Cancri e\",\"TRAPPIST-1e\",\"TRAPPIST-1e\",\"TRAPPIST-1e\",\"TRAPPIST-1e\",\"TRAPPIST-1e\",\"55 Cancri e\",\"TRAPPIST-1e\",\"TRAPPIST-1e\",\"TRAPPIST-1e\",\"TRAPPIST-1e\",\"TRAPPIST-1e\",\"55 Cancri e\",\"TRAPPIST-1e\",\"55 Cancri e\",\"TRAPPIST-1e\",\"TRAPPIST-1e\",\"TRAPPIST-1e\",\"TRAPPIST-1e\",\"55 Cancri e\",\"TRAPPIST-1e\",\"TRAPPIST-1e\",\"TRAPPIST-1e\",\"TRAPPIST-1e\",\"TRAPPIST-1e\",\"55 Cancri e\",\"55 Cancri e\",\"PSO J318.5-22\",\"TRAPPIST-1e\",\"TRAPPIST-1e\",\"TRAPPIST-1e\",\"55 Cancri e\",\"55 Cancri e\",\"55 Cancri e\",\"TRAPPIST-1e\",\"TRAPPIST-1e\",\"55 Cancri e\",\"TRAPPIST-1e\",\"TRAPPIST-1e\",\"TRAPPIST-1e\",\"55 Cancri e\",\"55 Cancri e\",\"TRAPPIST-1e\",\"PSO J318.5-22\",\"TRAPPIST-1e\",\"TRAPPIST-1e\",\"TRAPPIST-1e\",\"55 Cancri e\",\"TRAPPIST-1e\",\"55 Cancri e\",\"TRAPPIST-1e\",\"55 Cancri e\",\"TRAPPIST-1e\",\"55 Cancri e\",\"55 Cancri e\",\"TRAPPIST-1e\",\"TRAPPIST-1e\",\"TRAPPIST-1e\",\"PSO J318.5-22\",\"TRAPPIST-1e\",\"55 Cancri e\",\"TRAPPIST-1e\",\"55 Cancri e\",\"TRAPPIST-1e\",\"PSO J318.5-22\",\"TRAPPIST-1e\",\"TRAPPIST-1e\",\"TRAPPIST-1e\",\"55 Cancri e\",\"PSO J318.5-22\",\"TRAPPIST-1e\",\"TRAPPIST-1e\",\"TRAPPIST-1e\",\"TRAPPIST-1e\",\"PSO J318.5-22\",\"TRAPPIST-1e\",\"TRAPPIST-1e\",\"TRAPPIST-1e\",\"55 Cancri e\",\"PSO J318.5-22\",\"TRAPPIST-1e\",\"TRAPPIST-1e\",\"PSO J318.5-22\",\"TRAPPIST-1e\",\"TRAPPIST-1e\",\"PSO J318.5-22\",\"PSO J318.5-22\",\"TRAPPIST-1e\",\"55 Cancri e\",\"TRAPPIST-1e\",\"TRAPPIST-1e\",\"TRAPPIST-1e\",\"TRAPPIST-1e\",\"TRAPPIST-1e\",\"55 Cancri e\",\"TRAPPIST-1e\",\"TRAPPIST-1e\",\"55 Cancri e\",\"TRAPPIST-1e\",\"55 Cancri e\",\"55 Cancri e\",\"TRAPPIST-1e\",\"TRAPPIST-1e\",\"55 Cancri e\",\"TRAPPIST-1e\",\"55 Cancri e\",\"TRAPPIST-1e\",\"55 Cancri e\",\"TRAPPIST-1e\",\"PSO J318.5-22\",\"55 Cancri e\",\"55 Cancri e\",\"TRAPPIST-1e\",\"PSO J318.5-22\",\"TRAPPIST-1e\",\"TRAPPIST-1e\",\"55 Cancri e\",\"TRAPPIST-1e\",\"TRAPPIST-1e\",\"TRAPPIST-1e\",\"TRAPPIST-1e\",\"PSO J318.5-22\",\"55 Cancri e\",\"PSO J318.5-22\",\"55 Cancri e\",\"55 Cancri e\",\"TRAPPIST-1e\",\"TRAPPIST-1e\",\"TRAPPIST-1e\",\"55 Cancri e\",\"55 Cancri e\",\"TRAPPIST-1e\",\"55 Cancri e\",\"TRAPPIST-1e\",\"55 Cancri e\",\"TRAPPIST-1e\",\"55 Cancri e\",\"55 Cancri e\",\"TRAPPIST-1e\",\"TRAPPIST-1e\",\"TRAPPIST-1e\",\"TRAPPIST-1e\",\"PSO J318.5-22\",\"TRAPPIST-1e\",\"TRAPPIST-1e\",\"TRAPPIST-1e\",\"TRAPPIST-1e\",\"55 Cancri e\",\"TRAPPIST-1e\",\"55 Cancri e\",\"TRAPPIST-1e\",\"55 Cancri e\",\"TRAPPIST-1e\",\"TRAPPIST-1e\",\"TRAPPIST-1e\",\"TRAPPIST-1e\",\"TRAPPIST-1e\",\"PSO J318.5-22\",\"TRAPPIST-1e\",\"55 Cancri e\",\"TRAPPIST-1e\",\"TRAPPIST-1e\",\"TRAPPIST-1e\",\"PSO J318.5-22\",\"PSO J318.5-22\",\"55 Cancri e\",\"TRAPPIST-1e\",\"55 Cancri e\",\"TRAPPIST-1e\",\"TRAPPIST-1e\",\"TRAPPIST-1e\",\"TRAPPIST-1e\",\"TRAPPIST-1e\",\"PSO J318.5-22\",\"55 Cancri e\",\"TRAPPIST-1e\",\"TRAPPIST-1e\",\"TRAPPIST-1e\",\"TRAPPIST-1e\",\"TRAPPIST-1e\",\"TRAPPIST-1e\",\"TRAPPIST-1e\",\"PSO J318.5-22\",\"TRAPPIST-1e\",\"TRAPPIST-1e\",\"TRAPPIST-1e\",\"55 Cancri e\",\"TRAPPIST-1e\",\"55 Cancri e\",\"PSO J318.5-22\",\"55 Cancri e\",\"55 Cancri e\",\"TRAPPIST-1e\",\"TRAPPIST-1e\",\"TRAPPIST-1e\",\"TRAPPIST-1e\",\"55 Cancri e\",\"55 Cancri e\",\"TRAPPIST-1e\",\"TRAPPIST-1e\",\"PSO J318.5-22\",\"TRAPPIST-1e\",\"PSO J318.5-22\",\"PSO J318.5-22\",\"TRAPPIST-1e\",\"TRAPPIST-1e\",\"55 Cancri e\",\"TRAPPIST-1e\",\"TRAPPIST-1e\",\"TRAPPIST-1e\",\"TRAPPIST-1e\",\"PSO J318.5-22\",\"TRAPPIST-1e\",\"TRAPPIST-1e\",\"TRAPPIST-1e\",\"55 Cancri e\",\"55 Cancri e\",\"PSO J318.5-22\",\"TRAPPIST-1e\",\"TRAPPIST-1e\",\"55 Cancri e\",\"TRAPPIST-1e\",\"TRAPPIST-1e\",\"TRAPPIST-1e\",\"55 Cancri e\",\"TRAPPIST-1e\",\"TRAPPIST-1e\",\"TRAPPIST-1e\",\"TRAPPIST-1e\",\"TRAPPIST-1e\"],\"xaxis\":\"x\",\"yaxis\":\"y\",\"type\":\"histogram\"}],                        {\"template\":{\"data\":{\"bar\":[{\"error_x\":{\"color\":\"#2a3f5f\"},\"error_y\":{\"color\":\"#2a3f5f\"},\"marker\":{\"line\":{\"color\":\"#E5ECF6\",\"width\":0.5},\"pattern\":{\"fillmode\":\"overlay\",\"size\":10,\"solidity\":0.2}},\"type\":\"bar\"}],\"barpolar\":[{\"marker\":{\"line\":{\"color\":\"#E5ECF6\",\"width\":0.5},\"pattern\":{\"fillmode\":\"overlay\",\"size\":10,\"solidity\":0.2}},\"type\":\"barpolar\"}],\"carpet\":[{\"aaxis\":{\"endlinecolor\":\"#2a3f5f\",\"gridcolor\":\"white\",\"linecolor\":\"white\",\"minorgridcolor\":\"white\",\"startlinecolor\":\"#2a3f5f\"},\"baxis\":{\"endlinecolor\":\"#2a3f5f\",\"gridcolor\":\"white\",\"linecolor\":\"white\",\"minorgridcolor\":\"white\",\"startlinecolor\":\"#2a3f5f\"},\"type\":\"carpet\"}],\"choropleth\":[{\"colorbar\":{\"outlinewidth\":0,\"ticks\":\"\"},\"type\":\"choropleth\"}],\"contour\":[{\"colorbar\":{\"outlinewidth\":0,\"ticks\":\"\"},\"colorscale\":[[0.0,\"#0d0887\"],[0.1111111111111111,\"#46039f\"],[0.2222222222222222,\"#7201a8\"],[0.3333333333333333,\"#9c179e\"],[0.4444444444444444,\"#bd3786\"],[0.5555555555555556,\"#d8576b\"],[0.6666666666666666,\"#ed7953\"],[0.7777777777777778,\"#fb9f3a\"],[0.8888888888888888,\"#fdca26\"],[1.0,\"#f0f921\"]],\"type\":\"contour\"}],\"contourcarpet\":[{\"colorbar\":{\"outlinewidth\":0,\"ticks\":\"\"},\"type\":\"contourcarpet\"}],\"heatmap\":[{\"colorbar\":{\"outlinewidth\":0,\"ticks\":\"\"},\"colorscale\":[[0.0,\"#0d0887\"],[0.1111111111111111,\"#46039f\"],[0.2222222222222222,\"#7201a8\"],[0.3333333333333333,\"#9c179e\"],[0.4444444444444444,\"#bd3786\"],[0.5555555555555556,\"#d8576b\"],[0.6666666666666666,\"#ed7953\"],[0.7777777777777778,\"#fb9f3a\"],[0.8888888888888888,\"#fdca26\"],[1.0,\"#f0f921\"]],\"type\":\"heatmap\"}],\"heatmapgl\":[{\"colorbar\":{\"outlinewidth\":0,\"ticks\":\"\"},\"colorscale\":[[0.0,\"#0d0887\"],[0.1111111111111111,\"#46039f\"],[0.2222222222222222,\"#7201a8\"],[0.3333333333333333,\"#9c179e\"],[0.4444444444444444,\"#bd3786\"],[0.5555555555555556,\"#d8576b\"],[0.6666666666666666,\"#ed7953\"],[0.7777777777777778,\"#fb9f3a\"],[0.8888888888888888,\"#fdca26\"],[1.0,\"#f0f921\"]],\"type\":\"heatmapgl\"}],\"histogram\":[{\"marker\":{\"pattern\":{\"fillmode\":\"overlay\",\"size\":10,\"solidity\":0.2}},\"type\":\"histogram\"}],\"histogram2d\":[{\"colorbar\":{\"outlinewidth\":0,\"ticks\":\"\"},\"colorscale\":[[0.0,\"#0d0887\"],[0.1111111111111111,\"#46039f\"],[0.2222222222222222,\"#7201a8\"],[0.3333333333333333,\"#9c179e\"],[0.4444444444444444,\"#bd3786\"],[0.5555555555555556,\"#d8576b\"],[0.6666666666666666,\"#ed7953\"],[0.7777777777777778,\"#fb9f3a\"],[0.8888888888888888,\"#fdca26\"],[1.0,\"#f0f921\"]],\"type\":\"histogram2d\"}],\"histogram2dcontour\":[{\"colorbar\":{\"outlinewidth\":0,\"ticks\":\"\"},\"colorscale\":[[0.0,\"#0d0887\"],[0.1111111111111111,\"#46039f\"],[0.2222222222222222,\"#7201a8\"],[0.3333333333333333,\"#9c179e\"],[0.4444444444444444,\"#bd3786\"],[0.5555555555555556,\"#d8576b\"],[0.6666666666666666,\"#ed7953\"],[0.7777777777777778,\"#fb9f3a\"],[0.8888888888888888,\"#fdca26\"],[1.0,\"#f0f921\"]],\"type\":\"histogram2dcontour\"}],\"mesh3d\":[{\"colorbar\":{\"outlinewidth\":0,\"ticks\":\"\"},\"type\":\"mesh3d\"}],\"parcoords\":[{\"line\":{\"colorbar\":{\"outlinewidth\":0,\"ticks\":\"\"}},\"type\":\"parcoords\"}],\"pie\":[{\"automargin\":true,\"type\":\"pie\"}],\"scatter\":[{\"marker\":{\"colorbar\":{\"outlinewidth\":0,\"ticks\":\"\"}},\"type\":\"scatter\"}],\"scatter3d\":[{\"line\":{\"colorbar\":{\"outlinewidth\":0,\"ticks\":\"\"}},\"marker\":{\"colorbar\":{\"outlinewidth\":0,\"ticks\":\"\"}},\"type\":\"scatter3d\"}],\"scattercarpet\":[{\"marker\":{\"colorbar\":{\"outlinewidth\":0,\"ticks\":\"\"}},\"type\":\"scattercarpet\"}],\"scattergeo\":[{\"marker\":{\"colorbar\":{\"outlinewidth\":0,\"ticks\":\"\"}},\"type\":\"scattergeo\"}],\"scattergl\":[{\"marker\":{\"colorbar\":{\"outlinewidth\":0,\"ticks\":\"\"}},\"type\":\"scattergl\"}],\"scattermapbox\":[{\"marker\":{\"colorbar\":{\"outlinewidth\":0,\"ticks\":\"\"}},\"type\":\"scattermapbox\"}],\"scatterpolar\":[{\"marker\":{\"colorbar\":{\"outlinewidth\":0,\"ticks\":\"\"}},\"type\":\"scatterpolar\"}],\"scatterpolargl\":[{\"marker\":{\"colorbar\":{\"outlinewidth\":0,\"ticks\":\"\"}},\"type\":\"scatterpolargl\"}],\"scatterternary\":[{\"marker\":{\"colorbar\":{\"outlinewidth\":0,\"ticks\":\"\"}},\"type\":\"scatterternary\"}],\"surface\":[{\"colorbar\":{\"outlinewidth\":0,\"ticks\":\"\"},\"colorscale\":[[0.0,\"#0d0887\"],[0.1111111111111111,\"#46039f\"],[0.2222222222222222,\"#7201a8\"],[0.3333333333333333,\"#9c179e\"],[0.4444444444444444,\"#bd3786\"],[0.5555555555555556,\"#d8576b\"],[0.6666666666666666,\"#ed7953\"],[0.7777777777777778,\"#fb9f3a\"],[0.8888888888888888,\"#fdca26\"],[1.0,\"#f0f921\"]],\"type\":\"surface\"}],\"table\":[{\"cells\":{\"fill\":{\"color\":\"#EBF0F8\"},\"line\":{\"color\":\"white\"}},\"header\":{\"fill\":{\"color\":\"#C8D4E3\"},\"line\":{\"color\":\"white\"}},\"type\":\"table\"}]},\"layout\":{\"annotationdefaults\":{\"arrowcolor\":\"#2a3f5f\",\"arrowhead\":0,\"arrowwidth\":1},\"autotypenumbers\":\"strict\",\"coloraxis\":{\"colorbar\":{\"outlinewidth\":0,\"ticks\":\"\"}},\"colorscale\":{\"diverging\":[[0,\"#8e0152\"],[0.1,\"#c51b7d\"],[0.2,\"#de77ae\"],[0.3,\"#f1b6da\"],[0.4,\"#fde0ef\"],[0.5,\"#f7f7f7\"],[0.6,\"#e6f5d0\"],[0.7,\"#b8e186\"],[0.8,\"#7fbc41\"],[0.9,\"#4d9221\"],[1,\"#276419\"]],\"sequential\":[[0.0,\"#0d0887\"],[0.1111111111111111,\"#46039f\"],[0.2222222222222222,\"#7201a8\"],[0.3333333333333333,\"#9c179e\"],[0.4444444444444444,\"#bd3786\"],[0.5555555555555556,\"#d8576b\"],[0.6666666666666666,\"#ed7953\"],[0.7777777777777778,\"#fb9f3a\"],[0.8888888888888888,\"#fdca26\"],[1.0,\"#f0f921\"]],\"sequentialminus\":[[0.0,\"#0d0887\"],[0.1111111111111111,\"#46039f\"],[0.2222222222222222,\"#7201a8\"],[0.3333333333333333,\"#9c179e\"],[0.4444444444444444,\"#bd3786\"],[0.5555555555555556,\"#d8576b\"],[0.6666666666666666,\"#ed7953\"],[0.7777777777777778,\"#fb9f3a\"],[0.8888888888888888,\"#fdca26\"],[1.0,\"#f0f921\"]]},\"colorway\":[\"#636efa\",\"#EF553B\",\"#00cc96\",\"#ab63fa\",\"#FFA15A\",\"#19d3f3\",\"#FF6692\",\"#B6E880\",\"#FF97FF\",\"#FECB52\"],\"font\":{\"color\":\"#2a3f5f\"},\"geo\":{\"bgcolor\":\"white\",\"lakecolor\":\"white\",\"landcolor\":\"#E5ECF6\",\"showlakes\":true,\"showland\":true,\"subunitcolor\":\"white\"},\"hoverlabel\":{\"align\":\"left\"},\"hovermode\":\"closest\",\"mapbox\":{\"style\":\"light\"},\"paper_bgcolor\":\"white\",\"plot_bgcolor\":\"#E5ECF6\",\"polar\":{\"angularaxis\":{\"gridcolor\":\"white\",\"linecolor\":\"white\",\"ticks\":\"\"},\"bgcolor\":\"#E5ECF6\",\"radialaxis\":{\"gridcolor\":\"white\",\"linecolor\":\"white\",\"ticks\":\"\"}},\"scene\":{\"xaxis\":{\"backgroundcolor\":\"#E5ECF6\",\"gridcolor\":\"white\",\"gridwidth\":2,\"linecolor\":\"white\",\"showbackground\":true,\"ticks\":\"\",\"zerolinecolor\":\"white\"},\"yaxis\":{\"backgroundcolor\":\"#E5ECF6\",\"gridcolor\":\"white\",\"gridwidth\":2,\"linecolor\":\"white\",\"showbackground\":true,\"ticks\":\"\",\"zerolinecolor\":\"white\"},\"zaxis\":{\"backgroundcolor\":\"#E5ECF6\",\"gridcolor\":\"white\",\"gridwidth\":2,\"linecolor\":\"white\",\"showbackground\":true,\"ticks\":\"\",\"zerolinecolor\":\"white\"}},\"shapedefaults\":{\"line\":{\"color\":\"#2a3f5f\"}},\"ternary\":{\"aaxis\":{\"gridcolor\":\"white\",\"linecolor\":\"white\",\"ticks\":\"\"},\"baxis\":{\"gridcolor\":\"white\",\"linecolor\":\"white\",\"ticks\":\"\"},\"bgcolor\":\"#E5ECF6\",\"caxis\":{\"gridcolor\":\"white\",\"linecolor\":\"white\",\"ticks\":\"\"}},\"title\":{\"x\":0.05},\"xaxis\":{\"automargin\":true,\"gridcolor\":\"white\",\"linecolor\":\"white\",\"ticks\":\"\",\"title\":{\"standoff\":15},\"zerolinecolor\":\"white\",\"zerolinewidth\":2},\"yaxis\":{\"automargin\":true,\"gridcolor\":\"white\",\"linecolor\":\"white\",\"ticks\":\"\",\"title\":{\"standoff\":15},\"zerolinecolor\":\"white\",\"zerolinewidth\":2}}},\"xaxis\":{\"anchor\":\"y\",\"domain\":[0.0,1.0],\"title\":{\"text\":\"Destination\"}},\"yaxis\":{\"anchor\":\"x\",\"domain\":[0.0,1.0],\"title\":{\"text\":\"count\"}},\"legend\":{\"title\":{\"text\":\"Transported\"},\"tracegroupgap\":0},\"margin\":{\"t\":60},\"barmode\":\"group\",\"height\":700,\"width\":750},                        {\"responsive\": true}                    ).then(function(){\n",
              "                            \n",
              "var gd = document.getElementById('19942ef5-8e09-443a-8ab6-27cae33fd4bb');\n",
              "var x = new MutationObserver(function (mutations, observer) {{\n",
              "        var display = window.getComputedStyle(gd).display;\n",
              "        if (!display || display === 'none') {{\n",
              "            console.log([gd, 'removed!']);\n",
              "            Plotly.purge(gd);\n",
              "            observer.disconnect();\n",
              "        }}\n",
              "}});\n",
              "\n",
              "// Listen for the removal of the full notebook cells\n",
              "var notebookContainer = gd.closest('#notebook-container');\n",
              "if (notebookContainer) {{\n",
              "    x.observe(notebookContainer, {childList: true});\n",
              "}}\n",
              "\n",
              "// Listen for the clearing of the current output cell\n",
              "var outputEl = gd.closest('.output');\n",
              "if (outputEl) {{\n",
              "    x.observe(outputEl, {childList: true});\n",
              "}}\n",
              "\n",
              "                        })                };                            </script>        </div>\n",
              "</body>\n",
              "</html>"
            ]
          },
          "metadata": {}
        }
      ]
    },
    {
      "cell_type": "markdown",
      "source": [
        "## Splitting of input and output columns"
      ],
      "metadata": {
        "id": "RdVD-CS13jio"
      }
    },
    {
      "cell_type": "code",
      "source": [
        "X=space_df2.drop(columns=['Transported'])\n",
        "Y=space_df2['Transported']"
      ],
      "metadata": {
        "id": "_E1-TZ-vthVN"
      },
      "execution_count": 26,
      "outputs": []
    },
    {
      "cell_type": "code",
      "source": [
        "X"
      ],
      "metadata": {
        "colab": {
          "base_uri": "https://localhost:8080/",
          "height": 424
        },
        "id": "lDmWjsRctj1O",
        "outputId": "c48b65d5-0c95-4734-8276-010524506436"
      },
      "execution_count": 27,
      "outputs": [
        {
          "output_type": "execute_result",
          "data": {
            "text/plain": [
              "     HomePlanet  CryoSleep    Destination  Age    VIP  RoomService  FoodCourt  \\\n",
              "0        Europa      False    TRAPPIST-1e   39  False          0.0        0.0   \n",
              "1         Earth      False    TRAPPIST-1e   24  False        109.0        9.0   \n",
              "2        Europa      False    TRAPPIST-1e   58   True         43.0     3576.0   \n",
              "3        Europa      False    TRAPPIST-1e   33  False          0.0     1283.0   \n",
              "4         Earth      False    TRAPPIST-1e   16  False        303.0       70.0   \n",
              "...         ...        ...            ...  ...    ...          ...        ...   \n",
              "8688     Europa      False    55 Cancri e   41   True          0.0     6819.0   \n",
              "8689      Earth       True  PSO J318.5-22   18  False          0.0        0.0   \n",
              "8690      Earth      False    TRAPPIST-1e   26  False          0.0        0.0   \n",
              "8691     Europa      False    55 Cancri e   32  False          0.0     1049.0   \n",
              "8692     Europa      False    TRAPPIST-1e   44  False        126.0     4688.0   \n",
              "\n",
              "      ShoppingMall     Spa  VRDeck  \n",
              "0              0.0     0.0     0.0  \n",
              "1             25.0   549.0    44.0  \n",
              "2              0.0  6715.0    49.0  \n",
              "3            371.0  3329.0   193.0  \n",
              "4            151.0   565.0     2.0  \n",
              "...            ...     ...     ...  \n",
              "8688           0.0  1643.0    74.0  \n",
              "8689           0.0     0.0     0.0  \n",
              "8690        1872.0     1.0     0.0  \n",
              "8691           0.0   353.0  3235.0  \n",
              "8692           0.0     0.0    12.0  \n",
              "\n",
              "[8314 rows x 10 columns]"
            ],
            "text/html": [
              "\n",
              "  <div id=\"df-bd16efda-1ebd-47d8-9e2a-f9e12c2dc6c2\">\n",
              "    <div class=\"colab-df-container\">\n",
              "      <div>\n",
              "<style scoped>\n",
              "    .dataframe tbody tr th:only-of-type {\n",
              "        vertical-align: middle;\n",
              "    }\n",
              "\n",
              "    .dataframe tbody tr th {\n",
              "        vertical-align: top;\n",
              "    }\n",
              "\n",
              "    .dataframe thead th {\n",
              "        text-align: right;\n",
              "    }\n",
              "</style>\n",
              "<table border=\"1\" class=\"dataframe\">\n",
              "  <thead>\n",
              "    <tr style=\"text-align: right;\">\n",
              "      <th></th>\n",
              "      <th>HomePlanet</th>\n",
              "      <th>CryoSleep</th>\n",
              "      <th>Destination</th>\n",
              "      <th>Age</th>\n",
              "      <th>VIP</th>\n",
              "      <th>RoomService</th>\n",
              "      <th>FoodCourt</th>\n",
              "      <th>ShoppingMall</th>\n",
              "      <th>Spa</th>\n",
              "      <th>VRDeck</th>\n",
              "    </tr>\n",
              "  </thead>\n",
              "  <tbody>\n",
              "    <tr>\n",
              "      <th>0</th>\n",
              "      <td>Europa</td>\n",
              "      <td>False</td>\n",
              "      <td>TRAPPIST-1e</td>\n",
              "      <td>39</td>\n",
              "      <td>False</td>\n",
              "      <td>0.0</td>\n",
              "      <td>0.0</td>\n",
              "      <td>0.0</td>\n",
              "      <td>0.0</td>\n",
              "      <td>0.0</td>\n",
              "    </tr>\n",
              "    <tr>\n",
              "      <th>1</th>\n",
              "      <td>Earth</td>\n",
              "      <td>False</td>\n",
              "      <td>TRAPPIST-1e</td>\n",
              "      <td>24</td>\n",
              "      <td>False</td>\n",
              "      <td>109.0</td>\n",
              "      <td>9.0</td>\n",
              "      <td>25.0</td>\n",
              "      <td>549.0</td>\n",
              "      <td>44.0</td>\n",
              "    </tr>\n",
              "    <tr>\n",
              "      <th>2</th>\n",
              "      <td>Europa</td>\n",
              "      <td>False</td>\n",
              "      <td>TRAPPIST-1e</td>\n",
              "      <td>58</td>\n",
              "      <td>True</td>\n",
              "      <td>43.0</td>\n",
              "      <td>3576.0</td>\n",
              "      <td>0.0</td>\n",
              "      <td>6715.0</td>\n",
              "      <td>49.0</td>\n",
              "    </tr>\n",
              "    <tr>\n",
              "      <th>3</th>\n",
              "      <td>Europa</td>\n",
              "      <td>False</td>\n",
              "      <td>TRAPPIST-1e</td>\n",
              "      <td>33</td>\n",
              "      <td>False</td>\n",
              "      <td>0.0</td>\n",
              "      <td>1283.0</td>\n",
              "      <td>371.0</td>\n",
              "      <td>3329.0</td>\n",
              "      <td>193.0</td>\n",
              "    </tr>\n",
              "    <tr>\n",
              "      <th>4</th>\n",
              "      <td>Earth</td>\n",
              "      <td>False</td>\n",
              "      <td>TRAPPIST-1e</td>\n",
              "      <td>16</td>\n",
              "      <td>False</td>\n",
              "      <td>303.0</td>\n",
              "      <td>70.0</td>\n",
              "      <td>151.0</td>\n",
              "      <td>565.0</td>\n",
              "      <td>2.0</td>\n",
              "    </tr>\n",
              "    <tr>\n",
              "      <th>...</th>\n",
              "      <td>...</td>\n",
              "      <td>...</td>\n",
              "      <td>...</td>\n",
              "      <td>...</td>\n",
              "      <td>...</td>\n",
              "      <td>...</td>\n",
              "      <td>...</td>\n",
              "      <td>...</td>\n",
              "      <td>...</td>\n",
              "      <td>...</td>\n",
              "    </tr>\n",
              "    <tr>\n",
              "      <th>8688</th>\n",
              "      <td>Europa</td>\n",
              "      <td>False</td>\n",
              "      <td>55 Cancri e</td>\n",
              "      <td>41</td>\n",
              "      <td>True</td>\n",
              "      <td>0.0</td>\n",
              "      <td>6819.0</td>\n",
              "      <td>0.0</td>\n",
              "      <td>1643.0</td>\n",
              "      <td>74.0</td>\n",
              "    </tr>\n",
              "    <tr>\n",
              "      <th>8689</th>\n",
              "      <td>Earth</td>\n",
              "      <td>True</td>\n",
              "      <td>PSO J318.5-22</td>\n",
              "      <td>18</td>\n",
              "      <td>False</td>\n",
              "      <td>0.0</td>\n",
              "      <td>0.0</td>\n",
              "      <td>0.0</td>\n",
              "      <td>0.0</td>\n",
              "      <td>0.0</td>\n",
              "    </tr>\n",
              "    <tr>\n",
              "      <th>8690</th>\n",
              "      <td>Earth</td>\n",
              "      <td>False</td>\n",
              "      <td>TRAPPIST-1e</td>\n",
              "      <td>26</td>\n",
              "      <td>False</td>\n",
              "      <td>0.0</td>\n",
              "      <td>0.0</td>\n",
              "      <td>1872.0</td>\n",
              "      <td>1.0</td>\n",
              "      <td>0.0</td>\n",
              "    </tr>\n",
              "    <tr>\n",
              "      <th>8691</th>\n",
              "      <td>Europa</td>\n",
              "      <td>False</td>\n",
              "      <td>55 Cancri e</td>\n",
              "      <td>32</td>\n",
              "      <td>False</td>\n",
              "      <td>0.0</td>\n",
              "      <td>1049.0</td>\n",
              "      <td>0.0</td>\n",
              "      <td>353.0</td>\n",
              "      <td>3235.0</td>\n",
              "    </tr>\n",
              "    <tr>\n",
              "      <th>8692</th>\n",
              "      <td>Europa</td>\n",
              "      <td>False</td>\n",
              "      <td>TRAPPIST-1e</td>\n",
              "      <td>44</td>\n",
              "      <td>False</td>\n",
              "      <td>126.0</td>\n",
              "      <td>4688.0</td>\n",
              "      <td>0.0</td>\n",
              "      <td>0.0</td>\n",
              "      <td>12.0</td>\n",
              "    </tr>\n",
              "  </tbody>\n",
              "</table>\n",
              "<p>8314 rows × 10 columns</p>\n",
              "</div>\n",
              "      <button class=\"colab-df-convert\" onclick=\"convertToInteractive('df-bd16efda-1ebd-47d8-9e2a-f9e12c2dc6c2')\"\n",
              "              title=\"Convert this dataframe to an interactive table.\"\n",
              "              style=\"display:none;\">\n",
              "        \n",
              "  <svg xmlns=\"http://www.w3.org/2000/svg\" height=\"24px\"viewBox=\"0 0 24 24\"\n",
              "       width=\"24px\">\n",
              "    <path d=\"M0 0h24v24H0V0z\" fill=\"none\"/>\n",
              "    <path d=\"M18.56 5.44l.94 2.06.94-2.06 2.06-.94-2.06-.94-.94-2.06-.94 2.06-2.06.94zm-11 1L8.5 8.5l.94-2.06 2.06-.94-2.06-.94L8.5 2.5l-.94 2.06-2.06.94zm10 10l.94 2.06.94-2.06 2.06-.94-2.06-.94-.94-2.06-.94 2.06-2.06.94z\"/><path d=\"M17.41 7.96l-1.37-1.37c-.4-.4-.92-.59-1.43-.59-.52 0-1.04.2-1.43.59L10.3 9.45l-7.72 7.72c-.78.78-.78 2.05 0 2.83L4 21.41c.39.39.9.59 1.41.59.51 0 1.02-.2 1.41-.59l7.78-7.78 2.81-2.81c.8-.78.8-2.07 0-2.86zM5.41 20L4 18.59l7.72-7.72 1.47 1.35L5.41 20z\"/>\n",
              "  </svg>\n",
              "      </button>\n",
              "      \n",
              "  <style>\n",
              "    .colab-df-container {\n",
              "      display:flex;\n",
              "      flex-wrap:wrap;\n",
              "      gap: 12px;\n",
              "    }\n",
              "\n",
              "    .colab-df-convert {\n",
              "      background-color: #E8F0FE;\n",
              "      border: none;\n",
              "      border-radius: 50%;\n",
              "      cursor: pointer;\n",
              "      display: none;\n",
              "      fill: #1967D2;\n",
              "      height: 32px;\n",
              "      padding: 0 0 0 0;\n",
              "      width: 32px;\n",
              "    }\n",
              "\n",
              "    .colab-df-convert:hover {\n",
              "      background-color: #E2EBFA;\n",
              "      box-shadow: 0px 1px 2px rgba(60, 64, 67, 0.3), 0px 1px 3px 1px rgba(60, 64, 67, 0.15);\n",
              "      fill: #174EA6;\n",
              "    }\n",
              "\n",
              "    [theme=dark] .colab-df-convert {\n",
              "      background-color: #3B4455;\n",
              "      fill: #D2E3FC;\n",
              "    }\n",
              "\n",
              "    [theme=dark] .colab-df-convert:hover {\n",
              "      background-color: #434B5C;\n",
              "      box-shadow: 0px 1px 3px 1px rgba(0, 0, 0, 0.15);\n",
              "      filter: drop-shadow(0px 1px 2px rgba(0, 0, 0, 0.3));\n",
              "      fill: #FFFFFF;\n",
              "    }\n",
              "  </style>\n",
              "\n",
              "      <script>\n",
              "        const buttonEl =\n",
              "          document.querySelector('#df-bd16efda-1ebd-47d8-9e2a-f9e12c2dc6c2 button.colab-df-convert');\n",
              "        buttonEl.style.display =\n",
              "          google.colab.kernel.accessAllowed ? 'block' : 'none';\n",
              "\n",
              "        async function convertToInteractive(key) {\n",
              "          const element = document.querySelector('#df-bd16efda-1ebd-47d8-9e2a-f9e12c2dc6c2');\n",
              "          const dataTable =\n",
              "            await google.colab.kernel.invokeFunction('convertToInteractive',\n",
              "                                                     [key], {});\n",
              "          if (!dataTable) return;\n",
              "\n",
              "          const docLinkHtml = 'Like what you see? Visit the ' +\n",
              "            '<a target=\"_blank\" href=https://colab.research.google.com/notebooks/data_table.ipynb>data table notebook</a>'\n",
              "            + ' to learn more about interactive tables.';\n",
              "          element.innerHTML = '';\n",
              "          dataTable['output_type'] = 'display_data';\n",
              "          await google.colab.output.renderOutput(dataTable, element);\n",
              "          const docLink = document.createElement('div');\n",
              "          docLink.innerHTML = docLinkHtml;\n",
              "          element.appendChild(docLink);\n",
              "        }\n",
              "      </script>\n",
              "    </div>\n",
              "  </div>\n",
              "  "
            ]
          },
          "metadata": {},
          "execution_count": 27
        }
      ]
    },
    {
      "cell_type": "code",
      "source": [
        "Y"
      ],
      "metadata": {
        "colab": {
          "base_uri": "https://localhost:8080/"
        },
        "id": "ojY4UYdytlgs",
        "outputId": "9ee6151d-16c1-4390-fb4f-97d7a2667333"
      },
      "execution_count": 28,
      "outputs": [
        {
          "output_type": "execute_result",
          "data": {
            "text/plain": [
              "0       False\n",
              "1        True\n",
              "2       False\n",
              "3       False\n",
              "4        True\n",
              "        ...  \n",
              "8688    False\n",
              "8689    False\n",
              "8690     True\n",
              "8691    False\n",
              "8692     True\n",
              "Name: Transported, Length: 8314, dtype: bool"
            ]
          },
          "metadata": {},
          "execution_count": 28
        }
      ]
    },
    {
      "cell_type": "markdown",
      "source": [
        "## Label encoding of categorical variables to make it ready for training with various algorithms"
      ],
      "metadata": {
        "id": "EV5WqvcX3pbu"
      }
    },
    {
      "cell_type": "code",
      "source": [
        "lm = LabelEncoder()\n",
        "X['CryoSleep']=lm.fit_transform(X['CryoSleep'])\n",
        "X['VIP']=lm.fit_transform(X['VIP'])\n",
        "X['HomePlanet']=lm.fit_transform(X['HomePlanet'])\n",
        "X['Destination']=lm.fit_transform(X['Destination'])"
      ],
      "metadata": {
        "id": "3jeUdfaAtmIk"
      },
      "execution_count": 29,
      "outputs": []
    },
    {
      "cell_type": "code",
      "source": [
        "X"
      ],
      "metadata": {
        "colab": {
          "base_uri": "https://localhost:8080/",
          "height": 424
        },
        "id": "cJI10dTltzlt",
        "outputId": "cdbf36af-0381-4ce6-8f16-a4838b1afe57"
      },
      "execution_count": 30,
      "outputs": [
        {
          "output_type": "execute_result",
          "data": {
            "text/plain": [
              "      HomePlanet  CryoSleep  Destination  Age  VIP  RoomService  FoodCourt  \\\n",
              "0              1          0            2   39    0          0.0        0.0   \n",
              "1              0          0            2   24    0        109.0        9.0   \n",
              "2              1          0            2   58    1         43.0     3576.0   \n",
              "3              1          0            2   33    0          0.0     1283.0   \n",
              "4              0          0            2   16    0        303.0       70.0   \n",
              "...          ...        ...          ...  ...  ...          ...        ...   \n",
              "8688           1          0            0   41    1          0.0     6819.0   \n",
              "8689           0          1            1   18    0          0.0        0.0   \n",
              "8690           0          0            2   26    0          0.0        0.0   \n",
              "8691           1          0            0   32    0          0.0     1049.0   \n",
              "8692           1          0            2   44    0        126.0     4688.0   \n",
              "\n",
              "      ShoppingMall     Spa  VRDeck  \n",
              "0              0.0     0.0     0.0  \n",
              "1             25.0   549.0    44.0  \n",
              "2              0.0  6715.0    49.0  \n",
              "3            371.0  3329.0   193.0  \n",
              "4            151.0   565.0     2.0  \n",
              "...            ...     ...     ...  \n",
              "8688           0.0  1643.0    74.0  \n",
              "8689           0.0     0.0     0.0  \n",
              "8690        1872.0     1.0     0.0  \n",
              "8691           0.0   353.0  3235.0  \n",
              "8692           0.0     0.0    12.0  \n",
              "\n",
              "[8314 rows x 10 columns]"
            ],
            "text/html": [
              "\n",
              "  <div id=\"df-cd4f3271-47f7-4da7-a0c1-572d56c9fa19\">\n",
              "    <div class=\"colab-df-container\">\n",
              "      <div>\n",
              "<style scoped>\n",
              "    .dataframe tbody tr th:only-of-type {\n",
              "        vertical-align: middle;\n",
              "    }\n",
              "\n",
              "    .dataframe tbody tr th {\n",
              "        vertical-align: top;\n",
              "    }\n",
              "\n",
              "    .dataframe thead th {\n",
              "        text-align: right;\n",
              "    }\n",
              "</style>\n",
              "<table border=\"1\" class=\"dataframe\">\n",
              "  <thead>\n",
              "    <tr style=\"text-align: right;\">\n",
              "      <th></th>\n",
              "      <th>HomePlanet</th>\n",
              "      <th>CryoSleep</th>\n",
              "      <th>Destination</th>\n",
              "      <th>Age</th>\n",
              "      <th>VIP</th>\n",
              "      <th>RoomService</th>\n",
              "      <th>FoodCourt</th>\n",
              "      <th>ShoppingMall</th>\n",
              "      <th>Spa</th>\n",
              "      <th>VRDeck</th>\n",
              "    </tr>\n",
              "  </thead>\n",
              "  <tbody>\n",
              "    <tr>\n",
              "      <th>0</th>\n",
              "      <td>1</td>\n",
              "      <td>0</td>\n",
              "      <td>2</td>\n",
              "      <td>39</td>\n",
              "      <td>0</td>\n",
              "      <td>0.0</td>\n",
              "      <td>0.0</td>\n",
              "      <td>0.0</td>\n",
              "      <td>0.0</td>\n",
              "      <td>0.0</td>\n",
              "    </tr>\n",
              "    <tr>\n",
              "      <th>1</th>\n",
              "      <td>0</td>\n",
              "      <td>0</td>\n",
              "      <td>2</td>\n",
              "      <td>24</td>\n",
              "      <td>0</td>\n",
              "      <td>109.0</td>\n",
              "      <td>9.0</td>\n",
              "      <td>25.0</td>\n",
              "      <td>549.0</td>\n",
              "      <td>44.0</td>\n",
              "    </tr>\n",
              "    <tr>\n",
              "      <th>2</th>\n",
              "      <td>1</td>\n",
              "      <td>0</td>\n",
              "      <td>2</td>\n",
              "      <td>58</td>\n",
              "      <td>1</td>\n",
              "      <td>43.0</td>\n",
              "      <td>3576.0</td>\n",
              "      <td>0.0</td>\n",
              "      <td>6715.0</td>\n",
              "      <td>49.0</td>\n",
              "    </tr>\n",
              "    <tr>\n",
              "      <th>3</th>\n",
              "      <td>1</td>\n",
              "      <td>0</td>\n",
              "      <td>2</td>\n",
              "      <td>33</td>\n",
              "      <td>0</td>\n",
              "      <td>0.0</td>\n",
              "      <td>1283.0</td>\n",
              "      <td>371.0</td>\n",
              "      <td>3329.0</td>\n",
              "      <td>193.0</td>\n",
              "    </tr>\n",
              "    <tr>\n",
              "      <th>4</th>\n",
              "      <td>0</td>\n",
              "      <td>0</td>\n",
              "      <td>2</td>\n",
              "      <td>16</td>\n",
              "      <td>0</td>\n",
              "      <td>303.0</td>\n",
              "      <td>70.0</td>\n",
              "      <td>151.0</td>\n",
              "      <td>565.0</td>\n",
              "      <td>2.0</td>\n",
              "    </tr>\n",
              "    <tr>\n",
              "      <th>...</th>\n",
              "      <td>...</td>\n",
              "      <td>...</td>\n",
              "      <td>...</td>\n",
              "      <td>...</td>\n",
              "      <td>...</td>\n",
              "      <td>...</td>\n",
              "      <td>...</td>\n",
              "      <td>...</td>\n",
              "      <td>...</td>\n",
              "      <td>...</td>\n",
              "    </tr>\n",
              "    <tr>\n",
              "      <th>8688</th>\n",
              "      <td>1</td>\n",
              "      <td>0</td>\n",
              "      <td>0</td>\n",
              "      <td>41</td>\n",
              "      <td>1</td>\n",
              "      <td>0.0</td>\n",
              "      <td>6819.0</td>\n",
              "      <td>0.0</td>\n",
              "      <td>1643.0</td>\n",
              "      <td>74.0</td>\n",
              "    </tr>\n",
              "    <tr>\n",
              "      <th>8689</th>\n",
              "      <td>0</td>\n",
              "      <td>1</td>\n",
              "      <td>1</td>\n",
              "      <td>18</td>\n",
              "      <td>0</td>\n",
              "      <td>0.0</td>\n",
              "      <td>0.0</td>\n",
              "      <td>0.0</td>\n",
              "      <td>0.0</td>\n",
              "      <td>0.0</td>\n",
              "    </tr>\n",
              "    <tr>\n",
              "      <th>8690</th>\n",
              "      <td>0</td>\n",
              "      <td>0</td>\n",
              "      <td>2</td>\n",
              "      <td>26</td>\n",
              "      <td>0</td>\n",
              "      <td>0.0</td>\n",
              "      <td>0.0</td>\n",
              "      <td>1872.0</td>\n",
              "      <td>1.0</td>\n",
              "      <td>0.0</td>\n",
              "    </tr>\n",
              "    <tr>\n",
              "      <th>8691</th>\n",
              "      <td>1</td>\n",
              "      <td>0</td>\n",
              "      <td>0</td>\n",
              "      <td>32</td>\n",
              "      <td>0</td>\n",
              "      <td>0.0</td>\n",
              "      <td>1049.0</td>\n",
              "      <td>0.0</td>\n",
              "      <td>353.0</td>\n",
              "      <td>3235.0</td>\n",
              "    </tr>\n",
              "    <tr>\n",
              "      <th>8692</th>\n",
              "      <td>1</td>\n",
              "      <td>0</td>\n",
              "      <td>2</td>\n",
              "      <td>44</td>\n",
              "      <td>0</td>\n",
              "      <td>126.0</td>\n",
              "      <td>4688.0</td>\n",
              "      <td>0.0</td>\n",
              "      <td>0.0</td>\n",
              "      <td>12.0</td>\n",
              "    </tr>\n",
              "  </tbody>\n",
              "</table>\n",
              "<p>8314 rows × 10 columns</p>\n",
              "</div>\n",
              "      <button class=\"colab-df-convert\" onclick=\"convertToInteractive('df-cd4f3271-47f7-4da7-a0c1-572d56c9fa19')\"\n",
              "              title=\"Convert this dataframe to an interactive table.\"\n",
              "              style=\"display:none;\">\n",
              "        \n",
              "  <svg xmlns=\"http://www.w3.org/2000/svg\" height=\"24px\"viewBox=\"0 0 24 24\"\n",
              "       width=\"24px\">\n",
              "    <path d=\"M0 0h24v24H0V0z\" fill=\"none\"/>\n",
              "    <path d=\"M18.56 5.44l.94 2.06.94-2.06 2.06-.94-2.06-.94-.94-2.06-.94 2.06-2.06.94zm-11 1L8.5 8.5l.94-2.06 2.06-.94-2.06-.94L8.5 2.5l-.94 2.06-2.06.94zm10 10l.94 2.06.94-2.06 2.06-.94-2.06-.94-.94-2.06-.94 2.06-2.06.94z\"/><path d=\"M17.41 7.96l-1.37-1.37c-.4-.4-.92-.59-1.43-.59-.52 0-1.04.2-1.43.59L10.3 9.45l-7.72 7.72c-.78.78-.78 2.05 0 2.83L4 21.41c.39.39.9.59 1.41.59.51 0 1.02-.2 1.41-.59l7.78-7.78 2.81-2.81c.8-.78.8-2.07 0-2.86zM5.41 20L4 18.59l7.72-7.72 1.47 1.35L5.41 20z\"/>\n",
              "  </svg>\n",
              "      </button>\n",
              "      \n",
              "  <style>\n",
              "    .colab-df-container {\n",
              "      display:flex;\n",
              "      flex-wrap:wrap;\n",
              "      gap: 12px;\n",
              "    }\n",
              "\n",
              "    .colab-df-convert {\n",
              "      background-color: #E8F0FE;\n",
              "      border: none;\n",
              "      border-radius: 50%;\n",
              "      cursor: pointer;\n",
              "      display: none;\n",
              "      fill: #1967D2;\n",
              "      height: 32px;\n",
              "      padding: 0 0 0 0;\n",
              "      width: 32px;\n",
              "    }\n",
              "\n",
              "    .colab-df-convert:hover {\n",
              "      background-color: #E2EBFA;\n",
              "      box-shadow: 0px 1px 2px rgba(60, 64, 67, 0.3), 0px 1px 3px 1px rgba(60, 64, 67, 0.15);\n",
              "      fill: #174EA6;\n",
              "    }\n",
              "\n",
              "    [theme=dark] .colab-df-convert {\n",
              "      background-color: #3B4455;\n",
              "      fill: #D2E3FC;\n",
              "    }\n",
              "\n",
              "    [theme=dark] .colab-df-convert:hover {\n",
              "      background-color: #434B5C;\n",
              "      box-shadow: 0px 1px 3px 1px rgba(0, 0, 0, 0.15);\n",
              "      filter: drop-shadow(0px 1px 2px rgba(0, 0, 0, 0.3));\n",
              "      fill: #FFFFFF;\n",
              "    }\n",
              "  </style>\n",
              "\n",
              "      <script>\n",
              "        const buttonEl =\n",
              "          document.querySelector('#df-cd4f3271-47f7-4da7-a0c1-572d56c9fa19 button.colab-df-convert');\n",
              "        buttonEl.style.display =\n",
              "          google.colab.kernel.accessAllowed ? 'block' : 'none';\n",
              "\n",
              "        async function convertToInteractive(key) {\n",
              "          const element = document.querySelector('#df-cd4f3271-47f7-4da7-a0c1-572d56c9fa19');\n",
              "          const dataTable =\n",
              "            await google.colab.kernel.invokeFunction('convertToInteractive',\n",
              "                                                     [key], {});\n",
              "          if (!dataTable) return;\n",
              "\n",
              "          const docLinkHtml = 'Like what you see? Visit the ' +\n",
              "            '<a target=\"_blank\" href=https://colab.research.google.com/notebooks/data_table.ipynb>data table notebook</a>'\n",
              "            + ' to learn more about interactive tables.';\n",
              "          element.innerHTML = '';\n",
              "          dataTable['output_type'] = 'display_data';\n",
              "          await google.colab.output.renderOutput(dataTable, element);\n",
              "          const docLink = document.createElement('div');\n",
              "          docLink.innerHTML = docLinkHtml;\n",
              "          element.appendChild(docLink);\n",
              "        }\n",
              "      </script>\n",
              "    </div>\n",
              "  </div>\n",
              "  "
            ]
          },
          "metadata": {},
          "execution_count": 30
        }
      ]
    },
    {
      "cell_type": "code",
      "source": [
        "Y=lm.fit_transform(Y)\n",
        "Y"
      ],
      "metadata": {
        "colab": {
          "base_uri": "https://localhost:8080/"
        },
        "id": "Z9W1Q_xwt2At",
        "outputId": "570631c1-84b0-4cda-f58c-07759164e70b"
      },
      "execution_count": 31,
      "outputs": [
        {
          "output_type": "execute_result",
          "data": {
            "text/plain": [
              "array([0, 1, 0, ..., 1, 0, 1])"
            ]
          },
          "metadata": {},
          "execution_count": 31
        }
      ]
    },
    {
      "cell_type": "code",
      "source": [],
      "metadata": {
        "id": "mzjfFhbFb5xh"
      },
      "execution_count": 31,
      "outputs": []
    },
    {
      "cell_type": "markdown",
      "source": [
        "## Feature selection using chi square test and using that, selecting just the top 5 features impacting the output column"
      ],
      "metadata": {
        "id": "4NlB5ZZh3y5M"
      }
    },
    {
      "cell_type": "code",
      "source": [
        "chi_features = SelectKBest(chi2,k=5)\n",
        "xk_feature = chi_features.fit_transform(X,Y)"
      ],
      "metadata": {
        "id": "KqIdmWeYt6qh"
      },
      "execution_count": 32,
      "outputs": []
    },
    {
      "cell_type": "code",
      "source": [
        "fvalue_selector = SelectKBest(f_classif, k=5)\n",
        "f_kbest = fvalue_selector.fit_transform(X, Y)"
      ],
      "metadata": {
        "id": "u9dvN3088kBJ"
      },
      "execution_count": 33,
      "outputs": []
    },
    {
      "cell_type": "markdown",
      "source": [
        "## `Test train split of X and Y using features from chi square test`"
      ],
      "metadata": {
        "id": "_O5N47704AOT"
      }
    },
    {
      "cell_type": "code",
      "source": [
        "xtrain, xtest, ytrain, ytest = train_test_split(xk_feature, Y, test_size = 0.2, random_state = 111)"
      ],
      "metadata": {
        "id": "2QQICf6lt9pu"
      },
      "execution_count": 34,
      "outputs": []
    },
    {
      "cell_type": "markdown",
      "source": [
        "## Now is the modelling and accuracy assessing stage"
      ],
      "metadata": {
        "id": "awCly3Xi4D9H"
      }
    },
    {
      "cell_type": "code",
      "source": [
        "#XGBOOST ALGORITHM\n",
        "model = XGBClassifier()\n",
        "model.fit(xtrain, ytrain)"
      ],
      "metadata": {
        "colab": {
          "base_uri": "https://localhost:8080/"
        },
        "id": "ivHdZCX2uAK2",
        "outputId": "a696916b-e98f-4d1f-9ad3-b31389a19101"
      },
      "execution_count": 35,
      "outputs": [
        {
          "output_type": "execute_result",
          "data": {
            "text/plain": [
              "XGBClassifier()"
            ]
          },
          "metadata": {},
          "execution_count": 35
        }
      ]
    },
    {
      "cell_type": "code",
      "source": [
        "y_pred = model.predict(xtest)\n",
        "predictions = [round(value) for value in y_pred]"
      ],
      "metadata": {
        "id": "9Ohpyw9FuCt_"
      },
      "execution_count": 36,
      "outputs": []
    },
    {
      "cell_type": "code",
      "source": [
        "accuracy = accuracy_score(ytest, predictions)\n",
        "print(\"Accuracy: %.2f%%\" % (accuracy * 100.0))"
      ],
      "metadata": {
        "colab": {
          "base_uri": "https://localhost:8080/"
        },
        "id": "lFVvGouwuGEI",
        "outputId": "6735459f-0c80-4cde-ff60-8b4cc4f2e0c9"
      },
      "execution_count": 37,
      "outputs": [
        {
          "output_type": "stream",
          "name": "stdout",
          "text": [
            "Accuracy: 80.40%\n"
          ]
        }
      ]
    },
    {
      "cell_type": "code",
      "source": [
        "#RANDOM FOREST CLASSIFIER\n",
        "forest = RandomForestClassifier(criterion='gini',n_estimators=3,random_state=1,n_jobs=5)"
      ],
      "metadata": {
        "id": "j-1WqXLiuJpJ"
      },
      "execution_count": 38,
      "outputs": []
    },
    {
      "cell_type": "code",
      "source": [
        "forest.fit(xtrain, ytrain)"
      ],
      "metadata": {
        "colab": {
          "base_uri": "https://localhost:8080/"
        },
        "id": "RkIl1oNyuR7Q",
        "outputId": "87cb49f2-08cd-4034-de15-3399b0cb704b"
      },
      "execution_count": 39,
      "outputs": [
        {
          "output_type": "execute_result",
          "data": {
            "text/plain": [
              "RandomForestClassifier(n_estimators=3, n_jobs=5, random_state=1)"
            ]
          },
          "metadata": {},
          "execution_count": 39
        }
      ]
    },
    {
      "cell_type": "code",
      "source": [
        "y_pred_1 = forest.predict(xtest)"
      ],
      "metadata": {
        "id": "RKvoI8jhuTxv"
      },
      "execution_count": 40,
      "outputs": []
    },
    {
      "cell_type": "code",
      "source": [
        "print((accuracy_score(ytest, y_pred_1))*100)"
      ],
      "metadata": {
        "colab": {
          "base_uri": "https://localhost:8080/"
        },
        "id": "h0Z6-OKsuV2M",
        "outputId": "ce9d4330-56ff-4a42-ba67-3baf336530f3"
      },
      "execution_count": 41,
      "outputs": [
        {
          "output_type": "stream",
          "name": "stdout",
          "text": [
            "77.45039085989175\n"
          ]
        }
      ]
    },
    {
      "cell_type": "code",
      "source": [
        "#DECISION TREE CLASSIFIER\n",
        "clf = DecisionTreeClassifier()"
      ],
      "metadata": {
        "id": "Yli9mmCEucAh"
      },
      "execution_count": 42,
      "outputs": []
    },
    {
      "cell_type": "code",
      "source": [
        "clf = clf.fit(xtrain,ytrain)"
      ],
      "metadata": {
        "id": "vENoe4x4vMSb"
      },
      "execution_count": 43,
      "outputs": []
    },
    {
      "cell_type": "code",
      "source": [
        "ypred = clf.predict(xtest)"
      ],
      "metadata": {
        "id": "fiG08PD7w9xx"
      },
      "execution_count": 44,
      "outputs": []
    },
    {
      "cell_type": "code",
      "source": [
        "print((accuracy_score(ytest,ypred))*100)"
      ],
      "metadata": {
        "colab": {
          "base_uri": "https://localhost:8080/"
        },
        "id": "cBjAukEOxC4t",
        "outputId": "b53432ad-6982-47cd-f8b8-282a5a14b27e"
      },
      "execution_count": 45,
      "outputs": [
        {
          "output_type": "stream",
          "name": "stdout",
          "text": [
            "75.22549609140108\n"
          ]
        }
      ]
    },
    {
      "cell_type": "code",
      "source": [
        "#LOGISTIC REGRESSION\n",
        "logreg = LogisticRegression(solver=\"newton-cg\",penalty=\"l2\",random_state=16)"
      ],
      "metadata": {
        "id": "35jJ9tJnxLZL"
      },
      "execution_count": 46,
      "outputs": []
    },
    {
      "cell_type": "code",
      "source": [
        "logreg.fit(xtrain, ytrain)"
      ],
      "metadata": {
        "colab": {
          "base_uri": "https://localhost:8080/"
        },
        "id": "fMWXImynyJU2",
        "outputId": "476de932-4877-4182-f6b0-5da8907ee308"
      },
      "execution_count": 47,
      "outputs": [
        {
          "output_type": "execute_result",
          "data": {
            "text/plain": [
              "LogisticRegression(random_state=16, solver='newton-cg')"
            ]
          },
          "metadata": {},
          "execution_count": 47
        }
      ]
    },
    {
      "cell_type": "code",
      "source": [
        "y_pred1 = logreg.predict(xtest)"
      ],
      "metadata": {
        "id": "b3u02N-dyMKk"
      },
      "execution_count": 48,
      "outputs": []
    },
    {
      "cell_type": "code",
      "source": [
        "print(accuracy_score(ytest,y_pred1))"
      ],
      "metadata": {
        "colab": {
          "base_uri": "https://localhost:8080/"
        },
        "id": "b0blOeMcyQsK",
        "outputId": "289d7938-e266-43d8-fe7b-ed1b6c10c30f"
      },
      "execution_count": 49,
      "outputs": [
        {
          "output_type": "stream",
          "name": "stdout",
          "text": [
            "0.788334335538184\n"
          ]
        }
      ]
    },
    {
      "cell_type": "markdown",
      "source": [
        "## Test train split of X and Y using features from ANOVA f-values followed by modelling"
      ],
      "metadata": {
        "id": "sz31aWr084KZ"
      }
    },
    {
      "cell_type": "code",
      "source": [
        "xtrain1, xtest1, ytrain1, ytest1 = train_test_split(f_kbest, Y, test_size = 0.3, random_state = 111)"
      ],
      "metadata": {
        "id": "i1QhwjIZyeB_"
      },
      "execution_count": 50,
      "outputs": []
    },
    {
      "cell_type": "code",
      "source": [
        "#XGBOOST ALGORITHM\n",
        "model = XGBClassifier(booster=\"dart\",max_depth=5)\n",
        "model.fit(xtrain1, ytrain1)"
      ],
      "metadata": {
        "colab": {
          "base_uri": "https://localhost:8080/"
        },
        "id": "BQaHZSbb9SdF",
        "outputId": "e7b9def4-7115-4dbd-df4a-28c990652c0f"
      },
      "execution_count": 51,
      "outputs": [
        {
          "output_type": "execute_result",
          "data": {
            "text/plain": [
              "XGBClassifier(booster='dart', max_depth=5)"
            ]
          },
          "metadata": {},
          "execution_count": 51
        }
      ]
    },
    {
      "cell_type": "code",
      "source": [
        "ypred1 = model.predict(xtest1)\n",
        "predictions = [round(value) for value in ypred1]"
      ],
      "metadata": {
        "id": "DjlOtAE59YAz"
      },
      "execution_count": 52,
      "outputs": []
    },
    {
      "cell_type": "code",
      "source": [
        "accuracy = accuracy_score(ytest1, predictions)\n",
        "print(\"Accuracy: %.2f%%\" % (accuracy * 100.0))"
      ],
      "metadata": {
        "colab": {
          "base_uri": "https://localhost:8080/"
        },
        "id": "nbeS-m1O9baY",
        "outputId": "34ab9d64-e9ef-4ca7-d147-10d5ba344fc1"
      },
      "execution_count": 53,
      "outputs": [
        {
          "output_type": "stream",
          "name": "stdout",
          "text": [
            "Accuracy: 79.04%\n"
          ]
        }
      ]
    },
    {
      "cell_type": "code",
      "source": [
        "#RANDOM FOREST CLASSIFIER\n",
        "forest = RandomForestClassifier(criterion='gini',n_estimators=5,random_state=1,n_jobs=5)"
      ],
      "metadata": {
        "id": "df1QwEEk9khy"
      },
      "execution_count": 54,
      "outputs": []
    },
    {
      "cell_type": "code",
      "source": [
        "forest.fit(xtrain1, ytrain1)"
      ],
      "metadata": {
        "colab": {
          "base_uri": "https://localhost:8080/"
        },
        "id": "G40v1k4fEqpY",
        "outputId": "5a9d9b76-709d-40f3-81bf-f3d703b0701b"
      },
      "execution_count": 55,
      "outputs": [
        {
          "output_type": "execute_result",
          "data": {
            "text/plain": [
              "RandomForestClassifier(n_estimators=5, n_jobs=5, random_state=1)"
            ]
          },
          "metadata": {},
          "execution_count": 55
        }
      ]
    },
    {
      "cell_type": "code",
      "source": [
        "ypred_1 = forest.predict(xtest1)"
      ],
      "metadata": {
        "id": "QdsQIUbTEu4V"
      },
      "execution_count": 56,
      "outputs": []
    },
    {
      "cell_type": "code",
      "source": [
        "print((accuracy_score(ytest1, ypred_1))*100)"
      ],
      "metadata": {
        "colab": {
          "base_uri": "https://localhost:8080/"
        },
        "id": "_63m8JrxE4-M",
        "outputId": "9b0a4c6e-034e-4485-bd54-101ce036e5e8"
      },
      "execution_count": 57,
      "outputs": [
        {
          "output_type": "stream",
          "name": "stdout",
          "text": [
            "76.83366733466934\n"
          ]
        }
      ]
    },
    {
      "cell_type": "code",
      "source": [
        "#DECISION TREE\n",
        "clf1 = clf.fit(xtrain1,ytrain1)"
      ],
      "metadata": {
        "id": "aJ-wHM2TE7gw"
      },
      "execution_count": 58,
      "outputs": []
    },
    {
      "cell_type": "code",
      "source": [
        "pred = clf.predict(xtest1)"
      ],
      "metadata": {
        "id": "gHINT8PpFHwd"
      },
      "execution_count": 59,
      "outputs": []
    },
    {
      "cell_type": "code",
      "source": [
        "print((accuracy_score(ytest1,pred))*100)"
      ],
      "metadata": {
        "colab": {
          "base_uri": "https://localhost:8080/"
        },
        "id": "43Cd-eX4FNKG",
        "outputId": "f3d3828c-540b-4503-a8be-9e5deb62d13b"
      },
      "execution_count": 60,
      "outputs": [
        {
          "output_type": "stream",
          "name": "stdout",
          "text": [
            "73.9879759519038\n"
          ]
        }
      ]
    },
    {
      "cell_type": "code",
      "source": [
        "logreg.fit(xtrain1, ytrain1)"
      ],
      "metadata": {
        "colab": {
          "base_uri": "https://localhost:8080/"
        },
        "id": "veZc1ro5oLVi",
        "outputId": "f0536113-281d-4fdc-908d-546fdfde1890"
      },
      "execution_count": 61,
      "outputs": [
        {
          "output_type": "execute_result",
          "data": {
            "text/plain": [
              "LogisticRegression(random_state=16, solver='newton-cg')"
            ]
          },
          "metadata": {},
          "execution_count": 61
        }
      ]
    },
    {
      "cell_type": "code",
      "source": [
        "y_pred_ = logreg.predict(xtest1)"
      ],
      "metadata": {
        "id": "PeSzSz1OoLaD"
      },
      "execution_count": 62,
      "outputs": []
    },
    {
      "cell_type": "code",
      "source": [
        "print(accuracy_score(ytest1,y_pred_))"
      ],
      "metadata": {
        "colab": {
          "base_uri": "https://localhost:8080/"
        },
        "id": "g1eaIz2HoLdk",
        "outputId": "f7db04c0-bacb-444b-e45c-495b5368b2ab"
      },
      "execution_count": 63,
      "outputs": [
        {
          "output_type": "stream",
          "name": "stdout",
          "text": [
            "0.756312625250501\n"
          ]
        }
      ]
    },
    {
      "cell_type": "markdown",
      "source": [
        "## Modelling with the version of dataset without feature selection"
      ],
      "metadata": {
        "id": "YnvG0TGSZv3b"
      }
    },
    {
      "cell_type": "code",
      "source": [
        "x_train1, x_test1, y_train1, y_test1 = train_test_split(X, Y, test_size = 0.3, random_state = 111)"
      ],
      "metadata": {
        "id": "9cw6pgx4FUGC"
      },
      "execution_count": 64,
      "outputs": []
    },
    {
      "cell_type": "code",
      "source": [
        "#XGBOOST ALGORITHM\n",
        "model = XGBClassifier()\n",
        "model.fit(x_train1, y_train1)"
      ],
      "metadata": {
        "colab": {
          "base_uri": "https://localhost:8080/"
        },
        "id": "cEkE3wK8GVza",
        "outputId": "d2177f4c-0e0b-4b7e-db6a-854fe6573a66"
      },
      "execution_count": 65,
      "outputs": [
        {
          "output_type": "execute_result",
          "data": {
            "text/plain": [
              "XGBClassifier()"
            ]
          },
          "metadata": {},
          "execution_count": 65
        }
      ]
    },
    {
      "cell_type": "code",
      "source": [
        "pred1 = model.predict(x_test1)\n",
        "predictions_1 = [round(value) for value in pred1]"
      ],
      "metadata": {
        "id": "jQ3SXnT1GZx_"
      },
      "execution_count": 66,
      "outputs": []
    },
    {
      "cell_type": "code",
      "source": [
        "accuracy = accuracy_score(y_test1, predictions_1)\n",
        "print(\"Accuracy: %.2f%%\" % (accuracy * 100.0))"
      ],
      "metadata": {
        "colab": {
          "base_uri": "https://localhost:8080/"
        },
        "id": "gsXUrs1dGezc",
        "outputId": "3863dcfa-6fb1-4578-e613-57bc69788418"
      },
      "execution_count": 67,
      "outputs": [
        {
          "output_type": "stream",
          "name": "stdout",
          "text": [
            "Accuracy: 80.16%\n"
          ]
        }
      ]
    },
    {
      "cell_type": "code",
      "source": [
        "#RANDOM FOREST CLASSIFIER\n",
        "forest.fit(x_train1, y_train1)"
      ],
      "metadata": {
        "colab": {
          "base_uri": "https://localhost:8080/"
        },
        "id": "h7OAeQuXGjYn",
        "outputId": "f91f8b95-9943-4ca5-dfcf-f0cb5184a238"
      },
      "execution_count": 68,
      "outputs": [
        {
          "output_type": "execute_result",
          "data": {
            "text/plain": [
              "RandomForestClassifier(n_estimators=5, n_jobs=5, random_state=1)"
            ]
          },
          "metadata": {},
          "execution_count": 68
        }
      ]
    },
    {
      "cell_type": "code",
      "source": [
        "pred_1 = forest.predict(x_test1)"
      ],
      "metadata": {
        "id": "MpY8r6Y2GvSn"
      },
      "execution_count": 69,
      "outputs": []
    },
    {
      "cell_type": "code",
      "source": [
        "print((accuracy_score(y_test1, pred_1))*100)"
      ],
      "metadata": {
        "colab": {
          "base_uri": "https://localhost:8080/"
        },
        "id": "FUtK0LfMGzkj",
        "outputId": "0c0d038d-9ea9-4f7e-e832-20a6120dd7ba"
      },
      "execution_count": 70,
      "outputs": [
        {
          "output_type": "stream",
          "name": "stdout",
          "text": [
            "76.71342685370742\n"
          ]
        }
      ]
    },
    {
      "cell_type": "code",
      "source": [
        "#DECISION TREE\n",
        "clf1 = clf.fit(x_train1,y_train1)"
      ],
      "metadata": {
        "id": "x82uYuiPG2Rw"
      },
      "execution_count": 71,
      "outputs": []
    },
    {
      "cell_type": "code",
      "source": [
        "pred2 = clf.predict(x_test1)"
      ],
      "metadata": {
        "id": "4XIo781kG-x5"
      },
      "execution_count": 72,
      "outputs": []
    },
    {
      "cell_type": "code",
      "source": [
        "print((accuracy_score(y_test1,pred2))*100)"
      ],
      "metadata": {
        "colab": {
          "base_uri": "https://localhost:8080/"
        },
        "id": "w3_BPjUMHBvr",
        "outputId": "4d0dc8bd-2c8d-418c-db9d-af81bddc173a"
      },
      "execution_count": 73,
      "outputs": [
        {
          "output_type": "stream",
          "name": "stdout",
          "text": [
            "71.98396793587175\n"
          ]
        }
      ]
    },
    {
      "cell_type": "code",
      "source": [
        "#LOGISTIC REGRESSION\n",
        "logreg.fit(x_train1, y_train1)"
      ],
      "metadata": {
        "colab": {
          "base_uri": "https://localhost:8080/"
        },
        "id": "X9PqeMgMHFuH",
        "outputId": "2b9efb97-1381-4246-e497-ef83f5a50994"
      },
      "execution_count": 74,
      "outputs": [
        {
          "output_type": "execute_result",
          "data": {
            "text/plain": [
              "LogisticRegression(random_state=16, solver='newton-cg')"
            ]
          },
          "metadata": {},
          "execution_count": 74
        }
      ]
    },
    {
      "cell_type": "code",
      "source": [
        "pred1_ = logreg.predict(x_test1)"
      ],
      "metadata": {
        "id": "m9wvGj-yWmbM"
      },
      "execution_count": 75,
      "outputs": []
    },
    {
      "cell_type": "code",
      "source": [
        "print(accuracy_score(y_test1,pred1_))"
      ],
      "metadata": {
        "colab": {
          "base_uri": "https://localhost:8080/"
        },
        "id": "exEU5zdxW1kp",
        "outputId": "4ea8127f-209a-4eff-8b2d-f5aabac0725b"
      },
      "execution_count": 76,
      "outputs": [
        {
          "output_type": "stream",
          "name": "stdout",
          "text": [
            "0.7887775551102204\n"
          ]
        }
      ]
    },
    {
      "cell_type": "code",
      "source": [],
      "metadata": {
        "id": "LPOKnNzLppps"
      },
      "execution_count": 76,
      "outputs": []
    },
    {
      "cell_type": "markdown",
      "source": [
        "## Testing with 'test.csv'"
      ],
      "metadata": {
        "id": "Y_xsCT21w5eQ"
      }
    },
    {
      "cell_type": "code",
      "source": [
        "# test_df = pd.read_csv('../input/spaceship-titanic/test.csv') \n",
        "test_df = pd.read_csv('test.csv') "
      ],
      "metadata": {
        "id": "WvByeLLrofz2"
      },
      "execution_count": 77,
      "outputs": []
    },
    {
      "cell_type": "code",
      "source": [
        "test_df.head()"
      ],
      "metadata": {
        "colab": {
          "base_uri": "https://localhost:8080/",
          "height": 337
        },
        "id": "Jc8NqFYtpkoP",
        "outputId": "7d76f659-7e51-4602-acf2-002df17c6314"
      },
      "execution_count": 78,
      "outputs": [
        {
          "output_type": "execute_result",
          "data": {
            "text/plain": [
              "  PassengerId HomePlanet CryoSleep  Cabin  Destination   Age    VIP  \\\n",
              "0     0013_01      Earth      True  G/3/S  TRAPPIST-1e  27.0  False   \n",
              "1     0018_01      Earth     False  F/4/S  TRAPPIST-1e  19.0  False   \n",
              "2     0019_01     Europa      True  C/0/S  55 Cancri e  31.0  False   \n",
              "3     0021_01     Europa     False  C/1/S  TRAPPIST-1e  38.0  False   \n",
              "4     0023_01      Earth     False  F/5/S  TRAPPIST-1e  20.0  False   \n",
              "\n",
              "   RoomService  FoodCourt  ShoppingMall     Spa  VRDeck              Name  \n",
              "0          0.0        0.0           0.0     0.0     0.0   Nelly Carsoning  \n",
              "1          0.0        9.0           0.0  2823.0     0.0    Lerome Peckers  \n",
              "2          0.0        0.0           0.0     0.0     0.0   Sabih Unhearfus  \n",
              "3          0.0     6652.0           0.0   181.0   585.0  Meratz Caltilter  \n",
              "4         10.0        0.0         635.0     0.0     0.0   Brence Harperez  "
            ],
            "text/html": [
              "\n",
              "  <div id=\"df-c7bfac3f-abe5-49db-9bf1-30feb39be604\">\n",
              "    <div class=\"colab-df-container\">\n",
              "      <div>\n",
              "<style scoped>\n",
              "    .dataframe tbody tr th:only-of-type {\n",
              "        vertical-align: middle;\n",
              "    }\n",
              "\n",
              "    .dataframe tbody tr th {\n",
              "        vertical-align: top;\n",
              "    }\n",
              "\n",
              "    .dataframe thead th {\n",
              "        text-align: right;\n",
              "    }\n",
              "</style>\n",
              "<table border=\"1\" class=\"dataframe\">\n",
              "  <thead>\n",
              "    <tr style=\"text-align: right;\">\n",
              "      <th></th>\n",
              "      <th>PassengerId</th>\n",
              "      <th>HomePlanet</th>\n",
              "      <th>CryoSleep</th>\n",
              "      <th>Cabin</th>\n",
              "      <th>Destination</th>\n",
              "      <th>Age</th>\n",
              "      <th>VIP</th>\n",
              "      <th>RoomService</th>\n",
              "      <th>FoodCourt</th>\n",
              "      <th>ShoppingMall</th>\n",
              "      <th>Spa</th>\n",
              "      <th>VRDeck</th>\n",
              "      <th>Name</th>\n",
              "    </tr>\n",
              "  </thead>\n",
              "  <tbody>\n",
              "    <tr>\n",
              "      <th>0</th>\n",
              "      <td>0013_01</td>\n",
              "      <td>Earth</td>\n",
              "      <td>True</td>\n",
              "      <td>G/3/S</td>\n",
              "      <td>TRAPPIST-1e</td>\n",
              "      <td>27.0</td>\n",
              "      <td>False</td>\n",
              "      <td>0.0</td>\n",
              "      <td>0.0</td>\n",
              "      <td>0.0</td>\n",
              "      <td>0.0</td>\n",
              "      <td>0.0</td>\n",
              "      <td>Nelly Carsoning</td>\n",
              "    </tr>\n",
              "    <tr>\n",
              "      <th>1</th>\n",
              "      <td>0018_01</td>\n",
              "      <td>Earth</td>\n",
              "      <td>False</td>\n",
              "      <td>F/4/S</td>\n",
              "      <td>TRAPPIST-1e</td>\n",
              "      <td>19.0</td>\n",
              "      <td>False</td>\n",
              "      <td>0.0</td>\n",
              "      <td>9.0</td>\n",
              "      <td>0.0</td>\n",
              "      <td>2823.0</td>\n",
              "      <td>0.0</td>\n",
              "      <td>Lerome Peckers</td>\n",
              "    </tr>\n",
              "    <tr>\n",
              "      <th>2</th>\n",
              "      <td>0019_01</td>\n",
              "      <td>Europa</td>\n",
              "      <td>True</td>\n",
              "      <td>C/0/S</td>\n",
              "      <td>55 Cancri e</td>\n",
              "      <td>31.0</td>\n",
              "      <td>False</td>\n",
              "      <td>0.0</td>\n",
              "      <td>0.0</td>\n",
              "      <td>0.0</td>\n",
              "      <td>0.0</td>\n",
              "      <td>0.0</td>\n",
              "      <td>Sabih Unhearfus</td>\n",
              "    </tr>\n",
              "    <tr>\n",
              "      <th>3</th>\n",
              "      <td>0021_01</td>\n",
              "      <td>Europa</td>\n",
              "      <td>False</td>\n",
              "      <td>C/1/S</td>\n",
              "      <td>TRAPPIST-1e</td>\n",
              "      <td>38.0</td>\n",
              "      <td>False</td>\n",
              "      <td>0.0</td>\n",
              "      <td>6652.0</td>\n",
              "      <td>0.0</td>\n",
              "      <td>181.0</td>\n",
              "      <td>585.0</td>\n",
              "      <td>Meratz Caltilter</td>\n",
              "    </tr>\n",
              "    <tr>\n",
              "      <th>4</th>\n",
              "      <td>0023_01</td>\n",
              "      <td>Earth</td>\n",
              "      <td>False</td>\n",
              "      <td>F/5/S</td>\n",
              "      <td>TRAPPIST-1e</td>\n",
              "      <td>20.0</td>\n",
              "      <td>False</td>\n",
              "      <td>10.0</td>\n",
              "      <td>0.0</td>\n",
              "      <td>635.0</td>\n",
              "      <td>0.0</td>\n",
              "      <td>0.0</td>\n",
              "      <td>Brence Harperez</td>\n",
              "    </tr>\n",
              "  </tbody>\n",
              "</table>\n",
              "</div>\n",
              "      <button class=\"colab-df-convert\" onclick=\"convertToInteractive('df-c7bfac3f-abe5-49db-9bf1-30feb39be604')\"\n",
              "              title=\"Convert this dataframe to an interactive table.\"\n",
              "              style=\"display:none;\">\n",
              "        \n",
              "  <svg xmlns=\"http://www.w3.org/2000/svg\" height=\"24px\"viewBox=\"0 0 24 24\"\n",
              "       width=\"24px\">\n",
              "    <path d=\"M0 0h24v24H0V0z\" fill=\"none\"/>\n",
              "    <path d=\"M18.56 5.44l.94 2.06.94-2.06 2.06-.94-2.06-.94-.94-2.06-.94 2.06-2.06.94zm-11 1L8.5 8.5l.94-2.06 2.06-.94-2.06-.94L8.5 2.5l-.94 2.06-2.06.94zm10 10l.94 2.06.94-2.06 2.06-.94-2.06-.94-.94-2.06-.94 2.06-2.06.94z\"/><path d=\"M17.41 7.96l-1.37-1.37c-.4-.4-.92-.59-1.43-.59-.52 0-1.04.2-1.43.59L10.3 9.45l-7.72 7.72c-.78.78-.78 2.05 0 2.83L4 21.41c.39.39.9.59 1.41.59.51 0 1.02-.2 1.41-.59l7.78-7.78 2.81-2.81c.8-.78.8-2.07 0-2.86zM5.41 20L4 18.59l7.72-7.72 1.47 1.35L5.41 20z\"/>\n",
              "  </svg>\n",
              "      </button>\n",
              "      \n",
              "  <style>\n",
              "    .colab-df-container {\n",
              "      display:flex;\n",
              "      flex-wrap:wrap;\n",
              "      gap: 12px;\n",
              "    }\n",
              "\n",
              "    .colab-df-convert {\n",
              "      background-color: #E8F0FE;\n",
              "      border: none;\n",
              "      border-radius: 50%;\n",
              "      cursor: pointer;\n",
              "      display: none;\n",
              "      fill: #1967D2;\n",
              "      height: 32px;\n",
              "      padding: 0 0 0 0;\n",
              "      width: 32px;\n",
              "    }\n",
              "\n",
              "    .colab-df-convert:hover {\n",
              "      background-color: #E2EBFA;\n",
              "      box-shadow: 0px 1px 2px rgba(60, 64, 67, 0.3), 0px 1px 3px 1px rgba(60, 64, 67, 0.15);\n",
              "      fill: #174EA6;\n",
              "    }\n",
              "\n",
              "    [theme=dark] .colab-df-convert {\n",
              "      background-color: #3B4455;\n",
              "      fill: #D2E3FC;\n",
              "    }\n",
              "\n",
              "    [theme=dark] .colab-df-convert:hover {\n",
              "      background-color: #434B5C;\n",
              "      box-shadow: 0px 1px 3px 1px rgba(0, 0, 0, 0.15);\n",
              "      filter: drop-shadow(0px 1px 2px rgba(0, 0, 0, 0.3));\n",
              "      fill: #FFFFFF;\n",
              "    }\n",
              "  </style>\n",
              "\n",
              "      <script>\n",
              "        const buttonEl =\n",
              "          document.querySelector('#df-c7bfac3f-abe5-49db-9bf1-30feb39be604 button.colab-df-convert');\n",
              "        buttonEl.style.display =\n",
              "          google.colab.kernel.accessAllowed ? 'block' : 'none';\n",
              "\n",
              "        async function convertToInteractive(key) {\n",
              "          const element = document.querySelector('#df-c7bfac3f-abe5-49db-9bf1-30feb39be604');\n",
              "          const dataTable =\n",
              "            await google.colab.kernel.invokeFunction('convertToInteractive',\n",
              "                                                     [key], {});\n",
              "          if (!dataTable) return;\n",
              "\n",
              "          const docLinkHtml = 'Like what you see? Visit the ' +\n",
              "            '<a target=\"_blank\" href=https://colab.research.google.com/notebooks/data_table.ipynb>data table notebook</a>'\n",
              "            + ' to learn more about interactive tables.';\n",
              "          element.innerHTML = '';\n",
              "          dataTable['output_type'] = 'display_data';\n",
              "          await google.colab.output.renderOutput(dataTable, element);\n",
              "          const docLink = document.createElement('div');\n",
              "          docLink.innerHTML = docLinkHtml;\n",
              "          element.appendChild(docLink);\n",
              "        }\n",
              "      </script>\n",
              "    </div>\n",
              "  </div>\n",
              "  "
            ]
          },
          "metadata": {},
          "execution_count": 78
        }
      ]
    },
    {
      "cell_type": "code",
      "source": [
        "test_df.isnull().sum()"
      ],
      "metadata": {
        "colab": {
          "base_uri": "https://localhost:8080/"
        },
        "id": "bFmjnTg8Jzwi",
        "outputId": "349e117b-ed06-4bb3-c091-cc3dec9f1729"
      },
      "execution_count": 90,
      "outputs": [
        {
          "output_type": "execute_result",
          "data": {
            "text/plain": [
              "PassengerId       0\n",
              "HomePlanet       87\n",
              "CryoSleep        93\n",
              "Cabin           100\n",
              "Destination      92\n",
              "Age              91\n",
              "VIP              93\n",
              "RoomService      82\n",
              "FoodCourt       106\n",
              "ShoppingMall     98\n",
              "Spa             101\n",
              "VRDeck           80\n",
              "Name             94\n",
              "dtype: int64"
            ]
          },
          "metadata": {},
          "execution_count": 90
        }
      ]
    },
    {
      "cell_type": "markdown",
      "source": [
        "\n",
        "\n",
        "## Handling with missing values"
      ],
      "metadata": {
        "id": "YLlINxxWyn_2"
      }
    },
    {
      "cell_type": "code",
      "source": [
        "test_df['FoodCourt'].fillna(test_df['FoodCourt'].mean(), inplace=True)\n",
        "test_df['Spa'].fillna(test_df['Spa'].mean(), inplace=True)\n",
        "test_df['VRDeck'].fillna(test_df['VRDeck'].median(), inplace=True)\n",
        "test_df['ShoppingMall'].fillna(test_df['ShoppingMall'].mean(), inplace=True)\n",
        "test_df['RoomService'].fillna(test_df['RoomService'].mean(), inplace=True)\n",
        "test_df['Age'].fillna(test_df['Age'].mean(), inplace=True)\n"
      ],
      "metadata": {
        "id": "4kaiHs3gKBF2"
      },
      "execution_count": 100,
      "outputs": []
    },
    {
      "cell_type": "code",
      "source": [
        "test_df.isnull().sum()"
      ],
      "metadata": {
        "id": "-cqsovzxpl5f",
        "colab": {
          "base_uri": "https://localhost:8080/"
        },
        "outputId": "7783903c-3722-425d-9a20-70955be5e39d"
      },
      "execution_count": 101,
      "outputs": [
        {
          "output_type": "execute_result",
          "data": {
            "text/plain": [
              "PassengerId       0\n",
              "HomePlanet       87\n",
              "CryoSleep        93\n",
              "Cabin           100\n",
              "Destination      92\n",
              "Age               0\n",
              "VIP              93\n",
              "RoomService       0\n",
              "FoodCourt         0\n",
              "ShoppingMall      0\n",
              "Spa               0\n",
              "VRDeck            0\n",
              "Name             94\n",
              "dtype: int64"
            ]
          },
          "metadata": {},
          "execution_count": 101
        }
      ]
    },
    {
      "cell_type": "code",
      "source": [
        "test_df['Age']=test_df['Age'].astype(int)\n",
        "test_df[['Cabin', 'Name']] = test_df[['Cabin','Name']].fillna('')\n"
      ],
      "metadata": {
        "id": "ceyblRhfq9bw"
      },
      "execution_count": 107,
      "outputs": []
    },
    {
      "cell_type": "code",
      "source": [
        "test_df.isnull().sum()"
      ],
      "metadata": {
        "colab": {
          "base_uri": "https://localhost:8080/"
        },
        "id": "Hjtcnda3LRyf",
        "outputId": "db366c2b-e004-43cb-9a08-5efcdb6ae7e8"
      },
      "execution_count": 109,
      "outputs": [
        {
          "output_type": "execute_result",
          "data": {
            "text/plain": [
              "PassengerId      0\n",
              "HomePlanet      87\n",
              "CryoSleep       93\n",
              "Cabin            0\n",
              "Destination     92\n",
              "Age              0\n",
              "VIP             93\n",
              "RoomService      0\n",
              "FoodCourt        0\n",
              "ShoppingMall     0\n",
              "Spa              0\n",
              "VRDeck           0\n",
              "Name             0\n",
              "dtype: int64"
            ]
          },
          "metadata": {},
          "execution_count": 109
        }
      ]
    },
    {
      "cell_type": "code",
      "source": [
        "a = test_df[['PassengerId']]"
      ],
      "metadata": {
        "id": "Sq1cdEa1rRRc"
      },
      "execution_count": 95,
      "outputs": []
    },
    {
      "cell_type": "code",
      "source": [
        "a"
      ],
      "metadata": {
        "colab": {
          "base_uri": "https://localhost:8080/",
          "height": 424
        },
        "id": "pgGvCQhfrRr7",
        "outputId": "e8ae7ac2-b830-4c11-d9a4-3da4d159e1e8"
      },
      "execution_count": 96,
      "outputs": [
        {
          "output_type": "execute_result",
          "data": {
            "text/plain": [
              "     PassengerId\n",
              "0        0013_01\n",
              "1        0018_01\n",
              "2        0019_01\n",
              "3        0021_01\n",
              "4        0023_01\n",
              "...          ...\n",
              "4272     9266_02\n",
              "4273     9269_01\n",
              "4274     9271_01\n",
              "4275     9273_01\n",
              "4276     9277_01\n",
              "\n",
              "[4277 rows x 1 columns]"
            ],
            "text/html": [
              "\n",
              "  <div id=\"df-ecae60f4-acf2-4649-95f7-4fcb78298d69\">\n",
              "    <div class=\"colab-df-container\">\n",
              "      <div>\n",
              "<style scoped>\n",
              "    .dataframe tbody tr th:only-of-type {\n",
              "        vertical-align: middle;\n",
              "    }\n",
              "\n",
              "    .dataframe tbody tr th {\n",
              "        vertical-align: top;\n",
              "    }\n",
              "\n",
              "    .dataframe thead th {\n",
              "        text-align: right;\n",
              "    }\n",
              "</style>\n",
              "<table border=\"1\" class=\"dataframe\">\n",
              "  <thead>\n",
              "    <tr style=\"text-align: right;\">\n",
              "      <th></th>\n",
              "      <th>PassengerId</th>\n",
              "    </tr>\n",
              "  </thead>\n",
              "  <tbody>\n",
              "    <tr>\n",
              "      <th>0</th>\n",
              "      <td>0013_01</td>\n",
              "    </tr>\n",
              "    <tr>\n",
              "      <th>1</th>\n",
              "      <td>0018_01</td>\n",
              "    </tr>\n",
              "    <tr>\n",
              "      <th>2</th>\n",
              "      <td>0019_01</td>\n",
              "    </tr>\n",
              "    <tr>\n",
              "      <th>3</th>\n",
              "      <td>0021_01</td>\n",
              "    </tr>\n",
              "    <tr>\n",
              "      <th>4</th>\n",
              "      <td>0023_01</td>\n",
              "    </tr>\n",
              "    <tr>\n",
              "      <th>...</th>\n",
              "      <td>...</td>\n",
              "    </tr>\n",
              "    <tr>\n",
              "      <th>4272</th>\n",
              "      <td>9266_02</td>\n",
              "    </tr>\n",
              "    <tr>\n",
              "      <th>4273</th>\n",
              "      <td>9269_01</td>\n",
              "    </tr>\n",
              "    <tr>\n",
              "      <th>4274</th>\n",
              "      <td>9271_01</td>\n",
              "    </tr>\n",
              "    <tr>\n",
              "      <th>4275</th>\n",
              "      <td>9273_01</td>\n",
              "    </tr>\n",
              "    <tr>\n",
              "      <th>4276</th>\n",
              "      <td>9277_01</td>\n",
              "    </tr>\n",
              "  </tbody>\n",
              "</table>\n",
              "<p>4277 rows × 1 columns</p>\n",
              "</div>\n",
              "      <button class=\"colab-df-convert\" onclick=\"convertToInteractive('df-ecae60f4-acf2-4649-95f7-4fcb78298d69')\"\n",
              "              title=\"Convert this dataframe to an interactive table.\"\n",
              "              style=\"display:none;\">\n",
              "        \n",
              "  <svg xmlns=\"http://www.w3.org/2000/svg\" height=\"24px\"viewBox=\"0 0 24 24\"\n",
              "       width=\"24px\">\n",
              "    <path d=\"M0 0h24v24H0V0z\" fill=\"none\"/>\n",
              "    <path d=\"M18.56 5.44l.94 2.06.94-2.06 2.06-.94-2.06-.94-.94-2.06-.94 2.06-2.06.94zm-11 1L8.5 8.5l.94-2.06 2.06-.94-2.06-.94L8.5 2.5l-.94 2.06-2.06.94zm10 10l.94 2.06.94-2.06 2.06-.94-2.06-.94-.94-2.06-.94 2.06-2.06.94z\"/><path d=\"M17.41 7.96l-1.37-1.37c-.4-.4-.92-.59-1.43-.59-.52 0-1.04.2-1.43.59L10.3 9.45l-7.72 7.72c-.78.78-.78 2.05 0 2.83L4 21.41c.39.39.9.59 1.41.59.51 0 1.02-.2 1.41-.59l7.78-7.78 2.81-2.81c.8-.78.8-2.07 0-2.86zM5.41 20L4 18.59l7.72-7.72 1.47 1.35L5.41 20z\"/>\n",
              "  </svg>\n",
              "      </button>\n",
              "      \n",
              "  <style>\n",
              "    .colab-df-container {\n",
              "      display:flex;\n",
              "      flex-wrap:wrap;\n",
              "      gap: 12px;\n",
              "    }\n",
              "\n",
              "    .colab-df-convert {\n",
              "      background-color: #E8F0FE;\n",
              "      border: none;\n",
              "      border-radius: 50%;\n",
              "      cursor: pointer;\n",
              "      display: none;\n",
              "      fill: #1967D2;\n",
              "      height: 32px;\n",
              "      padding: 0 0 0 0;\n",
              "      width: 32px;\n",
              "    }\n",
              "\n",
              "    .colab-df-convert:hover {\n",
              "      background-color: #E2EBFA;\n",
              "      box-shadow: 0px 1px 2px rgba(60, 64, 67, 0.3), 0px 1px 3px 1px rgba(60, 64, 67, 0.15);\n",
              "      fill: #174EA6;\n",
              "    }\n",
              "\n",
              "    [theme=dark] .colab-df-convert {\n",
              "      background-color: #3B4455;\n",
              "      fill: #D2E3FC;\n",
              "    }\n",
              "\n",
              "    [theme=dark] .colab-df-convert:hover {\n",
              "      background-color: #434B5C;\n",
              "      box-shadow: 0px 1px 3px 1px rgba(0, 0, 0, 0.15);\n",
              "      filter: drop-shadow(0px 1px 2px rgba(0, 0, 0, 0.3));\n",
              "      fill: #FFFFFF;\n",
              "    }\n",
              "  </style>\n",
              "\n",
              "      <script>\n",
              "        const buttonEl =\n",
              "          document.querySelector('#df-ecae60f4-acf2-4649-95f7-4fcb78298d69 button.colab-df-convert');\n",
              "        buttonEl.style.display =\n",
              "          google.colab.kernel.accessAllowed ? 'block' : 'none';\n",
              "\n",
              "        async function convertToInteractive(key) {\n",
              "          const element = document.querySelector('#df-ecae60f4-acf2-4649-95f7-4fcb78298d69');\n",
              "          const dataTable =\n",
              "            await google.colab.kernel.invokeFunction('convertToInteractive',\n",
              "                                                     [key], {});\n",
              "          if (!dataTable) return;\n",
              "\n",
              "          const docLinkHtml = 'Like what you see? Visit the ' +\n",
              "            '<a target=\"_blank\" href=https://colab.research.google.com/notebooks/data_table.ipynb>data table notebook</a>'\n",
              "            + ' to learn more about interactive tables.';\n",
              "          element.innerHTML = '';\n",
              "          dataTable['output_type'] = 'display_data';\n",
              "          await google.colab.output.renderOutput(dataTable, element);\n",
              "          const docLink = document.createElement('div');\n",
              "          docLink.innerHTML = docLinkHtml;\n",
              "          element.appendChild(docLink);\n",
              "        }\n",
              "      </script>\n",
              "    </div>\n",
              "  </div>\n",
              "  "
            ]
          },
          "metadata": {},
          "execution_count": 96
        }
      ]
    },
    {
      "cell_type": "code",
      "source": [
        "# lm = LabelEncoder()\n",
        "test_df['CryoSleep']=lm.fit_transform(test_df['CryoSleep'])\n",
        "test_df['VIP']=lm.fit_transform(test_df['VIP'])\n",
        "test_df['HomePlanet']=lm.fit_transform(test_df['HomePlanet'])\n",
        "test_df['Destination']=lm.fit_transform(test_df['Destination'])"
      ],
      "metadata": {
        "id": "ozuvypmfrsMy"
      },
      "execution_count": 111,
      "outputs": []
    },
    {
      "cell_type": "code",
      "source": [
        "test_df"
      ],
      "metadata": {
        "colab": {
          "base_uri": "https://localhost:8080/",
          "height": 661
        },
        "id": "WfUSZQoVr4ev",
        "outputId": "53f63b52-8c65-453f-ad58-0f7c8757f8b3"
      },
      "execution_count": 112,
      "outputs": [
        {
          "output_type": "execute_result",
          "data": {
            "text/plain": [
              "     PassengerId  HomePlanet  CryoSleep     Cabin  Destination  Age  VIP  \\\n",
              "0        0013_01           0          1     G/3/S            2   27    0   \n",
              "1        0018_01           0          0     F/4/S            2   19    0   \n",
              "2        0019_01           1          1     C/0/S            0   31    0   \n",
              "3        0021_01           1          0     C/1/S            2   38    0   \n",
              "4        0023_01           0          0     F/5/S            2   20    0   \n",
              "...          ...         ...        ...       ...          ...  ...  ...   \n",
              "4272     9266_02           0          1  G/1496/S            2   34    0   \n",
              "4273     9269_01           0          0                      2   42    0   \n",
              "4274     9271_01           2          1   D/296/P            0   28    0   \n",
              "4275     9273_01           1          0   D/297/P            3   28    0   \n",
              "4276     9277_01           0          1  G/1498/S            1   43    0   \n",
              "\n",
              "      RoomService  FoodCourt  ShoppingMall     Spa  VRDeck              Name  \n",
              "0             0.0        0.0           0.0     0.0     0.0   Nelly Carsoning  \n",
              "1             0.0        9.0           0.0  2823.0     0.0    Lerome Peckers  \n",
              "2             0.0        0.0           0.0     0.0     0.0   Sabih Unhearfus  \n",
              "3             0.0     6652.0           0.0   181.0   585.0  Meratz Caltilter  \n",
              "4            10.0        0.0         635.0     0.0     0.0   Brence Harperez  \n",
              "...           ...        ...           ...     ...     ...               ...  \n",
              "4272          0.0        0.0           0.0     0.0     0.0       Jeron Peter  \n",
              "4273          0.0      847.0          17.0    10.0   144.0     Matty Scheron  \n",
              "4274          0.0        0.0           0.0     0.0     0.0       Jayrin Pore  \n",
              "4275          0.0     2680.0           0.0     0.0   523.0    Kitakan Conale  \n",
              "4276          0.0        0.0           0.0     0.0     0.0  Lilace Leonzaley  \n",
              "\n",
              "[4277 rows x 13 columns]"
            ],
            "text/html": [
              "\n",
              "  <div id=\"df-612ea468-a367-4756-9208-47d3f66bfada\">\n",
              "    <div class=\"colab-df-container\">\n",
              "      <div>\n",
              "<style scoped>\n",
              "    .dataframe tbody tr th:only-of-type {\n",
              "        vertical-align: middle;\n",
              "    }\n",
              "\n",
              "    .dataframe tbody tr th {\n",
              "        vertical-align: top;\n",
              "    }\n",
              "\n",
              "    .dataframe thead th {\n",
              "        text-align: right;\n",
              "    }\n",
              "</style>\n",
              "<table border=\"1\" class=\"dataframe\">\n",
              "  <thead>\n",
              "    <tr style=\"text-align: right;\">\n",
              "      <th></th>\n",
              "      <th>PassengerId</th>\n",
              "      <th>HomePlanet</th>\n",
              "      <th>CryoSleep</th>\n",
              "      <th>Cabin</th>\n",
              "      <th>Destination</th>\n",
              "      <th>Age</th>\n",
              "      <th>VIP</th>\n",
              "      <th>RoomService</th>\n",
              "      <th>FoodCourt</th>\n",
              "      <th>ShoppingMall</th>\n",
              "      <th>Spa</th>\n",
              "      <th>VRDeck</th>\n",
              "      <th>Name</th>\n",
              "    </tr>\n",
              "  </thead>\n",
              "  <tbody>\n",
              "    <tr>\n",
              "      <th>0</th>\n",
              "      <td>0013_01</td>\n",
              "      <td>0</td>\n",
              "      <td>1</td>\n",
              "      <td>G/3/S</td>\n",
              "      <td>2</td>\n",
              "      <td>27</td>\n",
              "      <td>0</td>\n",
              "      <td>0.0</td>\n",
              "      <td>0.0</td>\n",
              "      <td>0.0</td>\n",
              "      <td>0.0</td>\n",
              "      <td>0.0</td>\n",
              "      <td>Nelly Carsoning</td>\n",
              "    </tr>\n",
              "    <tr>\n",
              "      <th>1</th>\n",
              "      <td>0018_01</td>\n",
              "      <td>0</td>\n",
              "      <td>0</td>\n",
              "      <td>F/4/S</td>\n",
              "      <td>2</td>\n",
              "      <td>19</td>\n",
              "      <td>0</td>\n",
              "      <td>0.0</td>\n",
              "      <td>9.0</td>\n",
              "      <td>0.0</td>\n",
              "      <td>2823.0</td>\n",
              "      <td>0.0</td>\n",
              "      <td>Lerome Peckers</td>\n",
              "    </tr>\n",
              "    <tr>\n",
              "      <th>2</th>\n",
              "      <td>0019_01</td>\n",
              "      <td>1</td>\n",
              "      <td>1</td>\n",
              "      <td>C/0/S</td>\n",
              "      <td>0</td>\n",
              "      <td>31</td>\n",
              "      <td>0</td>\n",
              "      <td>0.0</td>\n",
              "      <td>0.0</td>\n",
              "      <td>0.0</td>\n",
              "      <td>0.0</td>\n",
              "      <td>0.0</td>\n",
              "      <td>Sabih Unhearfus</td>\n",
              "    </tr>\n",
              "    <tr>\n",
              "      <th>3</th>\n",
              "      <td>0021_01</td>\n",
              "      <td>1</td>\n",
              "      <td>0</td>\n",
              "      <td>C/1/S</td>\n",
              "      <td>2</td>\n",
              "      <td>38</td>\n",
              "      <td>0</td>\n",
              "      <td>0.0</td>\n",
              "      <td>6652.0</td>\n",
              "      <td>0.0</td>\n",
              "      <td>181.0</td>\n",
              "      <td>585.0</td>\n",
              "      <td>Meratz Caltilter</td>\n",
              "    </tr>\n",
              "    <tr>\n",
              "      <th>4</th>\n",
              "      <td>0023_01</td>\n",
              "      <td>0</td>\n",
              "      <td>0</td>\n",
              "      <td>F/5/S</td>\n",
              "      <td>2</td>\n",
              "      <td>20</td>\n",
              "      <td>0</td>\n",
              "      <td>10.0</td>\n",
              "      <td>0.0</td>\n",
              "      <td>635.0</td>\n",
              "      <td>0.0</td>\n",
              "      <td>0.0</td>\n",
              "      <td>Brence Harperez</td>\n",
              "    </tr>\n",
              "    <tr>\n",
              "      <th>...</th>\n",
              "      <td>...</td>\n",
              "      <td>...</td>\n",
              "      <td>...</td>\n",
              "      <td>...</td>\n",
              "      <td>...</td>\n",
              "      <td>...</td>\n",
              "      <td>...</td>\n",
              "      <td>...</td>\n",
              "      <td>...</td>\n",
              "      <td>...</td>\n",
              "      <td>...</td>\n",
              "      <td>...</td>\n",
              "      <td>...</td>\n",
              "    </tr>\n",
              "    <tr>\n",
              "      <th>4272</th>\n",
              "      <td>9266_02</td>\n",
              "      <td>0</td>\n",
              "      <td>1</td>\n",
              "      <td>G/1496/S</td>\n",
              "      <td>2</td>\n",
              "      <td>34</td>\n",
              "      <td>0</td>\n",
              "      <td>0.0</td>\n",
              "      <td>0.0</td>\n",
              "      <td>0.0</td>\n",
              "      <td>0.0</td>\n",
              "      <td>0.0</td>\n",
              "      <td>Jeron Peter</td>\n",
              "    </tr>\n",
              "    <tr>\n",
              "      <th>4273</th>\n",
              "      <td>9269_01</td>\n",
              "      <td>0</td>\n",
              "      <td>0</td>\n",
              "      <td></td>\n",
              "      <td>2</td>\n",
              "      <td>42</td>\n",
              "      <td>0</td>\n",
              "      <td>0.0</td>\n",
              "      <td>847.0</td>\n",
              "      <td>17.0</td>\n",
              "      <td>10.0</td>\n",
              "      <td>144.0</td>\n",
              "      <td>Matty Scheron</td>\n",
              "    </tr>\n",
              "    <tr>\n",
              "      <th>4274</th>\n",
              "      <td>9271_01</td>\n",
              "      <td>2</td>\n",
              "      <td>1</td>\n",
              "      <td>D/296/P</td>\n",
              "      <td>0</td>\n",
              "      <td>28</td>\n",
              "      <td>0</td>\n",
              "      <td>0.0</td>\n",
              "      <td>0.0</td>\n",
              "      <td>0.0</td>\n",
              "      <td>0.0</td>\n",
              "      <td>0.0</td>\n",
              "      <td>Jayrin Pore</td>\n",
              "    </tr>\n",
              "    <tr>\n",
              "      <th>4275</th>\n",
              "      <td>9273_01</td>\n",
              "      <td>1</td>\n",
              "      <td>0</td>\n",
              "      <td>D/297/P</td>\n",
              "      <td>3</td>\n",
              "      <td>28</td>\n",
              "      <td>0</td>\n",
              "      <td>0.0</td>\n",
              "      <td>2680.0</td>\n",
              "      <td>0.0</td>\n",
              "      <td>0.0</td>\n",
              "      <td>523.0</td>\n",
              "      <td>Kitakan Conale</td>\n",
              "    </tr>\n",
              "    <tr>\n",
              "      <th>4276</th>\n",
              "      <td>9277_01</td>\n",
              "      <td>0</td>\n",
              "      <td>1</td>\n",
              "      <td>G/1498/S</td>\n",
              "      <td>1</td>\n",
              "      <td>43</td>\n",
              "      <td>0</td>\n",
              "      <td>0.0</td>\n",
              "      <td>0.0</td>\n",
              "      <td>0.0</td>\n",
              "      <td>0.0</td>\n",
              "      <td>0.0</td>\n",
              "      <td>Lilace Leonzaley</td>\n",
              "    </tr>\n",
              "  </tbody>\n",
              "</table>\n",
              "<p>4277 rows × 13 columns</p>\n",
              "</div>\n",
              "      <button class=\"colab-df-convert\" onclick=\"convertToInteractive('df-612ea468-a367-4756-9208-47d3f66bfada')\"\n",
              "              title=\"Convert this dataframe to an interactive table.\"\n",
              "              style=\"display:none;\">\n",
              "        \n",
              "  <svg xmlns=\"http://www.w3.org/2000/svg\" height=\"24px\"viewBox=\"0 0 24 24\"\n",
              "       width=\"24px\">\n",
              "    <path d=\"M0 0h24v24H0V0z\" fill=\"none\"/>\n",
              "    <path d=\"M18.56 5.44l.94 2.06.94-2.06 2.06-.94-2.06-.94-.94-2.06-.94 2.06-2.06.94zm-11 1L8.5 8.5l.94-2.06 2.06-.94-2.06-.94L8.5 2.5l-.94 2.06-2.06.94zm10 10l.94 2.06.94-2.06 2.06-.94-2.06-.94-.94-2.06-.94 2.06-2.06.94z\"/><path d=\"M17.41 7.96l-1.37-1.37c-.4-.4-.92-.59-1.43-.59-.52 0-1.04.2-1.43.59L10.3 9.45l-7.72 7.72c-.78.78-.78 2.05 0 2.83L4 21.41c.39.39.9.59 1.41.59.51 0 1.02-.2 1.41-.59l7.78-7.78 2.81-2.81c.8-.78.8-2.07 0-2.86zM5.41 20L4 18.59l7.72-7.72 1.47 1.35L5.41 20z\"/>\n",
              "  </svg>\n",
              "      </button>\n",
              "      \n",
              "  <style>\n",
              "    .colab-df-container {\n",
              "      display:flex;\n",
              "      flex-wrap:wrap;\n",
              "      gap: 12px;\n",
              "    }\n",
              "\n",
              "    .colab-df-convert {\n",
              "      background-color: #E8F0FE;\n",
              "      border: none;\n",
              "      border-radius: 50%;\n",
              "      cursor: pointer;\n",
              "      display: none;\n",
              "      fill: #1967D2;\n",
              "      height: 32px;\n",
              "      padding: 0 0 0 0;\n",
              "      width: 32px;\n",
              "    }\n",
              "\n",
              "    .colab-df-convert:hover {\n",
              "      background-color: #E2EBFA;\n",
              "      box-shadow: 0px 1px 2px rgba(60, 64, 67, 0.3), 0px 1px 3px 1px rgba(60, 64, 67, 0.15);\n",
              "      fill: #174EA6;\n",
              "    }\n",
              "\n",
              "    [theme=dark] .colab-df-convert {\n",
              "      background-color: #3B4455;\n",
              "      fill: #D2E3FC;\n",
              "    }\n",
              "\n",
              "    [theme=dark] .colab-df-convert:hover {\n",
              "      background-color: #434B5C;\n",
              "      box-shadow: 0px 1px 3px 1px rgba(0, 0, 0, 0.15);\n",
              "      filter: drop-shadow(0px 1px 2px rgba(0, 0, 0, 0.3));\n",
              "      fill: #FFFFFF;\n",
              "    }\n",
              "  </style>\n",
              "\n",
              "      <script>\n",
              "        const buttonEl =\n",
              "          document.querySelector('#df-612ea468-a367-4756-9208-47d3f66bfada button.colab-df-convert');\n",
              "        buttonEl.style.display =\n",
              "          google.colab.kernel.accessAllowed ? 'block' : 'none';\n",
              "\n",
              "        async function convertToInteractive(key) {\n",
              "          const element = document.querySelector('#df-612ea468-a367-4756-9208-47d3f66bfada');\n",
              "          const dataTable =\n",
              "            await google.colab.kernel.invokeFunction('convertToInteractive',\n",
              "                                                     [key], {});\n",
              "          if (!dataTable) return;\n",
              "\n",
              "          const docLinkHtml = 'Like what you see? Visit the ' +\n",
              "            '<a target=\"_blank\" href=https://colab.research.google.com/notebooks/data_table.ipynb>data table notebook</a>'\n",
              "            + ' to learn more about interactive tables.';\n",
              "          element.innerHTML = '';\n",
              "          dataTable['output_type'] = 'display_data';\n",
              "          await google.colab.output.renderOutput(dataTable, element);\n",
              "          const docLink = document.createElement('div');\n",
              "          docLink.innerHTML = docLinkHtml;\n",
              "          element.appendChild(docLink);\n",
              "        }\n",
              "      </script>\n",
              "    </div>\n",
              "  </div>\n",
              "  "
            ]
          },
          "metadata": {},
          "execution_count": 112
        }
      ]
    },
    {
      "cell_type": "code",
      "source": [
        "test_df2=test_df.drop(['PassengerId','Cabin','Name'],axis=1)"
      ],
      "metadata": {
        "id": "8ToeUsltr5gJ"
      },
      "execution_count": 113,
      "outputs": []
    },
    {
      "cell_type": "code",
      "source": [
        "test_df2"
      ],
      "metadata": {
        "colab": {
          "base_uri": "https://localhost:8080/",
          "height": 424
        },
        "id": "Oo9o7M7gslqp",
        "outputId": "f14ba5bf-bece-456c-e68e-489bb8b93e49"
      },
      "execution_count": 114,
      "outputs": [
        {
          "output_type": "execute_result",
          "data": {
            "text/plain": [
              "      HomePlanet  CryoSleep  Destination  Age  VIP  RoomService  FoodCourt  \\\n",
              "0              0          1            2   27    0          0.0        0.0   \n",
              "1              0          0            2   19    0          0.0        9.0   \n",
              "2              1          1            0   31    0          0.0        0.0   \n",
              "3              1          0            2   38    0          0.0     6652.0   \n",
              "4              0          0            2   20    0         10.0        0.0   \n",
              "...          ...        ...          ...  ...  ...          ...        ...   \n",
              "4272           0          1            2   34    0          0.0        0.0   \n",
              "4273           0          0            2   42    0          0.0      847.0   \n",
              "4274           2          1            0   28    0          0.0        0.0   \n",
              "4275           1          0            3   28    0          0.0     2680.0   \n",
              "4276           0          1            1   43    0          0.0        0.0   \n",
              "\n",
              "      ShoppingMall     Spa  VRDeck  \n",
              "0              0.0     0.0     0.0  \n",
              "1              0.0  2823.0     0.0  \n",
              "2              0.0     0.0     0.0  \n",
              "3              0.0   181.0   585.0  \n",
              "4            635.0     0.0     0.0  \n",
              "...            ...     ...     ...  \n",
              "4272           0.0     0.0     0.0  \n",
              "4273          17.0    10.0   144.0  \n",
              "4274           0.0     0.0     0.0  \n",
              "4275           0.0     0.0   523.0  \n",
              "4276           0.0     0.0     0.0  \n",
              "\n",
              "[4277 rows x 10 columns]"
            ],
            "text/html": [
              "\n",
              "  <div id=\"df-63275f7c-85ec-4413-bf22-b49cd210c22e\">\n",
              "    <div class=\"colab-df-container\">\n",
              "      <div>\n",
              "<style scoped>\n",
              "    .dataframe tbody tr th:only-of-type {\n",
              "        vertical-align: middle;\n",
              "    }\n",
              "\n",
              "    .dataframe tbody tr th {\n",
              "        vertical-align: top;\n",
              "    }\n",
              "\n",
              "    .dataframe thead th {\n",
              "        text-align: right;\n",
              "    }\n",
              "</style>\n",
              "<table border=\"1\" class=\"dataframe\">\n",
              "  <thead>\n",
              "    <tr style=\"text-align: right;\">\n",
              "      <th></th>\n",
              "      <th>HomePlanet</th>\n",
              "      <th>CryoSleep</th>\n",
              "      <th>Destination</th>\n",
              "      <th>Age</th>\n",
              "      <th>VIP</th>\n",
              "      <th>RoomService</th>\n",
              "      <th>FoodCourt</th>\n",
              "      <th>ShoppingMall</th>\n",
              "      <th>Spa</th>\n",
              "      <th>VRDeck</th>\n",
              "    </tr>\n",
              "  </thead>\n",
              "  <tbody>\n",
              "    <tr>\n",
              "      <th>0</th>\n",
              "      <td>0</td>\n",
              "      <td>1</td>\n",
              "      <td>2</td>\n",
              "      <td>27</td>\n",
              "      <td>0</td>\n",
              "      <td>0.0</td>\n",
              "      <td>0.0</td>\n",
              "      <td>0.0</td>\n",
              "      <td>0.0</td>\n",
              "      <td>0.0</td>\n",
              "    </tr>\n",
              "    <tr>\n",
              "      <th>1</th>\n",
              "      <td>0</td>\n",
              "      <td>0</td>\n",
              "      <td>2</td>\n",
              "      <td>19</td>\n",
              "      <td>0</td>\n",
              "      <td>0.0</td>\n",
              "      <td>9.0</td>\n",
              "      <td>0.0</td>\n",
              "      <td>2823.0</td>\n",
              "      <td>0.0</td>\n",
              "    </tr>\n",
              "    <tr>\n",
              "      <th>2</th>\n",
              "      <td>1</td>\n",
              "      <td>1</td>\n",
              "      <td>0</td>\n",
              "      <td>31</td>\n",
              "      <td>0</td>\n",
              "      <td>0.0</td>\n",
              "      <td>0.0</td>\n",
              "      <td>0.0</td>\n",
              "      <td>0.0</td>\n",
              "      <td>0.0</td>\n",
              "    </tr>\n",
              "    <tr>\n",
              "      <th>3</th>\n",
              "      <td>1</td>\n",
              "      <td>0</td>\n",
              "      <td>2</td>\n",
              "      <td>38</td>\n",
              "      <td>0</td>\n",
              "      <td>0.0</td>\n",
              "      <td>6652.0</td>\n",
              "      <td>0.0</td>\n",
              "      <td>181.0</td>\n",
              "      <td>585.0</td>\n",
              "    </tr>\n",
              "    <tr>\n",
              "      <th>4</th>\n",
              "      <td>0</td>\n",
              "      <td>0</td>\n",
              "      <td>2</td>\n",
              "      <td>20</td>\n",
              "      <td>0</td>\n",
              "      <td>10.0</td>\n",
              "      <td>0.0</td>\n",
              "      <td>635.0</td>\n",
              "      <td>0.0</td>\n",
              "      <td>0.0</td>\n",
              "    </tr>\n",
              "    <tr>\n",
              "      <th>...</th>\n",
              "      <td>...</td>\n",
              "      <td>...</td>\n",
              "      <td>...</td>\n",
              "      <td>...</td>\n",
              "      <td>...</td>\n",
              "      <td>...</td>\n",
              "      <td>...</td>\n",
              "      <td>...</td>\n",
              "      <td>...</td>\n",
              "      <td>...</td>\n",
              "    </tr>\n",
              "    <tr>\n",
              "      <th>4272</th>\n",
              "      <td>0</td>\n",
              "      <td>1</td>\n",
              "      <td>2</td>\n",
              "      <td>34</td>\n",
              "      <td>0</td>\n",
              "      <td>0.0</td>\n",
              "      <td>0.0</td>\n",
              "      <td>0.0</td>\n",
              "      <td>0.0</td>\n",
              "      <td>0.0</td>\n",
              "    </tr>\n",
              "    <tr>\n",
              "      <th>4273</th>\n",
              "      <td>0</td>\n",
              "      <td>0</td>\n",
              "      <td>2</td>\n",
              "      <td>42</td>\n",
              "      <td>0</td>\n",
              "      <td>0.0</td>\n",
              "      <td>847.0</td>\n",
              "      <td>17.0</td>\n",
              "      <td>10.0</td>\n",
              "      <td>144.0</td>\n",
              "    </tr>\n",
              "    <tr>\n",
              "      <th>4274</th>\n",
              "      <td>2</td>\n",
              "      <td>1</td>\n",
              "      <td>0</td>\n",
              "      <td>28</td>\n",
              "      <td>0</td>\n",
              "      <td>0.0</td>\n",
              "      <td>0.0</td>\n",
              "      <td>0.0</td>\n",
              "      <td>0.0</td>\n",
              "      <td>0.0</td>\n",
              "    </tr>\n",
              "    <tr>\n",
              "      <th>4275</th>\n",
              "      <td>1</td>\n",
              "      <td>0</td>\n",
              "      <td>3</td>\n",
              "      <td>28</td>\n",
              "      <td>0</td>\n",
              "      <td>0.0</td>\n",
              "      <td>2680.0</td>\n",
              "      <td>0.0</td>\n",
              "      <td>0.0</td>\n",
              "      <td>523.0</td>\n",
              "    </tr>\n",
              "    <tr>\n",
              "      <th>4276</th>\n",
              "      <td>0</td>\n",
              "      <td>1</td>\n",
              "      <td>1</td>\n",
              "      <td>43</td>\n",
              "      <td>0</td>\n",
              "      <td>0.0</td>\n",
              "      <td>0.0</td>\n",
              "      <td>0.0</td>\n",
              "      <td>0.0</td>\n",
              "      <td>0.0</td>\n",
              "    </tr>\n",
              "  </tbody>\n",
              "</table>\n",
              "<p>4277 rows × 10 columns</p>\n",
              "</div>\n",
              "      <button class=\"colab-df-convert\" onclick=\"convertToInteractive('df-63275f7c-85ec-4413-bf22-b49cd210c22e')\"\n",
              "              title=\"Convert this dataframe to an interactive table.\"\n",
              "              style=\"display:none;\">\n",
              "        \n",
              "  <svg xmlns=\"http://www.w3.org/2000/svg\" height=\"24px\"viewBox=\"0 0 24 24\"\n",
              "       width=\"24px\">\n",
              "    <path d=\"M0 0h24v24H0V0z\" fill=\"none\"/>\n",
              "    <path d=\"M18.56 5.44l.94 2.06.94-2.06 2.06-.94-2.06-.94-.94-2.06-.94 2.06-2.06.94zm-11 1L8.5 8.5l.94-2.06 2.06-.94-2.06-.94L8.5 2.5l-.94 2.06-2.06.94zm10 10l.94 2.06.94-2.06 2.06-.94-2.06-.94-.94-2.06-.94 2.06-2.06.94z\"/><path d=\"M17.41 7.96l-1.37-1.37c-.4-.4-.92-.59-1.43-.59-.52 0-1.04.2-1.43.59L10.3 9.45l-7.72 7.72c-.78.78-.78 2.05 0 2.83L4 21.41c.39.39.9.59 1.41.59.51 0 1.02-.2 1.41-.59l7.78-7.78 2.81-2.81c.8-.78.8-2.07 0-2.86zM5.41 20L4 18.59l7.72-7.72 1.47 1.35L5.41 20z\"/>\n",
              "  </svg>\n",
              "      </button>\n",
              "      \n",
              "  <style>\n",
              "    .colab-df-container {\n",
              "      display:flex;\n",
              "      flex-wrap:wrap;\n",
              "      gap: 12px;\n",
              "    }\n",
              "\n",
              "    .colab-df-convert {\n",
              "      background-color: #E8F0FE;\n",
              "      border: none;\n",
              "      border-radius: 50%;\n",
              "      cursor: pointer;\n",
              "      display: none;\n",
              "      fill: #1967D2;\n",
              "      height: 32px;\n",
              "      padding: 0 0 0 0;\n",
              "      width: 32px;\n",
              "    }\n",
              "\n",
              "    .colab-df-convert:hover {\n",
              "      background-color: #E2EBFA;\n",
              "      box-shadow: 0px 1px 2px rgba(60, 64, 67, 0.3), 0px 1px 3px 1px rgba(60, 64, 67, 0.15);\n",
              "      fill: #174EA6;\n",
              "    }\n",
              "\n",
              "    [theme=dark] .colab-df-convert {\n",
              "      background-color: #3B4455;\n",
              "      fill: #D2E3FC;\n",
              "    }\n",
              "\n",
              "    [theme=dark] .colab-df-convert:hover {\n",
              "      background-color: #434B5C;\n",
              "      box-shadow: 0px 1px 3px 1px rgba(0, 0, 0, 0.15);\n",
              "      filter: drop-shadow(0px 1px 2px rgba(0, 0, 0, 0.3));\n",
              "      fill: #FFFFFF;\n",
              "    }\n",
              "  </style>\n",
              "\n",
              "      <script>\n",
              "        const buttonEl =\n",
              "          document.querySelector('#df-63275f7c-85ec-4413-bf22-b49cd210c22e button.colab-df-convert');\n",
              "        buttonEl.style.display =\n",
              "          google.colab.kernel.accessAllowed ? 'block' : 'none';\n",
              "\n",
              "        async function convertToInteractive(key) {\n",
              "          const element = document.querySelector('#df-63275f7c-85ec-4413-bf22-b49cd210c22e');\n",
              "          const dataTable =\n",
              "            await google.colab.kernel.invokeFunction('convertToInteractive',\n",
              "                                                     [key], {});\n",
              "          if (!dataTable) return;\n",
              "\n",
              "          const docLinkHtml = 'Like what you see? Visit the ' +\n",
              "            '<a target=\"_blank\" href=https://colab.research.google.com/notebooks/data_table.ipynb>data table notebook</a>'\n",
              "            + ' to learn more about interactive tables.';\n",
              "          element.innerHTML = '';\n",
              "          dataTable['output_type'] = 'display_data';\n",
              "          await google.colab.output.renderOutput(dataTable, element);\n",
              "          const docLink = document.createElement('div');\n",
              "          docLink.innerHTML = docLinkHtml;\n",
              "          element.appendChild(docLink);\n",
              "        }\n",
              "      </script>\n",
              "    </div>\n",
              "  </div>\n",
              "  "
            ]
          },
          "metadata": {},
          "execution_count": 114
        }
      ]
    },
    {
      "cell_type": "code",
      "source": [
        "test_df2.isnull().sum()"
      ],
      "metadata": {
        "colab": {
          "base_uri": "https://localhost:8080/"
        },
        "id": "GvdiG2mhsFB-",
        "outputId": "458913aa-9a60-463a-ebca-8a617c9ef828"
      },
      "execution_count": 115,
      "outputs": [
        {
          "output_type": "execute_result",
          "data": {
            "text/plain": [
              "HomePlanet      0\n",
              "CryoSleep       0\n",
              "Destination     0\n",
              "Age             0\n",
              "VIP             0\n",
              "RoomService     0\n",
              "FoodCourt       0\n",
              "ShoppingMall    0\n",
              "Spa             0\n",
              "VRDeck          0\n",
              "dtype: int64"
            ]
          },
          "metadata": {},
          "execution_count": 115
        }
      ]
    },
    {
      "cell_type": "code",
      "source": [
        "X_train= X\n",
        "X_test=test_df2\n",
        "Y_train=Y"
      ],
      "metadata": {
        "id": "nEjV_8DCwMif"
      },
      "execution_count": 116,
      "outputs": []
    },
    {
      "cell_type": "code",
      "source": [
        "Y_train"
      ],
      "metadata": {
        "colab": {
          "base_uri": "https://localhost:8080/"
        },
        "id": "tJpU-aAewazb",
        "outputId": "f3063da4-0181-44fa-aa75-2ad490286002"
      },
      "execution_count": 117,
      "outputs": [
        {
          "output_type": "execute_result",
          "data": {
            "text/plain": [
              "array([0, 1, 0, ..., 1, 0, 1])"
            ]
          },
          "metadata": {},
          "execution_count": 117
        }
      ]
    },
    {
      "cell_type": "code",
      "source": [
        "model = XGBClassifier()\n",
        "model.fit(X_train, Y_train)"
      ],
      "metadata": {
        "colab": {
          "base_uri": "https://localhost:8080/"
        },
        "id": "4DpmmKnDwb5A",
        "outputId": "e4399925-178f-40ea-fa53-e5834a44c95b"
      },
      "execution_count": 118,
      "outputs": [
        {
          "output_type": "execute_result",
          "data": {
            "text/plain": [
              "XGBClassifier()"
            ]
          },
          "metadata": {},
          "execution_count": 118
        }
      ]
    },
    {
      "cell_type": "code",
      "source": [
        "test_pred = model.predict(X_test)\n",
        "len(test_pred)"
      ],
      "metadata": {
        "colab": {
          "base_uri": "https://localhost:8080/"
        },
        "id": "ESvGdfqD0YA-",
        "outputId": "e4f9d23c-0b3c-43ba-a477-7df346571ec6"
      },
      "execution_count": 119,
      "outputs": [
        {
          "output_type": "execute_result",
          "data": {
            "text/plain": [
              "4277"
            ]
          },
          "metadata": {},
          "execution_count": 119
        }
      ]
    },
    {
      "cell_type": "code",
      "source": [
        "sub_df=pd.read_csv('sample_submission.csv')"
      ],
      "metadata": {
        "id": "PWn-sysxNffh"
      },
      "execution_count": 121,
      "outputs": []
    },
    {
      "cell_type": "code",
      "source": [
        "sub_df"
      ],
      "metadata": {
        "colab": {
          "base_uri": "https://localhost:8080/",
          "height": 424
        },
        "id": "wXh7XPFhNm_D",
        "outputId": "84491de8-4856-46c9-fa07-40a348eadbf2"
      },
      "execution_count": 122,
      "outputs": [
        {
          "output_type": "execute_result",
          "data": {
            "text/plain": [
              "     PassengerId  Transported\n",
              "0        0013_01        False\n",
              "1        0018_01        False\n",
              "2        0019_01        False\n",
              "3        0021_01        False\n",
              "4        0023_01        False\n",
              "...          ...          ...\n",
              "4272     9266_02        False\n",
              "4273     9269_01        False\n",
              "4274     9271_01        False\n",
              "4275     9273_01        False\n",
              "4276     9277_01        False\n",
              "\n",
              "[4277 rows x 2 columns]"
            ],
            "text/html": [
              "\n",
              "  <div id=\"df-01d6c0a0-1005-4b8d-ba55-596f16ed49af\">\n",
              "    <div class=\"colab-df-container\">\n",
              "      <div>\n",
              "<style scoped>\n",
              "    .dataframe tbody tr th:only-of-type {\n",
              "        vertical-align: middle;\n",
              "    }\n",
              "\n",
              "    .dataframe tbody tr th {\n",
              "        vertical-align: top;\n",
              "    }\n",
              "\n",
              "    .dataframe thead th {\n",
              "        text-align: right;\n",
              "    }\n",
              "</style>\n",
              "<table border=\"1\" class=\"dataframe\">\n",
              "  <thead>\n",
              "    <tr style=\"text-align: right;\">\n",
              "      <th></th>\n",
              "      <th>PassengerId</th>\n",
              "      <th>Transported</th>\n",
              "    </tr>\n",
              "  </thead>\n",
              "  <tbody>\n",
              "    <tr>\n",
              "      <th>0</th>\n",
              "      <td>0013_01</td>\n",
              "      <td>False</td>\n",
              "    </tr>\n",
              "    <tr>\n",
              "      <th>1</th>\n",
              "      <td>0018_01</td>\n",
              "      <td>False</td>\n",
              "    </tr>\n",
              "    <tr>\n",
              "      <th>2</th>\n",
              "      <td>0019_01</td>\n",
              "      <td>False</td>\n",
              "    </tr>\n",
              "    <tr>\n",
              "      <th>3</th>\n",
              "      <td>0021_01</td>\n",
              "      <td>False</td>\n",
              "    </tr>\n",
              "    <tr>\n",
              "      <th>4</th>\n",
              "      <td>0023_01</td>\n",
              "      <td>False</td>\n",
              "    </tr>\n",
              "    <tr>\n",
              "      <th>...</th>\n",
              "      <td>...</td>\n",
              "      <td>...</td>\n",
              "    </tr>\n",
              "    <tr>\n",
              "      <th>4272</th>\n",
              "      <td>9266_02</td>\n",
              "      <td>False</td>\n",
              "    </tr>\n",
              "    <tr>\n",
              "      <th>4273</th>\n",
              "      <td>9269_01</td>\n",
              "      <td>False</td>\n",
              "    </tr>\n",
              "    <tr>\n",
              "      <th>4274</th>\n",
              "      <td>9271_01</td>\n",
              "      <td>False</td>\n",
              "    </tr>\n",
              "    <tr>\n",
              "      <th>4275</th>\n",
              "      <td>9273_01</td>\n",
              "      <td>False</td>\n",
              "    </tr>\n",
              "    <tr>\n",
              "      <th>4276</th>\n",
              "      <td>9277_01</td>\n",
              "      <td>False</td>\n",
              "    </tr>\n",
              "  </tbody>\n",
              "</table>\n",
              "<p>4277 rows × 2 columns</p>\n",
              "</div>\n",
              "      <button class=\"colab-df-convert\" onclick=\"convertToInteractive('df-01d6c0a0-1005-4b8d-ba55-596f16ed49af')\"\n",
              "              title=\"Convert this dataframe to an interactive table.\"\n",
              "              style=\"display:none;\">\n",
              "        \n",
              "  <svg xmlns=\"http://www.w3.org/2000/svg\" height=\"24px\"viewBox=\"0 0 24 24\"\n",
              "       width=\"24px\">\n",
              "    <path d=\"M0 0h24v24H0V0z\" fill=\"none\"/>\n",
              "    <path d=\"M18.56 5.44l.94 2.06.94-2.06 2.06-.94-2.06-.94-.94-2.06-.94 2.06-2.06.94zm-11 1L8.5 8.5l.94-2.06 2.06-.94-2.06-.94L8.5 2.5l-.94 2.06-2.06.94zm10 10l.94 2.06.94-2.06 2.06-.94-2.06-.94-.94-2.06-.94 2.06-2.06.94z\"/><path d=\"M17.41 7.96l-1.37-1.37c-.4-.4-.92-.59-1.43-.59-.52 0-1.04.2-1.43.59L10.3 9.45l-7.72 7.72c-.78.78-.78 2.05 0 2.83L4 21.41c.39.39.9.59 1.41.59.51 0 1.02-.2 1.41-.59l7.78-7.78 2.81-2.81c.8-.78.8-2.07 0-2.86zM5.41 20L4 18.59l7.72-7.72 1.47 1.35L5.41 20z\"/>\n",
              "  </svg>\n",
              "      </button>\n",
              "      \n",
              "  <style>\n",
              "    .colab-df-container {\n",
              "      display:flex;\n",
              "      flex-wrap:wrap;\n",
              "      gap: 12px;\n",
              "    }\n",
              "\n",
              "    .colab-df-convert {\n",
              "      background-color: #E8F0FE;\n",
              "      border: none;\n",
              "      border-radius: 50%;\n",
              "      cursor: pointer;\n",
              "      display: none;\n",
              "      fill: #1967D2;\n",
              "      height: 32px;\n",
              "      padding: 0 0 0 0;\n",
              "      width: 32px;\n",
              "    }\n",
              "\n",
              "    .colab-df-convert:hover {\n",
              "      background-color: #E2EBFA;\n",
              "      box-shadow: 0px 1px 2px rgba(60, 64, 67, 0.3), 0px 1px 3px 1px rgba(60, 64, 67, 0.15);\n",
              "      fill: #174EA6;\n",
              "    }\n",
              "\n",
              "    [theme=dark] .colab-df-convert {\n",
              "      background-color: #3B4455;\n",
              "      fill: #D2E3FC;\n",
              "    }\n",
              "\n",
              "    [theme=dark] .colab-df-convert:hover {\n",
              "      background-color: #434B5C;\n",
              "      box-shadow: 0px 1px 3px 1px rgba(0, 0, 0, 0.15);\n",
              "      filter: drop-shadow(0px 1px 2px rgba(0, 0, 0, 0.3));\n",
              "      fill: #FFFFFF;\n",
              "    }\n",
              "  </style>\n",
              "\n",
              "      <script>\n",
              "        const buttonEl =\n",
              "          document.querySelector('#df-01d6c0a0-1005-4b8d-ba55-596f16ed49af button.colab-df-convert');\n",
              "        buttonEl.style.display =\n",
              "          google.colab.kernel.accessAllowed ? 'block' : 'none';\n",
              "\n",
              "        async function convertToInteractive(key) {\n",
              "          const element = document.querySelector('#df-01d6c0a0-1005-4b8d-ba55-596f16ed49af');\n",
              "          const dataTable =\n",
              "            await google.colab.kernel.invokeFunction('convertToInteractive',\n",
              "                                                     [key], {});\n",
              "          if (!dataTable) return;\n",
              "\n",
              "          const docLinkHtml = 'Like what you see? Visit the ' +\n",
              "            '<a target=\"_blank\" href=https://colab.research.google.com/notebooks/data_table.ipynb>data table notebook</a>'\n",
              "            + ' to learn more about interactive tables.';\n",
              "          element.innerHTML = '';\n",
              "          dataTable['output_type'] = 'display_data';\n",
              "          await google.colab.output.renderOutput(dataTable, element);\n",
              "          const docLink = document.createElement('div');\n",
              "          docLink.innerHTML = docLinkHtml;\n",
              "          element.appendChild(docLink);\n",
              "        }\n",
              "      </script>\n",
              "    </div>\n",
              "  </div>\n",
              "  "
            ]
          },
          "metadata": {},
          "execution_count": 122
        }
      ]
    },
    {
      "cell_type": "code",
      "source": [
        "sub_df['Transported']=test_pred\n",
        "sub_df['Transported']=sub_df['Transported'].replace(1,True)\n",
        "sub_df['Transported']=sub_df['Transported'].replace(0,False)"
      ],
      "metadata": {
        "id": "n5eRgh_-1p3P"
      },
      "execution_count": 123,
      "outputs": []
    },
    {
      "cell_type": "code",
      "source": [
        "sub_df"
      ],
      "metadata": {
        "colab": {
          "base_uri": "https://localhost:8080/",
          "height": 424
        },
        "id": "TlvdhgAE2qDA",
        "outputId": "e3611576-9219-464d-932c-4bb5c2359430"
      },
      "execution_count": 124,
      "outputs": [
        {
          "output_type": "execute_result",
          "data": {
            "text/plain": [
              "     PassengerId  Transported\n",
              "0        0013_01         True\n",
              "1        0018_01        False\n",
              "2        0019_01         True\n",
              "3        0021_01         True\n",
              "4        0023_01         True\n",
              "...          ...          ...\n",
              "4272     9266_02         True\n",
              "4273     9269_01        False\n",
              "4274     9271_01         True\n",
              "4275     9273_01         True\n",
              "4276     9277_01         True\n",
              "\n",
              "[4277 rows x 2 columns]"
            ],
            "text/html": [
              "\n",
              "  <div id=\"df-b52a5d77-6578-4b2a-9b14-6e57472fa2a5\">\n",
              "    <div class=\"colab-df-container\">\n",
              "      <div>\n",
              "<style scoped>\n",
              "    .dataframe tbody tr th:only-of-type {\n",
              "        vertical-align: middle;\n",
              "    }\n",
              "\n",
              "    .dataframe tbody tr th {\n",
              "        vertical-align: top;\n",
              "    }\n",
              "\n",
              "    .dataframe thead th {\n",
              "        text-align: right;\n",
              "    }\n",
              "</style>\n",
              "<table border=\"1\" class=\"dataframe\">\n",
              "  <thead>\n",
              "    <tr style=\"text-align: right;\">\n",
              "      <th></th>\n",
              "      <th>PassengerId</th>\n",
              "      <th>Transported</th>\n",
              "    </tr>\n",
              "  </thead>\n",
              "  <tbody>\n",
              "    <tr>\n",
              "      <th>0</th>\n",
              "      <td>0013_01</td>\n",
              "      <td>True</td>\n",
              "    </tr>\n",
              "    <tr>\n",
              "      <th>1</th>\n",
              "      <td>0018_01</td>\n",
              "      <td>False</td>\n",
              "    </tr>\n",
              "    <tr>\n",
              "      <th>2</th>\n",
              "      <td>0019_01</td>\n",
              "      <td>True</td>\n",
              "    </tr>\n",
              "    <tr>\n",
              "      <th>3</th>\n",
              "      <td>0021_01</td>\n",
              "      <td>True</td>\n",
              "    </tr>\n",
              "    <tr>\n",
              "      <th>4</th>\n",
              "      <td>0023_01</td>\n",
              "      <td>True</td>\n",
              "    </tr>\n",
              "    <tr>\n",
              "      <th>...</th>\n",
              "      <td>...</td>\n",
              "      <td>...</td>\n",
              "    </tr>\n",
              "    <tr>\n",
              "      <th>4272</th>\n",
              "      <td>9266_02</td>\n",
              "      <td>True</td>\n",
              "    </tr>\n",
              "    <tr>\n",
              "      <th>4273</th>\n",
              "      <td>9269_01</td>\n",
              "      <td>False</td>\n",
              "    </tr>\n",
              "    <tr>\n",
              "      <th>4274</th>\n",
              "      <td>9271_01</td>\n",
              "      <td>True</td>\n",
              "    </tr>\n",
              "    <tr>\n",
              "      <th>4275</th>\n",
              "      <td>9273_01</td>\n",
              "      <td>True</td>\n",
              "    </tr>\n",
              "    <tr>\n",
              "      <th>4276</th>\n",
              "      <td>9277_01</td>\n",
              "      <td>True</td>\n",
              "    </tr>\n",
              "  </tbody>\n",
              "</table>\n",
              "<p>4277 rows × 2 columns</p>\n",
              "</div>\n",
              "      <button class=\"colab-df-convert\" onclick=\"convertToInteractive('df-b52a5d77-6578-4b2a-9b14-6e57472fa2a5')\"\n",
              "              title=\"Convert this dataframe to an interactive table.\"\n",
              "              style=\"display:none;\">\n",
              "        \n",
              "  <svg xmlns=\"http://www.w3.org/2000/svg\" height=\"24px\"viewBox=\"0 0 24 24\"\n",
              "       width=\"24px\">\n",
              "    <path d=\"M0 0h24v24H0V0z\" fill=\"none\"/>\n",
              "    <path d=\"M18.56 5.44l.94 2.06.94-2.06 2.06-.94-2.06-.94-.94-2.06-.94 2.06-2.06.94zm-11 1L8.5 8.5l.94-2.06 2.06-.94-2.06-.94L8.5 2.5l-.94 2.06-2.06.94zm10 10l.94 2.06.94-2.06 2.06-.94-2.06-.94-.94-2.06-.94 2.06-2.06.94z\"/><path d=\"M17.41 7.96l-1.37-1.37c-.4-.4-.92-.59-1.43-.59-.52 0-1.04.2-1.43.59L10.3 9.45l-7.72 7.72c-.78.78-.78 2.05 0 2.83L4 21.41c.39.39.9.59 1.41.59.51 0 1.02-.2 1.41-.59l7.78-7.78 2.81-2.81c.8-.78.8-2.07 0-2.86zM5.41 20L4 18.59l7.72-7.72 1.47 1.35L5.41 20z\"/>\n",
              "  </svg>\n",
              "      </button>\n",
              "      \n",
              "  <style>\n",
              "    .colab-df-container {\n",
              "      display:flex;\n",
              "      flex-wrap:wrap;\n",
              "      gap: 12px;\n",
              "    }\n",
              "\n",
              "    .colab-df-convert {\n",
              "      background-color: #E8F0FE;\n",
              "      border: none;\n",
              "      border-radius: 50%;\n",
              "      cursor: pointer;\n",
              "      display: none;\n",
              "      fill: #1967D2;\n",
              "      height: 32px;\n",
              "      padding: 0 0 0 0;\n",
              "      width: 32px;\n",
              "    }\n",
              "\n",
              "    .colab-df-convert:hover {\n",
              "      background-color: #E2EBFA;\n",
              "      box-shadow: 0px 1px 2px rgba(60, 64, 67, 0.3), 0px 1px 3px 1px rgba(60, 64, 67, 0.15);\n",
              "      fill: #174EA6;\n",
              "    }\n",
              "\n",
              "    [theme=dark] .colab-df-convert {\n",
              "      background-color: #3B4455;\n",
              "      fill: #D2E3FC;\n",
              "    }\n",
              "\n",
              "    [theme=dark] .colab-df-convert:hover {\n",
              "      background-color: #434B5C;\n",
              "      box-shadow: 0px 1px 3px 1px rgba(0, 0, 0, 0.15);\n",
              "      filter: drop-shadow(0px 1px 2px rgba(0, 0, 0, 0.3));\n",
              "      fill: #FFFFFF;\n",
              "    }\n",
              "  </style>\n",
              "\n",
              "      <script>\n",
              "        const buttonEl =\n",
              "          document.querySelector('#df-b52a5d77-6578-4b2a-9b14-6e57472fa2a5 button.colab-df-convert');\n",
              "        buttonEl.style.display =\n",
              "          google.colab.kernel.accessAllowed ? 'block' : 'none';\n",
              "\n",
              "        async function convertToInteractive(key) {\n",
              "          const element = document.querySelector('#df-b52a5d77-6578-4b2a-9b14-6e57472fa2a5');\n",
              "          const dataTable =\n",
              "            await google.colab.kernel.invokeFunction('convertToInteractive',\n",
              "                                                     [key], {});\n",
              "          if (!dataTable) return;\n",
              "\n",
              "          const docLinkHtml = 'Like what you see? Visit the ' +\n",
              "            '<a target=\"_blank\" href=https://colab.research.google.com/notebooks/data_table.ipynb>data table notebook</a>'\n",
              "            + ' to learn more about interactive tables.';\n",
              "          element.innerHTML = '';\n",
              "          dataTable['output_type'] = 'display_data';\n",
              "          await google.colab.output.renderOutput(dataTable, element);\n",
              "          const docLink = document.createElement('div');\n",
              "          docLink.innerHTML = docLinkHtml;\n",
              "          element.appendChild(docLink);\n",
              "        }\n",
              "      </script>\n",
              "    </div>\n",
              "  </div>\n",
              "  "
            ]
          },
          "metadata": {},
          "execution_count": 124
        }
      ]
    },
    {
      "cell_type": "code",
      "source": [
        "sub_df.to_csv('my_submission.csv', index=False,header=1)\n",
        "\n"
      ],
      "metadata": {
        "id": "Ek9HYNSR2r1P"
      },
      "execution_count": 127,
      "outputs": []
    },
    {
      "cell_type": "code",
      "source": [],
      "metadata": {
        "id": "wF1G2Pcb5XmK"
      },
      "execution_count": null,
      "outputs": []
    }
  ]
}